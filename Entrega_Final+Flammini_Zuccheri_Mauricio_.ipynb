{
  "nbformat": 4,
  "nbformat_minor": 0,
  "metadata": {
    "colab": {
      "provenance": []
    },
    "kernelspec": {
      "name": "python3",
      "display_name": "Python 3"
    },
    "language_info": {
      "name": "python"
    }
  },
  "cells": [
    {
      "cell_type": "markdown",
      "source": [
        "# Contexto del proyecto"
      ],
      "metadata": {
        "id": "wdMxif2gzkuL"
      }
    },
    {
      "cell_type": "markdown",
      "source": [
        "Es sabido que las enfermedades cardiovasculares son la que, probablemente, más muertes causan en todo el mundo. Se estima que aproximadamente un 30% de las muertes son a causa de este tipo de enfermedades, y por lo general sucede en personas menores de 70 años.\n",
        "\n",
        "En este dataset, contaremos 11 variables que serán de utilidad para poder predecir si la persona posiblemente tiene o no una enfermedad cardiovascular.\n",
        "\n",
        "Las variables son la siguentes:\n",
        "\n",
        "* Age: edad del paciente [años]\n",
        "* Sex: sexo del paciente [M: Masculino, F: Femenino]\n",
        "* ChestPainType: tipo de dolor de pecho [TA: Angina Típica, ATA: Angina atípica, NAP: Dolor no anginoso, ASY: Asintomática]\n",
        "* RestingBP: presión arterial en reposo [mm Hg]\n",
        "* Cholesterol: colesterol sérico [mm/dl]\n",
        "*FastingBS: glucemia en ayunas [1: if FastingBS > 120 mg/dl, 0: caso contrario]\n",
        "*RestingECG: resultados de electrocardiograma en reposo [Normal: Normal, ST: con anomalías en la onda ST-T (inversión de la onda T y/o elevación o depresión del ST > 0,05 mV), LVH: hipertrofia ventricular izquierda probable o definitiva según los criterios de Estes]\n",
        "* MaxHR: frecuencia cardíaca máxima alcanzada [Valor numérico entre 60 y 202]\n",
        "*ExerciseAngina: angina inducida por ejercicio [Y: Si, N: No]\n",
        "*Oldpeak: oldpeak = ST [Valor numérico medido en depresión]\n",
        "* ST_Slope: la pendiente del segmento ST de ejercicio máximo [Up: pendiente ascendente, Flat: plano, Down: pendiente descendente]\n",
        "* HeartDisease: clase de salida [1: cardiopatía , 0: Normal]\n",
        "\n",
        "El principal motivo de este proyecto es poder brindar el análisis realizado a profesionales de la salud, para que éstos puedan utilizarlo como una herramienta y ser asistidos a la hora de tomar una decisión. De modo que a partir del trabajo propuesta, sea más sencilla la tardea de diagnosticar a un paciente."
      ],
      "metadata": {
        "id": "ijRAgnk50QUI"
      }
    },
    {
      "cell_type": "markdown",
      "source": [
        "## Preguntas de interés\n",
        "\n",
        "Finalizando el proyecto, hay dos cuestiones que serán clave:\n",
        "\n",
        "* De los modelos trabajados ¿cuál fue el mas eficiente?\n",
        "* ¿cuáles son las variables del dataset más significantes para la predicción?"
      ],
      "metadata": {
        "id": "_tLMJBWoTsQR"
      }
    },
    {
      "cell_type": "markdown",
      "source": [
        "# Importación de librerías necesarias para el proyecto"
      ],
      "metadata": {
        "id": "kNfMCDiY8l5z"
      }
    },
    {
      "cell_type": "code",
      "execution_count": null,
      "metadata": {
        "id": "3QzrN8XD7-oa",
        "colab": {
          "base_uri": "https://localhost:8080/"
        },
        "outputId": "8b8b8442-6c89-4c43-cd2d-d1fd423d9d23"
      },
      "outputs": [
        {
          "output_type": "stream",
          "name": "stdout",
          "text": [
            "Requirement already satisfied: scikit-plot in /usr/local/lib/python3.10/dist-packages (0.3.7)\n",
            "Requirement already satisfied: matplotlib>=1.4.0 in /usr/local/lib/python3.10/dist-packages (from scikit-plot) (3.7.1)\n",
            "Requirement already satisfied: scikit-learn>=0.18 in /usr/local/lib/python3.10/dist-packages (from scikit-plot) (1.2.2)\n",
            "Requirement already satisfied: scipy>=0.9 in /usr/local/lib/python3.10/dist-packages (from scikit-plot) (1.10.1)\n",
            "Requirement already satisfied: joblib>=0.10 in /usr/local/lib/python3.10/dist-packages (from scikit-plot) (1.3.1)\n",
            "Requirement already satisfied: contourpy>=1.0.1 in /usr/local/lib/python3.10/dist-packages (from matplotlib>=1.4.0->scikit-plot) (1.1.0)\n",
            "Requirement already satisfied: cycler>=0.10 in /usr/local/lib/python3.10/dist-packages (from matplotlib>=1.4.0->scikit-plot) (0.11.0)\n",
            "Requirement already satisfied: fonttools>=4.22.0 in /usr/local/lib/python3.10/dist-packages (from matplotlib>=1.4.0->scikit-plot) (4.41.0)\n",
            "Requirement already satisfied: kiwisolver>=1.0.1 in /usr/local/lib/python3.10/dist-packages (from matplotlib>=1.4.0->scikit-plot) (1.4.4)\n",
            "Requirement already satisfied: numpy>=1.20 in /usr/local/lib/python3.10/dist-packages (from matplotlib>=1.4.0->scikit-plot) (1.22.4)\n",
            "Requirement already satisfied: packaging>=20.0 in /usr/local/lib/python3.10/dist-packages (from matplotlib>=1.4.0->scikit-plot) (23.1)\n",
            "Requirement already satisfied: pillow>=6.2.0 in /usr/local/lib/python3.10/dist-packages (from matplotlib>=1.4.0->scikit-plot) (8.4.0)\n",
            "Requirement already satisfied: pyparsing>=2.3.1 in /usr/local/lib/python3.10/dist-packages (from matplotlib>=1.4.0->scikit-plot) (3.1.0)\n",
            "Requirement already satisfied: python-dateutil>=2.7 in /usr/local/lib/python3.10/dist-packages (from matplotlib>=1.4.0->scikit-plot) (2.8.2)\n",
            "Requirement already satisfied: threadpoolctl>=2.0.0 in /usr/local/lib/python3.10/dist-packages (from scikit-learn>=0.18->scikit-plot) (3.2.0)\n",
            "Requirement already satisfied: six>=1.5 in /usr/local/lib/python3.10/dist-packages (from python-dateutil>=2.7->matplotlib>=1.4.0->scikit-plot) (1.16.0)\n"
          ]
        }
      ],
      "source": [
        "import pandas as pd\n",
        "import numpy as np\n",
        "import matplotlib.pyplot as plt\n",
        "import seaborn as sns\n",
        "from sklearn.preprocessing import LabelEncoder,MinMaxScaler,StandardScaler\n",
        "from scipy import stats\n",
        "from scipy.stats import shapiro\n",
        "import statsmodels.api as sm\n",
        "from sklearn.model_selection import train_test_split\n",
        "from sklearn.linear_model import LinearRegression, LogisticRegression\n",
        "from sklearn.svm import SVC\n",
        "from sklearn.metrics import accuracy_score, precision_score,recall_score,f1_score,roc_auc_score\n",
        "from sklearn.metrics import roc_curve, auc\n",
        "from sklearn.metrics import confusion_matrix\n",
        "!pip install scikit-plot\n",
        "import scikitplot as skplt\n",
        "from sklearn.svm import SVC\n",
        "from sklearn.metrics import classification_report\n",
        "from sklearn.tree import DecisionTreeClassifier\n",
        "from sklearn.datasets import make_regression\n",
        "from sklearn.metrics import mean_absolute_error, mean_squared_error, r2_score\n",
        "from scipy.stats import probplot\n",
        "from sklearn.model_selection import StratifiedKFold,GridSearchCV,RandomizedSearchCV\n",
        "from sklearn.model_selection import StratifiedKFold, cross_validate\n",
        "from sklearn.inspection import permutation_importance"
      ]
    },
    {
      "cell_type": "markdown",
      "source": [
        "# Información del dataset"
      ],
      "metadata": {
        "id": "xgkrJeBJ9ByJ"
      }
    },
    {
      "cell_type": "code",
      "source": [
        "from google.colab import drive\n",
        "import os\n",
        "drive.mount('/content/drive/', force_remount=True)\n",
        "\n",
        "df = pd.read_csv('/content/drive/MyDrive/Colab Notebooks/heart_disease_original.csv')\n",
        "df.head()"
      ],
      "metadata": {
        "colab": {
          "base_uri": "https://localhost:8080/",
          "height": 224
        },
        "id": "XVnLAQ-38Pqg",
        "outputId": "e8b92d27-ed1c-41eb-a7fb-8fa78fcabe32"
      },
      "execution_count": null,
      "outputs": [
        {
          "output_type": "stream",
          "name": "stdout",
          "text": [
            "Mounted at /content/drive/\n"
          ]
        },
        {
          "output_type": "execute_result",
          "data": {
            "text/plain": [
              "   Age Sex ChestPainType  RestingBP  Cholesterol  FastingBS RestingECG  MaxHR  \\\n",
              "0   40   M           ATA        140          289          0     Normal    172   \n",
              "1   49   F           NAP        160          180          0     Normal    156   \n",
              "2   37   M           ATA        130          283          0         ST     98   \n",
              "3   48   F           ASY        138          214          0     Normal    108   \n",
              "4   54   M           NAP        150          195          0     Normal    122   \n",
              "\n",
              "  ExerciseAngina  Oldpeak ST_Slope  HeartDisease  \n",
              "0              N      0.0       Up             0  \n",
              "1              N      1.0     Flat             1  \n",
              "2              N      0.0       Up             0  \n",
              "3              Y      1.5     Flat             1  \n",
              "4              N      0.0       Up             0  "
            ],
            "text/html": [
              "\n",
              "\n",
              "  <div id=\"df-6e5b2715-4ac7-436b-82a4-ca51e802dc65\">\n",
              "    <div class=\"colab-df-container\">\n",
              "      <div>\n",
              "<style scoped>\n",
              "    .dataframe tbody tr th:only-of-type {\n",
              "        vertical-align: middle;\n",
              "    }\n",
              "\n",
              "    .dataframe tbody tr th {\n",
              "        vertical-align: top;\n",
              "    }\n",
              "\n",
              "    .dataframe thead th {\n",
              "        text-align: right;\n",
              "    }\n",
              "</style>\n",
              "<table border=\"1\" class=\"dataframe\">\n",
              "  <thead>\n",
              "    <tr style=\"text-align: right;\">\n",
              "      <th></th>\n",
              "      <th>Age</th>\n",
              "      <th>Sex</th>\n",
              "      <th>ChestPainType</th>\n",
              "      <th>RestingBP</th>\n",
              "      <th>Cholesterol</th>\n",
              "      <th>FastingBS</th>\n",
              "      <th>RestingECG</th>\n",
              "      <th>MaxHR</th>\n",
              "      <th>ExerciseAngina</th>\n",
              "      <th>Oldpeak</th>\n",
              "      <th>ST_Slope</th>\n",
              "      <th>HeartDisease</th>\n",
              "    </tr>\n",
              "  </thead>\n",
              "  <tbody>\n",
              "    <tr>\n",
              "      <th>0</th>\n",
              "      <td>40</td>\n",
              "      <td>M</td>\n",
              "      <td>ATA</td>\n",
              "      <td>140</td>\n",
              "      <td>289</td>\n",
              "      <td>0</td>\n",
              "      <td>Normal</td>\n",
              "      <td>172</td>\n",
              "      <td>N</td>\n",
              "      <td>0.0</td>\n",
              "      <td>Up</td>\n",
              "      <td>0</td>\n",
              "    </tr>\n",
              "    <tr>\n",
              "      <th>1</th>\n",
              "      <td>49</td>\n",
              "      <td>F</td>\n",
              "      <td>NAP</td>\n",
              "      <td>160</td>\n",
              "      <td>180</td>\n",
              "      <td>0</td>\n",
              "      <td>Normal</td>\n",
              "      <td>156</td>\n",
              "      <td>N</td>\n",
              "      <td>1.0</td>\n",
              "      <td>Flat</td>\n",
              "      <td>1</td>\n",
              "    </tr>\n",
              "    <tr>\n",
              "      <th>2</th>\n",
              "      <td>37</td>\n",
              "      <td>M</td>\n",
              "      <td>ATA</td>\n",
              "      <td>130</td>\n",
              "      <td>283</td>\n",
              "      <td>0</td>\n",
              "      <td>ST</td>\n",
              "      <td>98</td>\n",
              "      <td>N</td>\n",
              "      <td>0.0</td>\n",
              "      <td>Up</td>\n",
              "      <td>0</td>\n",
              "    </tr>\n",
              "    <tr>\n",
              "      <th>3</th>\n",
              "      <td>48</td>\n",
              "      <td>F</td>\n",
              "      <td>ASY</td>\n",
              "      <td>138</td>\n",
              "      <td>214</td>\n",
              "      <td>0</td>\n",
              "      <td>Normal</td>\n",
              "      <td>108</td>\n",
              "      <td>Y</td>\n",
              "      <td>1.5</td>\n",
              "      <td>Flat</td>\n",
              "      <td>1</td>\n",
              "    </tr>\n",
              "    <tr>\n",
              "      <th>4</th>\n",
              "      <td>54</td>\n",
              "      <td>M</td>\n",
              "      <td>NAP</td>\n",
              "      <td>150</td>\n",
              "      <td>195</td>\n",
              "      <td>0</td>\n",
              "      <td>Normal</td>\n",
              "      <td>122</td>\n",
              "      <td>N</td>\n",
              "      <td>0.0</td>\n",
              "      <td>Up</td>\n",
              "      <td>0</td>\n",
              "    </tr>\n",
              "  </tbody>\n",
              "</table>\n",
              "</div>\n",
              "      <button class=\"colab-df-convert\" onclick=\"convertToInteractive('df-6e5b2715-4ac7-436b-82a4-ca51e802dc65')\"\n",
              "              title=\"Convert this dataframe to an interactive table.\"\n",
              "              style=\"display:none;\">\n",
              "\n",
              "  <svg xmlns=\"http://www.w3.org/2000/svg\" height=\"24px\"viewBox=\"0 0 24 24\"\n",
              "       width=\"24px\">\n",
              "    <path d=\"M0 0h24v24H0V0z\" fill=\"none\"/>\n",
              "    <path d=\"M18.56 5.44l.94 2.06.94-2.06 2.06-.94-2.06-.94-.94-2.06-.94 2.06-2.06.94zm-11 1L8.5 8.5l.94-2.06 2.06-.94-2.06-.94L8.5 2.5l-.94 2.06-2.06.94zm10 10l.94 2.06.94-2.06 2.06-.94-2.06-.94-.94-2.06-.94 2.06-2.06.94z\"/><path d=\"M17.41 7.96l-1.37-1.37c-.4-.4-.92-.59-1.43-.59-.52 0-1.04.2-1.43.59L10.3 9.45l-7.72 7.72c-.78.78-.78 2.05 0 2.83L4 21.41c.39.39.9.59 1.41.59.51 0 1.02-.2 1.41-.59l7.78-7.78 2.81-2.81c.8-.78.8-2.07 0-2.86zM5.41 20L4 18.59l7.72-7.72 1.47 1.35L5.41 20z\"/>\n",
              "  </svg>\n",
              "      </button>\n",
              "\n",
              "\n",
              "\n",
              "    <div id=\"df-0d77d5af-79e6-4108-8322-588af24e5e53\">\n",
              "      <button class=\"colab-df-quickchart\" onclick=\"quickchart('df-0d77d5af-79e6-4108-8322-588af24e5e53')\"\n",
              "              title=\"Suggest charts.\"\n",
              "              style=\"display:none;\">\n",
              "\n",
              "<svg xmlns=\"http://www.w3.org/2000/svg\" height=\"24px\"viewBox=\"0 0 24 24\"\n",
              "     width=\"24px\">\n",
              "    <g>\n",
              "        <path d=\"M19 3H5c-1.1 0-2 .9-2 2v14c0 1.1.9 2 2 2h14c1.1 0 2-.9 2-2V5c0-1.1-.9-2-2-2zM9 17H7v-7h2v7zm4 0h-2V7h2v10zm4 0h-2v-4h2v4z\"/>\n",
              "    </g>\n",
              "</svg>\n",
              "      </button>\n",
              "    </div>\n",
              "\n",
              "<style>\n",
              "  .colab-df-quickchart {\n",
              "    background-color: #E8F0FE;\n",
              "    border: none;\n",
              "    border-radius: 50%;\n",
              "    cursor: pointer;\n",
              "    display: none;\n",
              "    fill: #1967D2;\n",
              "    height: 32px;\n",
              "    padding: 0 0 0 0;\n",
              "    width: 32px;\n",
              "  }\n",
              "\n",
              "  .colab-df-quickchart:hover {\n",
              "    background-color: #E2EBFA;\n",
              "    box-shadow: 0px 1px 2px rgba(60, 64, 67, 0.3), 0px 1px 3px 1px rgba(60, 64, 67, 0.15);\n",
              "    fill: #174EA6;\n",
              "  }\n",
              "\n",
              "  [theme=dark] .colab-df-quickchart {\n",
              "    background-color: #3B4455;\n",
              "    fill: #D2E3FC;\n",
              "  }\n",
              "\n",
              "  [theme=dark] .colab-df-quickchart:hover {\n",
              "    background-color: #434B5C;\n",
              "    box-shadow: 0px 1px 3px 1px rgba(0, 0, 0, 0.15);\n",
              "    filter: drop-shadow(0px 1px 2px rgba(0, 0, 0, 0.3));\n",
              "    fill: #FFFFFF;\n",
              "  }\n",
              "</style>\n",
              "\n",
              "    <script>\n",
              "      async function quickchart(key) {\n",
              "        const containerElement = document.querySelector('#' + key);\n",
              "        const charts = await google.colab.kernel.invokeFunction(\n",
              "            'suggestCharts', [key], {});\n",
              "      }\n",
              "    </script>\n",
              "\n",
              "      <script>\n",
              "\n",
              "function displayQuickchartButton(domScope) {\n",
              "  let quickchartButtonEl =\n",
              "    domScope.querySelector('#df-0d77d5af-79e6-4108-8322-588af24e5e53 button.colab-df-quickchart');\n",
              "  quickchartButtonEl.style.display =\n",
              "    google.colab.kernel.accessAllowed ? 'block' : 'none';\n",
              "}\n",
              "\n",
              "        displayQuickchartButton(document);\n",
              "      </script>\n",
              "      <style>\n",
              "    .colab-df-container {\n",
              "      display:flex;\n",
              "      flex-wrap:wrap;\n",
              "      gap: 12px;\n",
              "    }\n",
              "\n",
              "    .colab-df-convert {\n",
              "      background-color: #E8F0FE;\n",
              "      border: none;\n",
              "      border-radius: 50%;\n",
              "      cursor: pointer;\n",
              "      display: none;\n",
              "      fill: #1967D2;\n",
              "      height: 32px;\n",
              "      padding: 0 0 0 0;\n",
              "      width: 32px;\n",
              "    }\n",
              "\n",
              "    .colab-df-convert:hover {\n",
              "      background-color: #E2EBFA;\n",
              "      box-shadow: 0px 1px 2px rgba(60, 64, 67, 0.3), 0px 1px 3px 1px rgba(60, 64, 67, 0.15);\n",
              "      fill: #174EA6;\n",
              "    }\n",
              "\n",
              "    [theme=dark] .colab-df-convert {\n",
              "      background-color: #3B4455;\n",
              "      fill: #D2E3FC;\n",
              "    }\n",
              "\n",
              "    [theme=dark] .colab-df-convert:hover {\n",
              "      background-color: #434B5C;\n",
              "      box-shadow: 0px 1px 3px 1px rgba(0, 0, 0, 0.15);\n",
              "      filter: drop-shadow(0px 1px 2px rgba(0, 0, 0, 0.3));\n",
              "      fill: #FFFFFF;\n",
              "    }\n",
              "  </style>\n",
              "\n",
              "      <script>\n",
              "        const buttonEl =\n",
              "          document.querySelector('#df-6e5b2715-4ac7-436b-82a4-ca51e802dc65 button.colab-df-convert');\n",
              "        buttonEl.style.display =\n",
              "          google.colab.kernel.accessAllowed ? 'block' : 'none';\n",
              "\n",
              "        async function convertToInteractive(key) {\n",
              "          const element = document.querySelector('#df-6e5b2715-4ac7-436b-82a4-ca51e802dc65');\n",
              "          const dataTable =\n",
              "            await google.colab.kernel.invokeFunction('convertToInteractive',\n",
              "                                                     [key], {});\n",
              "          if (!dataTable) return;\n",
              "\n",
              "          const docLinkHtml = 'Like what you see? Visit the ' +\n",
              "            '<a target=\"_blank\" href=https://colab.research.google.com/notebooks/data_table.ipynb>data table notebook</a>'\n",
              "            + ' to learn more about interactive tables.';\n",
              "          element.innerHTML = '';\n",
              "          dataTable['output_type'] = 'display_data';\n",
              "          await google.colab.output.renderOutput(dataTable, element);\n",
              "          const docLink = document.createElement('div');\n",
              "          docLink.innerHTML = docLinkHtml;\n",
              "          element.appendChild(docLink);\n",
              "        }\n",
              "      </script>\n",
              "    </div>\n",
              "  </div>\n"
            ]
          },
          "metadata": {},
          "execution_count": 294
        }
      ]
    },
    {
      "cell_type": "code",
      "source": [
        "# Tamaño del dataset\n",
        "print('El dataset tiene ' + str(df.shape[0]) + ' filas, y ' + str(df.shape[1]) + ' columnas')"
      ],
      "metadata": {
        "colab": {
          "base_uri": "https://localhost:8080/"
        },
        "id": "HJKNaKnv8eug",
        "outputId": "82d286ad-eb79-49b1-b06f-a025a52d38b2"
      },
      "execution_count": null,
      "outputs": [
        {
          "output_type": "stream",
          "name": "stdout",
          "text": [
            "El dataset tiene 1268 filas, y 12 columnas\n"
          ]
        }
      ]
    },
    {
      "cell_type": "code",
      "source": [
        "# Verifica si hay filas duplicadas en el dataset\n",
        "duplicados = df.duplicated()\n",
        "\n",
        "# Imprime la cantidad de filas duplicadas\n",
        "print(\"Cantidad de filas duplicadas:\", duplicados.sum())"
      ],
      "metadata": {
        "colab": {
          "base_uri": "https://localhost:8080/"
        },
        "id": "AlsBc51F9RwE",
        "outputId": "945fff53-c286-485e-a893-8892827ca457"
      },
      "execution_count": null,
      "outputs": [
        {
          "output_type": "stream",
          "name": "stdout",
          "text": [
            "Cantidad de filas duplicadas: 0\n"
          ]
        }
      ]
    },
    {
      "cell_type": "code",
      "source": [
        "# Veamos un poco más de información\n",
        "df.describe().T"
      ],
      "metadata": {
        "colab": {
          "base_uri": "https://localhost:8080/",
          "height": 269
        },
        "id": "Q5VJhOWS9blf",
        "outputId": "740ab2d6-68a0-4867-9d65-9708f202ab75"
      },
      "execution_count": null,
      "outputs": [
        {
          "output_type": "execute_result",
          "data": {
            "text/plain": [
              "               count        mean         std   min    25%    50%    75%    max\n",
              "Age           1268.0   53.282334   11.397009  25.0   46.0   54.0   61.0   79.0\n",
              "RestingBP     1268.0  132.108833   18.009490   0.0  120.0  130.0  140.0  200.0\n",
              "Cholesterol   1268.0  212.899842  105.758904   0.0  175.0  227.5  277.0  603.0\n",
              "FastingBS     1268.0    0.235804    0.424668   0.0    0.0    0.0    0.0    1.0\n",
              "MaxHR         1268.0  137.620662   25.372156  60.0  120.0  140.0  157.0  202.0\n",
              "Oldpeak       1268.0    0.882571    1.069534  -2.6    0.0    0.5    1.5    6.2\n",
              "HeartDisease  1268.0    0.541009    0.498512   0.0    0.0    1.0    1.0    1.0"
            ],
            "text/html": [
              "\n",
              "\n",
              "  <div id=\"df-8435e451-be81-43d1-ba7e-b6115eb33206\">\n",
              "    <div class=\"colab-df-container\">\n",
              "      <div>\n",
              "<style scoped>\n",
              "    .dataframe tbody tr th:only-of-type {\n",
              "        vertical-align: middle;\n",
              "    }\n",
              "\n",
              "    .dataframe tbody tr th {\n",
              "        vertical-align: top;\n",
              "    }\n",
              "\n",
              "    .dataframe thead th {\n",
              "        text-align: right;\n",
              "    }\n",
              "</style>\n",
              "<table border=\"1\" class=\"dataframe\">\n",
              "  <thead>\n",
              "    <tr style=\"text-align: right;\">\n",
              "      <th></th>\n",
              "      <th>count</th>\n",
              "      <th>mean</th>\n",
              "      <th>std</th>\n",
              "      <th>min</th>\n",
              "      <th>25%</th>\n",
              "      <th>50%</th>\n",
              "      <th>75%</th>\n",
              "      <th>max</th>\n",
              "    </tr>\n",
              "  </thead>\n",
              "  <tbody>\n",
              "    <tr>\n",
              "      <th>Age</th>\n",
              "      <td>1268.0</td>\n",
              "      <td>53.282334</td>\n",
              "      <td>11.397009</td>\n",
              "      <td>25.0</td>\n",
              "      <td>46.0</td>\n",
              "      <td>54.0</td>\n",
              "      <td>61.0</td>\n",
              "      <td>79.0</td>\n",
              "    </tr>\n",
              "    <tr>\n",
              "      <th>RestingBP</th>\n",
              "      <td>1268.0</td>\n",
              "      <td>132.108833</td>\n",
              "      <td>18.009490</td>\n",
              "      <td>0.0</td>\n",
              "      <td>120.0</td>\n",
              "      <td>130.0</td>\n",
              "      <td>140.0</td>\n",
              "      <td>200.0</td>\n",
              "    </tr>\n",
              "    <tr>\n",
              "      <th>Cholesterol</th>\n",
              "      <td>1268.0</td>\n",
              "      <td>212.899842</td>\n",
              "      <td>105.758904</td>\n",
              "      <td>0.0</td>\n",
              "      <td>175.0</td>\n",
              "      <td>227.5</td>\n",
              "      <td>277.0</td>\n",
              "      <td>603.0</td>\n",
              "    </tr>\n",
              "    <tr>\n",
              "      <th>FastingBS</th>\n",
              "      <td>1268.0</td>\n",
              "      <td>0.235804</td>\n",
              "      <td>0.424668</td>\n",
              "      <td>0.0</td>\n",
              "      <td>0.0</td>\n",
              "      <td>0.0</td>\n",
              "      <td>0.0</td>\n",
              "      <td>1.0</td>\n",
              "    </tr>\n",
              "    <tr>\n",
              "      <th>MaxHR</th>\n",
              "      <td>1268.0</td>\n",
              "      <td>137.620662</td>\n",
              "      <td>25.372156</td>\n",
              "      <td>60.0</td>\n",
              "      <td>120.0</td>\n",
              "      <td>140.0</td>\n",
              "      <td>157.0</td>\n",
              "      <td>202.0</td>\n",
              "    </tr>\n",
              "    <tr>\n",
              "      <th>Oldpeak</th>\n",
              "      <td>1268.0</td>\n",
              "      <td>0.882571</td>\n",
              "      <td>1.069534</td>\n",
              "      <td>-2.6</td>\n",
              "      <td>0.0</td>\n",
              "      <td>0.5</td>\n",
              "      <td>1.5</td>\n",
              "      <td>6.2</td>\n",
              "    </tr>\n",
              "    <tr>\n",
              "      <th>HeartDisease</th>\n",
              "      <td>1268.0</td>\n",
              "      <td>0.541009</td>\n",
              "      <td>0.498512</td>\n",
              "      <td>0.0</td>\n",
              "      <td>0.0</td>\n",
              "      <td>1.0</td>\n",
              "      <td>1.0</td>\n",
              "      <td>1.0</td>\n",
              "    </tr>\n",
              "  </tbody>\n",
              "</table>\n",
              "</div>\n",
              "      <button class=\"colab-df-convert\" onclick=\"convertToInteractive('df-8435e451-be81-43d1-ba7e-b6115eb33206')\"\n",
              "              title=\"Convert this dataframe to an interactive table.\"\n",
              "              style=\"display:none;\">\n",
              "\n",
              "  <svg xmlns=\"http://www.w3.org/2000/svg\" height=\"24px\"viewBox=\"0 0 24 24\"\n",
              "       width=\"24px\">\n",
              "    <path d=\"M0 0h24v24H0V0z\" fill=\"none\"/>\n",
              "    <path d=\"M18.56 5.44l.94 2.06.94-2.06 2.06-.94-2.06-.94-.94-2.06-.94 2.06-2.06.94zm-11 1L8.5 8.5l.94-2.06 2.06-.94-2.06-.94L8.5 2.5l-.94 2.06-2.06.94zm10 10l.94 2.06.94-2.06 2.06-.94-2.06-.94-.94-2.06-.94 2.06-2.06.94z\"/><path d=\"M17.41 7.96l-1.37-1.37c-.4-.4-.92-.59-1.43-.59-.52 0-1.04.2-1.43.59L10.3 9.45l-7.72 7.72c-.78.78-.78 2.05 0 2.83L4 21.41c.39.39.9.59 1.41.59.51 0 1.02-.2 1.41-.59l7.78-7.78 2.81-2.81c.8-.78.8-2.07 0-2.86zM5.41 20L4 18.59l7.72-7.72 1.47 1.35L5.41 20z\"/>\n",
              "  </svg>\n",
              "      </button>\n",
              "\n",
              "\n",
              "\n",
              "    <div id=\"df-429d0c3b-fe17-4176-b60f-55fc8b2f189d\">\n",
              "      <button class=\"colab-df-quickchart\" onclick=\"quickchart('df-429d0c3b-fe17-4176-b60f-55fc8b2f189d')\"\n",
              "              title=\"Suggest charts.\"\n",
              "              style=\"display:none;\">\n",
              "\n",
              "<svg xmlns=\"http://www.w3.org/2000/svg\" height=\"24px\"viewBox=\"0 0 24 24\"\n",
              "     width=\"24px\">\n",
              "    <g>\n",
              "        <path d=\"M19 3H5c-1.1 0-2 .9-2 2v14c0 1.1.9 2 2 2h14c1.1 0 2-.9 2-2V5c0-1.1-.9-2-2-2zM9 17H7v-7h2v7zm4 0h-2V7h2v10zm4 0h-2v-4h2v4z\"/>\n",
              "    </g>\n",
              "</svg>\n",
              "      </button>\n",
              "    </div>\n",
              "\n",
              "<style>\n",
              "  .colab-df-quickchart {\n",
              "    background-color: #E8F0FE;\n",
              "    border: none;\n",
              "    border-radius: 50%;\n",
              "    cursor: pointer;\n",
              "    display: none;\n",
              "    fill: #1967D2;\n",
              "    height: 32px;\n",
              "    padding: 0 0 0 0;\n",
              "    width: 32px;\n",
              "  }\n",
              "\n",
              "  .colab-df-quickchart:hover {\n",
              "    background-color: #E2EBFA;\n",
              "    box-shadow: 0px 1px 2px rgba(60, 64, 67, 0.3), 0px 1px 3px 1px rgba(60, 64, 67, 0.15);\n",
              "    fill: #174EA6;\n",
              "  }\n",
              "\n",
              "  [theme=dark] .colab-df-quickchart {\n",
              "    background-color: #3B4455;\n",
              "    fill: #D2E3FC;\n",
              "  }\n",
              "\n",
              "  [theme=dark] .colab-df-quickchart:hover {\n",
              "    background-color: #434B5C;\n",
              "    box-shadow: 0px 1px 3px 1px rgba(0, 0, 0, 0.15);\n",
              "    filter: drop-shadow(0px 1px 2px rgba(0, 0, 0, 0.3));\n",
              "    fill: #FFFFFF;\n",
              "  }\n",
              "</style>\n",
              "\n",
              "    <script>\n",
              "      async function quickchart(key) {\n",
              "        const containerElement = document.querySelector('#' + key);\n",
              "        const charts = await google.colab.kernel.invokeFunction(\n",
              "            'suggestCharts', [key], {});\n",
              "      }\n",
              "    </script>\n",
              "\n",
              "      <script>\n",
              "\n",
              "function displayQuickchartButton(domScope) {\n",
              "  let quickchartButtonEl =\n",
              "    domScope.querySelector('#df-429d0c3b-fe17-4176-b60f-55fc8b2f189d button.colab-df-quickchart');\n",
              "  quickchartButtonEl.style.display =\n",
              "    google.colab.kernel.accessAllowed ? 'block' : 'none';\n",
              "}\n",
              "\n",
              "        displayQuickchartButton(document);\n",
              "      </script>\n",
              "      <style>\n",
              "    .colab-df-container {\n",
              "      display:flex;\n",
              "      flex-wrap:wrap;\n",
              "      gap: 12px;\n",
              "    }\n",
              "\n",
              "    .colab-df-convert {\n",
              "      background-color: #E8F0FE;\n",
              "      border: none;\n",
              "      border-radius: 50%;\n",
              "      cursor: pointer;\n",
              "      display: none;\n",
              "      fill: #1967D2;\n",
              "      height: 32px;\n",
              "      padding: 0 0 0 0;\n",
              "      width: 32px;\n",
              "    }\n",
              "\n",
              "    .colab-df-convert:hover {\n",
              "      background-color: #E2EBFA;\n",
              "      box-shadow: 0px 1px 2px rgba(60, 64, 67, 0.3), 0px 1px 3px 1px rgba(60, 64, 67, 0.15);\n",
              "      fill: #174EA6;\n",
              "    }\n",
              "\n",
              "    [theme=dark] .colab-df-convert {\n",
              "      background-color: #3B4455;\n",
              "      fill: #D2E3FC;\n",
              "    }\n",
              "\n",
              "    [theme=dark] .colab-df-convert:hover {\n",
              "      background-color: #434B5C;\n",
              "      box-shadow: 0px 1px 3px 1px rgba(0, 0, 0, 0.15);\n",
              "      filter: drop-shadow(0px 1px 2px rgba(0, 0, 0, 0.3));\n",
              "      fill: #FFFFFF;\n",
              "    }\n",
              "  </style>\n",
              "\n",
              "      <script>\n",
              "        const buttonEl =\n",
              "          document.querySelector('#df-8435e451-be81-43d1-ba7e-b6115eb33206 button.colab-df-convert');\n",
              "        buttonEl.style.display =\n",
              "          google.colab.kernel.accessAllowed ? 'block' : 'none';\n",
              "\n",
              "        async function convertToInteractive(key) {\n",
              "          const element = document.querySelector('#df-8435e451-be81-43d1-ba7e-b6115eb33206');\n",
              "          const dataTable =\n",
              "            await google.colab.kernel.invokeFunction('convertToInteractive',\n",
              "                                                     [key], {});\n",
              "          if (!dataTable) return;\n",
              "\n",
              "          const docLinkHtml = 'Like what you see? Visit the ' +\n",
              "            '<a target=\"_blank\" href=https://colab.research.google.com/notebooks/data_table.ipynb>data table notebook</a>'\n",
              "            + ' to learn more about interactive tables.';\n",
              "          element.innerHTML = '';\n",
              "          dataTable['output_type'] = 'display_data';\n",
              "          await google.colab.output.renderOutput(dataTable, element);\n",
              "          const docLink = document.createElement('div');\n",
              "          docLink.innerHTML = docLinkHtml;\n",
              "          element.appendChild(docLink);\n",
              "        }\n",
              "      </script>\n",
              "    </div>\n",
              "  </div>\n"
            ]
          },
          "metadata": {},
          "execution_count": 297
        }
      ]
    },
    {
      "cell_type": "code",
      "source": [
        "# Busquemos valores nulos en las variables\n",
        "df.info()"
      ],
      "metadata": {
        "colab": {
          "base_uri": "https://localhost:8080/"
        },
        "id": "RVCzqbyw-7-z",
        "outputId": "4acab195-bf7f-4252-efb8-3e486f9ef11e"
      },
      "execution_count": null,
      "outputs": [
        {
          "output_type": "stream",
          "name": "stdout",
          "text": [
            "<class 'pandas.core.frame.DataFrame'>\n",
            "RangeIndex: 1268 entries, 0 to 1267\n",
            "Data columns (total 12 columns):\n",
            " #   Column          Non-Null Count  Dtype  \n",
            "---  ------          --------------  -----  \n",
            " 0   Age             1268 non-null   int64  \n",
            " 1   Sex             1268 non-null   object \n",
            " 2   ChestPainType   1268 non-null   object \n",
            " 3   RestingBP       1268 non-null   int64  \n",
            " 4   Cholesterol     1268 non-null   int64  \n",
            " 5   FastingBS       1268 non-null   int64  \n",
            " 6   RestingECG      1268 non-null   object \n",
            " 7   MaxHR           1268 non-null   int64  \n",
            " 8   ExerciseAngina  1268 non-null   object \n",
            " 9   Oldpeak         1268 non-null   float64\n",
            " 10  ST_Slope        1268 non-null   object \n",
            " 11  HeartDisease    1268 non-null   int64  \n",
            "dtypes: float64(1), int64(6), object(5)\n",
            "memory usage: 119.0+ KB\n"
          ]
        }
      ]
    },
    {
      "cell_type": "markdown",
      "source": [
        "El dataset no posee valores nulos."
      ],
      "metadata": {
        "id": "eL2NEWQ0_UKI"
      }
    },
    {
      "cell_type": "code",
      "source": [
        "# veamos que cantidad de personas de cada sexo hay registradas\n",
        "df['Sex'].value_counts()"
      ],
      "metadata": {
        "colab": {
          "base_uri": "https://localhost:8080/"
        },
        "id": "TOmab76T__pl",
        "outputId": "cf7581c0-59a1-438f-b0f3-17cf8d205e9b"
      },
      "execution_count": null,
      "outputs": [
        {
          "output_type": "execute_result",
          "data": {
            "text/plain": [
              "M    890\n",
              "F    378\n",
              "Name: Sex, dtype: int64"
            ]
          },
          "metadata": {},
          "execution_count": 299
        }
      ]
    },
    {
      "cell_type": "code",
      "source": [
        "# veamos cuantos casos positivos (1) y negativos (0) hay registrados\n",
        "df['HeartDisease'].value_counts()"
      ],
      "metadata": {
        "colab": {
          "base_uri": "https://localhost:8080/"
        },
        "id": "wn9ILt1cedav",
        "outputId": "c0f51c35-a225-4ca5-87c1-0a9b82d0e6ce"
      },
      "execution_count": null,
      "outputs": [
        {
          "output_type": "execute_result",
          "data": {
            "text/plain": [
              "1    686\n",
              "0    582\n",
              "Name: HeartDisease, dtype: int64"
            ]
          },
          "metadata": {},
          "execution_count": 300
        }
      ]
    },
    {
      "cell_type": "markdown",
      "source": [
        "Uno de los fines de este proyecto será poder predecir si la persona tiene o tendrá una enfermedad del corazón. En este caso la variable que queremos predecir es ``HeartDisease``.\n",
        "A fines prácticas y para evitar confusiones, cambiaremos el nombre de la variable a ``Outcome``."
      ],
      "metadata": {
        "id": "QV0j_S-MBT7I"
      }
    },
    {
      "cell_type": "code",
      "source": [
        "df.HeartDisease = df.rename({'HeartDisease':'Outcome'},inplace = True,axis =1)\n",
        "df.head()"
      ],
      "metadata": {
        "colab": {
          "base_uri": "https://localhost:8080/",
          "height": 206
        },
        "id": "afeUcP_xAW6O",
        "outputId": "f79839da-4e58-4c78-d96b-d5d5a48fadb1"
      },
      "execution_count": null,
      "outputs": [
        {
          "output_type": "execute_result",
          "data": {
            "text/plain": [
              "   Age Sex ChestPainType  RestingBP  Cholesterol  FastingBS RestingECG  MaxHR  \\\n",
              "0   40   M           ATA        140          289          0     Normal    172   \n",
              "1   49   F           NAP        160          180          0     Normal    156   \n",
              "2   37   M           ATA        130          283          0         ST     98   \n",
              "3   48   F           ASY        138          214          0     Normal    108   \n",
              "4   54   M           NAP        150          195          0     Normal    122   \n",
              "\n",
              "  ExerciseAngina  Oldpeak ST_Slope  Outcome  \n",
              "0              N      0.0       Up        0  \n",
              "1              N      1.0     Flat        1  \n",
              "2              N      0.0       Up        0  \n",
              "3              Y      1.5     Flat        1  \n",
              "4              N      0.0       Up        0  "
            ],
            "text/html": [
              "\n",
              "\n",
              "  <div id=\"df-b5e655a3-a274-4a8c-aeac-6c061b4c5a8c\">\n",
              "    <div class=\"colab-df-container\">\n",
              "      <div>\n",
              "<style scoped>\n",
              "    .dataframe tbody tr th:only-of-type {\n",
              "        vertical-align: middle;\n",
              "    }\n",
              "\n",
              "    .dataframe tbody tr th {\n",
              "        vertical-align: top;\n",
              "    }\n",
              "\n",
              "    .dataframe thead th {\n",
              "        text-align: right;\n",
              "    }\n",
              "</style>\n",
              "<table border=\"1\" class=\"dataframe\">\n",
              "  <thead>\n",
              "    <tr style=\"text-align: right;\">\n",
              "      <th></th>\n",
              "      <th>Age</th>\n",
              "      <th>Sex</th>\n",
              "      <th>ChestPainType</th>\n",
              "      <th>RestingBP</th>\n",
              "      <th>Cholesterol</th>\n",
              "      <th>FastingBS</th>\n",
              "      <th>RestingECG</th>\n",
              "      <th>MaxHR</th>\n",
              "      <th>ExerciseAngina</th>\n",
              "      <th>Oldpeak</th>\n",
              "      <th>ST_Slope</th>\n",
              "      <th>Outcome</th>\n",
              "    </tr>\n",
              "  </thead>\n",
              "  <tbody>\n",
              "    <tr>\n",
              "      <th>0</th>\n",
              "      <td>40</td>\n",
              "      <td>M</td>\n",
              "      <td>ATA</td>\n",
              "      <td>140</td>\n",
              "      <td>289</td>\n",
              "      <td>0</td>\n",
              "      <td>Normal</td>\n",
              "      <td>172</td>\n",
              "      <td>N</td>\n",
              "      <td>0.0</td>\n",
              "      <td>Up</td>\n",
              "      <td>0</td>\n",
              "    </tr>\n",
              "    <tr>\n",
              "      <th>1</th>\n",
              "      <td>49</td>\n",
              "      <td>F</td>\n",
              "      <td>NAP</td>\n",
              "      <td>160</td>\n",
              "      <td>180</td>\n",
              "      <td>0</td>\n",
              "      <td>Normal</td>\n",
              "      <td>156</td>\n",
              "      <td>N</td>\n",
              "      <td>1.0</td>\n",
              "      <td>Flat</td>\n",
              "      <td>1</td>\n",
              "    </tr>\n",
              "    <tr>\n",
              "      <th>2</th>\n",
              "      <td>37</td>\n",
              "      <td>M</td>\n",
              "      <td>ATA</td>\n",
              "      <td>130</td>\n",
              "      <td>283</td>\n",
              "      <td>0</td>\n",
              "      <td>ST</td>\n",
              "      <td>98</td>\n",
              "      <td>N</td>\n",
              "      <td>0.0</td>\n",
              "      <td>Up</td>\n",
              "      <td>0</td>\n",
              "    </tr>\n",
              "    <tr>\n",
              "      <th>3</th>\n",
              "      <td>48</td>\n",
              "      <td>F</td>\n",
              "      <td>ASY</td>\n",
              "      <td>138</td>\n",
              "      <td>214</td>\n",
              "      <td>0</td>\n",
              "      <td>Normal</td>\n",
              "      <td>108</td>\n",
              "      <td>Y</td>\n",
              "      <td>1.5</td>\n",
              "      <td>Flat</td>\n",
              "      <td>1</td>\n",
              "    </tr>\n",
              "    <tr>\n",
              "      <th>4</th>\n",
              "      <td>54</td>\n",
              "      <td>M</td>\n",
              "      <td>NAP</td>\n",
              "      <td>150</td>\n",
              "      <td>195</td>\n",
              "      <td>0</td>\n",
              "      <td>Normal</td>\n",
              "      <td>122</td>\n",
              "      <td>N</td>\n",
              "      <td>0.0</td>\n",
              "      <td>Up</td>\n",
              "      <td>0</td>\n",
              "    </tr>\n",
              "  </tbody>\n",
              "</table>\n",
              "</div>\n",
              "      <button class=\"colab-df-convert\" onclick=\"convertToInteractive('df-b5e655a3-a274-4a8c-aeac-6c061b4c5a8c')\"\n",
              "              title=\"Convert this dataframe to an interactive table.\"\n",
              "              style=\"display:none;\">\n",
              "\n",
              "  <svg xmlns=\"http://www.w3.org/2000/svg\" height=\"24px\"viewBox=\"0 0 24 24\"\n",
              "       width=\"24px\">\n",
              "    <path d=\"M0 0h24v24H0V0z\" fill=\"none\"/>\n",
              "    <path d=\"M18.56 5.44l.94 2.06.94-2.06 2.06-.94-2.06-.94-.94-2.06-.94 2.06-2.06.94zm-11 1L8.5 8.5l.94-2.06 2.06-.94-2.06-.94L8.5 2.5l-.94 2.06-2.06.94zm10 10l.94 2.06.94-2.06 2.06-.94-2.06-.94-.94-2.06-.94 2.06-2.06.94z\"/><path d=\"M17.41 7.96l-1.37-1.37c-.4-.4-.92-.59-1.43-.59-.52 0-1.04.2-1.43.59L10.3 9.45l-7.72 7.72c-.78.78-.78 2.05 0 2.83L4 21.41c.39.39.9.59 1.41.59.51 0 1.02-.2 1.41-.59l7.78-7.78 2.81-2.81c.8-.78.8-2.07 0-2.86zM5.41 20L4 18.59l7.72-7.72 1.47 1.35L5.41 20z\"/>\n",
              "  </svg>\n",
              "      </button>\n",
              "\n",
              "\n",
              "\n",
              "    <div id=\"df-f461f05b-daf3-4905-8d88-8573c132a643\">\n",
              "      <button class=\"colab-df-quickchart\" onclick=\"quickchart('df-f461f05b-daf3-4905-8d88-8573c132a643')\"\n",
              "              title=\"Suggest charts.\"\n",
              "              style=\"display:none;\">\n",
              "\n",
              "<svg xmlns=\"http://www.w3.org/2000/svg\" height=\"24px\"viewBox=\"0 0 24 24\"\n",
              "     width=\"24px\">\n",
              "    <g>\n",
              "        <path d=\"M19 3H5c-1.1 0-2 .9-2 2v14c0 1.1.9 2 2 2h14c1.1 0 2-.9 2-2V5c0-1.1-.9-2-2-2zM9 17H7v-7h2v7zm4 0h-2V7h2v10zm4 0h-2v-4h2v4z\"/>\n",
              "    </g>\n",
              "</svg>\n",
              "      </button>\n",
              "    </div>\n",
              "\n",
              "<style>\n",
              "  .colab-df-quickchart {\n",
              "    background-color: #E8F0FE;\n",
              "    border: none;\n",
              "    border-radius: 50%;\n",
              "    cursor: pointer;\n",
              "    display: none;\n",
              "    fill: #1967D2;\n",
              "    height: 32px;\n",
              "    padding: 0 0 0 0;\n",
              "    width: 32px;\n",
              "  }\n",
              "\n",
              "  .colab-df-quickchart:hover {\n",
              "    background-color: #E2EBFA;\n",
              "    box-shadow: 0px 1px 2px rgba(60, 64, 67, 0.3), 0px 1px 3px 1px rgba(60, 64, 67, 0.15);\n",
              "    fill: #174EA6;\n",
              "  }\n",
              "\n",
              "  [theme=dark] .colab-df-quickchart {\n",
              "    background-color: #3B4455;\n",
              "    fill: #D2E3FC;\n",
              "  }\n",
              "\n",
              "  [theme=dark] .colab-df-quickchart:hover {\n",
              "    background-color: #434B5C;\n",
              "    box-shadow: 0px 1px 3px 1px rgba(0, 0, 0, 0.15);\n",
              "    filter: drop-shadow(0px 1px 2px rgba(0, 0, 0, 0.3));\n",
              "    fill: #FFFFFF;\n",
              "  }\n",
              "</style>\n",
              "\n",
              "    <script>\n",
              "      async function quickchart(key) {\n",
              "        const containerElement = document.querySelector('#' + key);\n",
              "        const charts = await google.colab.kernel.invokeFunction(\n",
              "            'suggestCharts', [key], {});\n",
              "      }\n",
              "    </script>\n",
              "\n",
              "      <script>\n",
              "\n",
              "function displayQuickchartButton(domScope) {\n",
              "  let quickchartButtonEl =\n",
              "    domScope.querySelector('#df-f461f05b-daf3-4905-8d88-8573c132a643 button.colab-df-quickchart');\n",
              "  quickchartButtonEl.style.display =\n",
              "    google.colab.kernel.accessAllowed ? 'block' : 'none';\n",
              "}\n",
              "\n",
              "        displayQuickchartButton(document);\n",
              "      </script>\n",
              "      <style>\n",
              "    .colab-df-container {\n",
              "      display:flex;\n",
              "      flex-wrap:wrap;\n",
              "      gap: 12px;\n",
              "    }\n",
              "\n",
              "    .colab-df-convert {\n",
              "      background-color: #E8F0FE;\n",
              "      border: none;\n",
              "      border-radius: 50%;\n",
              "      cursor: pointer;\n",
              "      display: none;\n",
              "      fill: #1967D2;\n",
              "      height: 32px;\n",
              "      padding: 0 0 0 0;\n",
              "      width: 32px;\n",
              "    }\n",
              "\n",
              "    .colab-df-convert:hover {\n",
              "      background-color: #E2EBFA;\n",
              "      box-shadow: 0px 1px 2px rgba(60, 64, 67, 0.3), 0px 1px 3px 1px rgba(60, 64, 67, 0.15);\n",
              "      fill: #174EA6;\n",
              "    }\n",
              "\n",
              "    [theme=dark] .colab-df-convert {\n",
              "      background-color: #3B4455;\n",
              "      fill: #D2E3FC;\n",
              "    }\n",
              "\n",
              "    [theme=dark] .colab-df-convert:hover {\n",
              "      background-color: #434B5C;\n",
              "      box-shadow: 0px 1px 3px 1px rgba(0, 0, 0, 0.15);\n",
              "      filter: drop-shadow(0px 1px 2px rgba(0, 0, 0, 0.3));\n",
              "      fill: #FFFFFF;\n",
              "    }\n",
              "  </style>\n",
              "\n",
              "      <script>\n",
              "        const buttonEl =\n",
              "          document.querySelector('#df-b5e655a3-a274-4a8c-aeac-6c061b4c5a8c button.colab-df-convert');\n",
              "        buttonEl.style.display =\n",
              "          google.colab.kernel.accessAllowed ? 'block' : 'none';\n",
              "\n",
              "        async function convertToInteractive(key) {\n",
              "          const element = document.querySelector('#df-b5e655a3-a274-4a8c-aeac-6c061b4c5a8c');\n",
              "          const dataTable =\n",
              "            await google.colab.kernel.invokeFunction('convertToInteractive',\n",
              "                                                     [key], {});\n",
              "          if (!dataTable) return;\n",
              "\n",
              "          const docLinkHtml = 'Like what you see? Visit the ' +\n",
              "            '<a target=\"_blank\" href=https://colab.research.google.com/notebooks/data_table.ipynb>data table notebook</a>'\n",
              "            + ' to learn more about interactive tables.';\n",
              "          element.innerHTML = '';\n",
              "          dataTable['output_type'] = 'display_data';\n",
              "          await google.colab.output.renderOutput(dataTable, element);\n",
              "          const docLink = document.createElement('div');\n",
              "          docLink.innerHTML = docLinkHtml;\n",
              "          element.appendChild(docLink);\n",
              "        }\n",
              "      </script>\n",
              "    </div>\n",
              "  </div>\n"
            ]
          },
          "metadata": {},
          "execution_count": 301
        }
      ]
    },
    {
      "cell_type": "markdown",
      "source": [
        "# Data Wrangling y Exploratory Data Analysis."
      ],
      "metadata": {
        "id": "doNj0nD5Eiqf"
      }
    },
    {
      "cell_type": "markdown",
      "source": [
        "En la etapa de Data Wrangling, justamente, haremos la preparación de los datos. En este proceso se hara una limpieza, transformación y preparación de los datos para un futuro análisis. Esto incluye: eliminación de datos duplicados, transformación del tipo de dato a uno adecuado si así se requiere, detección y eleminación de valor atípicos (outliers), y otros procesos."
      ],
      "metadata": {
        "id": "QhcN2ByMKXBQ"
      }
    },
    {
      "cell_type": "markdown",
      "source": [
        "La etapa de EDA, abarca la exploración y la comprensión de los datos para obtener información. Esto incluye la visualización de datos utilizando gráficos y tablas para identificar patrones, tendencias, valores atípicos y relaciones entre variables. El objetivo del EDA es obtener una comprensión profunda de los datos antes de realizar el análisis estadístico o modelización."
      ],
      "metadata": {
        "id": "tjNGWnX1LJ2N"
      }
    },
    {
      "cell_type": "markdown",
      "source": [
        "## DW (Data Wrangling)"
      ],
      "metadata": {
        "id": "iEl7ay7lwtzu"
      }
    },
    {
      "cell_type": "markdown",
      "source": [
        "El proceso de Data Wrangling estará compuesto, en aspectos generales, a la limpieza y preparación de datos. Es decir: detección y eleminación de valores atípicos, eliminación de valores duplicados, transformar los tipos de datos a uno adecuado, normalización de variables, etc."
      ],
      "metadata": {
        "id": "u4tloA0syc_f"
      }
    },
    {
      "cell_type": "markdown",
      "source": [
        "Dejemos el df con el dataset original, y hagamos una copia del df en el cual haremos dichos procesos."
      ],
      "metadata": {
        "id": "VRCm5q2vz9lh"
      }
    },
    {
      "cell_type": "code",
      "source": [
        "df_copy = df.copy(deep = True)"
      ],
      "metadata": {
        "id": "jYR3Hbe0wvH_"
      },
      "execution_count": null,
      "outputs": []
    },
    {
      "cell_type": "markdown",
      "source": [
        "### Distribución de las variables y eliminación de outiliers"
      ],
      "metadata": {
        "id": "BUzNZzFvJxzJ"
      }
    },
    {
      "cell_type": "code",
      "source": [
        "df_copy.Cholesterol.value_counts(dropna=False)"
      ],
      "metadata": {
        "colab": {
          "base_uri": "https://localhost:8080/"
        },
        "id": "Jn_7akzJoNgp",
        "outputId": "70f1173a-4559-4a6f-c003-da16ec46fcde"
      },
      "execution_count": null,
      "outputs": [
        {
          "output_type": "execute_result",
          "data": {
            "text/plain": [
              "0      172\n",
              "211     12\n",
              "220     12\n",
              "254     11\n",
              "263     11\n",
              "      ... \n",
              "321      1\n",
              "529      1\n",
              "409      1\n",
              "156      1\n",
              "372      1\n",
              "Name: Cholesterol, Length: 286, dtype: int64"
            ]
          },
          "metadata": {},
          "execution_count": 303
        }
      ]
    },
    {
      "cell_type": "markdown",
      "source": [
        "Parece ser que la variable Cholesterol contiene muchos registros nulos (aunque antes no lo pudimos ver cuando usamos .info()), vemos qué porcentaje abarcan, de modo de saber cómo tratar estos valores."
      ],
      "metadata": {
        "id": "WnwIzMVGoOCg"
      }
    },
    {
      "cell_type": "markdown",
      "source": [
        "Es decir que de los 1268 registros, 172 son nulos, es decir: aproximadamente 13,56% de los registros son nulos.\n",
        "\n",
        "A fin de mantener un dataset con suficientes registros, no los eliminaremos."
      ],
      "metadata": {
        "id": "V8PL-eIjohTp"
      }
    },
    {
      "cell_type": "markdown",
      "source": [
        "Para la eliminación de valores atípicos, previamente tenemos que analizar la distribución de los datos, por ejemplo haciendo uso de tests estadísticos (como podría ser el de Shapiro-Wilk). Según si la distribución sea normal o no usaremos distintos métodos para eliminar los outliers.\n",
        "\n",
        "En caso que sea normal usaremos **z-scores**. Si no es normal **IQR (rango intercuartil)**."
      ],
      "metadata": {
        "id": "rUvX_ZC6J35I"
      }
    },
    {
      "cell_type": "code",
      "source": [
        "# Creemos una función para aplicar el test de Shapiro-Wilk, con la librería scipy\n",
        "#si el resultado del test es mayor a 0.5 no se puede rechazar la hipotesis nula (la distribución es normal)\n",
        "#en caso contrario, se rechaza la hipótesis (no sigue distribución normal)\n",
        "def shapiro_wilk_test(data, alpha=0.5):\n",
        "    stat, p = shapiro(data)\n",
        "    if p > alpha:\n",
        "        print('No se puede rechazar la hipótesis nula (los datos siguen una distribución normal)')\n",
        "    else:\n",
        "        print('Se rechaza la hipótesis nula (los datos no siguen una distribución normal)')"
      ],
      "metadata": {
        "id": "ZymVl7O5LRVG"
      },
      "execution_count": null,
      "outputs": []
    },
    {
      "cell_type": "markdown",
      "source": [
        "#### Age"
      ],
      "metadata": {
        "id": "koYwVifwN9mh"
      }
    },
    {
      "cell_type": "code",
      "source": [
        "shapiro_wilk_test(df_copy['Age'],alpha=0.5)"
      ],
      "metadata": {
        "colab": {
          "base_uri": "https://localhost:8080/"
        },
        "id": "ao65WXKROAOo",
        "outputId": "b3369f22-d09a-4da4-a420-a26602b4e02b"
      },
      "execution_count": null,
      "outputs": [
        {
          "output_type": "stream",
          "name": "stdout",
          "text": [
            "Se rechaza la hipótesis nula (los datos no siguen una distribución normal)\n"
          ]
        }
      ]
    },
    {
      "cell_type": "markdown",
      "source": [
        "Como la distribución no es normal, debemos usar el test de IQR."
      ],
      "metadata": {
        "id": "zC0JQwkKOqmn"
      }
    },
    {
      "cell_type": "code",
      "source": [
        "Q1 = df_copy['Age'].quantile(.25)\n",
        "Q3 = df_copy['Age'].quantile(.75)\n",
        "IQR = Q3 - Q1\n",
        "\n",
        "limiteinf = Q1 - 1.5*IQR\n",
        "limitesup = Q3 + 1.5*IQR\n",
        "limiteinf, limitesup"
      ],
      "metadata": {
        "colab": {
          "base_uri": "https://localhost:8080/"
        },
        "id": "VJSyAszaQodg",
        "outputId": "a066080b-a418-4555-fbd0-d8cb3a699772"
      },
      "execution_count": null,
      "outputs": [
        {
          "output_type": "execute_result",
          "data": {
            "text/plain": [
              "(23.5, 83.5)"
            ]
          },
          "metadata": {},
          "execution_count": 306
        }
      ]
    },
    {
      "cell_type": "code",
      "source": [
        "df_copy['Age'].min()"
      ],
      "metadata": {
        "colab": {
          "base_uri": "https://localhost:8080/"
        },
        "id": "8b-U-Yc0Rch5",
        "outputId": "307be3f3-a734-419c-8b31-1866cddd2c86"
      },
      "execution_count": null,
      "outputs": [
        {
          "output_type": "execute_result",
          "data": {
            "text/plain": [
              "25"
            ]
          },
          "metadata": {},
          "execution_count": 307
        }
      ]
    },
    {
      "cell_type": "code",
      "source": [
        "df_copy = df_copy[(df['Age'] >= df_copy['Age'].min()) & (df_copy['Age'] < limitesup)] #usamos el min() porque el limite inferior es menor que el minimo"
      ],
      "metadata": {
        "id": "o6o2P2KGRgeP"
      },
      "execution_count": null,
      "outputs": []
    },
    {
      "cell_type": "code",
      "source": [
        "df_copy.shape"
      ],
      "metadata": {
        "colab": {
          "base_uri": "https://localhost:8080/"
        },
        "id": "PEFRf_zPUmsM",
        "outputId": "bd4074d9-56c6-4a4e-cfb2-ef1a889d51b7"
      },
      "execution_count": null,
      "outputs": [
        {
          "output_type": "execute_result",
          "data": {
            "text/plain": [
              "(1268, 12)"
            ]
          },
          "metadata": {},
          "execution_count": 309
        }
      ]
    },
    {
      "cell_type": "markdown",
      "source": [
        "No se han encontrado, y por lo tanto eliminado, valores atípicos."
      ],
      "metadata": {
        "id": "DC2E_OsZUmT5"
      }
    },
    {
      "cell_type": "markdown",
      "source": [
        "#### RestingBP"
      ],
      "metadata": {
        "id": "D1J2d-ESV6TC"
      }
    },
    {
      "cell_type": "code",
      "source": [
        "shapiro_wilk_test(df_copy['RestingBP'], alpha=0.5)"
      ],
      "metadata": {
        "colab": {
          "base_uri": "https://localhost:8080/"
        },
        "id": "bHOU2ozkV73C",
        "outputId": "21e5f84a-5d80-4dfb-ba34-fbfd0aa5ece8"
      },
      "execution_count": null,
      "outputs": [
        {
          "output_type": "stream",
          "name": "stdout",
          "text": [
            "Se rechaza la hipótesis nula (los datos no siguen una distribución normal)\n"
          ]
        }
      ]
    },
    {
      "cell_type": "code",
      "source": [
        "Q1 = df_copy['RestingBP'].quantile(.25)\n",
        "Q3 = df_copy['RestingBP'].quantile(.75)\n",
        "IQR = Q3 - Q1\n",
        "\n",
        "limiteinf = Q1 - 1.5*IQR\n",
        "limitesup = Q3 + 1.5*IQR\n",
        "limiteinf, limitesup"
      ],
      "metadata": {
        "colab": {
          "base_uri": "https://localhost:8080/"
        },
        "id": "Zs6UTtHhWKNB",
        "outputId": "e98d7ebe-9996-486b-e1e8-64d40e5862b6"
      },
      "execution_count": null,
      "outputs": [
        {
          "output_type": "execute_result",
          "data": {
            "text/plain": [
              "(90.0, 170.0)"
            ]
          },
          "metadata": {},
          "execution_count": 311
        }
      ]
    },
    {
      "cell_type": "code",
      "source": [
        "df_copy['RestingBP'].min()"
      ],
      "metadata": {
        "colab": {
          "base_uri": "https://localhost:8080/"
        },
        "id": "_vncbKYbWLYK",
        "outputId": "edb0fa94-3e2f-4916-8124-8cd1624a1344"
      },
      "execution_count": null,
      "outputs": [
        {
          "output_type": "execute_result",
          "data": {
            "text/plain": [
              "0"
            ]
          },
          "metadata": {},
          "execution_count": 312
        }
      ]
    },
    {
      "cell_type": "code",
      "source": [
        "df_copy = df_copy[(df['RestingBP'] >= limiteinf) & (df_copy['RestingBP'] < limitesup)]"
      ],
      "metadata": {
        "id": "78v8xsoYWNNb"
      },
      "execution_count": null,
      "outputs": []
    },
    {
      "cell_type": "code",
      "source": [
        "df_copy.shape"
      ],
      "metadata": {
        "colab": {
          "base_uri": "https://localhost:8080/"
        },
        "id": "igwetZxpXRbG",
        "outputId": "ebeff99a-23e9-4d01-e38d-2ad0b1d8763f"
      },
      "execution_count": null,
      "outputs": [
        {
          "output_type": "execute_result",
          "data": {
            "text/plain": [
              "(1217, 12)"
            ]
          },
          "metadata": {},
          "execution_count": 314
        }
      ]
    },
    {
      "cell_type": "markdown",
      "source": [
        "En esta ocasión se han elimiando aproximadamente 50 registros."
      ],
      "metadata": {
        "id": "4dlXGCysXWOj"
      }
    },
    {
      "cell_type": "markdown",
      "source": [
        "#### Cholesterol"
      ],
      "metadata": {
        "id": "Iw5hfRTQXc87"
      }
    },
    {
      "cell_type": "code",
      "source": [
        "shapiro_wilk_test(df_copy['Cholesterol'], alpha=0.5)"
      ],
      "metadata": {
        "colab": {
          "base_uri": "https://localhost:8080/"
        },
        "id": "qJMg0lqrXe2N",
        "outputId": "b2131565-c691-430e-c457-6fc190393a9a"
      },
      "execution_count": null,
      "outputs": [
        {
          "output_type": "stream",
          "name": "stdout",
          "text": [
            "Se rechaza la hipótesis nula (los datos no siguen una distribución normal)\n"
          ]
        }
      ]
    },
    {
      "cell_type": "code",
      "source": [
        "Q1 = df_copy['Cholesterol'].quantile(.25)\n",
        "Q3 = df_copy['Cholesterol'].quantile(.75)\n",
        "IQR = Q3 - Q1\n",
        "\n",
        "limiteinf = Q1 - 1.5*IQR\n",
        "limitesup = Q3 + 1.5*IQR\n",
        "limiteinf, limitesup"
      ],
      "metadata": {
        "colab": {
          "base_uri": "https://localhost:8080/"
        },
        "id": "90Ixho-jGsI_",
        "outputId": "61c28724-fec3-48bf-e4f7-85a8d866b7de"
      },
      "execution_count": null,
      "outputs": [
        {
          "output_type": "execute_result",
          "data": {
            "text/plain": [
              "(23.5, 427.5)"
            ]
          },
          "metadata": {},
          "execution_count": 316
        }
      ]
    },
    {
      "cell_type": "code",
      "source": [
        "df_copy['Cholesterol'].min()"
      ],
      "metadata": {
        "colab": {
          "base_uri": "https://localhost:8080/"
        },
        "id": "8sf5qKpZG6Yy",
        "outputId": "33182095-894e-430e-e40b-997dec6a70d0"
      },
      "execution_count": null,
      "outputs": [
        {
          "output_type": "execute_result",
          "data": {
            "text/plain": [
              "0"
            ]
          },
          "metadata": {},
          "execution_count": 317
        }
      ]
    },
    {
      "cell_type": "code",
      "source": [
        "df_copy = df_copy[(df['Cholesterol'] >= df_copy['Cholesterol'].min()) & (df_copy['Cholesterol'] < limitesup)]"
      ],
      "metadata": {
        "colab": {
          "base_uri": "https://localhost:8080/"
        },
        "id": "Ayjw8MFvG9Ct",
        "outputId": "cbdbc479-08d0-45ab-d060-8fbd5e95f0b9"
      },
      "execution_count": null,
      "outputs": [
        {
          "output_type": "stream",
          "name": "stderr",
          "text": [
            "<ipython-input-318-31ee1dd9187d>:1: UserWarning: Boolean Series key will be reindexed to match DataFrame index.\n",
            "  df_copy = df_copy[(df['Cholesterol'] >= df_copy['Cholesterol'].min()) & (df_copy['Cholesterol'] < limitesup)]\n"
          ]
        }
      ]
    },
    {
      "cell_type": "code",
      "source": [
        "df_copy.shape"
      ],
      "metadata": {
        "colab": {
          "base_uri": "https://localhost:8080/"
        },
        "id": "Zjw6YXSgHDUq",
        "outputId": "dd9c90dc-13ac-4942-bfcd-193245c3267a"
      },
      "execution_count": null,
      "outputs": [
        {
          "output_type": "execute_result",
          "data": {
            "text/plain": [
              "(1209, 12)"
            ]
          },
          "metadata": {},
          "execution_count": 319
        }
      ]
    },
    {
      "cell_type": "markdown",
      "source": [
        "Se eliminaron 8 valores atípicos."
      ],
      "metadata": {
        "id": "sZFWSVe9HG8n"
      }
    },
    {
      "cell_type": "markdown",
      "source": [
        "#### MaxHR"
      ],
      "metadata": {
        "id": "dH4MhlKiHLgr"
      }
    },
    {
      "cell_type": "code",
      "source": [
        "shapiro_wilk_test(df['MaxHR'],alpha=0.5)"
      ],
      "metadata": {
        "colab": {
          "base_uri": "https://localhost:8080/"
        },
        "id": "0CM8YEl3HOgn",
        "outputId": "9fa4d82e-d22d-4124-fe5c-026447298fae"
      },
      "execution_count": null,
      "outputs": [
        {
          "output_type": "stream",
          "name": "stdout",
          "text": [
            "Se rechaza la hipótesis nula (los datos no siguen una distribución normal)\n"
          ]
        }
      ]
    },
    {
      "cell_type": "markdown",
      "source": [
        "Corresponde usar el método IQR."
      ],
      "metadata": {
        "id": "5pnluc2lHzHf"
      }
    },
    {
      "cell_type": "code",
      "source": [
        "Q1 = df_copy['MaxHR'].quantile(.25)\n",
        "Q3 = df_copy['MaxHR'].quantile(.75)\n",
        "IQR = Q3 - Q1\n",
        "\n",
        "limiteinf = Q1 - 1.5*IQR\n",
        "limitesup = Q3 + 1.5*IQR\n",
        "limiteinf, limitesup"
      ],
      "metadata": {
        "colab": {
          "base_uri": "https://localhost:8080/"
        },
        "id": "kHU6bvaNH2Rb",
        "outputId": "95731ee2-baf5-4751-cbe4-f0b3066af101"
      },
      "execution_count": null,
      "outputs": [
        {
          "output_type": "execute_result",
          "data": {
            "text/plain": [
              "(63.0, 215.0)"
            ]
          },
          "metadata": {},
          "execution_count": 321
        }
      ]
    },
    {
      "cell_type": "code",
      "source": [
        "df_copy['MaxHR'].min()"
      ],
      "metadata": {
        "colab": {
          "base_uri": "https://localhost:8080/"
        },
        "id": "gdm1TeK-H9sM",
        "outputId": "05da91f2-a11d-472c-d33f-c05b84c3093c"
      },
      "execution_count": null,
      "outputs": [
        {
          "output_type": "execute_result",
          "data": {
            "text/plain": [
              "60"
            ]
          },
          "metadata": {},
          "execution_count": 322
        }
      ]
    },
    {
      "cell_type": "code",
      "source": [
        "df_copy = df_copy[(df['MaxHR'] >= limiteinf) & (df_copy['MaxHR'] < limitesup)]"
      ],
      "metadata": {
        "colab": {
          "base_uri": "https://localhost:8080/"
        },
        "id": "hVx1iTCkIAZu",
        "outputId": "83c95fe1-dc2f-454a-bb66-0394fb332fc1"
      },
      "execution_count": null,
      "outputs": [
        {
          "output_type": "stream",
          "name": "stderr",
          "text": [
            "<ipython-input-323-8b44d524cda8>:1: UserWarning: Boolean Series key will be reindexed to match DataFrame index.\n",
            "  df_copy = df_copy[(df['MaxHR'] >= limiteinf) & (df_copy['MaxHR'] < limitesup)]\n"
          ]
        }
      ]
    },
    {
      "cell_type": "code",
      "source": [
        "df_copy.shape"
      ],
      "metadata": {
        "colab": {
          "base_uri": "https://localhost:8080/"
        },
        "id": "k37BwUUAIJps",
        "outputId": "7ed7f216-1607-4352-c090-f95b964a17cb"
      },
      "execution_count": null,
      "outputs": [
        {
          "output_type": "execute_result",
          "data": {
            "text/plain": [
              "(1208, 12)"
            ]
          },
          "metadata": {},
          "execution_count": 324
        }
      ]
    },
    {
      "cell_type": "markdown",
      "source": [
        "Se eliminó 1 registro."
      ],
      "metadata": {
        "id": "OOmUlCFpINdW"
      }
    },
    {
      "cell_type": "markdown",
      "source": [
        "## EDA (Análisis exploratorio de datos)"
      ],
      "metadata": {
        "id": "NfDB7K-fwq6l"
      }
    },
    {
      "cell_type": "code",
      "source": [
        "df_copy.head()"
      ],
      "metadata": {
        "colab": {
          "base_uri": "https://localhost:8080/",
          "height": 206
        },
        "id": "88qmXaOPdCw9",
        "outputId": "469ee376-e161-412f-d1d5-c730e08af44e"
      },
      "execution_count": null,
      "outputs": [
        {
          "output_type": "execute_result",
          "data": {
            "text/plain": [
              "   Age Sex ChestPainType  RestingBP  Cholesterol  FastingBS RestingECG  MaxHR  \\\n",
              "0   40   M           ATA        140          289          0     Normal    172   \n",
              "1   49   F           NAP        160          180          0     Normal    156   \n",
              "2   37   M           ATA        130          283          0         ST     98   \n",
              "3   48   F           ASY        138          214          0     Normal    108   \n",
              "4   54   M           NAP        150          195          0     Normal    122   \n",
              "\n",
              "  ExerciseAngina  Oldpeak ST_Slope  Outcome  \n",
              "0              N      0.0       Up        0  \n",
              "1              N      1.0     Flat        1  \n",
              "2              N      0.0       Up        0  \n",
              "3              Y      1.5     Flat        1  \n",
              "4              N      0.0       Up        0  "
            ],
            "text/html": [
              "\n",
              "\n",
              "  <div id=\"df-52ffe1cf-56d5-42ca-8cb2-81fcb231bf1a\">\n",
              "    <div class=\"colab-df-container\">\n",
              "      <div>\n",
              "<style scoped>\n",
              "    .dataframe tbody tr th:only-of-type {\n",
              "        vertical-align: middle;\n",
              "    }\n",
              "\n",
              "    .dataframe tbody tr th {\n",
              "        vertical-align: top;\n",
              "    }\n",
              "\n",
              "    .dataframe thead th {\n",
              "        text-align: right;\n",
              "    }\n",
              "</style>\n",
              "<table border=\"1\" class=\"dataframe\">\n",
              "  <thead>\n",
              "    <tr style=\"text-align: right;\">\n",
              "      <th></th>\n",
              "      <th>Age</th>\n",
              "      <th>Sex</th>\n",
              "      <th>ChestPainType</th>\n",
              "      <th>RestingBP</th>\n",
              "      <th>Cholesterol</th>\n",
              "      <th>FastingBS</th>\n",
              "      <th>RestingECG</th>\n",
              "      <th>MaxHR</th>\n",
              "      <th>ExerciseAngina</th>\n",
              "      <th>Oldpeak</th>\n",
              "      <th>ST_Slope</th>\n",
              "      <th>Outcome</th>\n",
              "    </tr>\n",
              "  </thead>\n",
              "  <tbody>\n",
              "    <tr>\n",
              "      <th>0</th>\n",
              "      <td>40</td>\n",
              "      <td>M</td>\n",
              "      <td>ATA</td>\n",
              "      <td>140</td>\n",
              "      <td>289</td>\n",
              "      <td>0</td>\n",
              "      <td>Normal</td>\n",
              "      <td>172</td>\n",
              "      <td>N</td>\n",
              "      <td>0.0</td>\n",
              "      <td>Up</td>\n",
              "      <td>0</td>\n",
              "    </tr>\n",
              "    <tr>\n",
              "      <th>1</th>\n",
              "      <td>49</td>\n",
              "      <td>F</td>\n",
              "      <td>NAP</td>\n",
              "      <td>160</td>\n",
              "      <td>180</td>\n",
              "      <td>0</td>\n",
              "      <td>Normal</td>\n",
              "      <td>156</td>\n",
              "      <td>N</td>\n",
              "      <td>1.0</td>\n",
              "      <td>Flat</td>\n",
              "      <td>1</td>\n",
              "    </tr>\n",
              "    <tr>\n",
              "      <th>2</th>\n",
              "      <td>37</td>\n",
              "      <td>M</td>\n",
              "      <td>ATA</td>\n",
              "      <td>130</td>\n",
              "      <td>283</td>\n",
              "      <td>0</td>\n",
              "      <td>ST</td>\n",
              "      <td>98</td>\n",
              "      <td>N</td>\n",
              "      <td>0.0</td>\n",
              "      <td>Up</td>\n",
              "      <td>0</td>\n",
              "    </tr>\n",
              "    <tr>\n",
              "      <th>3</th>\n",
              "      <td>48</td>\n",
              "      <td>F</td>\n",
              "      <td>ASY</td>\n",
              "      <td>138</td>\n",
              "      <td>214</td>\n",
              "      <td>0</td>\n",
              "      <td>Normal</td>\n",
              "      <td>108</td>\n",
              "      <td>Y</td>\n",
              "      <td>1.5</td>\n",
              "      <td>Flat</td>\n",
              "      <td>1</td>\n",
              "    </tr>\n",
              "    <tr>\n",
              "      <th>4</th>\n",
              "      <td>54</td>\n",
              "      <td>M</td>\n",
              "      <td>NAP</td>\n",
              "      <td>150</td>\n",
              "      <td>195</td>\n",
              "      <td>0</td>\n",
              "      <td>Normal</td>\n",
              "      <td>122</td>\n",
              "      <td>N</td>\n",
              "      <td>0.0</td>\n",
              "      <td>Up</td>\n",
              "      <td>0</td>\n",
              "    </tr>\n",
              "  </tbody>\n",
              "</table>\n",
              "</div>\n",
              "      <button class=\"colab-df-convert\" onclick=\"convertToInteractive('df-52ffe1cf-56d5-42ca-8cb2-81fcb231bf1a')\"\n",
              "              title=\"Convert this dataframe to an interactive table.\"\n",
              "              style=\"display:none;\">\n",
              "\n",
              "  <svg xmlns=\"http://www.w3.org/2000/svg\" height=\"24px\"viewBox=\"0 0 24 24\"\n",
              "       width=\"24px\">\n",
              "    <path d=\"M0 0h24v24H0V0z\" fill=\"none\"/>\n",
              "    <path d=\"M18.56 5.44l.94 2.06.94-2.06 2.06-.94-2.06-.94-.94-2.06-.94 2.06-2.06.94zm-11 1L8.5 8.5l.94-2.06 2.06-.94-2.06-.94L8.5 2.5l-.94 2.06-2.06.94zm10 10l.94 2.06.94-2.06 2.06-.94-2.06-.94-.94-2.06-.94 2.06-2.06.94z\"/><path d=\"M17.41 7.96l-1.37-1.37c-.4-.4-.92-.59-1.43-.59-.52 0-1.04.2-1.43.59L10.3 9.45l-7.72 7.72c-.78.78-.78 2.05 0 2.83L4 21.41c.39.39.9.59 1.41.59.51 0 1.02-.2 1.41-.59l7.78-7.78 2.81-2.81c.8-.78.8-2.07 0-2.86zM5.41 20L4 18.59l7.72-7.72 1.47 1.35L5.41 20z\"/>\n",
              "  </svg>\n",
              "      </button>\n",
              "\n",
              "\n",
              "\n",
              "    <div id=\"df-897a32ff-bdd5-4eda-8d54-e2eb841fd4aa\">\n",
              "      <button class=\"colab-df-quickchart\" onclick=\"quickchart('df-897a32ff-bdd5-4eda-8d54-e2eb841fd4aa')\"\n",
              "              title=\"Suggest charts.\"\n",
              "              style=\"display:none;\">\n",
              "\n",
              "<svg xmlns=\"http://www.w3.org/2000/svg\" height=\"24px\"viewBox=\"0 0 24 24\"\n",
              "     width=\"24px\">\n",
              "    <g>\n",
              "        <path d=\"M19 3H5c-1.1 0-2 .9-2 2v14c0 1.1.9 2 2 2h14c1.1 0 2-.9 2-2V5c0-1.1-.9-2-2-2zM9 17H7v-7h2v7zm4 0h-2V7h2v10zm4 0h-2v-4h2v4z\"/>\n",
              "    </g>\n",
              "</svg>\n",
              "      </button>\n",
              "    </div>\n",
              "\n",
              "<style>\n",
              "  .colab-df-quickchart {\n",
              "    background-color: #E8F0FE;\n",
              "    border: none;\n",
              "    border-radius: 50%;\n",
              "    cursor: pointer;\n",
              "    display: none;\n",
              "    fill: #1967D2;\n",
              "    height: 32px;\n",
              "    padding: 0 0 0 0;\n",
              "    width: 32px;\n",
              "  }\n",
              "\n",
              "  .colab-df-quickchart:hover {\n",
              "    background-color: #E2EBFA;\n",
              "    box-shadow: 0px 1px 2px rgba(60, 64, 67, 0.3), 0px 1px 3px 1px rgba(60, 64, 67, 0.15);\n",
              "    fill: #174EA6;\n",
              "  }\n",
              "\n",
              "  [theme=dark] .colab-df-quickchart {\n",
              "    background-color: #3B4455;\n",
              "    fill: #D2E3FC;\n",
              "  }\n",
              "\n",
              "  [theme=dark] .colab-df-quickchart:hover {\n",
              "    background-color: #434B5C;\n",
              "    box-shadow: 0px 1px 3px 1px rgba(0, 0, 0, 0.15);\n",
              "    filter: drop-shadow(0px 1px 2px rgba(0, 0, 0, 0.3));\n",
              "    fill: #FFFFFF;\n",
              "  }\n",
              "</style>\n",
              "\n",
              "    <script>\n",
              "      async function quickchart(key) {\n",
              "        const containerElement = document.querySelector('#' + key);\n",
              "        const charts = await google.colab.kernel.invokeFunction(\n",
              "            'suggestCharts', [key], {});\n",
              "      }\n",
              "    </script>\n",
              "\n",
              "      <script>\n",
              "\n",
              "function displayQuickchartButton(domScope) {\n",
              "  let quickchartButtonEl =\n",
              "    domScope.querySelector('#df-897a32ff-bdd5-4eda-8d54-e2eb841fd4aa button.colab-df-quickchart');\n",
              "  quickchartButtonEl.style.display =\n",
              "    google.colab.kernel.accessAllowed ? 'block' : 'none';\n",
              "}\n",
              "\n",
              "        displayQuickchartButton(document);\n",
              "      </script>\n",
              "      <style>\n",
              "    .colab-df-container {\n",
              "      display:flex;\n",
              "      flex-wrap:wrap;\n",
              "      gap: 12px;\n",
              "    }\n",
              "\n",
              "    .colab-df-convert {\n",
              "      background-color: #E8F0FE;\n",
              "      border: none;\n",
              "      border-radius: 50%;\n",
              "      cursor: pointer;\n",
              "      display: none;\n",
              "      fill: #1967D2;\n",
              "      height: 32px;\n",
              "      padding: 0 0 0 0;\n",
              "      width: 32px;\n",
              "    }\n",
              "\n",
              "    .colab-df-convert:hover {\n",
              "      background-color: #E2EBFA;\n",
              "      box-shadow: 0px 1px 2px rgba(60, 64, 67, 0.3), 0px 1px 3px 1px rgba(60, 64, 67, 0.15);\n",
              "      fill: #174EA6;\n",
              "    }\n",
              "\n",
              "    [theme=dark] .colab-df-convert {\n",
              "      background-color: #3B4455;\n",
              "      fill: #D2E3FC;\n",
              "    }\n",
              "\n",
              "    [theme=dark] .colab-df-convert:hover {\n",
              "      background-color: #434B5C;\n",
              "      box-shadow: 0px 1px 3px 1px rgba(0, 0, 0, 0.15);\n",
              "      filter: drop-shadow(0px 1px 2px rgba(0, 0, 0, 0.3));\n",
              "      fill: #FFFFFF;\n",
              "    }\n",
              "  </style>\n",
              "\n",
              "      <script>\n",
              "        const buttonEl =\n",
              "          document.querySelector('#df-52ffe1cf-56d5-42ca-8cb2-81fcb231bf1a button.colab-df-convert');\n",
              "        buttonEl.style.display =\n",
              "          google.colab.kernel.accessAllowed ? 'block' : 'none';\n",
              "\n",
              "        async function convertToInteractive(key) {\n",
              "          const element = document.querySelector('#df-52ffe1cf-56d5-42ca-8cb2-81fcb231bf1a');\n",
              "          const dataTable =\n",
              "            await google.colab.kernel.invokeFunction('convertToInteractive',\n",
              "                                                     [key], {});\n",
              "          if (!dataTable) return;\n",
              "\n",
              "          const docLinkHtml = 'Like what you see? Visit the ' +\n",
              "            '<a target=\"_blank\" href=https://colab.research.google.com/notebooks/data_table.ipynb>data table notebook</a>'\n",
              "            + ' to learn more about interactive tables.';\n",
              "          element.innerHTML = '';\n",
              "          dataTable['output_type'] = 'display_data';\n",
              "          await google.colab.output.renderOutput(dataTable, element);\n",
              "          const docLink = document.createElement('div');\n",
              "          docLink.innerHTML = docLinkHtml;\n",
              "          element.appendChild(docLink);\n",
              "        }\n",
              "      </script>\n",
              "    </div>\n",
              "  </div>\n"
            ]
          },
          "metadata": {},
          "execution_count": 325
        }
      ]
    },
    {
      "cell_type": "markdown",
      "source": [
        "* Lo que haremos en esta primera etapa, será realizar visualizaciones de las variables que disponemos a fin de obtener infomración de las mismas.\n",
        "De manera general, generaremos visualizaciones de cada variable en relación a las variables ``Sex``, ``Age`` y ``Outcome``, para entender justamente como se comportan segun los sexos, rango etario, y para qué valores fue más frecuente un diagnóstico de cardiopatía."
      ],
      "metadata": {
        "id": "kT5EB18246av"
      }
    },
    {
      "cell_type": "code",
      "source": [
        "# Veamos en que rango de edades se encuentras las personas\n",
        "sns.displot(x=df_copy['Age'], kde=True).set(ylabel= 'Distribución',title='Distribución por edad')"
      ],
      "metadata": {
        "colab": {
          "base_uri": "https://localhost:8080/",
          "height": 546
        },
        "id": "NsD1_oYLEXdM",
        "outputId": "eb3787cc-d127-4678-e574-70a4c90b0ae1"
      },
      "execution_count": null,
      "outputs": [
        {
          "output_type": "execute_result",
          "data": {
            "text/plain": [
              "<seaborn.axisgrid.FacetGrid at 0x7a50f4490370>"
            ]
          },
          "metadata": {},
          "execution_count": 326
        },
        {
          "output_type": "display_data",
          "data": {
            "text/plain": [
              "<Figure size 500x500 with 1 Axes>"
            ],
            "image/png": "[encoded data removed]"
          },
          "metadata": {}
        }
      ]
    },
    {
      "cell_type": "code",
      "source": [
        "sns.boxplot(x =df_copy[\"Outcome\"], y = df_copy[\"Age\"]).set(title='Age vs Target')"
      ],
      "metadata": {
        "colab": {
          "base_uri": "https://localhost:8080/",
          "height": 489
        },
        "id": "G53He8i_xOjH",
        "outputId": "62624595-c37f-41c3-cef1-a0e880c3ce36"
      },
      "execution_count": null,
      "outputs": [
        {
          "output_type": "execute_result",
          "data": {
            "text/plain": [
              "[Text(0.5, 1.0, 'Age vs Target')]"
            ]
          },
          "metadata": {},
          "execution_count": 327
        },
        {
          "output_type": "display_data",
          "data": {
            "text/plain": [
              "<Figure size 640x480 with 1 Axes>"
            ],
            "image/png": "[encoded data removed]"
          },
          "metadata": {}
        }
      ]
    },
    {
      "cell_type": "code",
      "source": [
        "sns.boxplot(x =df_copy[\"Age\"], y = df_copy[\"Sex\"]).set(ylabel= 'Sexo', title='Edad según sexo')"
      ],
      "metadata": {
        "colab": {
          "base_uri": "https://localhost:8080/",
          "height": 489
        },
        "id": "PPWtnfuWNRmP",
        "outputId": "319ebb34-7082-4fa8-dc71-0a32df3ce521"
      },
      "execution_count": null,
      "outputs": [
        {
          "output_type": "execute_result",
          "data": {
            "text/plain": [
              "[Text(0, 0.5, 'Sexo'), Text(0.5, 1.0, 'Edad según sexo')]"
            ]
          },
          "metadata": {},
          "execution_count": 328
        },
        {
          "output_type": "display_data",
          "data": {
            "text/plain": [
              "<Figure size 640x480 with 1 Axes>"
            ],
            "image/png": "[encoded data removed]"
          },
          "metadata": {}
        }
      ]
    },
    {
      "cell_type": "markdown",
      "source": [
        "La distribución parece ser aproximadamente normal. En el boxplot podemos ver que las \"cajas\" abarcan casi el mismo rango de edades, con la diferencia que el de las mujeres comienza a una edad más temprana."
      ],
      "metadata": {
        "id": "mpKzVUZT549c"
      }
    },
    {
      "cell_type": "code",
      "source": [
        "sns.countplot(x=df_copy['Sex'], hue=df_copy['Outcome']).set(ylabel='Cantidad', title='Sex vs. Target')"
      ],
      "metadata": {
        "colab": {
          "base_uri": "https://localhost:8080/",
          "height": 489
        },
        "id": "Xam5vJ_93GPy",
        "outputId": "4109b536-79c2-45aa-c02f-df3002fd4555"
      },
      "execution_count": null,
      "outputs": [
        {
          "output_type": "execute_result",
          "data": {
            "text/plain": [
              "[Text(0, 0.5, 'Cantidad'), Text(0.5, 1.0, 'Sex vs. Target')]"
            ]
          },
          "metadata": {},
          "execution_count": 329
        },
        {
          "output_type": "display_data",
          "data": {
            "text/plain": [
              "<Figure size 640x480 with 1 Axes>"
            ],
            "image/png": "[encoded data removed]"
          },
          "metadata": {}
        }
      ]
    },
    {
      "cell_type": "code",
      "source": [
        "sns.boxplot(y =df_copy[\"Cholesterol\"], x = df_copy[\"Sex\"]).set(ylabel= 'Sexo', title='Colesterol según sexo')"
      ],
      "metadata": {
        "colab": {
          "base_uri": "https://localhost:8080/",
          "height": 489
        },
        "id": "fPapOVlaOQTh",
        "outputId": "1aaf8fa7-6af4-4cb4-924f-5411c039c382"
      },
      "execution_count": null,
      "outputs": [
        {
          "output_type": "execute_result",
          "data": {
            "text/plain": [
              "[Text(0, 0.5, 'Sexo'), Text(0.5, 1.0, 'Colesterol según sexo')]"
            ]
          },
          "metadata": {},
          "execution_count": 330
        },
        {
          "output_type": "display_data",
          "data": {
            "text/plain": [
              "<Figure size 640x480 with 1 Axes>"
            ],
            "image/png": "[encoded data removed]"
          },
          "metadata": {}
        }
      ]
    },
    {
      "cell_type": "code",
      "source": [
        "df_copy['Cholesterol'].quantile(0.25)"
      ],
      "metadata": {
        "colab": {
          "base_uri": "https://localhost:8080/"
        },
        "id": "nxDaRjwyPFZe",
        "outputId": "5310c06c-aa08-42eb-c6cc-d696317e77a7"
      },
      "execution_count": null,
      "outputs": [
        {
          "output_type": "execute_result",
          "data": {
            "text/plain": [
              "174.0"
            ]
          },
          "metadata": {},
          "execution_count": 331
        }
      ]
    },
    {
      "cell_type": "code",
      "source": [
        "df_copy['Cholesterol'].quantile(0.75)"
      ],
      "metadata": {
        "colab": {
          "base_uri": "https://localhost:8080/"
        },
        "id": "ob4BoGsiPMQV",
        "outputId": "cba72c5a-7a6b-4c49-99f9-b35637566ffd"
      },
      "execution_count": null,
      "outputs": [
        {
          "output_type": "execute_result",
          "data": {
            "text/plain": [
              "275.0"
            ]
          },
          "metadata": {},
          "execution_count": 332
        }
      ]
    },
    {
      "cell_type": "code",
      "source": [
        "sns.boxplot(x=df_copy['Outcome'], y=df_copy['Cholesterol']).set(title= \"Cholesterol vs Target\")"
      ],
      "metadata": {
        "colab": {
          "base_uri": "https://localhost:8080/",
          "height": 489
        },
        "id": "PXQb0qrEwzQm",
        "outputId": "32e664e4-7dcd-4d21-b5bb-43e98ad4e9a4"
      },
      "execution_count": null,
      "outputs": [
        {
          "output_type": "execute_result",
          "data": {
            "text/plain": [
              "[Text(0.5, 1.0, 'Cholesterol vs Target')]"
            ]
          },
          "metadata": {},
          "execution_count": 333
        },
        {
          "output_type": "display_data",
          "data": {
            "text/plain": [
              "<Figure size 640x480 with 1 Axes>"
            ],
            "image/png": "[encoded data removed]"
          },
          "metadata": {}
        }
      ]
    },
    {
      "cell_type": "markdown",
      "source": [
        "Aquí podemos ver que para los hombres, la caja del boxplot (entre el 25% y 75% de los datos) se ubican entre aproximadamente los valores de 174 y 275. Podemos ver una cantidad notable de valores atípicos, excediendo los 400 y llegando hasta 600.\n",
        "\n",
        "En cambio en las mujeres tiene una distribución mas \"pareja\", entran mas valores dentro de la caja, y los bigotes del boxplot van hasta mas de 450. Detectando pocos outliers.\n",
        "\n",
        "Es decir, comunmente las mujeres alcanzan valores más altos de colesterol, pero se han registrado valores mas altos para hombres."
      ],
      "metadata": {
        "id": "WKlFjdslO09A"
      }
    },
    {
      "cell_type": "code",
      "source": [
        "# Veamos como es la distribución por sexo para los distintos dolores de pecho. Luego veremos la distribución por sexo en caso que tengan o no angina por ejercicio.\n",
        "\n",
        "sns.displot(df_copy, x=df['ChestPainType'], hue = df['Sex'])"
      ],
      "metadata": {
        "id": "nS26OfAWOtO-",
        "colab": {
          "base_uri": "https://localhost:8080/",
          "height": 523
        },
        "outputId": "0ddf371e-f093-459f-f30a-fb12fa36ed62"
      },
      "execution_count": null,
      "outputs": [
        {
          "output_type": "execute_result",
          "data": {
            "text/plain": [
              "<seaborn.axisgrid.FacetGrid at 0x7a50f41b5fc0>"
            ]
          },
          "metadata": {},
          "execution_count": 334
        },
        {
          "output_type": "display_data",
          "data": {
            "text/plain": [
              "<Figure size 562x500 with 1 Axes>"
            ],
            "image/png": "[encoded data removed]"
          },
          "metadata": {}
        }
      ]
    },
    {
      "cell_type": "markdown",
      "source": [
        "El patrón es similar para ambos sexos."
      ],
      "metadata": {
        "id": "4v0UtyA07z3J"
      }
    },
    {
      "cell_type": "markdown",
      "source": [
        "Se puede destacar que en el caso que no hay síntomas de dolor de pecho, se han registrado muchos más casos. En los 3 casos restantes de tipos de dolor, la distribución es pareja para cada uno de los casos."
      ],
      "metadata": {
        "id": "oA8cG_7f97hJ"
      }
    },
    {
      "cell_type": "code",
      "source": [
        "# veamos si hay algun tipo de relacion entre el dolor de pecho y la frecuencia maxima\n",
        "sns.boxplot(data=df_copy, x=df_copy['ChestPainType'], y=df_copy['MaxHR']).set(xlabel='Tipo de dolor de pecho', title='Distribución de MaxHR por tipo de dolor')"
      ],
      "metadata": {
        "colab": {
          "base_uri": "https://localhost:8080/",
          "height": 507
        },
        "id": "HQAXUdTX_12n",
        "outputId": "14953d0c-9c03-467f-9fab-c9eb56fc4a9a"
      },
      "execution_count": null,
      "outputs": [
        {
          "output_type": "execute_result",
          "data": {
            "text/plain": [
              "[Text(0.5, 0, 'Tipo de dolor de pecho'),\n",
              " Text(0.5, 1.0, 'Distribución de MaxHR por tipo de dolor')]"
            ]
          },
          "metadata": {},
          "execution_count": 335
        },
        {
          "output_type": "display_data",
          "data": {
            "text/plain": [
              "<Figure size 640x480 with 1 Axes>"
            ],
            "image/png": "[encoded data removed]"
          },
          "metadata": {}
        }
      ]
    },
    {
      "cell_type": "markdown",
      "source": [
        "Los de menor frecuencia máxima son los de tipo asintomático.\n",
        "Para los otros tres tipos de dolor (típica, atípica y no anginoso), presetan una media similar, siendo el caso \"típico\" en que se encuentra la caja con valores mas altos (entre Q1 y Q3), y para el casó atípico se registran los valores más altos.\n"
      ],
      "metadata": {
        "id": "OoeKC6p-t7KG"
      }
    },
    {
      "cell_type": "code",
      "source": [
        "# Veamos si las personas que tienen dolor de pecho, registraban 0 o 1 en la variable target\n",
        "\n",
        "sns.countplot(data=df_copy, x =df_copy['ChestPainType'], hue = df_copy['Outcome']).set(title='Distribución de \"Dolor de pecho\" vs \"Target', xlabel = 'Dolor de pecho', ylabel='Cantidad')"
      ],
      "metadata": {
        "colab": {
          "base_uri": "https://localhost:8080/",
          "height": 524
        },
        "id": "WlrHuFZX8DdO",
        "outputId": "b1ceda0a-c32f-430d-8a32-d7ab0e8f61b2"
      },
      "execution_count": null,
      "outputs": [
        {
          "output_type": "execute_result",
          "data": {
            "text/plain": [
              "[Text(0.5, 1.0, 'Distribución de \"Dolor de pecho\" vs \"Target'),\n",
              " Text(0.5, 0, 'Dolor de pecho'),\n",
              " Text(0, 0.5, 'Cantidad')]"
            ]
          },
          "metadata": {},
          "execution_count": 336
        },
        {
          "output_type": "display_data",
          "data": {
            "text/plain": [
              "<Figure size 640x480 with 1 Axes>"
            ],
            "image/png": "[encoded data removed]"
          },
          "metadata": {}
        }
      ]
    },
    {
      "cell_type": "code",
      "source": [
        "# Análisis para FastingsBS. Veamos como se distribuye por sexo, por edad y su relación con la variable target\n",
        "labels=['< 120 mg/dl', '> 120 mg/dl']\n",
        "sns.histplot(x=df_copy['FastingBS'], hue=df_copy['Sex'], multiple='stack', discrete = True, shrink = 0.5).set(title='Distribución de FastingsBS por sexo')\n",
        "plt.xticks([0,1],labels)\n"
      ],
      "metadata": {
        "colab": {
          "base_uri": "https://localhost:8080/",
          "height": 524
        },
        "id": "AtUUIeROyDje",
        "outputId": "f0ce7266-7a40-48a4-9cbc-21031dbfd8fe"
      },
      "execution_count": null,
      "outputs": [
        {
          "output_type": "execute_result",
          "data": {
            "text/plain": [
              "([<matplotlib.axis.XTick at 0x7a50efeb4910>,\n",
              "  <matplotlib.axis.XTick at 0x7a50efeb48e0>],\n",
              " [Text(0, 0, '< 120 mg/dl'), Text(1, 0, '> 120 mg/dl')])"
            ]
          },
          "metadata": {},
          "execution_count": 337
        },
        {
          "output_type": "display_data",
          "data": {
            "text/plain": [
              "<Figure size 640x480 with 1 Axes>"
            ],
            "image/png": "[encoded data removed]"
          },
          "metadata": {}
        }
      ]
    },
    {
      "cell_type": "code",
      "source": [
        "labels=['< 120 mg/dl', '> 120 mg/dl']\n",
        "sns.boxplot(x=df_copy['FastingBS'], y=df_copy['Age']).set(title='Distribución de FastingsBS por edad')\n",
        "plt.xticks([0,1],labels)"
      ],
      "metadata": {
        "colab": {
          "base_uri": "https://localhost:8080/",
          "height": 524
        },
        "id": "oQatmJFi2MSl",
        "outputId": "4df96377-5605-4854-d032-5b2e4790a7f2"
      },
      "execution_count": null,
      "outputs": [
        {
          "output_type": "execute_result",
          "data": {
            "text/plain": [
              "([<matplotlib.axis.XTick at 0x7a50efd20df0>,\n",
              "  <matplotlib.axis.XTick at 0x7a50efd20dc0>],\n",
              " [Text(0, 0, '< 120 mg/dl'), Text(1, 0, '> 120 mg/dl')])"
            ]
          },
          "metadata": {},
          "execution_count": 338
        },
        {
          "output_type": "display_data",
          "data": {
            "text/plain": [
              "<Figure size 640x480 with 1 Axes>"
            ],
            "image/png": "[encoded data removed]"
          },
          "metadata": {}
        }
      ]
    },
    {
      "cell_type": "code",
      "source": [
        "sns.countplot(x =df_copy['FastingBS'], hue = df_copy['Outcome']).set(title='Distribución del FastingBS (mg/dl) vs Heart Disease (target)')\n",
        "plt.xticks([0, 1],labels)"
      ],
      "metadata": {
        "colab": {
          "base_uri": "https://localhost:8080/",
          "height": 524
        },
        "id": "vxfWeunG4DMD",
        "outputId": "6200d085-8ee0-4b11-a36b-4b2a3abc4c63"
      },
      "execution_count": null,
      "outputs": [
        {
          "output_type": "execute_result",
          "data": {
            "text/plain": [
              "([<matplotlib.axis.XTick at 0x7a50efdb8340>,\n",
              "  <matplotlib.axis.XTick at 0x7a50efdb8310>],\n",
              " [Text(0, 0, '< 120 mg/dl'), Text(1, 0, '> 120 mg/dl')])"
            ]
          },
          "metadata": {},
          "execution_count": 339
        },
        {
          "output_type": "display_data",
          "data": {
            "text/plain": [
              "<Figure size 640x480 with 1 Axes>"
            ],
            "image/png": "[encoded data removed]"
          },
          "metadata": {}
        }
      ]
    },
    {
      "cell_type": "markdown",
      "source": [
        "La acumulación para casos donde FastingsBS < 120 mg/dl es prácticamente igual si había o no cardiopatía. En cambio, si FastingsBS > 120 mg/dl la cantidad de casos en los que si había cardiopatía supera en casi el doble a los casos negativos."
      ],
      "metadata": {
        "id": "GlPi-FmC4STz"
      }
    },
    {
      "cell_type": "code",
      "source": [
        "# Comportamiento del electrocardiograma segun el sexo\n",
        "sns.histplot(x =df_copy['RestingECG'], hue = df_copy['Sex']).set(title='\"RestingECG\" vs \"Sexo', xlabel = 'Electrocardiograma en reposo', ylabel='Cantidad')"
      ],
      "metadata": {
        "colab": {
          "base_uri": "https://localhost:8080/",
          "height": 524
        },
        "id": "S2ihlALheBEC",
        "outputId": "8d86c479-b628-47b7-a92b-6a81901b43b7"
      },
      "execution_count": null,
      "outputs": [
        {
          "output_type": "execute_result",
          "data": {
            "text/plain": [
              "[Text(0.5, 1.0, '\"RestingECG\" vs \"Sexo'),\n",
              " Text(0.5, 0, 'Electrocardiograma en reposo'),\n",
              " Text(0, 0.5, 'Cantidad')]"
            ]
          },
          "metadata": {},
          "execution_count": 340
        },
        {
          "output_type": "display_data",
          "data": {
            "text/plain": [
              "<Figure size 640x480 with 1 Axes>"
            ],
            "image/png": "[encoded data removed]"
          },
          "metadata": {}
        }
      ]
    },
    {
      "cell_type": "code",
      "source": [
        "sns.countplot(x=df_copy['RestingECG'], hue=df_copy['Outcome']).set(ylabel='Cantidad', title='RestingECG vs. Target')"
      ],
      "metadata": {
        "colab": {
          "base_uri": "https://localhost:8080/",
          "height": 489
        },
        "id": "Pv6roITy67LC",
        "outputId": "0e87b0c3-0a22-4ef4-bfbd-e31f426baecf"
      },
      "execution_count": null,
      "outputs": [
        {
          "output_type": "execute_result",
          "data": {
            "text/plain": [
              "[Text(0, 0.5, 'Cantidad'), Text(0.5, 1.0, 'RestingECG vs. Target')]"
            ]
          },
          "metadata": {},
          "execution_count": 341
        },
        {
          "output_type": "display_data",
          "data": {
            "text/plain": [
              "<Figure size 640x480 with 1 Axes>"
            ],
            "image/png": "[encoded data removed]"
          },
          "metadata": {}
        }
      ]
    },
    {
      "cell_type": "code",
      "source": [
        "# MaxHR por sexo\n",
        "sns.boxplot(x=df_copy['Sex'], y=df_copy['MaxHR']).set(title= \"MaxHR según sexo\")"
      ],
      "metadata": {
        "colab": {
          "base_uri": "https://localhost:8080/",
          "height": 489
        },
        "id": "LG6qDjbre4Ub",
        "outputId": "d4ce74dc-78ad-45c5-c8b6-6d8273fdcf5c"
      },
      "execution_count": null,
      "outputs": [
        {
          "output_type": "execute_result",
          "data": {
            "text/plain": [
              "[Text(0.5, 1.0, 'MaxHR según sexo')]"
            ]
          },
          "metadata": {},
          "execution_count": 342
        },
        {
          "output_type": "display_data",
          "data": {
            "text/plain": [
              "<Figure size 640x480 with 1 Axes>"
            ],
            "image/png": "[encoded data removed]"
          },
          "metadata": {}
        }
      ]
    },
    {
      "cell_type": "markdown",
      "source": [
        "Tienen para ambos sexos una distribución similar, siendo el rango intercuartil de las mujeres apenas más elevado."
      ],
      "metadata": {
        "id": "8xtPmigof4tV"
      }
    },
    {
      "cell_type": "code",
      "source": [
        "#Angina inducida por ejercicio segun el sexo\n",
        "sns.displot(df, x=df_copy['ExerciseAngina'], hue = df_copy['Sex'], shrink= 0.5)"
      ],
      "metadata": {
        "colab": {
          "base_uri": "https://localhost:8080/",
          "height": 524
        },
        "id": "FvOsNcxH7L95",
        "outputId": "b7f384c8-03dd-4987-da4e-9f65ee4e0940"
      },
      "execution_count": null,
      "outputs": [
        {
          "output_type": "execute_result",
          "data": {
            "text/plain": [
              "<seaborn.axisgrid.FacetGrid at 0x7a50efb539d0>"
            ]
          },
          "metadata": {},
          "execution_count": 343
        },
        {
          "output_type": "display_data",
          "data": {
            "text/plain": [
              "<Figure size 562x500 with 1 Axes>"
            ],
            "image/png": "[encoded data removed]"
          },
          "metadata": {}
        }
      ]
    },
    {
      "cell_type": "code",
      "source": [
        "sns.countplot(x=df_copy['ExerciseAngina'], hue = df_copy['Outcome'])"
      ],
      "metadata": {
        "colab": {
          "base_uri": "https://localhost:8080/",
          "height": 466
        },
        "id": "tUHQTwHMhxyg",
        "outputId": "cf456b04-0fcb-45f3-f24f-b6d7f4e57c28"
      },
      "execution_count": null,
      "outputs": [
        {
          "output_type": "execute_result",
          "data": {
            "text/plain": [
              "<Axes: xlabel='ExerciseAngina', ylabel='count'>"
            ]
          },
          "metadata": {},
          "execution_count": 344
        },
        {
          "output_type": "display_data",
          "data": {
            "text/plain": [
              "<Figure size 640x480 with 1 Axes>"
            ],
            "image/png": "[encoded data removed]"
          },
          "metadata": {}
        }
      ]
    },
    {
      "cell_type": "markdown",
      "source": [
        "Es evidente que en los casos que si hubo angina inducida por ejercicio, la cantidad de casos en la que se registra una cardiopatía es aproximadamente el doble a los casos que no."
      ],
      "metadata": {
        "id": "lhNgYGrWiF-U"
      }
    },
    {
      "cell_type": "code",
      "source": [
        "# Veamos la distribución de la variable Oldpeak\n",
        "sns.displot(data=df_copy, x='Oldpeak', kde=True).set(ylabel= 'Distribución',title='Distribución por Oldpeak')"
      ],
      "metadata": {
        "colab": {
          "base_uri": "https://localhost:8080/",
          "height": 546
        },
        "id": "er7DQLtTAGXv",
        "outputId": "fd804fa4-10e7-4f64-8ee0-57bb68ec6c2a"
      },
      "execution_count": null,
      "outputs": [
        {
          "output_type": "execute_result",
          "data": {
            "text/plain": [
              "<seaborn.axisgrid.FacetGrid at 0x7a50fe9ec460>"
            ]
          },
          "metadata": {},
          "execution_count": 345
        },
        {
          "output_type": "display_data",
          "data": {
            "text/plain": [
              "<Figure size 500x500 with 1 Axes>"
            ],
            "image/png": "[encoded data removed]"
          },
          "metadata": {}
        }
      ]
    },
    {
      "cell_type": "code",
      "source": [
        "# Veamos la distribución de Slope por sexo\n",
        "sns.histplot(x=df_copy['ST_Slope'], hue=df_copy['Sex'], shrink = 0.5)"
      ],
      "metadata": {
        "colab": {
          "base_uri": "https://localhost:8080/",
          "height": 467
        },
        "id": "QdYam0mYvxpR",
        "outputId": "040d6c86-5c89-483a-a936-94dd390486f9"
      },
      "execution_count": null,
      "outputs": [
        {
          "output_type": "execute_result",
          "data": {
            "text/plain": [
              "<Axes: xlabel='ST_Slope', ylabel='Count'>"
            ]
          },
          "metadata": {},
          "execution_count": 346
        },
        {
          "output_type": "display_data",
          "data": {
            "text/plain": [
              "<Figure size 640x480 with 1 Axes>"
            ],
            "image/png": "[encoded data removed]"
          },
          "metadata": {}
        }
      ]
    },
    {
      "cell_type": "code",
      "source": [
        "# Relación entre ST_Slope y cardiopatía\n",
        "sns.countplot(x=df_copy['ST_Slope'], hue=df_copy['Outcome']).set(ylabel='Cantidad', title='Distribución ST_Slope vs. Target')"
      ],
      "metadata": {
        "colab": {
          "base_uri": "https://localhost:8080/",
          "height": 489
        },
        "id": "JTqVXPjPkCmX",
        "outputId": "2dbe3256-80cb-4634-e60f-c51ac4d21042"
      },
      "execution_count": null,
      "outputs": [
        {
          "output_type": "execute_result",
          "data": {
            "text/plain": [
              "[Text(0, 0.5, 'Cantidad'), Text(0.5, 1.0, 'Distribución ST_Slope vs. Target')]"
            ]
          },
          "metadata": {},
          "execution_count": 347
        },
        {
          "output_type": "display_data",
          "data": {
            "text/plain": [
              "<Figure size 640x480 with 1 Axes>"
            ],
            "image/png": "[encoded data removed]"
          },
          "metadata": {}
        }
      ]
    },
    {
      "cell_type": "markdown",
      "source": [
        "Se registraron muchos más diagnósticos de cardiopatía en los casos en que Slope es Flat."
      ],
      "metadata": {
        "id": "IHbG43w9mH9i"
      }
    },
    {
      "cell_type": "markdown",
      "source": [
        "# Algoritmos de clasificación."
      ],
      "metadata": {
        "id": "h_8apy2PWUUR"
      }
    },
    {
      "cell_type": "code",
      "source": [
        "df_copy.head()"
      ],
      "metadata": {
        "colab": {
          "base_uri": "https://localhost:8080/",
          "height": 206
        },
        "id": "ghI_xFgJV68k",
        "outputId": "f7369193-c554-46f2-ea08-11357e1cb6f5"
      },
      "execution_count": null,
      "outputs": [
        {
          "output_type": "execute_result",
          "data": {
            "text/plain": [
              "   Age Sex ChestPainType  RestingBP  Cholesterol  FastingBS RestingECG  MaxHR  \\\n",
              "0   40   M           ATA        140          289          0     Normal    172   \n",
              "1   49   F           NAP        160          180          0     Normal    156   \n",
              "2   37   M           ATA        130          283          0         ST     98   \n",
              "3   48   F           ASY        138          214          0     Normal    108   \n",
              "4   54   M           NAP        150          195          0     Normal    122   \n",
              "\n",
              "  ExerciseAngina  Oldpeak ST_Slope  Outcome  \n",
              "0              N      0.0       Up        0  \n",
              "1              N      1.0     Flat        1  \n",
              "2              N      0.0       Up        0  \n",
              "3              Y      1.5     Flat        1  \n",
              "4              N      0.0       Up        0  "
            ],
            "text/html": [
              "\n",
              "\n",
              "  <div id=\"df-b0d1fb6f-fa76-438b-9e9c-09fb765029f5\">\n",
              "    <div class=\"colab-df-container\">\n",
              "      <div>\n",
              "<style scoped>\n",
              "    .dataframe tbody tr th:only-of-type {\n",
              "        vertical-align: middle;\n",
              "    }\n",
              "\n",
              "    .dataframe tbody tr th {\n",
              "        vertical-align: top;\n",
              "    }\n",
              "\n",
              "    .dataframe thead th {\n",
              "        text-align: right;\n",
              "    }\n",
              "</style>\n",
              "<table border=\"1\" class=\"dataframe\">\n",
              "  <thead>\n",
              "    <tr style=\"text-align: right;\">\n",
              "      <th></th>\n",
              "      <th>Age</th>\n",
              "      <th>Sex</th>\n",
              "      <th>ChestPainType</th>\n",
              "      <th>RestingBP</th>\n",
              "      <th>Cholesterol</th>\n",
              "      <th>FastingBS</th>\n",
              "      <th>RestingECG</th>\n",
              "      <th>MaxHR</th>\n",
              "      <th>ExerciseAngina</th>\n",
              "      <th>Oldpeak</th>\n",
              "      <th>ST_Slope</th>\n",
              "      <th>Outcome</th>\n",
              "    </tr>\n",
              "  </thead>\n",
              "  <tbody>\n",
              "    <tr>\n",
              "      <th>0</th>\n",
              "      <td>40</td>\n",
              "      <td>M</td>\n",
              "      <td>ATA</td>\n",
              "      <td>140</td>\n",
              "      <td>289</td>\n",
              "      <td>0</td>\n",
              "      <td>Normal</td>\n",
              "      <td>172</td>\n",
              "      <td>N</td>\n",
              "      <td>0.0</td>\n",
              "      <td>Up</td>\n",
              "      <td>0</td>\n",
              "    </tr>\n",
              "    <tr>\n",
              "      <th>1</th>\n",
              "      <td>49</td>\n",
              "      <td>F</td>\n",
              "      <td>NAP</td>\n",
              "      <td>160</td>\n",
              "      <td>180</td>\n",
              "      <td>0</td>\n",
              "      <td>Normal</td>\n",
              "      <td>156</td>\n",
              "      <td>N</td>\n",
              "      <td>1.0</td>\n",
              "      <td>Flat</td>\n",
              "      <td>1</td>\n",
              "    </tr>\n",
              "    <tr>\n",
              "      <th>2</th>\n",
              "      <td>37</td>\n",
              "      <td>M</td>\n",
              "      <td>ATA</td>\n",
              "      <td>130</td>\n",
              "      <td>283</td>\n",
              "      <td>0</td>\n",
              "      <td>ST</td>\n",
              "      <td>98</td>\n",
              "      <td>N</td>\n",
              "      <td>0.0</td>\n",
              "      <td>Up</td>\n",
              "      <td>0</td>\n",
              "    </tr>\n",
              "    <tr>\n",
              "      <th>3</th>\n",
              "      <td>48</td>\n",
              "      <td>F</td>\n",
              "      <td>ASY</td>\n",
              "      <td>138</td>\n",
              "      <td>214</td>\n",
              "      <td>0</td>\n",
              "      <td>Normal</td>\n",
              "      <td>108</td>\n",
              "      <td>Y</td>\n",
              "      <td>1.5</td>\n",
              "      <td>Flat</td>\n",
              "      <td>1</td>\n",
              "    </tr>\n",
              "    <tr>\n",
              "      <th>4</th>\n",
              "      <td>54</td>\n",
              "      <td>M</td>\n",
              "      <td>NAP</td>\n",
              "      <td>150</td>\n",
              "      <td>195</td>\n",
              "      <td>0</td>\n",
              "      <td>Normal</td>\n",
              "      <td>122</td>\n",
              "      <td>N</td>\n",
              "      <td>0.0</td>\n",
              "      <td>Up</td>\n",
              "      <td>0</td>\n",
              "    </tr>\n",
              "  </tbody>\n",
              "</table>\n",
              "</div>\n",
              "      <button class=\"colab-df-convert\" onclick=\"convertToInteractive('df-b0d1fb6f-fa76-438b-9e9c-09fb765029f5')\"\n",
              "              title=\"Convert this dataframe to an interactive table.\"\n",
              "              style=\"display:none;\">\n",
              "\n",
              "  <svg xmlns=\"http://www.w3.org/2000/svg\" height=\"24px\"viewBox=\"0 0 24 24\"\n",
              "       width=\"24px\">\n",
              "    <path d=\"M0 0h24v24H0V0z\" fill=\"none\"/>\n",
              "    <path d=\"M18.56 5.44l.94 2.06.94-2.06 2.06-.94-2.06-.94-.94-2.06-.94 2.06-2.06.94zm-11 1L8.5 8.5l.94-2.06 2.06-.94-2.06-.94L8.5 2.5l-.94 2.06-2.06.94zm10 10l.94 2.06.94-2.06 2.06-.94-2.06-.94-.94-2.06-.94 2.06-2.06.94z\"/><path d=\"M17.41 7.96l-1.37-1.37c-.4-.4-.92-.59-1.43-.59-.52 0-1.04.2-1.43.59L10.3 9.45l-7.72 7.72c-.78.78-.78 2.05 0 2.83L4 21.41c.39.39.9.59 1.41.59.51 0 1.02-.2 1.41-.59l7.78-7.78 2.81-2.81c.8-.78.8-2.07 0-2.86zM5.41 20L4 18.59l7.72-7.72 1.47 1.35L5.41 20z\"/>\n",
              "  </svg>\n",
              "      </button>\n",
              "\n",
              "\n",
              "\n",
              "    <div id=\"df-11caf72e-ce3b-4143-afca-892e3eef5176\">\n",
              "      <button class=\"colab-df-quickchart\" onclick=\"quickchart('df-11caf72e-ce3b-4143-afca-892e3eef5176')\"\n",
              "              title=\"Suggest charts.\"\n",
              "              style=\"display:none;\">\n",
              "\n",
              "<svg xmlns=\"http://www.w3.org/2000/svg\" height=\"24px\"viewBox=\"0 0 24 24\"\n",
              "     width=\"24px\">\n",
              "    <g>\n",
              "        <path d=\"M19 3H5c-1.1 0-2 .9-2 2v14c0 1.1.9 2 2 2h14c1.1 0 2-.9 2-2V5c0-1.1-.9-2-2-2zM9 17H7v-7h2v7zm4 0h-2V7h2v10zm4 0h-2v-4h2v4z\"/>\n",
              "    </g>\n",
              "</svg>\n",
              "      </button>\n",
              "    </div>\n",
              "\n",
              "<style>\n",
              "  .colab-df-quickchart {\n",
              "    background-color: #E8F0FE;\n",
              "    border: none;\n",
              "    border-radius: 50%;\n",
              "    cursor: pointer;\n",
              "    display: none;\n",
              "    fill: #1967D2;\n",
              "    height: 32px;\n",
              "    padding: 0 0 0 0;\n",
              "    width: 32px;\n",
              "  }\n",
              "\n",
              "  .colab-df-quickchart:hover {\n",
              "    background-color: #E2EBFA;\n",
              "    box-shadow: 0px 1px 2px rgba(60, 64, 67, 0.3), 0px 1px 3px 1px rgba(60, 64, 67, 0.15);\n",
              "    fill: #174EA6;\n",
              "  }\n",
              "\n",
              "  [theme=dark] .colab-df-quickchart {\n",
              "    background-color: #3B4455;\n",
              "    fill: #D2E3FC;\n",
              "  }\n",
              "\n",
              "  [theme=dark] .colab-df-quickchart:hover {\n",
              "    background-color: #434B5C;\n",
              "    box-shadow: 0px 1px 3px 1px rgba(0, 0, 0, 0.15);\n",
              "    filter: drop-shadow(0px 1px 2px rgba(0, 0, 0, 0.3));\n",
              "    fill: #FFFFFF;\n",
              "  }\n",
              "</style>\n",
              "\n",
              "    <script>\n",
              "      async function quickchart(key) {\n",
              "        const containerElement = document.querySelector('#' + key);\n",
              "        const charts = await google.colab.kernel.invokeFunction(\n",
              "            'suggestCharts', [key], {});\n",
              "      }\n",
              "    </script>\n",
              "\n",
              "      <script>\n",
              "\n",
              "function displayQuickchartButton(domScope) {\n",
              "  let quickchartButtonEl =\n",
              "    domScope.querySelector('#df-11caf72e-ce3b-4143-afca-892e3eef5176 button.colab-df-quickchart');\n",
              "  quickchartButtonEl.style.display =\n",
              "    google.colab.kernel.accessAllowed ? 'block' : 'none';\n",
              "}\n",
              "\n",
              "        displayQuickchartButton(document);\n",
              "      </script>\n",
              "      <style>\n",
              "    .colab-df-container {\n",
              "      display:flex;\n",
              "      flex-wrap:wrap;\n",
              "      gap: 12px;\n",
              "    }\n",
              "\n",
              "    .colab-df-convert {\n",
              "      background-color: #E8F0FE;\n",
              "      border: none;\n",
              "      border-radius: 50%;\n",
              "      cursor: pointer;\n",
              "      display: none;\n",
              "      fill: #1967D2;\n",
              "      height: 32px;\n",
              "      padding: 0 0 0 0;\n",
              "      width: 32px;\n",
              "    }\n",
              "\n",
              "    .colab-df-convert:hover {\n",
              "      background-color: #E2EBFA;\n",
              "      box-shadow: 0px 1px 2px rgba(60, 64, 67, 0.3), 0px 1px 3px 1px rgba(60, 64, 67, 0.15);\n",
              "      fill: #174EA6;\n",
              "    }\n",
              "\n",
              "    [theme=dark] .colab-df-convert {\n",
              "      background-color: #3B4455;\n",
              "      fill: #D2E3FC;\n",
              "    }\n",
              "\n",
              "    [theme=dark] .colab-df-convert:hover {\n",
              "      background-color: #434B5C;\n",
              "      box-shadow: 0px 1px 3px 1px rgba(0, 0, 0, 0.15);\n",
              "      filter: drop-shadow(0px 1px 2px rgba(0, 0, 0, 0.3));\n",
              "      fill: #FFFFFF;\n",
              "    }\n",
              "  </style>\n",
              "\n",
              "      <script>\n",
              "        const buttonEl =\n",
              "          document.querySelector('#df-b0d1fb6f-fa76-438b-9e9c-09fb765029f5 button.colab-df-convert');\n",
              "        buttonEl.style.display =\n",
              "          google.colab.kernel.accessAllowed ? 'block' : 'none';\n",
              "\n",
              "        async function convertToInteractive(key) {\n",
              "          const element = document.querySelector('#df-b0d1fb6f-fa76-438b-9e9c-09fb765029f5');\n",
              "          const dataTable =\n",
              "            await google.colab.kernel.invokeFunction('convertToInteractive',\n",
              "                                                     [key], {});\n",
              "          if (!dataTable) return;\n",
              "\n",
              "          const docLinkHtml = 'Like what you see? Visit the ' +\n",
              "            '<a target=\"_blank\" href=https://colab.research.google.com/notebooks/data_table.ipynb>data table notebook</a>'\n",
              "            + ' to learn more about interactive tables.';\n",
              "          element.innerHTML = '';\n",
              "          dataTable['output_type'] = 'display_data';\n",
              "          await google.colab.output.renderOutput(dataTable, element);\n",
              "          const docLink = document.createElement('div');\n",
              "          docLink.innerHTML = docLinkHtml;\n",
              "          element.appendChild(docLink);\n",
              "        }\n",
              "      </script>\n",
              "    </div>\n",
              "  </div>\n"
            ]
          },
          "metadata": {},
          "execution_count": 348
        }
      ]
    },
    {
      "cell_type": "markdown",
      "source": [
        "El dataset se encuentra en \"crudo\", por lo que antes de poder aplicar los algoritmos de clasificación tenemos que poner a punto los datos. Sino, obtendremos resultados que no son correctos.\n",
        "\n",
        "Para esto, tenemos que normalizar las variables. Como hicimos anteriormente, nos valdremos de dos métodos para esto: MinMaxScaler y StandardScaler.\n",
        "Recordemos que en caso de que la distribución no sea normal, tendremos que aplicar MinMaxScaler, sino lo mejor sería usar StandardScaler.\n",
        "\n",
        "Además, también tenemos que convertir las variables categóricas a numéricas haciando uso de algún encoder. (en este caso, será para: ``Sex``,  ``ChestPainType``, ``RestingECG``, ``ExerciseAngina`` y ``St_Slope``. Para ``Outcome`` lo hicimos previamente."
      ],
      "metadata": {
        "id": "sUoGw916jlsT"
      }
    },
    {
      "cell_type": "code",
      "source": [
        "le = LabelEncoder()\n",
        "df_le = df_copy.copy(deep = True)\n",
        "\n",
        "df_le['Sex'] = le.fit_transform(df_le['Sex'])\n",
        "df_le['ChestPainType'] = le.fit_transform(df_le['ChestPainType'])\n",
        "df_le['RestingECG'] = le.fit_transform(df_le['RestingECG'])\n",
        "df_le['ExerciseAngina'] = le.fit_transform(df_le['ExerciseAngina'])\n",
        "df_le['ST_Slope'] = le.fit_transform(df_le['ST_Slope'])"
      ],
      "metadata": {
        "id": "8H0leyX-vCbi"
      },
      "execution_count": null,
      "outputs": []
    },
    {
      "cell_type": "markdown",
      "source": [
        "## Normalización de los datos"
      ],
      "metadata": {
        "id": "ZnnoRbsSxQ5s"
      }
    },
    {
      "cell_type": "markdown",
      "source": [
        "Ya habíamos visto anteriormente, utilizando la prueba de Shapiro-Wilk cuáles variables seguían una distribución normal.\n",
        "\n",
        "En base a los resultados que arrojó el test para las variables Age, Oldpeak, RestingBP, Cholesterol y MaxHR ninguna seguía una distribución normal. Por lo que las normalizaremos utilizando MinMaxScaler."
      ],
      "metadata": {
        "id": "2YJZhroqxUIr"
      }
    },
    {
      "cell_type": "code",
      "source": [
        "mms = MinMaxScaler()\n",
        "\n",
        "df_le['Age'] = mms.fit_transform(df_le[['Age']])\n",
        "df_le['RestingBP'] = mms.fit_transform(df_le[['RestingBP']])\n",
        "df_le['Cholesterol'] = mms.fit_transform(df_le[['Cholesterol']])\n",
        "df_le['MaxHR'] = mms.fit_transform(df_le[['MaxHR']])\n",
        "df_le['Oldpeak'] = mms.fit_transform(df_le[['Oldpeak']])\n",
        "df_le.head()"
      ],
      "metadata": {
        "colab": {
          "base_uri": "https://localhost:8080/",
          "height": 206
        },
        "id": "wowZoxl_zIs9",
        "outputId": "e933eedd-56f2-466b-c20f-dddc4d0b50a8"
      },
      "execution_count": null,
      "outputs": [
        {
          "output_type": "execute_result",
          "data": {
            "text/plain": [
              "        Age  Sex  ChestPainType  RestingBP  Cholesterol  FastingBS  \\\n",
              "0  0.277778    1              1   0.657534     0.693046          0   \n",
              "1  0.444444    0              2   0.931507     0.431655          0   \n",
              "2  0.222222    1              1   0.520548     0.678657          0   \n",
              "3  0.425926    0              0   0.630137     0.513189          0   \n",
              "4  0.537037    1              2   0.794521     0.467626          0   \n",
              "\n",
              "   RestingECG     MaxHR  ExerciseAngina   Oldpeak  ST_Slope  Outcome  \n",
              "0           1  0.784173               0  0.295455         2        0  \n",
              "1           1  0.669065               0  0.409091         1        1  \n",
              "2           2  0.251799               0  0.295455         2        0  \n",
              "3           1  0.323741               1  0.465909         1        1  \n",
              "4           1  0.424460               0  0.295455         2        0  "
            ],
            "text/html": [
              "\n",
              "\n",
              "  <div id=\"df-aebe41a5-883a-4ae3-9724-61282b3e4762\">\n",
              "    <div class=\"colab-df-container\">\n",
              "      <div>\n",
              "<style scoped>\n",
              "    .dataframe tbody tr th:only-of-type {\n",
              "        vertical-align: middle;\n",
              "    }\n",
              "\n",
              "    .dataframe tbody tr th {\n",
              "        vertical-align: top;\n",
              "    }\n",
              "\n",
              "    .dataframe thead th {\n",
              "        text-align: right;\n",
              "    }\n",
              "</style>\n",
              "<table border=\"1\" class=\"dataframe\">\n",
              "  <thead>\n",
              "    <tr style=\"text-align: right;\">\n",
              "      <th></th>\n",
              "      <th>Age</th>\n",
              "      <th>Sex</th>\n",
              "      <th>ChestPainType</th>\n",
              "      <th>RestingBP</th>\n",
              "      <th>Cholesterol</th>\n",
              "      <th>FastingBS</th>\n",
              "      <th>RestingECG</th>\n",
              "      <th>MaxHR</th>\n",
              "      <th>ExerciseAngina</th>\n",
              "      <th>Oldpeak</th>\n",
              "      <th>ST_Slope</th>\n",
              "      <th>Outcome</th>\n",
              "    </tr>\n",
              "  </thead>\n",
              "  <tbody>\n",
              "    <tr>\n",
              "      <th>0</th>\n",
              "      <td>0.277778</td>\n",
              "      <td>1</td>\n",
              "      <td>1</td>\n",
              "      <td>0.657534</td>\n",
              "      <td>0.693046</td>\n",
              "      <td>0</td>\n",
              "      <td>1</td>\n",
              "      <td>0.784173</td>\n",
              "      <td>0</td>\n",
              "      <td>0.295455</td>\n",
              "      <td>2</td>\n",
              "      <td>0</td>\n",
              "    </tr>\n",
              "    <tr>\n",
              "      <th>1</th>\n",
              "      <td>0.444444</td>\n",
              "      <td>0</td>\n",
              "      <td>2</td>\n",
              "      <td>0.931507</td>\n",
              "      <td>0.431655</td>\n",
              "      <td>0</td>\n",
              "      <td>1</td>\n",
              "      <td>0.669065</td>\n",
              "      <td>0</td>\n",
              "      <td>0.409091</td>\n",
              "      <td>1</td>\n",
              "      <td>1</td>\n",
              "    </tr>\n",
              "    <tr>\n",
              "      <th>2</th>\n",
              "      <td>0.222222</td>\n",
              "      <td>1</td>\n",
              "      <td>1</td>\n",
              "      <td>0.520548</td>\n",
              "      <td>0.678657</td>\n",
              "      <td>0</td>\n",
              "      <td>2</td>\n",
              "      <td>0.251799</td>\n",
              "      <td>0</td>\n",
              "      <td>0.295455</td>\n",
              "      <td>2</td>\n",
              "      <td>0</td>\n",
              "    </tr>\n",
              "    <tr>\n",
              "      <th>3</th>\n",
              "      <td>0.425926</td>\n",
              "      <td>0</td>\n",
              "      <td>0</td>\n",
              "      <td>0.630137</td>\n",
              "      <td>0.513189</td>\n",
              "      <td>0</td>\n",
              "      <td>1</td>\n",
              "      <td>0.323741</td>\n",
              "      <td>1</td>\n",
              "      <td>0.465909</td>\n",
              "      <td>1</td>\n",
              "      <td>1</td>\n",
              "    </tr>\n",
              "    <tr>\n",
              "      <th>4</th>\n",
              "      <td>0.537037</td>\n",
              "      <td>1</td>\n",
              "      <td>2</td>\n",
              "      <td>0.794521</td>\n",
              "      <td>0.467626</td>\n",
              "      <td>0</td>\n",
              "      <td>1</td>\n",
              "      <td>0.424460</td>\n",
              "      <td>0</td>\n",
              "      <td>0.295455</td>\n",
              "      <td>2</td>\n",
              "      <td>0</td>\n",
              "    </tr>\n",
              "  </tbody>\n",
              "</table>\n",
              "</div>\n",
              "      <button class=\"colab-df-convert\" onclick=\"convertToInteractive('df-aebe41a5-883a-4ae3-9724-61282b3e4762')\"\n",
              "              title=\"Convert this dataframe to an interactive table.\"\n",
              "              style=\"display:none;\">\n",
              "\n",
              "  <svg xmlns=\"http://www.w3.org/2000/svg\" height=\"24px\"viewBox=\"0 0 24 24\"\n",
              "       width=\"24px\">\n",
              "    <path d=\"M0 0h24v24H0V0z\" fill=\"none\"/>\n",
              "    <path d=\"M18.56 5.44l.94 2.06.94-2.06 2.06-.94-2.06-.94-.94-2.06-.94 2.06-2.06.94zm-11 1L8.5 8.5l.94-2.06 2.06-.94-2.06-.94L8.5 2.5l-.94 2.06-2.06.94zm10 10l.94 2.06.94-2.06 2.06-.94-2.06-.94-.94-2.06-.94 2.06-2.06.94z\"/><path d=\"M17.41 7.96l-1.37-1.37c-.4-.4-.92-.59-1.43-.59-.52 0-1.04.2-1.43.59L10.3 9.45l-7.72 7.72c-.78.78-.78 2.05 0 2.83L4 21.41c.39.39.9.59 1.41.59.51 0 1.02-.2 1.41-.59l7.78-7.78 2.81-2.81c.8-.78.8-2.07 0-2.86zM5.41 20L4 18.59l7.72-7.72 1.47 1.35L5.41 20z\"/>\n",
              "  </svg>\n",
              "      </button>\n",
              "\n",
              "\n",
              "\n",
              "    <div id=\"df-9ac573f6-8fb8-4200-9f25-fa5029d53d4a\">\n",
              "      <button class=\"colab-df-quickchart\" onclick=\"quickchart('df-9ac573f6-8fb8-4200-9f25-fa5029d53d4a')\"\n",
              "              title=\"Suggest charts.\"\n",
              "              style=\"display:none;\">\n",
              "\n",
              "<svg xmlns=\"http://www.w3.org/2000/svg\" height=\"24px\"viewBox=\"0 0 24 24\"\n",
              "     width=\"24px\">\n",
              "    <g>\n",
              "        <path d=\"M19 3H5c-1.1 0-2 .9-2 2v14c0 1.1.9 2 2 2h14c1.1 0 2-.9 2-2V5c0-1.1-.9-2-2-2zM9 17H7v-7h2v7zm4 0h-2V7h2v10zm4 0h-2v-4h2v4z\"/>\n",
              "    </g>\n",
              "</svg>\n",
              "      </button>\n",
              "    </div>\n",
              "\n",
              "<style>\n",
              "  .colab-df-quickchart {\n",
              "    background-color: #E8F0FE;\n",
              "    border: none;\n",
              "    border-radius: 50%;\n",
              "    cursor: pointer;\n",
              "    display: none;\n",
              "    fill: #1967D2;\n",
              "    height: 32px;\n",
              "    padding: 0 0 0 0;\n",
              "    width: 32px;\n",
              "  }\n",
              "\n",
              "  .colab-df-quickchart:hover {\n",
              "    background-color: #E2EBFA;\n",
              "    box-shadow: 0px 1px 2px rgba(60, 64, 67, 0.3), 0px 1px 3px 1px rgba(60, 64, 67, 0.15);\n",
              "    fill: #174EA6;\n",
              "  }\n",
              "\n",
              "  [theme=dark] .colab-df-quickchart {\n",
              "    background-color: #3B4455;\n",
              "    fill: #D2E3FC;\n",
              "  }\n",
              "\n",
              "  [theme=dark] .colab-df-quickchart:hover {\n",
              "    background-color: #434B5C;\n",
              "    box-shadow: 0px 1px 3px 1px rgba(0, 0, 0, 0.15);\n",
              "    filter: drop-shadow(0px 1px 2px rgba(0, 0, 0, 0.3));\n",
              "    fill: #FFFFFF;\n",
              "  }\n",
              "</style>\n",
              "\n",
              "    <script>\n",
              "      async function quickchart(key) {\n",
              "        const containerElement = document.querySelector('#' + key);\n",
              "        const charts = await google.colab.kernel.invokeFunction(\n",
              "            'suggestCharts', [key], {});\n",
              "      }\n",
              "    </script>\n",
              "\n",
              "      <script>\n",
              "\n",
              "function displayQuickchartButton(domScope) {\n",
              "  let quickchartButtonEl =\n",
              "    domScope.querySelector('#df-9ac573f6-8fb8-4200-9f25-fa5029d53d4a button.colab-df-quickchart');\n",
              "  quickchartButtonEl.style.display =\n",
              "    google.colab.kernel.accessAllowed ? 'block' : 'none';\n",
              "}\n",
              "\n",
              "        displayQuickchartButton(document);\n",
              "      </script>\n",
              "      <style>\n",
              "    .colab-df-container {\n",
              "      display:flex;\n",
              "      flex-wrap:wrap;\n",
              "      gap: 12px;\n",
              "    }\n",
              "\n",
              "    .colab-df-convert {\n",
              "      background-color: #E8F0FE;\n",
              "      border: none;\n",
              "      border-radius: 50%;\n",
              "      cursor: pointer;\n",
              "      display: none;\n",
              "      fill: #1967D2;\n",
              "      height: 32px;\n",
              "      padding: 0 0 0 0;\n",
              "      width: 32px;\n",
              "    }\n",
              "\n",
              "    .colab-df-convert:hover {\n",
              "      background-color: #E2EBFA;\n",
              "      box-shadow: 0px 1px 2px rgba(60, 64, 67, 0.3), 0px 1px 3px 1px rgba(60, 64, 67, 0.15);\n",
              "      fill: #174EA6;\n",
              "    }\n",
              "\n",
              "    [theme=dark] .colab-df-convert {\n",
              "      background-color: #3B4455;\n",
              "      fill: #D2E3FC;\n",
              "    }\n",
              "\n",
              "    [theme=dark] .colab-df-convert:hover {\n",
              "      background-color: #434B5C;\n",
              "      box-shadow: 0px 1px 3px 1px rgba(0, 0, 0, 0.15);\n",
              "      filter: drop-shadow(0px 1px 2px rgba(0, 0, 0, 0.3));\n",
              "      fill: #FFFFFF;\n",
              "    }\n",
              "  </style>\n",
              "\n",
              "      <script>\n",
              "        const buttonEl =\n",
              "          document.querySelector('#df-aebe41a5-883a-4ae3-9724-61282b3e4762 button.colab-df-convert');\n",
              "        buttonEl.style.display =\n",
              "          google.colab.kernel.accessAllowed ? 'block' : 'none';\n",
              "\n",
              "        async function convertToInteractive(key) {\n",
              "          const element = document.querySelector('#df-aebe41a5-883a-4ae3-9724-61282b3e4762');\n",
              "          const dataTable =\n",
              "            await google.colab.kernel.invokeFunction('convertToInteractive',\n",
              "                                                     [key], {});\n",
              "          if (!dataTable) return;\n",
              "\n",
              "          const docLinkHtml = 'Like what you see? Visit the ' +\n",
              "            '<a target=\"_blank\" href=https://colab.research.google.com/notebooks/data_table.ipynb>data table notebook</a>'\n",
              "            + ' to learn more about interactive tables.';\n",
              "          element.innerHTML = '';\n",
              "          dataTable['output_type'] = 'display_data';\n",
              "          await google.colab.output.renderOutput(dataTable, element);\n",
              "          const docLink = document.createElement('div');\n",
              "          docLink.innerHTML = docLinkHtml;\n",
              "          element.appendChild(docLink);\n",
              "        }\n",
              "      </script>\n",
              "    </div>\n",
              "  </div>\n"
            ]
          },
          "metadata": {},
          "execution_count": 350
        }
      ]
    },
    {
      "cell_type": "markdown",
      "source": [
        "Veamos la correlación entre las variables, prestando particular atención en la correlación con Outcome."
      ],
      "metadata": {
        "id": "yKvKiRGgwE8s"
      }
    },
    {
      "cell_type": "code",
      "source": [
        "sns.heatmap(df_le.corr(),fmt = \".2f\",annot=True,lw=1,cmap = 'Blues')"
      ],
      "metadata": {
        "colab": {
          "base_uri": "https://localhost:8080/",
          "height": 544
        },
        "id": "_MP2qFTFfu6E",
        "outputId": "de7b0b39-9dc3-422e-858d-a856e3b868ed"
      },
      "execution_count": null,
      "outputs": [
        {
          "output_type": "execute_result",
          "data": {
            "text/plain": [
              "<Axes: >"
            ]
          },
          "metadata": {},
          "execution_count": 351
        },
        {
          "output_type": "display_data",
          "data": {
            "text/plain": [
              "<Figure size 640x480 with 2 Axes>"
            ],
            "image/png": "[encoded data removed]"
          },
          "metadata": {}
        }
      ]
    },
    {
      "cell_type": "code",
      "source": [
        "#Divido los datos en Train y Test\n",
        "\n",
        "X = df_le.drop(columns = 'Outcome') # Train\n",
        "y = df_le['Outcome']"
      ],
      "metadata": {
        "id": "JFfOjKFNwuu0"
      },
      "execution_count": null,
      "outputs": []
    },
    {
      "cell_type": "code",
      "source": [
        "# Tomamos de manera aleatoria el 70% de los registros para Train y el 30% restante como Test.\n",
        "X_train, X_test, y_train, y_test = train_test_split(X,y.values.reshape(-1,1),train_size= 0.7,random_state = 42,shuffle=True)"
      ],
      "metadata": {
        "id": "wzra5JuT1GQs"
      },
      "execution_count": null,
      "outputs": []
    },
    {
      "cell_type": "markdown",
      "source": [
        "Es conveniente saber si las categorías de Target aparecen en cantidades similares (esto será crucial para enteder el resultado del accuracy o recall más adelante).\n"
      ],
      "metadata": {
        "id": "CPYd73gRxHUQ"
      }
    },
    {
      "cell_type": "code",
      "source": [
        "y_train = y_train.ravel() # para poder pasarlo como argumento a cross_validate más adelante"
      ],
      "metadata": {
        "id": "I-PnRHIYz9qe"
      },
      "execution_count": null,
      "outputs": []
    },
    {
      "cell_type": "code",
      "source": [
        "df_le['Outcome'].value_counts()"
      ],
      "metadata": {
        "colab": {
          "base_uri": "https://localhost:8080/"
        },
        "id": "Kpx_XktTyFA8",
        "outputId": "99486e9d-5e9a-4bbb-d00c-7dc3c1e87271"
      },
      "execution_count": null,
      "outputs": [
        {
          "output_type": "execute_result",
          "data": {
            "text/plain": [
              "1    649\n",
              "0    559\n",
              "Name: Outcome, dtype: int64"
            ]
          },
          "metadata": {},
          "execution_count": 355
        }
      ]
    },
    {
      "cell_type": "markdown",
      "source": [
        "## A tener en cuenta:"
      ],
      "metadata": {
        "id": "NUvzFF0ng80u"
      }
    },
    {
      "cell_type": "markdown",
      "source": [
        "A partir de aquí nos centraremos en los dos modelos me quejores resultados arrojaron luego de los entrenamientos, los cuales fueron **SVC** y **Logistic Regression**.\n",
        "\n",
        "Para profundizar en los detalles de cómo se obtuvieron los mejores hiperparámetros para cada modelo, referirse a las entregas que se hicieron durante el curso.\n",
        "[Enlace al notebook usando durante el curso](https://colab.research.google.com/drive/1qRSEhW9dVk95OKnkpazQOoYW5sFR_9dz?usp=sharing)\n",
        "\n",
        "En resumen el procedimiento fue el siguiente:\n",
        "* Separamos los registros del dataset en un 70% de entrenamiento y un 30% de prueba.\n",
        "* Entrenamos los modelos sin especificar parámetros, e hicimos predicciones sobre los dos conjuntos para así comparar las métricas estadísticas y ver cómo se ajusta a los datos cada modelo.\n",
        "* Aplicamos validación cruzada.\n",
        "\n",
        "  **Observación**: la métrica elegida fue 'recall', ya que fue la más significativa, y la tomaremos para la etiqueta 1 (positivo)\n",
        "* Combinamos la validación cruzada con algun método de búsqueda de hiperparámetros (GridSearch o RandomizedSearch).\n",
        "* Con los nuevos parámetros entrenamos nuevamente el modelo.\n",
        "* Aplicamos nuevamente validación cruzada al modelo, pero con los mejores hiperparámetros.\n",
        "\n"
      ],
      "metadata": {
        "id": "7C8mVSZThCcb"
      }
    },
    {
      "cell_type": "markdown",
      "source": [
        "## SVC (Support Vector Classifier)"
      ],
      "metadata": {
        "id": "jKaL8ZjNqFzG"
      }
    },
    {
      "cell_type": "code",
      "source": [
        "# Mejores parametros utilizando GridSearch:\n",
        "# {'C': 1.0, 'gamma': 'scale', 'kernel': 'poly'}\n",
        "\n",
        "svc = SVC(C=1.0, gamma='scale', kernel='poly') #defino el modelo\n",
        "\n",
        "#Definimos el método de validación cruzada, con 5 folds\n",
        "stratified_kfold = StratifiedKFold(n_splits=5,  shuffle=True, random_state=42)\n",
        "\n",
        "#Entrenamos los datos. SVC con los mejores hiperparametros\n",
        "svc.fit(X_train, y_train)\n",
        "\n",
        "# Hacemos las predicciones\n",
        "y_test_pred_svc = svc.predict(X_test)\n",
        "\n",
        "# Classification report para SVC, comparando el conjunto y_test con y_test_pred_lr\n",
        "print(\"Classification report for Logistic Regression:\\n\", classification_report(y_test, y_test_pred_svc))\n",
        "\n",
        "# Ahora para el conjunto de prueba\n",
        "y_pred_train_svc = svc.predict(X_train)\n",
        "print(\"Classification report for Logistic Regression:\\n\", classification_report(y_train, y_pred_train_svc))"
      ],
      "metadata": {
        "colab": {
          "base_uri": "https://localhost:8080/"
        },
        "id": "X19huN0VqhPN",
        "outputId": "1ac5ccdf-0bb3-4a6a-d49a-198993759d1d"
      },
      "execution_count": null,
      "outputs": [
        {
          "output_type": "stream",
          "name": "stdout",
          "text": [
            "Classification report for Logistic Regression:\n",
            "               precision    recall  f1-score   support\n",
            "\n",
            "           0       0.74      0.74      0.74       159\n",
            "           1       0.80      0.80      0.80       204\n",
            "\n",
            "    accuracy                           0.77       363\n",
            "   macro avg       0.77      0.77      0.77       363\n",
            "weighted avg       0.77      0.77      0.77       363\n",
            "\n",
            "Classification report for Logistic Regression:\n",
            "               precision    recall  f1-score   support\n",
            "\n",
            "           0       0.80      0.74      0.77       400\n",
            "           1       0.78      0.84      0.81       445\n",
            "\n",
            "    accuracy                           0.79       845\n",
            "   macro avg       0.79      0.79      0.79       845\n",
            "weighted avg       0.79      0.79      0.79       845\n",
            "\n"
          ]
        }
      ]
    },
    {
      "cell_type": "markdown",
      "source": [
        "Comparamos las métricas para cada conjunto."
      ],
      "metadata": {
        "id": "C00uE-2ws1h5"
      }
    },
    {
      "cell_type": "code",
      "source": [
        "print(\"Recall para conjunto de entrenamiento\", recall_score(y_train, y_pred_train_svc))\n",
        "print(\"Recall para el conjunto de test\", recall_score(y_test, y_test_pred_svc))"
      ],
      "metadata": {
        "colab": {
          "base_uri": "https://localhost:8080/"
        },
        "id": "bNy2w8DmsyqR",
        "outputId": "0ea77983-6b4f-4e92-9b65-fcb5741589c2"
      },
      "execution_count": null,
      "outputs": [
        {
          "output_type": "stream",
          "name": "stdout",
          "text": [
            "Recall para conjunto de entrenamiento 0.8382022471910112\n",
            "Recall para el conjunto de test 0.7990196078431373\n"
          ]
        }
      ]
    },
    {
      "cell_type": "code",
      "source": [
        "skplt.metrics.plot_confusion_matrix(y_test, y_test_pred_svc,figsize=(4,4))"
      ],
      "metadata": {
        "colab": {
          "base_uri": "https://localhost:8080/",
          "height": 375
        },
        "id": "TM15qNOXwaiC",
        "outputId": "d5cf274f-6db0-439e-8d2f-98ff1324f38f"
      },
      "execution_count": null,
      "outputs": [
        {
          "output_type": "execute_result",
          "data": {
            "text/plain": [
              "<Axes: title={'center': 'Confusion Matrix'}, xlabel='Predicted label', ylabel='True label'>"
            ]
          },
          "metadata": {},
          "execution_count": 358
        },
        {
          "output_type": "display_data",
          "data": {
            "text/plain": [
              "<Figure size 400x400 with 2 Axes>"
            ],
            "image/png": "[encoded data removed]"
          },
          "metadata": {}
        }
      ]
    },
    {
      "cell_type": "markdown",
      "source": [
        "Ahora aplicamos validación cruzada con SVC."
      ],
      "metadata": {
        "id": "pghr1NY-s8Q0"
      }
    },
    {
      "cell_type": "code",
      "source": [
        "# Aplicamos cross validation y ponemos True en train score para obtener las métricas (recall) para ambos conjuntos\n",
        "cv_results_svc = cross_validate(svc, X_train, y_train, cv=stratified_kfold, scoring='recall', return_train_score=True)\n",
        "\n",
        "# Calculamos el promedio del recall para los 5 folds\n",
        "mean_train_score_svc = np.mean(cv_results_svc['train_score'])\n",
        "mean_test_score_svc = np.mean(cv_results_svc['test_score'])\n",
        "\n",
        "print(f\"Mean Train Score: {mean_train_score}\")\n",
        "print(f\"Mean Test Score: {mean_test_score}\")"
      ],
      "metadata": {
        "colab": {
          "base_uri": "https://localhost:8080/"
        },
        "id": "S_ZLKprtszZb",
        "outputId": "4c5ef1f4-22c0-4b0f-a01f-240214eb57cf"
      },
      "execution_count": null,
      "outputs": [
        {
          "output_type": "stream",
          "name": "stdout",
          "text": [
            "Mean Train Score: 0.7674157303370785\n",
            "Mean Test Score: 0.7595505617977528\n"
          ]
        }
      ]
    },
    {
      "cell_type": "markdown",
      "source": [
        "## Logistic Regression"
      ],
      "metadata": {
        "id": "dmneWf7Ct641"
      }
    },
    {
      "cell_type": "code",
      "source": [
        "# Mejores parametros utilizando GridSearch:\n",
        "# {'C': 0.1, 'penalty': 'l2', 'solver': 'newton-cg'}\n",
        "\n",
        "lr = LogisticRegression(C=0.1, penalty='l2', solver='newton-cg') #defino el modelo\n",
        "\n",
        "#el método de validación cruzada ya fue definido anteriormente\n",
        "\n",
        "#Entrenamos los datos. Logistic Regression con los mejores hiperparametros\n",
        "lr.fit(X_train, y_train)\n",
        "\n",
        "# Hacemos las predicciones\n",
        "y_test_pred_lr = lr.predict(X_test)\n",
        "\n",
        "# Classification report para Logistic Regression, comparando el conjunto y_test con y_test_pred_lr\n",
        "print(\"Classification report for Logistic Regression:\\n\", classification_report(y_test, y_test_pred_lr))\n",
        "\n",
        "# Ahora para el conjunto de prueba\n",
        "y_pred_train_lr = lr.predict(X_train)\n",
        "print(\"Classification report for Logistic Regression:\\n\", classification_report(y_train, y_pred_train_lr))"
      ],
      "metadata": {
        "colab": {
          "base_uri": "https://localhost:8080/"
        },
        "id": "ZRJ8w386t9Pg",
        "outputId": "92a99e95-b286-4b5f-a648-73d0ff1ef39e"
      },
      "execution_count": null,
      "outputs": [
        {
          "output_type": "stream",
          "name": "stdout",
          "text": [
            "Classification report for Logistic Regression:\n",
            "               precision    recall  f1-score   support\n",
            "\n",
            "           0       0.71      0.75      0.73       159\n",
            "           1       0.80      0.76      0.78       204\n",
            "\n",
            "    accuracy                           0.76       363\n",
            "   macro avg       0.75      0.76      0.76       363\n",
            "weighted avg       0.76      0.76      0.76       363\n",
            "\n",
            "Classification report for Logistic Regression:\n",
            "               precision    recall  f1-score   support\n",
            "\n",
            "           0       0.73      0.73      0.73       400\n",
            "           1       0.76      0.76      0.76       445\n",
            "\n",
            "    accuracy                           0.75       845\n",
            "   macro avg       0.74      0.74      0.74       845\n",
            "weighted avg       0.75      0.75      0.75       845\n",
            "\n"
          ]
        }
      ]
    },
    {
      "cell_type": "markdown",
      "source": [
        "Comparamos las métricas para cada conjunto."
      ],
      "metadata": {
        "id": "84n8qpMwuqwH"
      }
    },
    {
      "cell_type": "code",
      "source": [
        "print(\"Recall para conjunto de entrenamiento\", recall_score(y_train, y_pred_train_lr))\n",
        "print(\"Recall para el conjunto de test\", recall_score(y_test, y_test_pred_lr))"
      ],
      "metadata": {
        "colab": {
          "base_uri": "https://localhost:8080/"
        },
        "id": "krv4oBHquqKt",
        "outputId": "3f7a9775-a177-4068-c9c0-7f96639944e4"
      },
      "execution_count": null,
      "outputs": [
        {
          "output_type": "stream",
          "name": "stdout",
          "text": [
            "Recall para conjunto de entrenamiento 0.7617977528089888\n",
            "Recall para el conjunto de test 0.7647058823529411\n"
          ]
        }
      ]
    },
    {
      "cell_type": "code",
      "source": [
        "skplt.metrics.plot_confusion_matrix(y_test, y_test_pred_lr,figsize=(4,4))"
      ],
      "metadata": {
        "colab": {
          "base_uri": "https://localhost:8080/",
          "height": 375
        },
        "id": "yJCi2p3TwqHy",
        "outputId": "94c624a0-3c1e-47c2-d9a4-7ad3b431bf9e"
      },
      "execution_count": null,
      "outputs": [
        {
          "output_type": "execute_result",
          "data": {
            "text/plain": [
              "<Axes: title={'center': 'Confusion Matrix'}, xlabel='Predicted label', ylabel='True label'>"
            ]
          },
          "metadata": {},
          "execution_count": 362
        },
        {
          "output_type": "display_data",
          "data": {
            "text/plain": [
              "<Figure size 400x400 with 2 Axes>"
            ],
            "image/png": "[encoded data removed]"
          },
          "metadata": {}
        }
      ]
    },
    {
      "cell_type": "markdown",
      "source": [
        "Ahora aplicamos validacion cruzada con Logistic Regression"
      ],
      "metadata": {
        "id": "f7gwf-43u15i"
      }
    },
    {
      "cell_type": "code",
      "source": [
        "# Aplicamos cross validation y ponemos True en train score para obtener las métricas (recall) para ambos conjuntos\n",
        "cv_results_lr = cross_validate(lr, X_train, y_train, cv=stratified_kfold, scoring='recall', return_train_score=True)\n",
        "\n",
        "# Calculamos el promedio del recall para los 5 folds\n",
        "mean_train_score_lr = np.mean(cv_results_lr['train_score'])\n",
        "mean_test_score_lr = np.mean(cv_results_lr['test_score'])\n",
        "\n",
        "print(f\"Mean Train Score: {mean_train_score_lr}\")\n",
        "print(f\"Mean Test Score: {mean_test_score_lr}\")"
      ],
      "metadata": {
        "colab": {
          "base_uri": "https://localhost:8080/"
        },
        "id": "6kVkyc_FuwcN",
        "outputId": "3bd1722a-8bea-4163-c315-5e71df054fd2"
      },
      "execution_count": null,
      "outputs": [
        {
          "output_type": "stream",
          "name": "stdout",
          "text": [
            "Mean Train Score: 0.7674157303370785\n",
            "Mean Test Score: 0.7595505617977528\n"
          ]
        }
      ]
    },
    {
      "cell_type": "markdown",
      "source": [
        "# Conclusiones"
      ],
      "metadata": {
        "id": "pxmiXhtZ0ZDV"
      }
    },
    {
      "cell_type": "markdown",
      "source": [
        "Como mencionamos previamente, hemos centrado nuestro análisis en base a la métrica **recall**. Dicha métrica es la proporción de veces que el modelo predijo una etiqueta y efectivamente era ese resultado.\n",
        "\n",
        "De los dos modelos que hemos presentado aquí es evidente que el que mejores resultados arrojó fue SVC, con valores cercanos al 80% tanto para el conjunto de entrenamiento como para el de prueba."
      ],
      "metadata": {
        "id": "Xdat6A9g0avT"
      }
    },
    {
      "cell_type": "markdown",
      "source": [
        "Ahora, que ya hemos identificado el modelo más efectivo de los que hemos propuesto. Queremos ver cuáles son las variables más influyentes. Es decir, cuáles son las que marcan la diferencia para hacer que el modelo sea bueno o no."
      ],
      "metadata": {
        "id": "70U6C9bh1T6S"
      }
    },
    {
      "cell_type": "markdown",
      "source": [
        "Como el modelo no es lineal, tenemos que buscar otra manera de determinar la importancia de las variables.\n",
        "\n",
        "Para esto, usaremos de la librería sklearn la función permutation_imporante. Ésta es una técnica de inspección del modelo, muy útil cuando el modelo no es lineal, y se basa en permutar los datos de cada variable reorganizándolos de manera aleatoria, para luego ver cómo afecta esto al modelo. Luego, nos indica el orden de importancia de las variables para el modelo."
      ],
      "metadata": {
        "id": "wxjCKzn68_Sx"
      }
    },
    {
      "cell_type": "code",
      "source": [
        "perm_importance = permutation_importance(svc, X_train, y_train)\n",
        "\n",
        "# Making the sum of feature importance being equal to 1.0,\n",
        "# so feature importance can be understood as percentage\n",
        "perm_importance_normalized = perm_importance.importances_mean/perm_importance.importances_mean.sum()\n",
        "\n",
        "# Feature's name (considering your X a DataFrame)\n",
        "feature_names = X_train.columns\n",
        "features = np.array(feature_names)\n",
        "\n",
        "# Sort to plot in order of importance\n",
        "sorted_idx = perm_importance_normalized.argsort()\n",
        "\n",
        "# Plotting\n",
        "plt.figure(figsize=(13,5))\n",
        "plt.title('Feature Importance',fontsize=20)\n",
        "plt.barh(features[sorted_idx], perm_importance_normalized[sorted_idx], color='b', align='center')\n",
        "plt.xlabel('Relative Importance', fontsize=15)\n",
        "plt.xticks(fontsize=15)\n",
        "plt.yticks(fontsize=15)\n",
        "\n",
        "for index, value in enumerate(perm_importance_normalized[sorted_idx]):\n",
        "    plt.text(value, index,\n",
        "             str(round(value,2)), fontsize=15)\n",
        "\n",
        "plt.show()"
      ],
      "metadata": {
        "colab": {
          "base_uri": "https://localhost:8080/",
          "height": 507
        },
        "id": "v1YfjFHG1TYL",
        "outputId": "97abe907-84fe-4d7b-8f28-f7ca509f834d"
      },
      "execution_count": null,
      "outputs": [
        {
          "output_type": "display_data",
          "data": {
            "text/plain": [
              "<Figure size 1300x500 with 1 Axes>"
            ],
            "image/png": "[encoded data removed]"
          },
          "metadata": {}
        }
      ]
    },
    {
      "cell_type": "markdown",
      "source": [
        "El método seleccionó como las variables más importantes a ``ST_Slope``, ``ChestPainType`` y ``Sex``. Lo cual tiene bastante sentido, porque si regresamos al momento de EDA y las visualizaciones que hemos hecho, vimos que por ejemplo para la variable ``Sex`` los hombres eran más propensos a teneer cardiopatías. Y tanto para ``ST_Slope`` como para ``ChestPainType``, dependiendo la categoría de estas variables, era mucha la diferencia de casos positivios entre una de las categorías y el resto. Por lo que si una persona tenía dicha característca, muy probablemente tenga una cardiopatía."
      ],
      "metadata": {
        "id": "a39XNBYXAAdG"
      }
    }
  ]
}