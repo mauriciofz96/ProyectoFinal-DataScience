{
  "nbformat": 4,
  "nbformat_minor": 0,
  "metadata": {
    "colab": {
      "provenance": []
    },
    "kernelspec": {
      "name": "python3",
      "display_name": "Python 3"
    },
    "language_info": {
      "name": "python"
    }
  },
  "cells": [
    {
      "cell_type": "markdown",
      "source": [
        "# Contexto del proyecto"
      ],
      "metadata": {
        "id": "wdMxif2gzkuL"
      }
    },
    {
      "cell_type": "markdown",
      "source": [
        "Es sabido que las enfermedades cardiovasculares son la que, probablemente, más muertes causan en todo el mundo. Se estima que aproximadamente un 30% de las muertes son a causa de este tipo de enfermedades, y por lo general sucede en personas menores de 70 años.\n",
        "\n",
        "En este dataset, contaremos 11 variables que serán de utilidad para poder predecir si la persona posiblemente tiene o no una enfermedad cardiovascular.\n",
        "\n",
        "Las variables son la siguentes:\n",
        "\n",
        "* Age: edad del paciente [años]\n",
        "* Sex: sexo del paciente [M: Masculino, F: Femenino]\n",
        "* ChestPainType: tipo de dolor de pecho [TA: Angina Típica, ATA: Angina atípica, NAP: Dolor no anginoso, ASY: Asintomática]\n",
        "* RestingBP: presión arterial en reposo [mm Hg]\n",
        "* Cholesterol: colesterol sérico [mm/dl]\n",
        "*FastingBS: glucemia en ayunas [1: if FastingBS > 120 mg/dl, 0: caso contrario]\n",
        "*RestingECG: resultados de electrocardiograma en reposo [Normal: Normal, ST: con anomalías en la onda ST-T (inversión de la onda T y/o elevación o depresión del ST > 0,05 mV), LVH: hipertrofia ventricular izquierda probable o definitiva según los criterios de Estes]\n",
        "* MaxHR: frecuencia cardíaca máxima alcanzada [Valor numérico entre 60 y 202]\n",
        "*ExerciseAngina: angina inducida por ejercicio [Y: Si, N: No]\n",
        "*Oldpeak: oldpeak = ST [Valor numérico medido en depresión]\n",
        "* ST_Slope: la pendiente del segmento ST de ejercicio máximo [Up: pendiente ascendente, Flat: plano, Down: pendiente descendente]\n",
        "* HeartDisease: clase de salida [1: cardiopatía , 0: Normal]\n",
        "\n",
        "El principal motivo de este proyecto es poder brindar el análisis realizado a profesionales de la salud, para que éstos puedan utilizarlo como una herramienta y ser asistidos a la hora de tomar una decisión. De modo que a partir del trabajo propuesta, sea más sencilla la tardea de diagnosticar a un paciente."
      ],
      "metadata": {
        "id": "ijRAgnk50QUI"
      }
    },
    {
      "cell_type": "markdown",
      "source": [
        "## Preguntas de interés\n",
        "\n",
        "* ¿Qué relación hay entre la edad de los pacientes y una cardiopatía diagnosticada?\n",
        "* ¿Es más habitual una cardiopatía en hombres o en mujeres?\n",
        "* Tanto en hombres como mujeres, ¿predomina algún tipo de dolor de pecho sobre el resto? ¿si hay cardiopatía diagnosticada, algún tipo de dolor es mas común?\n",
        "* ¿Existe una relación entre una cardiopatía y los valores de glucemia?\n",
        "* ¿Que características del electrocardiograma están  mas asociadas a una cardiopatía?"
      ],
      "metadata": {
        "id": "_tLMJBWoTsQR"
      }
    },
    {
      "cell_type": "markdown",
      "source": [
        "# Importación de librerías necesarias para el proyecto"
      ],
      "metadata": {
        "id": "kNfMCDiY8l5z"
      }
    },
    {
      "cell_type": "code",
      "execution_count": null,
      "metadata": {
        "id": "3QzrN8XD7-oa",
        "colab": {
          "base_uri": "https://localhost:8080/"
        },
        "outputId": "fa2cd1f8-d102-479d-c64a-f1841438fc52"
      },
      "outputs": [
        {
          "output_type": "stream",
          "name": "stdout",
          "text": [
            "Requirement already satisfied: scikit-plot in /usr/local/lib/python3.10/dist-packages (0.3.7)\n",
            "Requirement already satisfied: matplotlib>=1.4.0 in /usr/local/lib/python3.10/dist-packages (from scikit-plot) (3.7.1)\n",
            "Requirement already satisfied: scikit-learn>=0.18 in /usr/local/lib/python3.10/dist-packages (from scikit-plot) (1.2.2)\n",
            "Requirement already satisfied: scipy>=0.9 in /usr/local/lib/python3.10/dist-packages (from scikit-plot) (1.10.1)\n",
            "Requirement already satisfied: joblib>=0.10 in /usr/local/lib/python3.10/dist-packages (from scikit-plot) (1.3.1)\n",
            "Requirement already satisfied: contourpy>=1.0.1 in /usr/local/lib/python3.10/dist-packages (from matplotlib>=1.4.0->scikit-plot) (1.1.0)\n",
            "Requirement already satisfied: cycler>=0.10 in /usr/local/lib/python3.10/dist-packages (from matplotlib>=1.4.0->scikit-plot) (0.11.0)\n",
            "Requirement already satisfied: fonttools>=4.22.0 in /usr/local/lib/python3.10/dist-packages (from matplotlib>=1.4.0->scikit-plot) (4.41.1)\n",
            "Requirement already satisfied: kiwisolver>=1.0.1 in /usr/local/lib/python3.10/dist-packages (from matplotlib>=1.4.0->scikit-plot) (1.4.4)\n",
            "Requirement already satisfied: numpy>=1.20 in /usr/local/lib/python3.10/dist-packages (from matplotlib>=1.4.0->scikit-plot) (1.22.4)\n",
            "Requirement already satisfied: packaging>=20.0 in /usr/local/lib/python3.10/dist-packages (from matplotlib>=1.4.0->scikit-plot) (23.1)\n",
            "Requirement already satisfied: pillow>=6.2.0 in /usr/local/lib/python3.10/dist-packages (from matplotlib>=1.4.0->scikit-plot) (9.4.0)\n",
            "Requirement already satisfied: pyparsing>=2.3.1 in /usr/local/lib/python3.10/dist-packages (from matplotlib>=1.4.0->scikit-plot) (3.1.0)\n",
            "Requirement already satisfied: python-dateutil>=2.7 in /usr/local/lib/python3.10/dist-packages (from matplotlib>=1.4.0->scikit-plot) (2.8.2)\n",
            "Requirement already satisfied: threadpoolctl>=2.0.0 in /usr/local/lib/python3.10/dist-packages (from scikit-learn>=0.18->scikit-plot) (3.2.0)\n",
            "Requirement already satisfied: six>=1.5 in /usr/local/lib/python3.10/dist-packages (from python-dateutil>=2.7->matplotlib>=1.4.0->scikit-plot) (1.16.0)\n"
          ]
        }
      ],
      "source": [
        "import pandas as pd\n",
        "import numpy as np\n",
        "import matplotlib.pyplot as plt\n",
        "import seaborn as sns\n",
        "from sklearn.preprocessing import LabelEncoder,MinMaxScaler,StandardScaler\n",
        "from scipy import stats\n",
        "from scipy.stats import shapiro\n",
        "import statsmodels.api as sm\n",
        "from sklearn.model_selection import train_test_split\n",
        "from sklearn.linear_model import LinearRegression, LogisticRegression\n",
        "from sklearn.svm import SVC\n",
        "from sklearn.metrics import accuracy_score, precision_score,recall_score,f1_score,roc_auc_score\n",
        "from sklearn.metrics import roc_curve, auc\n",
        "from sklearn.metrics import confusion_matrix\n",
        "!pip install scikit-plot\n",
        "import scikitplot as skplt\n",
        "from sklearn.svm import SVC\n",
        "from sklearn.metrics import classification_report\n",
        "from sklearn.tree import DecisionTreeClassifier\n",
        "from sklearn.datasets import make_regression\n",
        "from sklearn.metrics import mean_absolute_error, mean_squared_error, r2_score\n",
        "from scipy.stats import probplot\n",
        "from sklearn.model_selection import StratifiedKFold,GridSearchCV,RandomizedSearchCV"
      ]
    },
    {
      "cell_type": "markdown",
      "source": [
        "# Información del dataset"
      ],
      "metadata": {
        "id": "xgkrJeBJ9ByJ"
      }
    },
    {
      "cell_type": "code",
      "source": [
        "from google.colab import drive\n",
        "import os\n",
        "drive.mount('/content/drive/', force_remount=True)\n",
        "\n",
        "df = pd.read_csv('/content/drive/MyDrive/Colab Notebooks/heart_disease_original.csv')\n",
        "df.head()"
      ],
      "metadata": {
        "colab": {
          "base_uri": "https://localhost:8080/",
          "height": 224
        },
        "id": "XVnLAQ-38Pqg",
        "outputId": "30ca71b5-b6b8-4b33-d098-79fb0f474a23"
      },
      "execution_count": null,
      "outputs": [
        {
          "output_type": "stream",
          "name": "stdout",
          "text": [
            "Mounted at /content/drive/\n"
          ]
        },
        {
          "output_type": "execute_result",
          "data": {
            "text/plain": [
              "   Age Sex ChestPainType  RestingBP  Cholesterol  FastingBS RestingECG  MaxHR  \\\n",
              "0   40   M           ATA        140          289          0     Normal    172   \n",
              "1   49   F           NAP        160          180          0     Normal    156   \n",
              "2   37   M           ATA        130          283          0         ST     98   \n",
              "3   48   F           ASY        138          214          0     Normal    108   \n",
              "4   54   M           NAP        150          195          0     Normal    122   \n",
              "\n",
              "  ExerciseAngina  Oldpeak ST_Slope  HeartDisease  \n",
              "0              N      0.0       Up             0  \n",
              "1              N      1.0     Flat             1  \n",
              "2              N      0.0       Up             0  \n",
              "3              Y      1.5     Flat             1  \n",
              "4              N      0.0       Up             0  "
            ],
            "text/html": [
              "\n",
              "\n",
              "  <div id=\"df-b0bea017-34c7-4e7e-b5b0-1ab45c77a361\">\n",
              "    <div class=\"colab-df-container\">\n",
              "      <div>\n",
              "<style scoped>\n",
              "    .dataframe tbody tr th:only-of-type {\n",
              "        vertical-align: middle;\n",
              "    }\n",
              "\n",
              "    .dataframe tbody tr th {\n",
              "        vertical-align: top;\n",
              "    }\n",
              "\n",
              "    .dataframe thead th {\n",
              "        text-align: right;\n",
              "    }\n",
              "</style>\n",
              "<table border=\"1\" class=\"dataframe\">\n",
              "  <thead>\n",
              "    <tr style=\"text-align: right;\">\n",
              "      <th></th>\n",
              "      <th>Age</th>\n",
              "      <th>Sex</th>\n",
              "      <th>ChestPainType</th>\n",
              "      <th>RestingBP</th>\n",
              "      <th>Cholesterol</th>\n",
              "      <th>FastingBS</th>\n",
              "      <th>RestingECG</th>\n",
              "      <th>MaxHR</th>\n",
              "      <th>ExerciseAngina</th>\n",
              "      <th>Oldpeak</th>\n",
              "      <th>ST_Slope</th>\n",
              "      <th>HeartDisease</th>\n",
              "    </tr>\n",
              "  </thead>\n",
              "  <tbody>\n",
              "    <tr>\n",
              "      <th>0</th>\n",
              "      <td>40</td>\n",
              "      <td>M</td>\n",
              "      <td>ATA</td>\n",
              "      <td>140</td>\n",
              "      <td>289</td>\n",
              "      <td>0</td>\n",
              "      <td>Normal</td>\n",
              "      <td>172</td>\n",
              "      <td>N</td>\n",
              "      <td>0.0</td>\n",
              "      <td>Up</td>\n",
              "      <td>0</td>\n",
              "    </tr>\n",
              "    <tr>\n",
              "      <th>1</th>\n",
              "      <td>49</td>\n",
              "      <td>F</td>\n",
              "      <td>NAP</td>\n",
              "      <td>160</td>\n",
              "      <td>180</td>\n",
              "      <td>0</td>\n",
              "      <td>Normal</td>\n",
              "      <td>156</td>\n",
              "      <td>N</td>\n",
              "      <td>1.0</td>\n",
              "      <td>Flat</td>\n",
              "      <td>1</td>\n",
              "    </tr>\n",
              "    <tr>\n",
              "      <th>2</th>\n",
              "      <td>37</td>\n",
              "      <td>M</td>\n",
              "      <td>ATA</td>\n",
              "      <td>130</td>\n",
              "      <td>283</td>\n",
              "      <td>0</td>\n",
              "      <td>ST</td>\n",
              "      <td>98</td>\n",
              "      <td>N</td>\n",
              "      <td>0.0</td>\n",
              "      <td>Up</td>\n",
              "      <td>0</td>\n",
              "    </tr>\n",
              "    <tr>\n",
              "      <th>3</th>\n",
              "      <td>48</td>\n",
              "      <td>F</td>\n",
              "      <td>ASY</td>\n",
              "      <td>138</td>\n",
              "      <td>214</td>\n",
              "      <td>0</td>\n",
              "      <td>Normal</td>\n",
              "      <td>108</td>\n",
              "      <td>Y</td>\n",
              "      <td>1.5</td>\n",
              "      <td>Flat</td>\n",
              "      <td>1</td>\n",
              "    </tr>\n",
              "    <tr>\n",
              "      <th>4</th>\n",
              "      <td>54</td>\n",
              "      <td>M</td>\n",
              "      <td>NAP</td>\n",
              "      <td>150</td>\n",
              "      <td>195</td>\n",
              "      <td>0</td>\n",
              "      <td>Normal</td>\n",
              "      <td>122</td>\n",
              "      <td>N</td>\n",
              "      <td>0.0</td>\n",
              "      <td>Up</td>\n",
              "      <td>0</td>\n",
              "    </tr>\n",
              "  </tbody>\n",
              "</table>\n",
              "</div>\n",
              "      <button class=\"colab-df-convert\" onclick=\"convertToInteractive('df-b0bea017-34c7-4e7e-b5b0-1ab45c77a361')\"\n",
              "              title=\"Convert this dataframe to an interactive table.\"\n",
              "              style=\"display:none;\">\n",
              "\n",
              "  <svg xmlns=\"http://www.w3.org/2000/svg\" height=\"24px\"viewBox=\"0 0 24 24\"\n",
              "       width=\"24px\">\n",
              "    <path d=\"M0 0h24v24H0V0z\" fill=\"none\"/>\n",
              "    <path d=\"M18.56 5.44l.94 2.06.94-2.06 2.06-.94-2.06-.94-.94-2.06-.94 2.06-2.06.94zm-11 1L8.5 8.5l.94-2.06 2.06-.94-2.06-.94L8.5 2.5l-.94 2.06-2.06.94zm10 10l.94 2.06.94-2.06 2.06-.94-2.06-.94-.94-2.06-.94 2.06-2.06.94z\"/><path d=\"M17.41 7.96l-1.37-1.37c-.4-.4-.92-.59-1.43-.59-.52 0-1.04.2-1.43.59L10.3 9.45l-7.72 7.72c-.78.78-.78 2.05 0 2.83L4 21.41c.39.39.9.59 1.41.59.51 0 1.02-.2 1.41-.59l7.78-7.78 2.81-2.81c.8-.78.8-2.07 0-2.86zM5.41 20L4 18.59l7.72-7.72 1.47 1.35L5.41 20z\"/>\n",
              "  </svg>\n",
              "      </button>\n",
              "\n",
              "\n",
              "\n",
              "    <div id=\"df-e23d2cfb-1ec9-4a36-9139-20483abb0935\">\n",
              "      <button class=\"colab-df-quickchart\" onclick=\"quickchart('df-e23d2cfb-1ec9-4a36-9139-20483abb0935')\"\n",
              "              title=\"Suggest charts.\"\n",
              "              style=\"display:none;\">\n",
              "\n",
              "<svg xmlns=\"http://www.w3.org/2000/svg\" height=\"24px\"viewBox=\"0 0 24 24\"\n",
              "     width=\"24px\">\n",
              "    <g>\n",
              "        <path d=\"M19 3H5c-1.1 0-2 .9-2 2v14c0 1.1.9 2 2 2h14c1.1 0 2-.9 2-2V5c0-1.1-.9-2-2-2zM9 17H7v-7h2v7zm4 0h-2V7h2v10zm4 0h-2v-4h2v4z\"/>\n",
              "    </g>\n",
              "</svg>\n",
              "      </button>\n",
              "    </div>\n",
              "\n",
              "<style>\n",
              "  .colab-df-quickchart {\n",
              "    background-color: #E8F0FE;\n",
              "    border: none;\n",
              "    border-radius: 50%;\n",
              "    cursor: pointer;\n",
              "    display: none;\n",
              "    fill: #1967D2;\n",
              "    height: 32px;\n",
              "    padding: 0 0 0 0;\n",
              "    width: 32px;\n",
              "  }\n",
              "\n",
              "  .colab-df-quickchart:hover {\n",
              "    background-color: #E2EBFA;\n",
              "    box-shadow: 0px 1px 2px rgba(60, 64, 67, 0.3), 0px 1px 3px 1px rgba(60, 64, 67, 0.15);\n",
              "    fill: #174EA6;\n",
              "  }\n",
              "\n",
              "  [theme=dark] .colab-df-quickchart {\n",
              "    background-color: #3B4455;\n",
              "    fill: #D2E3FC;\n",
              "  }\n",
              "\n",
              "  [theme=dark] .colab-df-quickchart:hover {\n",
              "    background-color: #434B5C;\n",
              "    box-shadow: 0px 1px 3px 1px rgba(0, 0, 0, 0.15);\n",
              "    filter: drop-shadow(0px 1px 2px rgba(0, 0, 0, 0.3));\n",
              "    fill: #FFFFFF;\n",
              "  }\n",
              "</style>\n",
              "\n",
              "    <script>\n",
              "      async function quickchart(key) {\n",
              "        const containerElement = document.querySelector('#' + key);\n",
              "        const charts = await google.colab.kernel.invokeFunction(\n",
              "            'suggestCharts', [key], {});\n",
              "      }\n",
              "    </script>\n",
              "\n",
              "      <script>\n",
              "\n",
              "function displayQuickchartButton(domScope) {\n",
              "  let quickchartButtonEl =\n",
              "    domScope.querySelector('#df-e23d2cfb-1ec9-4a36-9139-20483abb0935 button.colab-df-quickchart');\n",
              "  quickchartButtonEl.style.display =\n",
              "    google.colab.kernel.accessAllowed ? 'block' : 'none';\n",
              "}\n",
              "\n",
              "        displayQuickchartButton(document);\n",
              "      </script>\n",
              "      <style>\n",
              "    .colab-df-container {\n",
              "      display:flex;\n",
              "      flex-wrap:wrap;\n",
              "      gap: 12px;\n",
              "    }\n",
              "\n",
              "    .colab-df-convert {\n",
              "      background-color: #E8F0FE;\n",
              "      border: none;\n",
              "      border-radius: 50%;\n",
              "      cursor: pointer;\n",
              "      display: none;\n",
              "      fill: #1967D2;\n",
              "      height: 32px;\n",
              "      padding: 0 0 0 0;\n",
              "      width: 32px;\n",
              "    }\n",
              "\n",
              "    .colab-df-convert:hover {\n",
              "      background-color: #E2EBFA;\n",
              "      box-shadow: 0px 1px 2px rgba(60, 64, 67, 0.3), 0px 1px 3px 1px rgba(60, 64, 67, 0.15);\n",
              "      fill: #174EA6;\n",
              "    }\n",
              "\n",
              "    [theme=dark] .colab-df-convert {\n",
              "      background-color: #3B4455;\n",
              "      fill: #D2E3FC;\n",
              "    }\n",
              "\n",
              "    [theme=dark] .colab-df-convert:hover {\n",
              "      background-color: #434B5C;\n",
              "      box-shadow: 0px 1px 3px 1px rgba(0, 0, 0, 0.15);\n",
              "      filter: drop-shadow(0px 1px 2px rgba(0, 0, 0, 0.3));\n",
              "      fill: #FFFFFF;\n",
              "    }\n",
              "  </style>\n",
              "\n",
              "      <script>\n",
              "        const buttonEl =\n",
              "          document.querySelector('#df-b0bea017-34c7-4e7e-b5b0-1ab45c77a361 button.colab-df-convert');\n",
              "        buttonEl.style.display =\n",
              "          google.colab.kernel.accessAllowed ? 'block' : 'none';\n",
              "\n",
              "        async function convertToInteractive(key) {\n",
              "          const element = document.querySelector('#df-b0bea017-34c7-4e7e-b5b0-1ab45c77a361');\n",
              "          const dataTable =\n",
              "            await google.colab.kernel.invokeFunction('convertToInteractive',\n",
              "                                                     [key], {});\n",
              "          if (!dataTable) return;\n",
              "\n",
              "          const docLinkHtml = 'Like what you see? Visit the ' +\n",
              "            '<a target=\"_blank\" href=https://colab.research.google.com/notebooks/data_table.ipynb>data table notebook</a>'\n",
              "            + ' to learn more about interactive tables.';\n",
              "          element.innerHTML = '';\n",
              "          dataTable['output_type'] = 'display_data';\n",
              "          await google.colab.output.renderOutput(dataTable, element);\n",
              "          const docLink = document.createElement('div');\n",
              "          docLink.innerHTML = docLinkHtml;\n",
              "          element.appendChild(docLink);\n",
              "        }\n",
              "      </script>\n",
              "    </div>\n",
              "  </div>\n"
            ]
          },
          "metadata": {},
          "execution_count": 104
        }
      ]
    },
    {
      "cell_type": "code",
      "source": [
        "# Tamaño del dataset\n",
        "print('El dataset tiene ' + str(df.shape[0]) + ' filas, y ' + str(df.shape[1]) + ' columnas')"
      ],
      "metadata": {
        "colab": {
          "base_uri": "https://localhost:8080/"
        },
        "id": "HJKNaKnv8eug",
        "outputId": "32f55bb1-4641-4873-a711-ac021c20ceeb"
      },
      "execution_count": null,
      "outputs": [
        {
          "output_type": "stream",
          "name": "stdout",
          "text": [
            "El dataset tiene 1268 filas, y 12 columnas\n"
          ]
        }
      ]
    },
    {
      "cell_type": "code",
      "source": [
        "# Verifica si hay filas duplicadas en el dataset\n",
        "duplicados = df.duplicated()\n",
        "\n",
        "# Imprime la cantidad de filas duplicadas\n",
        "print(\"Cantidad de filas duplicadas:\", duplicados.sum())"
      ],
      "metadata": {
        "colab": {
          "base_uri": "https://localhost:8080/"
        },
        "id": "AlsBc51F9RwE",
        "outputId": "8960e5c3-c031-4fb7-8ec6-89a3c92c876c"
      },
      "execution_count": null,
      "outputs": [
        {
          "output_type": "stream",
          "name": "stdout",
          "text": [
            "Cantidad de filas duplicadas: 0\n"
          ]
        }
      ]
    },
    {
      "cell_type": "code",
      "source": [
        "# Veamos un poco más de información\n",
        "df.describe().T"
      ],
      "metadata": {
        "colab": {
          "base_uri": "https://localhost:8080/",
          "height": 269
        },
        "id": "Q5VJhOWS9blf",
        "outputId": "8f8e0dd1-d27c-4aac-8f18-f3f3df3bbced"
      },
      "execution_count": null,
      "outputs": [
        {
          "output_type": "execute_result",
          "data": {
            "text/plain": [
              "               count        mean         std   min    25%    50%    75%    max\n",
              "Age           1268.0   53.282334   11.397009  25.0   46.0   54.0   61.0   79.0\n",
              "RestingBP     1268.0  132.108833   18.009490   0.0  120.0  130.0  140.0  200.0\n",
              "Cholesterol   1268.0  212.899842  105.758904   0.0  175.0  227.5  277.0  603.0\n",
              "FastingBS     1268.0    0.235804    0.424668   0.0    0.0    0.0    0.0    1.0\n",
              "MaxHR         1268.0  137.620662   25.372156  60.0  120.0  140.0  157.0  202.0\n",
              "Oldpeak       1268.0    0.882571    1.069534  -2.6    0.0    0.5    1.5    6.2\n",
              "HeartDisease  1268.0    0.541009    0.498512   0.0    0.0    1.0    1.0    1.0"
            ],
            "text/html": [
              "\n",
              "\n",
              "  <div id=\"df-a617f75d-611f-4f92-8fa1-bb6c6af25bb0\">\n",
              "    <div class=\"colab-df-container\">\n",
              "      <div>\n",
              "<style scoped>\n",
              "    .dataframe tbody tr th:only-of-type {\n",
              "        vertical-align: middle;\n",
              "    }\n",
              "\n",
              "    .dataframe tbody tr th {\n",
              "        vertical-align: top;\n",
              "    }\n",
              "\n",
              "    .dataframe thead th {\n",
              "        text-align: right;\n",
              "    }\n",
              "</style>\n",
              "<table border=\"1\" class=\"dataframe\">\n",
              "  <thead>\n",
              "    <tr style=\"text-align: right;\">\n",
              "      <th></th>\n",
              "      <th>count</th>\n",
              "      <th>mean</th>\n",
              "      <th>std</th>\n",
              "      <th>min</th>\n",
              "      <th>25%</th>\n",
              "      <th>50%</th>\n",
              "      <th>75%</th>\n",
              "      <th>max</th>\n",
              "    </tr>\n",
              "  </thead>\n",
              "  <tbody>\n",
              "    <tr>\n",
              "      <th>Age</th>\n",
              "      <td>1268.0</td>\n",
              "      <td>53.282334</td>\n",
              "      <td>11.397009</td>\n",
              "      <td>25.0</td>\n",
              "      <td>46.0</td>\n",
              "      <td>54.0</td>\n",
              "      <td>61.0</td>\n",
              "      <td>79.0</td>\n",
              "    </tr>\n",
              "    <tr>\n",
              "      <th>RestingBP</th>\n",
              "      <td>1268.0</td>\n",
              "      <td>132.108833</td>\n",
              "      <td>18.009490</td>\n",
              "      <td>0.0</td>\n",
              "      <td>120.0</td>\n",
              "      <td>130.0</td>\n",
              "      <td>140.0</td>\n",
              "      <td>200.0</td>\n",
              "    </tr>\n",
              "    <tr>\n",
              "      <th>Cholesterol</th>\n",
              "      <td>1268.0</td>\n",
              "      <td>212.899842</td>\n",
              "      <td>105.758904</td>\n",
              "      <td>0.0</td>\n",
              "      <td>175.0</td>\n",
              "      <td>227.5</td>\n",
              "      <td>277.0</td>\n",
              "      <td>603.0</td>\n",
              "    </tr>\n",
              "    <tr>\n",
              "      <th>FastingBS</th>\n",
              "      <td>1268.0</td>\n",
              "      <td>0.235804</td>\n",
              "      <td>0.424668</td>\n",
              "      <td>0.0</td>\n",
              "      <td>0.0</td>\n",
              "      <td>0.0</td>\n",
              "      <td>0.0</td>\n",
              "      <td>1.0</td>\n",
              "    </tr>\n",
              "    <tr>\n",
              "      <th>MaxHR</th>\n",
              "      <td>1268.0</td>\n",
              "      <td>137.620662</td>\n",
              "      <td>25.372156</td>\n",
              "      <td>60.0</td>\n",
              "      <td>120.0</td>\n",
              "      <td>140.0</td>\n",
              "      <td>157.0</td>\n",
              "      <td>202.0</td>\n",
              "    </tr>\n",
              "    <tr>\n",
              "      <th>Oldpeak</th>\n",
              "      <td>1268.0</td>\n",
              "      <td>0.882571</td>\n",
              "      <td>1.069534</td>\n",
              "      <td>-2.6</td>\n",
              "      <td>0.0</td>\n",
              "      <td>0.5</td>\n",
              "      <td>1.5</td>\n",
              "      <td>6.2</td>\n",
              "    </tr>\n",
              "    <tr>\n",
              "      <th>HeartDisease</th>\n",
              "      <td>1268.0</td>\n",
              "      <td>0.541009</td>\n",
              "      <td>0.498512</td>\n",
              "      <td>0.0</td>\n",
              "      <td>0.0</td>\n",
              "      <td>1.0</td>\n",
              "      <td>1.0</td>\n",
              "      <td>1.0</td>\n",
              "    </tr>\n",
              "  </tbody>\n",
              "</table>\n",
              "</div>\n",
              "      <button class=\"colab-df-convert\" onclick=\"convertToInteractive('df-a617f75d-611f-4f92-8fa1-bb6c6af25bb0')\"\n",
              "              title=\"Convert this dataframe to an interactive table.\"\n",
              "              style=\"display:none;\">\n",
              "\n",
              "  <svg xmlns=\"http://www.w3.org/2000/svg\" height=\"24px\"viewBox=\"0 0 24 24\"\n",
              "       width=\"24px\">\n",
              "    <path d=\"M0 0h24v24H0V0z\" fill=\"none\"/>\n",
              "    <path d=\"M18.56 5.44l.94 2.06.94-2.06 2.06-.94-2.06-.94-.94-2.06-.94 2.06-2.06.94zm-11 1L8.5 8.5l.94-2.06 2.06-.94-2.06-.94L8.5 2.5l-.94 2.06-2.06.94zm10 10l.94 2.06.94-2.06 2.06-.94-2.06-.94-.94-2.06-.94 2.06-2.06.94z\"/><path d=\"M17.41 7.96l-1.37-1.37c-.4-.4-.92-.59-1.43-.59-.52 0-1.04.2-1.43.59L10.3 9.45l-7.72 7.72c-.78.78-.78 2.05 0 2.83L4 21.41c.39.39.9.59 1.41.59.51 0 1.02-.2 1.41-.59l7.78-7.78 2.81-2.81c.8-.78.8-2.07 0-2.86zM5.41 20L4 18.59l7.72-7.72 1.47 1.35L5.41 20z\"/>\n",
              "  </svg>\n",
              "      </button>\n",
              "\n",
              "\n",
              "\n",
              "    <div id=\"df-ce5545eb-a5b0-47bb-82e9-ea47c2c5a95c\">\n",
              "      <button class=\"colab-df-quickchart\" onclick=\"quickchart('df-ce5545eb-a5b0-47bb-82e9-ea47c2c5a95c')\"\n",
              "              title=\"Suggest charts.\"\n",
              "              style=\"display:none;\">\n",
              "\n",
              "<svg xmlns=\"http://www.w3.org/2000/svg\" height=\"24px\"viewBox=\"0 0 24 24\"\n",
              "     width=\"24px\">\n",
              "    <g>\n",
              "        <path d=\"M19 3H5c-1.1 0-2 .9-2 2v14c0 1.1.9 2 2 2h14c1.1 0 2-.9 2-2V5c0-1.1-.9-2-2-2zM9 17H7v-7h2v7zm4 0h-2V7h2v10zm4 0h-2v-4h2v4z\"/>\n",
              "    </g>\n",
              "</svg>\n",
              "      </button>\n",
              "    </div>\n",
              "\n",
              "<style>\n",
              "  .colab-df-quickchart {\n",
              "    background-color: #E8F0FE;\n",
              "    border: none;\n",
              "    border-radius: 50%;\n",
              "    cursor: pointer;\n",
              "    display: none;\n",
              "    fill: #1967D2;\n",
              "    height: 32px;\n",
              "    padding: 0 0 0 0;\n",
              "    width: 32px;\n",
              "  }\n",
              "\n",
              "  .colab-df-quickchart:hover {\n",
              "    background-color: #E2EBFA;\n",
              "    box-shadow: 0px 1px 2px rgba(60, 64, 67, 0.3), 0px 1px 3px 1px rgba(60, 64, 67, 0.15);\n",
              "    fill: #174EA6;\n",
              "  }\n",
              "\n",
              "  [theme=dark] .colab-df-quickchart {\n",
              "    background-color: #3B4455;\n",
              "    fill: #D2E3FC;\n",
              "  }\n",
              "\n",
              "  [theme=dark] .colab-df-quickchart:hover {\n",
              "    background-color: #434B5C;\n",
              "    box-shadow: 0px 1px 3px 1px rgba(0, 0, 0, 0.15);\n",
              "    filter: drop-shadow(0px 1px 2px rgba(0, 0, 0, 0.3));\n",
              "    fill: #FFFFFF;\n",
              "  }\n",
              "</style>\n",
              "\n",
              "    <script>\n",
              "      async function quickchart(key) {\n",
              "        const containerElement = document.querySelector('#' + key);\n",
              "        const charts = await google.colab.kernel.invokeFunction(\n",
              "            'suggestCharts', [key], {});\n",
              "      }\n",
              "    </script>\n",
              "\n",
              "      <script>\n",
              "\n",
              "function displayQuickchartButton(domScope) {\n",
              "  let quickchartButtonEl =\n",
              "    domScope.querySelector('#df-ce5545eb-a5b0-47bb-82e9-ea47c2c5a95c button.colab-df-quickchart');\n",
              "  quickchartButtonEl.style.display =\n",
              "    google.colab.kernel.accessAllowed ? 'block' : 'none';\n",
              "}\n",
              "\n",
              "        displayQuickchartButton(document);\n",
              "      </script>\n",
              "      <style>\n",
              "    .colab-df-container {\n",
              "      display:flex;\n",
              "      flex-wrap:wrap;\n",
              "      gap: 12px;\n",
              "    }\n",
              "\n",
              "    .colab-df-convert {\n",
              "      background-color: #E8F0FE;\n",
              "      border: none;\n",
              "      border-radius: 50%;\n",
              "      cursor: pointer;\n",
              "      display: none;\n",
              "      fill: #1967D2;\n",
              "      height: 32px;\n",
              "      padding: 0 0 0 0;\n",
              "      width: 32px;\n",
              "    }\n",
              "\n",
              "    .colab-df-convert:hover {\n",
              "      background-color: #E2EBFA;\n",
              "      box-shadow: 0px 1px 2px rgba(60, 64, 67, 0.3), 0px 1px 3px 1px rgba(60, 64, 67, 0.15);\n",
              "      fill: #174EA6;\n",
              "    }\n",
              "\n",
              "    [theme=dark] .colab-df-convert {\n",
              "      background-color: #3B4455;\n",
              "      fill: #D2E3FC;\n",
              "    }\n",
              "\n",
              "    [theme=dark] .colab-df-convert:hover {\n",
              "      background-color: #434B5C;\n",
              "      box-shadow: 0px 1px 3px 1px rgba(0, 0, 0, 0.15);\n",
              "      filter: drop-shadow(0px 1px 2px rgba(0, 0, 0, 0.3));\n",
              "      fill: #FFFFFF;\n",
              "    }\n",
              "  </style>\n",
              "\n",
              "      <script>\n",
              "        const buttonEl =\n",
              "          document.querySelector('#df-a617f75d-611f-4f92-8fa1-bb6c6af25bb0 button.colab-df-convert');\n",
              "        buttonEl.style.display =\n",
              "          google.colab.kernel.accessAllowed ? 'block' : 'none';\n",
              "\n",
              "        async function convertToInteractive(key) {\n",
              "          const element = document.querySelector('#df-a617f75d-611f-4f92-8fa1-bb6c6af25bb0');\n",
              "          const dataTable =\n",
              "            await google.colab.kernel.invokeFunction('convertToInteractive',\n",
              "                                                     [key], {});\n",
              "          if (!dataTable) return;\n",
              "\n",
              "          const docLinkHtml = 'Like what you see? Visit the ' +\n",
              "            '<a target=\"_blank\" href=https://colab.research.google.com/notebooks/data_table.ipynb>data table notebook</a>'\n",
              "            + ' to learn more about interactive tables.';\n",
              "          element.innerHTML = '';\n",
              "          dataTable['output_type'] = 'display_data';\n",
              "          await google.colab.output.renderOutput(dataTable, element);\n",
              "          const docLink = document.createElement('div');\n",
              "          docLink.innerHTML = docLinkHtml;\n",
              "          element.appendChild(docLink);\n",
              "        }\n",
              "      </script>\n",
              "    </div>\n",
              "  </div>\n"
            ]
          },
          "metadata": {},
          "execution_count": 107
        }
      ]
    },
    {
      "cell_type": "code",
      "source": [
        "# Busquemos valores nulos en las variables\n",
        "df.info()"
      ],
      "metadata": {
        "colab": {
          "base_uri": "https://localhost:8080/"
        },
        "id": "RVCzqbyw-7-z",
        "outputId": "c29eeff4-5fa6-4aba-a668-063e545cb20d"
      },
      "execution_count": null,
      "outputs": [
        {
          "output_type": "stream",
          "name": "stdout",
          "text": [
            "<class 'pandas.core.frame.DataFrame'>\n",
            "RangeIndex: 1268 entries, 0 to 1267\n",
            "Data columns (total 12 columns):\n",
            " #   Column          Non-Null Count  Dtype  \n",
            "---  ------          --------------  -----  \n",
            " 0   Age             1268 non-null   int64  \n",
            " 1   Sex             1268 non-null   object \n",
            " 2   ChestPainType   1268 non-null   object \n",
            " 3   RestingBP       1268 non-null   int64  \n",
            " 4   Cholesterol     1268 non-null   int64  \n",
            " 5   FastingBS       1268 non-null   int64  \n",
            " 6   RestingECG      1268 non-null   object \n",
            " 7   MaxHR           1268 non-null   int64  \n",
            " 8   ExerciseAngina  1268 non-null   object \n",
            " 9   Oldpeak         1268 non-null   float64\n",
            " 10  ST_Slope        1268 non-null   object \n",
            " 11  HeartDisease    1268 non-null   int64  \n",
            "dtypes: float64(1), int64(6), object(5)\n",
            "memory usage: 119.0+ KB\n"
          ]
        }
      ]
    },
    {
      "cell_type": "markdown",
      "source": [
        "El dataset no posee valores nulos."
      ],
      "metadata": {
        "id": "eL2NEWQ0_UKI"
      }
    },
    {
      "cell_type": "code",
      "source": [
        "# veamos que cantidad de personas de cada sexo hay registradas\n",
        "df['Sex'].value_counts()"
      ],
      "metadata": {
        "colab": {
          "base_uri": "https://localhost:8080/"
        },
        "id": "TOmab76T__pl",
        "outputId": "061cc584-dfec-4dea-d070-c3b3575e904a"
      },
      "execution_count": null,
      "outputs": [
        {
          "output_type": "execute_result",
          "data": {
            "text/plain": [
              "M    890\n",
              "F    378\n",
              "Name: Sex, dtype: int64"
            ]
          },
          "metadata": {},
          "execution_count": 109
        }
      ]
    },
    {
      "cell_type": "code",
      "source": [
        "# veamos cuantos casos positivos (1) y negativos (0) hay registrados\n",
        "df['HeartDisease'].value_counts()"
      ],
      "metadata": {
        "colab": {
          "base_uri": "https://localhost:8080/"
        },
        "id": "wn9ILt1cedav",
        "outputId": "a5da3ed4-4390-4885-c7a0-6f46e49c4251"
      },
      "execution_count": null,
      "outputs": [
        {
          "output_type": "execute_result",
          "data": {
            "text/plain": [
              "1    686\n",
              "0    582\n",
              "Name: HeartDisease, dtype: int64"
            ]
          },
          "metadata": {},
          "execution_count": 110
        }
      ]
    },
    {
      "cell_type": "markdown",
      "source": [
        "Uno de los fines de este proyecto será poder predecir si la persona tiene o tendrá una enfermedad del corazón. En este caso la variable que queremos predecir es ``HeartDisease``.\n",
        "A fines prácticas y para evitar confusiones, cambiaremos el nombre de la variable a ``Outcome``."
      ],
      "metadata": {
        "id": "QV0j_S-MBT7I"
      }
    },
    {
      "cell_type": "code",
      "source": [
        "df.HeartDisease = df.rename({'HeartDisease':'Outcome'},inplace = True,axis =1)\n",
        "df.head()"
      ],
      "metadata": {
        "colab": {
          "base_uri": "https://localhost:8080/",
          "height": 206
        },
        "id": "afeUcP_xAW6O",
        "outputId": "eceac902-eae2-49a4-ab2d-bd224c341519"
      },
      "execution_count": null,
      "outputs": [
        {
          "output_type": "execute_result",
          "data": {
            "text/plain": [
              "   Age Sex ChestPainType  RestingBP  Cholesterol  FastingBS RestingECG  MaxHR  \\\n",
              "0   40   M           ATA        140          289          0     Normal    172   \n",
              "1   49   F           NAP        160          180          0     Normal    156   \n",
              "2   37   M           ATA        130          283          0         ST     98   \n",
              "3   48   F           ASY        138          214          0     Normal    108   \n",
              "4   54   M           NAP        150          195          0     Normal    122   \n",
              "\n",
              "  ExerciseAngina  Oldpeak ST_Slope  Outcome  \n",
              "0              N      0.0       Up        0  \n",
              "1              N      1.0     Flat        1  \n",
              "2              N      0.0       Up        0  \n",
              "3              Y      1.5     Flat        1  \n",
              "4              N      0.0       Up        0  "
            ],
            "text/html": [
              "\n",
              "\n",
              "  <div id=\"df-bc7ff6e6-08d4-49be-b625-3c759037e6ff\">\n",
              "    <div class=\"colab-df-container\">\n",
              "      <div>\n",
              "<style scoped>\n",
              "    .dataframe tbody tr th:only-of-type {\n",
              "        vertical-align: middle;\n",
              "    }\n",
              "\n",
              "    .dataframe tbody tr th {\n",
              "        vertical-align: top;\n",
              "    }\n",
              "\n",
              "    .dataframe thead th {\n",
              "        text-align: right;\n",
              "    }\n",
              "</style>\n",
              "<table border=\"1\" class=\"dataframe\">\n",
              "  <thead>\n",
              "    <tr style=\"text-align: right;\">\n",
              "      <th></th>\n",
              "      <th>Age</th>\n",
              "      <th>Sex</th>\n",
              "      <th>ChestPainType</th>\n",
              "      <th>RestingBP</th>\n",
              "      <th>Cholesterol</th>\n",
              "      <th>FastingBS</th>\n",
              "      <th>RestingECG</th>\n",
              "      <th>MaxHR</th>\n",
              "      <th>ExerciseAngina</th>\n",
              "      <th>Oldpeak</th>\n",
              "      <th>ST_Slope</th>\n",
              "      <th>Outcome</th>\n",
              "    </tr>\n",
              "  </thead>\n",
              "  <tbody>\n",
              "    <tr>\n",
              "      <th>0</th>\n",
              "      <td>40</td>\n",
              "      <td>M</td>\n",
              "      <td>ATA</td>\n",
              "      <td>140</td>\n",
              "      <td>289</td>\n",
              "      <td>0</td>\n",
              "      <td>Normal</td>\n",
              "      <td>172</td>\n",
              "      <td>N</td>\n",
              "      <td>0.0</td>\n",
              "      <td>Up</td>\n",
              "      <td>0</td>\n",
              "    </tr>\n",
              "    <tr>\n",
              "      <th>1</th>\n",
              "      <td>49</td>\n",
              "      <td>F</td>\n",
              "      <td>NAP</td>\n",
              "      <td>160</td>\n",
              "      <td>180</td>\n",
              "      <td>0</td>\n",
              "      <td>Normal</td>\n",
              "      <td>156</td>\n",
              "      <td>N</td>\n",
              "      <td>1.0</td>\n",
              "      <td>Flat</td>\n",
              "      <td>1</td>\n",
              "    </tr>\n",
              "    <tr>\n",
              "      <th>2</th>\n",
              "      <td>37</td>\n",
              "      <td>M</td>\n",
              "      <td>ATA</td>\n",
              "      <td>130</td>\n",
              "      <td>283</td>\n",
              "      <td>0</td>\n",
              "      <td>ST</td>\n",
              "      <td>98</td>\n",
              "      <td>N</td>\n",
              "      <td>0.0</td>\n",
              "      <td>Up</td>\n",
              "      <td>0</td>\n",
              "    </tr>\n",
              "    <tr>\n",
              "      <th>3</th>\n",
              "      <td>48</td>\n",
              "      <td>F</td>\n",
              "      <td>ASY</td>\n",
              "      <td>138</td>\n",
              "      <td>214</td>\n",
              "      <td>0</td>\n",
              "      <td>Normal</td>\n",
              "      <td>108</td>\n",
              "      <td>Y</td>\n",
              "      <td>1.5</td>\n",
              "      <td>Flat</td>\n",
              "      <td>1</td>\n",
              "    </tr>\n",
              "    <tr>\n",
              "      <th>4</th>\n",
              "      <td>54</td>\n",
              "      <td>M</td>\n",
              "      <td>NAP</td>\n",
              "      <td>150</td>\n",
              "      <td>195</td>\n",
              "      <td>0</td>\n",
              "      <td>Normal</td>\n",
              "      <td>122</td>\n",
              "      <td>N</td>\n",
              "      <td>0.0</td>\n",
              "      <td>Up</td>\n",
              "      <td>0</td>\n",
              "    </tr>\n",
              "  </tbody>\n",
              "</table>\n",
              "</div>\n",
              "      <button class=\"colab-df-convert\" onclick=\"convertToInteractive('df-bc7ff6e6-08d4-49be-b625-3c759037e6ff')\"\n",
              "              title=\"Convert this dataframe to an interactive table.\"\n",
              "              style=\"display:none;\">\n",
              "\n",
              "  <svg xmlns=\"http://www.w3.org/2000/svg\" height=\"24px\"viewBox=\"0 0 24 24\"\n",
              "       width=\"24px\">\n",
              "    <path d=\"M0 0h24v24H0V0z\" fill=\"none\"/>\n",
              "    <path d=\"M18.56 5.44l.94 2.06.94-2.06 2.06-.94-2.06-.94-.94-2.06-.94 2.06-2.06.94zm-11 1L8.5 8.5l.94-2.06 2.06-.94-2.06-.94L8.5 2.5l-.94 2.06-2.06.94zm10 10l.94 2.06.94-2.06 2.06-.94-2.06-.94-.94-2.06-.94 2.06-2.06.94z\"/><path d=\"M17.41 7.96l-1.37-1.37c-.4-.4-.92-.59-1.43-.59-.52 0-1.04.2-1.43.59L10.3 9.45l-7.72 7.72c-.78.78-.78 2.05 0 2.83L4 21.41c.39.39.9.59 1.41.59.51 0 1.02-.2 1.41-.59l7.78-7.78 2.81-2.81c.8-.78.8-2.07 0-2.86zM5.41 20L4 18.59l7.72-7.72 1.47 1.35L5.41 20z\"/>\n",
              "  </svg>\n",
              "      </button>\n",
              "\n",
              "\n",
              "\n",
              "    <div id=\"df-d466dce5-a2ef-48f5-9fb6-c2da74670a9e\">\n",
              "      <button class=\"colab-df-quickchart\" onclick=\"quickchart('df-d466dce5-a2ef-48f5-9fb6-c2da74670a9e')\"\n",
              "              title=\"Suggest charts.\"\n",
              "              style=\"display:none;\">\n",
              "\n",
              "<svg xmlns=\"http://www.w3.org/2000/svg\" height=\"24px\"viewBox=\"0 0 24 24\"\n",
              "     width=\"24px\">\n",
              "    <g>\n",
              "        <path d=\"M19 3H5c-1.1 0-2 .9-2 2v14c0 1.1.9 2 2 2h14c1.1 0 2-.9 2-2V5c0-1.1-.9-2-2-2zM9 17H7v-7h2v7zm4 0h-2V7h2v10zm4 0h-2v-4h2v4z\"/>\n",
              "    </g>\n",
              "</svg>\n",
              "      </button>\n",
              "    </div>\n",
              "\n",
              "<style>\n",
              "  .colab-df-quickchart {\n",
              "    background-color: #E8F0FE;\n",
              "    border: none;\n",
              "    border-radius: 50%;\n",
              "    cursor: pointer;\n",
              "    display: none;\n",
              "    fill: #1967D2;\n",
              "    height: 32px;\n",
              "    padding: 0 0 0 0;\n",
              "    width: 32px;\n",
              "  }\n",
              "\n",
              "  .colab-df-quickchart:hover {\n",
              "    background-color: #E2EBFA;\n",
              "    box-shadow: 0px 1px 2px rgba(60, 64, 67, 0.3), 0px 1px 3px 1px rgba(60, 64, 67, 0.15);\n",
              "    fill: #174EA6;\n",
              "  }\n",
              "\n",
              "  [theme=dark] .colab-df-quickchart {\n",
              "    background-color: #3B4455;\n",
              "    fill: #D2E3FC;\n",
              "  }\n",
              "\n",
              "  [theme=dark] .colab-df-quickchart:hover {\n",
              "    background-color: #434B5C;\n",
              "    box-shadow: 0px 1px 3px 1px rgba(0, 0, 0, 0.15);\n",
              "    filter: drop-shadow(0px 1px 2px rgba(0, 0, 0, 0.3));\n",
              "    fill: #FFFFFF;\n",
              "  }\n",
              "</style>\n",
              "\n",
              "    <script>\n",
              "      async function quickchart(key) {\n",
              "        const containerElement = document.querySelector('#' + key);\n",
              "        const charts = await google.colab.kernel.invokeFunction(\n",
              "            'suggestCharts', [key], {});\n",
              "      }\n",
              "    </script>\n",
              "\n",
              "      <script>\n",
              "\n",
              "function displayQuickchartButton(domScope) {\n",
              "  let quickchartButtonEl =\n",
              "    domScope.querySelector('#df-d466dce5-a2ef-48f5-9fb6-c2da74670a9e button.colab-df-quickchart');\n",
              "  quickchartButtonEl.style.display =\n",
              "    google.colab.kernel.accessAllowed ? 'block' : 'none';\n",
              "}\n",
              "\n",
              "        displayQuickchartButton(document);\n",
              "      </script>\n",
              "      <style>\n",
              "    .colab-df-container {\n",
              "      display:flex;\n",
              "      flex-wrap:wrap;\n",
              "      gap: 12px;\n",
              "    }\n",
              "\n",
              "    .colab-df-convert {\n",
              "      background-color: #E8F0FE;\n",
              "      border: none;\n",
              "      border-radius: 50%;\n",
              "      cursor: pointer;\n",
              "      display: none;\n",
              "      fill: #1967D2;\n",
              "      height: 32px;\n",
              "      padding: 0 0 0 0;\n",
              "      width: 32px;\n",
              "    }\n",
              "\n",
              "    .colab-df-convert:hover {\n",
              "      background-color: #E2EBFA;\n",
              "      box-shadow: 0px 1px 2px rgba(60, 64, 67, 0.3), 0px 1px 3px 1px rgba(60, 64, 67, 0.15);\n",
              "      fill: #174EA6;\n",
              "    }\n",
              "\n",
              "    [theme=dark] .colab-df-convert {\n",
              "      background-color: #3B4455;\n",
              "      fill: #D2E3FC;\n",
              "    }\n",
              "\n",
              "    [theme=dark] .colab-df-convert:hover {\n",
              "      background-color: #434B5C;\n",
              "      box-shadow: 0px 1px 3px 1px rgba(0, 0, 0, 0.15);\n",
              "      filter: drop-shadow(0px 1px 2px rgba(0, 0, 0, 0.3));\n",
              "      fill: #FFFFFF;\n",
              "    }\n",
              "  </style>\n",
              "\n",
              "      <script>\n",
              "        const buttonEl =\n",
              "          document.querySelector('#df-bc7ff6e6-08d4-49be-b625-3c759037e6ff button.colab-df-convert');\n",
              "        buttonEl.style.display =\n",
              "          google.colab.kernel.accessAllowed ? 'block' : 'none';\n",
              "\n",
              "        async function convertToInteractive(key) {\n",
              "          const element = document.querySelector('#df-bc7ff6e6-08d4-49be-b625-3c759037e6ff');\n",
              "          const dataTable =\n",
              "            await google.colab.kernel.invokeFunction('convertToInteractive',\n",
              "                                                     [key], {});\n",
              "          if (!dataTable) return;\n",
              "\n",
              "          const docLinkHtml = 'Like what you see? Visit the ' +\n",
              "            '<a target=\"_blank\" href=https://colab.research.google.com/notebooks/data_table.ipynb>data table notebook</a>'\n",
              "            + ' to learn more about interactive tables.';\n",
              "          element.innerHTML = '';\n",
              "          dataTable['output_type'] = 'display_data';\n",
              "          await google.colab.output.renderOutput(dataTable, element);\n",
              "          const docLink = document.createElement('div');\n",
              "          docLink.innerHTML = docLinkHtml;\n",
              "          element.appendChild(docLink);\n",
              "        }\n",
              "      </script>\n",
              "    </div>\n",
              "  </div>\n"
            ]
          },
          "metadata": {},
          "execution_count": 111
        }
      ]
    },
    {
      "cell_type": "markdown",
      "source": [
        "# Data Wrangling y Exploratory Data Analysis."
      ],
      "metadata": {
        "id": "doNj0nD5Eiqf"
      }
    },
    {
      "cell_type": "markdown",
      "source": [
        "En la etapa de Data Wrangling, justamente, haremos la preparación de los datos. En este proceso se hara una limpieza, transformación y preparación de los datos para un futuro análisis. Esto incluye: eliminación de datos duplicados, transformación del tipo de dato a uno adecuado si así se requiere, detección y eleminación de valor atípicos (outliers), y otros procesos."
      ],
      "metadata": {
        "id": "QhcN2ByMKXBQ"
      }
    },
    {
      "cell_type": "markdown",
      "source": [
        "La etapa de EDA, abarca la exploración y la comprensión de los datos para obtener información. Esto incluye la visualización de datos utilizando gráficos y tablas para identificar patrones, tendencias, valores atípicos y relaciones entre variables. El objetivo del EDA es obtener una comprensión profunda de los datos antes de realizar el análisis estadístico o modelización."
      ],
      "metadata": {
        "id": "tjNGWnX1LJ2N"
      }
    },
    {
      "cell_type": "markdown",
      "source": [
        "## DW (Data Wrangling)"
      ],
      "metadata": {
        "id": "iEl7ay7lwtzu"
      }
    },
    {
      "cell_type": "markdown",
      "source": [
        "El proceso de Data Wrangling estará compuesto, en aspectos generales, a la limpieza y preparación de datos. Es decir: detección y eleminación de valores atípicos, eliminación de valores duplicados, transformar los tipos de datos a uno adecuado, normalización de variables, etc."
      ],
      "metadata": {
        "id": "u4tloA0syc_f"
      }
    },
    {
      "cell_type": "markdown",
      "source": [
        "Dejemos el df con el dataset original, y hagamos una copia del df en el cual haremos dichos procesos."
      ],
      "metadata": {
        "id": "VRCm5q2vz9lh"
      }
    },
    {
      "cell_type": "code",
      "source": [
        "df_copy = df.copy(deep = True)"
      ],
      "metadata": {
        "id": "jYR3Hbe0wvH_"
      },
      "execution_count": null,
      "outputs": []
    },
    {
      "cell_type": "markdown",
      "source": [
        "### Distribución de las variables y eliminación de outiliers"
      ],
      "metadata": {
        "id": "BUzNZzFvJxzJ"
      }
    },
    {
      "cell_type": "markdown",
      "source": [
        "Parece ser que la variable Cholesterol contiene muchos registros nulos, vemos que porcentaje abarcan, de modo de saber cómo tratar estos valores."
      ],
      "metadata": {
        "id": "WnwIzMVGoOCg"
      }
    },
    {
      "cell_type": "code",
      "source": [
        "df_copy.Cholesterol.value_counts(dropna=False)"
      ],
      "metadata": {
        "colab": {
          "base_uri": "https://localhost:8080/"
        },
        "id": "Jn_7akzJoNgp",
        "outputId": "8ae7fc9e-05e2-40bc-90b5-22600bf1c725"
      },
      "execution_count": null,
      "outputs": [
        {
          "output_type": "execute_result",
          "data": {
            "text/plain": [
              "0      172\n",
              "211     12\n",
              "220     12\n",
              "254     11\n",
              "263     11\n",
              "      ... \n",
              "321      1\n",
              "529      1\n",
              "409      1\n",
              "156      1\n",
              "372      1\n",
              "Name: Cholesterol, Length: 286, dtype: int64"
            ]
          },
          "metadata": {},
          "execution_count": 113
        }
      ]
    },
    {
      "cell_type": "markdown",
      "source": [
        "Es decir que de los 1268 registros, 172 son nulos, es decir: aproximadamente 13,56% de los registros son nulos.\n",
        "\n",
        "A fin de mantener un dataset con suficientes registros, no los eliminaremos."
      ],
      "metadata": {
        "id": "V8PL-eIjohTp"
      }
    },
    {
      "cell_type": "markdown",
      "source": [
        "Para la eliminación de valores atípicos, previamente tenemos que analizar la distribución de los datos, por ejemplo haciendo uso de tests estadísticos (como podría ser el de Shapiro-Wilk). Según si la distribución sea normal o no usaremos distintos métodos para eliminar los outliers.\n",
        "\n",
        "En caso que sea normal usaremos **z-scores**. Si no es normal **IQR (rango intercuartil)**."
      ],
      "metadata": {
        "id": "rUvX_ZC6J35I"
      }
    },
    {
      "cell_type": "code",
      "source": [
        "# Creemos una función para aplicar el test de Shapiro-Wilk, con la librería scipy\n",
        "#si el resultado del test es mayor a 0.5 no se puede rechazar la hipotesis nula (la distribución es normal)\n",
        "#en caso contrario, se rechaza la hipótesis (no sigue distribución normal)\n",
        "def shapiro_wilk_test(data, alpha=0.5):\n",
        "    stat, p = shapiro(data)\n",
        "    if p > alpha:\n",
        "        print('No se puede rechazar la hipótesis nula (los datos siguen una distribución normal)')\n",
        "    else:\n",
        "        print('Se rechaza la hipótesis nula (los datos no siguen una distribución normal)')"
      ],
      "metadata": {
        "id": "ZymVl7O5LRVG"
      },
      "execution_count": null,
      "outputs": []
    },
    {
      "cell_type": "markdown",
      "source": [
        "#### Age"
      ],
      "metadata": {
        "id": "koYwVifwN9mh"
      }
    },
    {
      "cell_type": "code",
      "source": [
        "shapiro_wilk_test(df_copy['Age'],alpha=0.5)"
      ],
      "metadata": {
        "colab": {
          "base_uri": "https://localhost:8080/"
        },
        "id": "ao65WXKROAOo",
        "outputId": "5fa418a3-261b-490a-e124-5b0464014acb"
      },
      "execution_count": null,
      "outputs": [
        {
          "output_type": "stream",
          "name": "stdout",
          "text": [
            "Se rechaza la hipótesis nula (los datos no siguen una distribución normal)\n"
          ]
        }
      ]
    },
    {
      "cell_type": "markdown",
      "source": [
        "Como la distribución no es normal, debemos usar el test de IQR."
      ],
      "metadata": {
        "id": "zC0JQwkKOqmn"
      }
    },
    {
      "cell_type": "code",
      "source": [
        "Q1 = df_copy['Age'].quantile(.25)\n",
        "Q3 = df_copy['Age'].quantile(.75)\n",
        "IQR = Q3 - Q1\n",
        "\n",
        "limiteinf = Q1 - 1.5*IQR\n",
        "limitesup = Q3 + 1.5*IQR\n",
        "limiteinf, limitesup"
      ],
      "metadata": {
        "colab": {
          "base_uri": "https://localhost:8080/"
        },
        "id": "VJSyAszaQodg",
        "outputId": "a8c526f4-c7e3-4417-a23e-80e202104ec5"
      },
      "execution_count": null,
      "outputs": [
        {
          "output_type": "execute_result",
          "data": {
            "text/plain": [
              "(23.5, 83.5)"
            ]
          },
          "metadata": {},
          "execution_count": 116
        }
      ]
    },
    {
      "cell_type": "code",
      "source": [
        "df_copy['Age'].min()"
      ],
      "metadata": {
        "colab": {
          "base_uri": "https://localhost:8080/"
        },
        "id": "8b-U-Yc0Rch5",
        "outputId": "4aca6368-4800-4a31-d10a-a41e234354fe"
      },
      "execution_count": null,
      "outputs": [
        {
          "output_type": "execute_result",
          "data": {
            "text/plain": [
              "25"
            ]
          },
          "metadata": {},
          "execution_count": 117
        }
      ]
    },
    {
      "cell_type": "code",
      "source": [
        "df_copy = df_copy[(df['Age'] >= df_copy['Age'].min()) & (df_copy['Age'] < limitesup)] #usamos el min() porque el limite inferior es menor que el minimo"
      ],
      "metadata": {
        "id": "o6o2P2KGRgeP"
      },
      "execution_count": null,
      "outputs": []
    },
    {
      "cell_type": "code",
      "source": [
        "df_copy.shape"
      ],
      "metadata": {
        "colab": {
          "base_uri": "https://localhost:8080/"
        },
        "id": "PEFRf_zPUmsM",
        "outputId": "d1ae4fb7-1025-40d5-eea0-44c344bbbfd1"
      },
      "execution_count": null,
      "outputs": [
        {
          "output_type": "execute_result",
          "data": {
            "text/plain": [
              "(1268, 12)"
            ]
          },
          "metadata": {},
          "execution_count": 119
        }
      ]
    },
    {
      "cell_type": "markdown",
      "source": [
        "No se han encontrado, y por lo tanto eliminado, valores atípicos."
      ],
      "metadata": {
        "id": "DC2E_OsZUmT5"
      }
    },
    {
      "cell_type": "markdown",
      "source": [
        "#### RestingBP"
      ],
      "metadata": {
        "id": "D1J2d-ESV6TC"
      }
    },
    {
      "cell_type": "code",
      "source": [
        "shapiro_wilk_test(df_copy['RestingBP'], alpha=0.5)"
      ],
      "metadata": {
        "colab": {
          "base_uri": "https://localhost:8080/"
        },
        "id": "bHOU2ozkV73C",
        "outputId": "d9e746f2-71ee-4c41-d036-580f718489f8"
      },
      "execution_count": null,
      "outputs": [
        {
          "output_type": "stream",
          "name": "stdout",
          "text": [
            "Se rechaza la hipótesis nula (los datos no siguen una distribución normal)\n"
          ]
        }
      ]
    },
    {
      "cell_type": "code",
      "source": [
        "Q1 = df_copy['RestingBP'].quantile(.25)\n",
        "Q3 = df_copy['RestingBP'].quantile(.75)\n",
        "IQR = Q3 - Q1\n",
        "\n",
        "limiteinf = Q1 - 1.5*IQR\n",
        "limitesup = Q3 + 1.5*IQR\n",
        "limiteinf, limitesup"
      ],
      "metadata": {
        "colab": {
          "base_uri": "https://localhost:8080/"
        },
        "id": "Zs6UTtHhWKNB",
        "outputId": "07af22ae-1eda-44f8-a268-916e19967374"
      },
      "execution_count": null,
      "outputs": [
        {
          "output_type": "execute_result",
          "data": {
            "text/plain": [
              "(90.0, 170.0)"
            ]
          },
          "metadata": {},
          "execution_count": 121
        }
      ]
    },
    {
      "cell_type": "code",
      "source": [
        "df_copy['RestingBP'].min()"
      ],
      "metadata": {
        "colab": {
          "base_uri": "https://localhost:8080/"
        },
        "id": "_vncbKYbWLYK",
        "outputId": "a18343ae-7093-45af-cf78-ffea030ad4f0"
      },
      "execution_count": null,
      "outputs": [
        {
          "output_type": "execute_result",
          "data": {
            "text/plain": [
              "0"
            ]
          },
          "metadata": {},
          "execution_count": 122
        }
      ]
    },
    {
      "cell_type": "code",
      "source": [
        "df_copy = df_copy[(df['RestingBP'] >= limiteinf) & (df_copy['RestingBP'] < limitesup)]"
      ],
      "metadata": {
        "id": "78v8xsoYWNNb"
      },
      "execution_count": null,
      "outputs": []
    },
    {
      "cell_type": "code",
      "source": [
        "df_copy.shape"
      ],
      "metadata": {
        "colab": {
          "base_uri": "https://localhost:8080/"
        },
        "id": "igwetZxpXRbG",
        "outputId": "4d5be0e0-0565-4832-ce1b-8a0a23cd89d2"
      },
      "execution_count": null,
      "outputs": [
        {
          "output_type": "execute_result",
          "data": {
            "text/plain": [
              "(1217, 12)"
            ]
          },
          "metadata": {},
          "execution_count": 124
        }
      ]
    },
    {
      "cell_type": "markdown",
      "source": [
        "En esta ocasión se han elimiando aproximadamente 50 registros."
      ],
      "metadata": {
        "id": "4dlXGCysXWOj"
      }
    },
    {
      "cell_type": "markdown",
      "source": [
        "#### Cholesterol"
      ],
      "metadata": {
        "id": "Iw5hfRTQXc87"
      }
    },
    {
      "cell_type": "code",
      "source": [
        "shapiro_wilk_test(df_copy['Cholesterol'], alpha=0.5)"
      ],
      "metadata": {
        "colab": {
          "base_uri": "https://localhost:8080/"
        },
        "id": "qJMg0lqrXe2N",
        "outputId": "9b641256-11e5-43bc-fa37-3e6652a69bc5"
      },
      "execution_count": null,
      "outputs": [
        {
          "output_type": "stream",
          "name": "stdout",
          "text": [
            "Se rechaza la hipótesis nula (los datos no siguen una distribución normal)\n"
          ]
        }
      ]
    },
    {
      "cell_type": "code",
      "source": [
        "Q1 = df_copy['Cholesterol'].quantile(.25)\n",
        "Q3 = df_copy['Cholesterol'].quantile(.75)\n",
        "IQR = Q3 - Q1\n",
        "\n",
        "limiteinf = Q1 - 1.5*IQR\n",
        "limitesup = Q3 + 1.5*IQR\n",
        "limiteinf, limitesup"
      ],
      "metadata": {
        "colab": {
          "base_uri": "https://localhost:8080/"
        },
        "id": "90Ixho-jGsI_",
        "outputId": "b1ba6fdb-1abd-48dd-93d5-3b8255bbd9ad"
      },
      "execution_count": null,
      "outputs": [
        {
          "output_type": "execute_result",
          "data": {
            "text/plain": [
              "(23.5, 427.5)"
            ]
          },
          "metadata": {},
          "execution_count": 126
        }
      ]
    },
    {
      "cell_type": "code",
      "source": [
        "df_copy['Cholesterol'].min()"
      ],
      "metadata": {
        "colab": {
          "base_uri": "https://localhost:8080/"
        },
        "id": "8sf5qKpZG6Yy",
        "outputId": "5194e036-abb4-46d9-8d7a-24fb98e082d5"
      },
      "execution_count": null,
      "outputs": [
        {
          "output_type": "execute_result",
          "data": {
            "text/plain": [
              "0"
            ]
          },
          "metadata": {},
          "execution_count": 127
        }
      ]
    },
    {
      "cell_type": "code",
      "source": [
        "df_copy = df_copy[(df['Cholesterol'] >= df_copy['Cholesterol'].min()) & (df_copy['Cholesterol'] < limitesup)]"
      ],
      "metadata": {
        "colab": {
          "base_uri": "https://localhost:8080/"
        },
        "id": "Ayjw8MFvG9Ct",
        "outputId": "d5021b93-77b7-4f21-a35d-9a35aaa06582"
      },
      "execution_count": null,
      "outputs": [
        {
          "output_type": "stream",
          "name": "stderr",
          "text": [
            "<ipython-input-128-31ee1dd9187d>:1: UserWarning: Boolean Series key will be reindexed to match DataFrame index.\n",
            "  df_copy = df_copy[(df['Cholesterol'] >= df_copy['Cholesterol'].min()) & (df_copy['Cholesterol'] < limitesup)]\n"
          ]
        }
      ]
    },
    {
      "cell_type": "code",
      "source": [
        "df_copy.shape"
      ],
      "metadata": {
        "colab": {
          "base_uri": "https://localhost:8080/"
        },
        "id": "Zjw6YXSgHDUq",
        "outputId": "9d2b3db2-7b3a-4da4-ace1-696ebb374340"
      },
      "execution_count": null,
      "outputs": [
        {
          "output_type": "execute_result",
          "data": {
            "text/plain": [
              "(1209, 12)"
            ]
          },
          "metadata": {},
          "execution_count": 129
        }
      ]
    },
    {
      "cell_type": "markdown",
      "source": [
        "Se eliminaron 8 valores atípicos."
      ],
      "metadata": {
        "id": "sZFWSVe9HG8n"
      }
    },
    {
      "cell_type": "markdown",
      "source": [
        "#### MaxHR"
      ],
      "metadata": {
        "id": "dH4MhlKiHLgr"
      }
    },
    {
      "cell_type": "code",
      "source": [
        "shapiro_wilk_test(df['MaxHR'],alpha=0.5)"
      ],
      "metadata": {
        "colab": {
          "base_uri": "https://localhost:8080/"
        },
        "id": "0CM8YEl3HOgn",
        "outputId": "33af2d4e-9d01-4774-eb31-d50bdb408907"
      },
      "execution_count": null,
      "outputs": [
        {
          "output_type": "stream",
          "name": "stdout",
          "text": [
            "Se rechaza la hipótesis nula (los datos no siguen una distribución normal)\n"
          ]
        }
      ]
    },
    {
      "cell_type": "markdown",
      "source": [
        "Corresponde usar el método IQR."
      ],
      "metadata": {
        "id": "5pnluc2lHzHf"
      }
    },
    {
      "cell_type": "code",
      "source": [
        "Q1 = df_copy['MaxHR'].quantile(.25)\n",
        "Q3 = df_copy['MaxHR'].quantile(.75)\n",
        "IQR = Q3 - Q1\n",
        "\n",
        "limiteinf = Q1 - 1.5*IQR\n",
        "limitesup = Q3 + 1.5*IQR\n",
        "limiteinf, limitesup"
      ],
      "metadata": {
        "colab": {
          "base_uri": "https://localhost:8080/"
        },
        "id": "kHU6bvaNH2Rb",
        "outputId": "a13639ed-815d-4b46-f271-9c5d55d9313d"
      },
      "execution_count": null,
      "outputs": [
        {
          "output_type": "execute_result",
          "data": {
            "text/plain": [
              "(63.0, 215.0)"
            ]
          },
          "metadata": {},
          "execution_count": 131
        }
      ]
    },
    {
      "cell_type": "code",
      "source": [
        "df_copy['MaxHR'].min()"
      ],
      "metadata": {
        "colab": {
          "base_uri": "https://localhost:8080/"
        },
        "id": "gdm1TeK-H9sM",
        "outputId": "8a45f73a-3b00-4286-e5f7-f49ea749e7f3"
      },
      "execution_count": null,
      "outputs": [
        {
          "output_type": "execute_result",
          "data": {
            "text/plain": [
              "60"
            ]
          },
          "metadata": {},
          "execution_count": 132
        }
      ]
    },
    {
      "cell_type": "code",
      "source": [
        "df_copy = df_copy[(df['MaxHR'] >= limiteinf) & (df_copy['MaxHR'] < limitesup)]"
      ],
      "metadata": {
        "colab": {
          "base_uri": "https://localhost:8080/"
        },
        "id": "hVx1iTCkIAZu",
        "outputId": "df3cbbda-18d7-4341-f9a5-37f940baf217"
      },
      "execution_count": null,
      "outputs": [
        {
          "output_type": "stream",
          "name": "stderr",
          "text": [
            "<ipython-input-133-8b44d524cda8>:1: UserWarning: Boolean Series key will be reindexed to match DataFrame index.\n",
            "  df_copy = df_copy[(df['MaxHR'] >= limiteinf) & (df_copy['MaxHR'] < limitesup)]\n"
          ]
        }
      ]
    },
    {
      "cell_type": "code",
      "source": [
        "df_copy.shape"
      ],
      "metadata": {
        "colab": {
          "base_uri": "https://localhost:8080/"
        },
        "id": "k37BwUUAIJps",
        "outputId": "dc21bd6b-70d1-4e5f-a5b8-03bc7dcaafd4"
      },
      "execution_count": null,
      "outputs": [
        {
          "output_type": "execute_result",
          "data": {
            "text/plain": [
              "(1208, 12)"
            ]
          },
          "metadata": {},
          "execution_count": 134
        }
      ]
    },
    {
      "cell_type": "markdown",
      "source": [
        "Se eliminó 1 registro."
      ],
      "metadata": {
        "id": "OOmUlCFpINdW"
      }
    },
    {
      "cell_type": "markdown",
      "source": [
        "## EDA (Análisis exploratorio de datos)"
      ],
      "metadata": {
        "id": "NfDB7K-fwq6l"
      }
    },
    {
      "cell_type": "code",
      "source": [
        "df_copy.head()"
      ],
      "metadata": {
        "colab": {
          "base_uri": "https://localhost:8080/",
          "height": 206
        },
        "id": "88qmXaOPdCw9",
        "outputId": "92354130-cae5-4a3b-874f-a8fc7cca3d53"
      },
      "execution_count": null,
      "outputs": [
        {
          "output_type": "execute_result",
          "data": {
            "text/plain": [
              "   Age Sex ChestPainType  RestingBP  Cholesterol  FastingBS RestingECG  MaxHR  \\\n",
              "0   40   M           ATA        140          289          0     Normal    172   \n",
              "1   49   F           NAP        160          180          0     Normal    156   \n",
              "2   37   M           ATA        130          283          0         ST     98   \n",
              "3   48   F           ASY        138          214          0     Normal    108   \n",
              "4   54   M           NAP        150          195          0     Normal    122   \n",
              "\n",
              "  ExerciseAngina  Oldpeak ST_Slope  Outcome  \n",
              "0              N      0.0       Up        0  \n",
              "1              N      1.0     Flat        1  \n",
              "2              N      0.0       Up        0  \n",
              "3              Y      1.5     Flat        1  \n",
              "4              N      0.0       Up        0  "
            ],
            "text/html": [
              "\n",
              "\n",
              "  <div id=\"df-92b75da6-bb18-43b8-8235-79db733a3645\">\n",
              "    <div class=\"colab-df-container\">\n",
              "      <div>\n",
              "<style scoped>\n",
              "    .dataframe tbody tr th:only-of-type {\n",
              "        vertical-align: middle;\n",
              "    }\n",
              "\n",
              "    .dataframe tbody tr th {\n",
              "        vertical-align: top;\n",
              "    }\n",
              "\n",
              "    .dataframe thead th {\n",
              "        text-align: right;\n",
              "    }\n",
              "</style>\n",
              "<table border=\"1\" class=\"dataframe\">\n",
              "  <thead>\n",
              "    <tr style=\"text-align: right;\">\n",
              "      <th></th>\n",
              "      <th>Age</th>\n",
              "      <th>Sex</th>\n",
              "      <th>ChestPainType</th>\n",
              "      <th>RestingBP</th>\n",
              "      <th>Cholesterol</th>\n",
              "      <th>FastingBS</th>\n",
              "      <th>RestingECG</th>\n",
              "      <th>MaxHR</th>\n",
              "      <th>ExerciseAngina</th>\n",
              "      <th>Oldpeak</th>\n",
              "      <th>ST_Slope</th>\n",
              "      <th>Outcome</th>\n",
              "    </tr>\n",
              "  </thead>\n",
              "  <tbody>\n",
              "    <tr>\n",
              "      <th>0</th>\n",
              "      <td>40</td>\n",
              "      <td>M</td>\n",
              "      <td>ATA</td>\n",
              "      <td>140</td>\n",
              "      <td>289</td>\n",
              "      <td>0</td>\n",
              "      <td>Normal</td>\n",
              "      <td>172</td>\n",
              "      <td>N</td>\n",
              "      <td>0.0</td>\n",
              "      <td>Up</td>\n",
              "      <td>0</td>\n",
              "    </tr>\n",
              "    <tr>\n",
              "      <th>1</th>\n",
              "      <td>49</td>\n",
              "      <td>F</td>\n",
              "      <td>NAP</td>\n",
              "      <td>160</td>\n",
              "      <td>180</td>\n",
              "      <td>0</td>\n",
              "      <td>Normal</td>\n",
              "      <td>156</td>\n",
              "      <td>N</td>\n",
              "      <td>1.0</td>\n",
              "      <td>Flat</td>\n",
              "      <td>1</td>\n",
              "    </tr>\n",
              "    <tr>\n",
              "      <th>2</th>\n",
              "      <td>37</td>\n",
              "      <td>M</td>\n",
              "      <td>ATA</td>\n",
              "      <td>130</td>\n",
              "      <td>283</td>\n",
              "      <td>0</td>\n",
              "      <td>ST</td>\n",
              "      <td>98</td>\n",
              "      <td>N</td>\n",
              "      <td>0.0</td>\n",
              "      <td>Up</td>\n",
              "      <td>0</td>\n",
              "    </tr>\n",
              "    <tr>\n",
              "      <th>3</th>\n",
              "      <td>48</td>\n",
              "      <td>F</td>\n",
              "      <td>ASY</td>\n",
              "      <td>138</td>\n",
              "      <td>214</td>\n",
              "      <td>0</td>\n",
              "      <td>Normal</td>\n",
              "      <td>108</td>\n",
              "      <td>Y</td>\n",
              "      <td>1.5</td>\n",
              "      <td>Flat</td>\n",
              "      <td>1</td>\n",
              "    </tr>\n",
              "    <tr>\n",
              "      <th>4</th>\n",
              "      <td>54</td>\n",
              "      <td>M</td>\n",
              "      <td>NAP</td>\n",
              "      <td>150</td>\n",
              "      <td>195</td>\n",
              "      <td>0</td>\n",
              "      <td>Normal</td>\n",
              "      <td>122</td>\n",
              "      <td>N</td>\n",
              "      <td>0.0</td>\n",
              "      <td>Up</td>\n",
              "      <td>0</td>\n",
              "    </tr>\n",
              "  </tbody>\n",
              "</table>\n",
              "</div>\n",
              "      <button class=\"colab-df-convert\" onclick=\"convertToInteractive('df-92b75da6-bb18-43b8-8235-79db733a3645')\"\n",
              "              title=\"Convert this dataframe to an interactive table.\"\n",
              "              style=\"display:none;\">\n",
              "\n",
              "  <svg xmlns=\"http://www.w3.org/2000/svg\" height=\"24px\"viewBox=\"0 0 24 24\"\n",
              "       width=\"24px\">\n",
              "    <path d=\"M0 0h24v24H0V0z\" fill=\"none\"/>\n",
              "    <path d=\"M18.56 5.44l.94 2.06.94-2.06 2.06-.94-2.06-.94-.94-2.06-.94 2.06-2.06.94zm-11 1L8.5 8.5l.94-2.06 2.06-.94-2.06-.94L8.5 2.5l-.94 2.06-2.06.94zm10 10l.94 2.06.94-2.06 2.06-.94-2.06-.94-.94-2.06-.94 2.06-2.06.94z\"/><path d=\"M17.41 7.96l-1.37-1.37c-.4-.4-.92-.59-1.43-.59-.52 0-1.04.2-1.43.59L10.3 9.45l-7.72 7.72c-.78.78-.78 2.05 0 2.83L4 21.41c.39.39.9.59 1.41.59.51 0 1.02-.2 1.41-.59l7.78-7.78 2.81-2.81c.8-.78.8-2.07 0-2.86zM5.41 20L4 18.59l7.72-7.72 1.47 1.35L5.41 20z\"/>\n",
              "  </svg>\n",
              "      </button>\n",
              "\n",
              "\n",
              "\n",
              "    <div id=\"df-f3556f73-842d-49e4-882c-ea79ebcad16f\">\n",
              "      <button class=\"colab-df-quickchart\" onclick=\"quickchart('df-f3556f73-842d-49e4-882c-ea79ebcad16f')\"\n",
              "              title=\"Suggest charts.\"\n",
              "              style=\"display:none;\">\n",
              "\n",
              "<svg xmlns=\"http://www.w3.org/2000/svg\" height=\"24px\"viewBox=\"0 0 24 24\"\n",
              "     width=\"24px\">\n",
              "    <g>\n",
              "        <path d=\"M19 3H5c-1.1 0-2 .9-2 2v14c0 1.1.9 2 2 2h14c1.1 0 2-.9 2-2V5c0-1.1-.9-2-2-2zM9 17H7v-7h2v7zm4 0h-2V7h2v10zm4 0h-2v-4h2v4z\"/>\n",
              "    </g>\n",
              "</svg>\n",
              "      </button>\n",
              "    </div>\n",
              "\n",
              "<style>\n",
              "  .colab-df-quickchart {\n",
              "    background-color: #E8F0FE;\n",
              "    border: none;\n",
              "    border-radius: 50%;\n",
              "    cursor: pointer;\n",
              "    display: none;\n",
              "    fill: #1967D2;\n",
              "    height: 32px;\n",
              "    padding: 0 0 0 0;\n",
              "    width: 32px;\n",
              "  }\n",
              "\n",
              "  .colab-df-quickchart:hover {\n",
              "    background-color: #E2EBFA;\n",
              "    box-shadow: 0px 1px 2px rgba(60, 64, 67, 0.3), 0px 1px 3px 1px rgba(60, 64, 67, 0.15);\n",
              "    fill: #174EA6;\n",
              "  }\n",
              "\n",
              "  [theme=dark] .colab-df-quickchart {\n",
              "    background-color: #3B4455;\n",
              "    fill: #D2E3FC;\n",
              "  }\n",
              "\n",
              "  [theme=dark] .colab-df-quickchart:hover {\n",
              "    background-color: #434B5C;\n",
              "    box-shadow: 0px 1px 3px 1px rgba(0, 0, 0, 0.15);\n",
              "    filter: drop-shadow(0px 1px 2px rgba(0, 0, 0, 0.3));\n",
              "    fill: #FFFFFF;\n",
              "  }\n",
              "</style>\n",
              "\n",
              "    <script>\n",
              "      async function quickchart(key) {\n",
              "        const containerElement = document.querySelector('#' + key);\n",
              "        const charts = await google.colab.kernel.invokeFunction(\n",
              "            'suggestCharts', [key], {});\n",
              "      }\n",
              "    </script>\n",
              "\n",
              "      <script>\n",
              "\n",
              "function displayQuickchartButton(domScope) {\n",
              "  let quickchartButtonEl =\n",
              "    domScope.querySelector('#df-f3556f73-842d-49e4-882c-ea79ebcad16f button.colab-df-quickchart');\n",
              "  quickchartButtonEl.style.display =\n",
              "    google.colab.kernel.accessAllowed ? 'block' : 'none';\n",
              "}\n",
              "\n",
              "        displayQuickchartButton(document);\n",
              "      </script>\n",
              "      <style>\n",
              "    .colab-df-container {\n",
              "      display:flex;\n",
              "      flex-wrap:wrap;\n",
              "      gap: 12px;\n",
              "    }\n",
              "\n",
              "    .colab-df-convert {\n",
              "      background-color: #E8F0FE;\n",
              "      border: none;\n",
              "      border-radius: 50%;\n",
              "      cursor: pointer;\n",
              "      display: none;\n",
              "      fill: #1967D2;\n",
              "      height: 32px;\n",
              "      padding: 0 0 0 0;\n",
              "      width: 32px;\n",
              "    }\n",
              "\n",
              "    .colab-df-convert:hover {\n",
              "      background-color: #E2EBFA;\n",
              "      box-shadow: 0px 1px 2px rgba(60, 64, 67, 0.3), 0px 1px 3px 1px rgba(60, 64, 67, 0.15);\n",
              "      fill: #174EA6;\n",
              "    }\n",
              "\n",
              "    [theme=dark] .colab-df-convert {\n",
              "      background-color: #3B4455;\n",
              "      fill: #D2E3FC;\n",
              "    }\n",
              "\n",
              "    [theme=dark] .colab-df-convert:hover {\n",
              "      background-color: #434B5C;\n",
              "      box-shadow: 0px 1px 3px 1px rgba(0, 0, 0, 0.15);\n",
              "      filter: drop-shadow(0px 1px 2px rgba(0, 0, 0, 0.3));\n",
              "      fill: #FFFFFF;\n",
              "    }\n",
              "  </style>\n",
              "\n",
              "      <script>\n",
              "        const buttonEl =\n",
              "          document.querySelector('#df-92b75da6-bb18-43b8-8235-79db733a3645 button.colab-df-convert');\n",
              "        buttonEl.style.display =\n",
              "          google.colab.kernel.accessAllowed ? 'block' : 'none';\n",
              "\n",
              "        async function convertToInteractive(key) {\n",
              "          const element = document.querySelector('#df-92b75da6-bb18-43b8-8235-79db733a3645');\n",
              "          const dataTable =\n",
              "            await google.colab.kernel.invokeFunction('convertToInteractive',\n",
              "                                                     [key], {});\n",
              "          if (!dataTable) return;\n",
              "\n",
              "          const docLinkHtml = 'Like what you see? Visit the ' +\n",
              "            '<a target=\"_blank\" href=https://colab.research.google.com/notebooks/data_table.ipynb>data table notebook</a>'\n",
              "            + ' to learn more about interactive tables.';\n",
              "          element.innerHTML = '';\n",
              "          dataTable['output_type'] = 'display_data';\n",
              "          await google.colab.output.renderOutput(dataTable, element);\n",
              "          const docLink = document.createElement('div');\n",
              "          docLink.innerHTML = docLinkHtml;\n",
              "          element.appendChild(docLink);\n",
              "        }\n",
              "      </script>\n",
              "    </div>\n",
              "  </div>\n"
            ]
          },
          "metadata": {},
          "execution_count": 135
        }
      ]
    },
    {
      "cell_type": "markdown",
      "source": [
        "* Lo que haremos en esta primera etapa, será realizar visualizaciones de las variables que disponemos a fin de obtener infomración de las mismas.\n",
        "De manera general, generaremos visualizaciones de cada variable en relación a las variables ``Sex``, ``Age`` y ``Outcome``, para entender justamente como se comportan segun los sexos, rango etario, y para que valores fue más frecuente un diagnóstico de cardiopatía."
      ],
      "metadata": {
        "id": "kT5EB18246av"
      }
    },
    {
      "cell_type": "code",
      "source": [
        "# Veamos en que rango de edades se encuentras las personas\n",
        "sns.displot(x=df_copy['Age'], kde=True).set(ylabel= 'Distribución',title='Distribución por edad')"
      ],
      "metadata": {
        "colab": {
          "base_uri": "https://localhost:8080/",
          "height": 546
        },
        "id": "NsD1_oYLEXdM",
        "outputId": "ccc4830d-ad68-44bd-a133-8497060eabc6"
      },
      "execution_count": null,
      "outputs": [
        {
          "output_type": "execute_result",
          "data": {
            "text/plain": [
              "<seaborn.axisgrid.FacetGrid at 0x7a7daa97f880>"
            ]
          },
          "metadata": {},
          "execution_count": 136
        },
        {
          "output_type": "display_data",
          "data": {
            "text/plain": [
              "<Figure size 500x500 with 1 Axes>"
            ],
            "image/png": "[encoded data removed]"
          },
          "metadata": {}
        }
      ]
    },
    {
      "cell_type": "code",
      "source": [
        "sns.boxplot(x =df_copy[\"Outcome\"], y = df_copy[\"Age\"]).set(title='Age vs Target')"
      ],
      "metadata": {
        "colab": {
          "base_uri": "https://localhost:8080/",
          "height": 489
        },
        "id": "G53He8i_xOjH",
        "outputId": "9d43bdd5-e39a-452b-bad1-a16bf0e7da27"
      },
      "execution_count": null,
      "outputs": [
        {
          "output_type": "execute_result",
          "data": {
            "text/plain": [
              "[Text(0.5, 1.0, 'Age vs Target')]"
            ]
          },
          "metadata": {},
          "execution_count": 137
        },
        {
          "output_type": "display_data",
          "data": {
            "text/plain": [
              "<Figure size 640x480 with 1 Axes>"
            ],
            "image/png": "[encoded data removed]"
          },
          "metadata": {}
        }
      ]
    },
    {
      "cell_type": "code",
      "source": [
        "sns.boxplot(x =df_copy[\"Age\"], y = df_copy[\"Sex\"]).set(ylabel= 'Sexo', title='Edad según sexo')"
      ],
      "metadata": {
        "colab": {
          "base_uri": "https://localhost:8080/",
          "height": 489
        },
        "id": "PPWtnfuWNRmP",
        "outputId": "fc49740a-fb12-4b0b-ab68-ecb81c008819"
      },
      "execution_count": null,
      "outputs": [
        {
          "output_type": "execute_result",
          "data": {
            "text/plain": [
              "[Text(0, 0.5, 'Sexo'), Text(0.5, 1.0, 'Edad según sexo')]"
            ]
          },
          "metadata": {},
          "execution_count": 138
        },
        {
          "output_type": "display_data",
          "data": {
            "text/plain": [
              "<Figure size 640x480 with 1 Axes>"
            ],
            "image/png": "[encoded data removed]"
          },
          "metadata": {}
        }
      ]
    },
    {
      "cell_type": "markdown",
      "source": [
        "La distribución parece ser aproximadamente normal. En el boxplot podemos ver que las \"cajas\" abarcan casi el mismo rango de edades, con la diferencia que el de las mujeres comienza a una edad más temprana."
      ],
      "metadata": {
        "id": "mpKzVUZT549c"
      }
    },
    {
      "cell_type": "code",
      "source": [
        "sns.countplot(x=df_copy['Sex'], hue=df_copy['Outcome']).set(ylabel='Cantidad', title='Sex vs. Target')"
      ],
      "metadata": {
        "colab": {
          "base_uri": "https://localhost:8080/",
          "height": 489
        },
        "id": "Xam5vJ_93GPy",
        "outputId": "964b6c42-7768-40b2-f0d9-edaa13b5c121"
      },
      "execution_count": null,
      "outputs": [
        {
          "output_type": "execute_result",
          "data": {
            "text/plain": [
              "[Text(0, 0.5, 'Cantidad'), Text(0.5, 1.0, 'Sex vs. Target')]"
            ]
          },
          "metadata": {},
          "execution_count": 139
        },
        {
          "output_type": "display_data",
          "data": {
            "text/plain": [
              "<Figure size 640x480 with 1 Axes>"
            ],
            "image/png": "[encoded data removed]"
          },
          "metadata": {}
        }
      ]
    },
    {
      "cell_type": "code",
      "source": [
        "sns.boxplot(y =df_copy[\"Cholesterol\"], x = df_copy[\"Sex\"]).set(ylabel= 'Sexo', title='Colesterol según sexo')"
      ],
      "metadata": {
        "colab": {
          "base_uri": "https://localhost:8080/",
          "height": 489
        },
        "id": "fPapOVlaOQTh",
        "outputId": "386399c5-0d4b-408b-d558-0a60b1f10c93"
      },
      "execution_count": null,
      "outputs": [
        {
          "output_type": "execute_result",
          "data": {
            "text/plain": [
              "[Text(0, 0.5, 'Sexo'), Text(0.5, 1.0, 'Colesterol según sexo')]"
            ]
          },
          "metadata": {},
          "execution_count": 140
        },
        {
          "output_type": "display_data",
          "data": {
            "text/plain": [
              "<Figure size 640x480 with 1 Axes>"
            ],
            "image/png": "[encoded data removed]"
          },
          "metadata": {}
        }
      ]
    },
    {
      "cell_type": "code",
      "source": [
        "df_copy['Cholesterol'].quantile(0.25)"
      ],
      "metadata": {
        "colab": {
          "base_uri": "https://localhost:8080/"
        },
        "id": "nxDaRjwyPFZe",
        "outputId": "8f53524e-560f-44b6-d2ea-1d07d6e71cbf"
      },
      "execution_count": null,
      "outputs": [
        {
          "output_type": "execute_result",
          "data": {
            "text/plain": [
              "174.0"
            ]
          },
          "metadata": {},
          "execution_count": 141
        }
      ]
    },
    {
      "cell_type": "code",
      "source": [
        "df_copy['Cholesterol'].quantile(0.75)"
      ],
      "metadata": {
        "colab": {
          "base_uri": "https://localhost:8080/"
        },
        "id": "ob4BoGsiPMQV",
        "outputId": "e4fa3470-755e-4271-fe9c-1bcc9588ffa6"
      },
      "execution_count": null,
      "outputs": [
        {
          "output_type": "execute_result",
          "data": {
            "text/plain": [
              "275.0"
            ]
          },
          "metadata": {},
          "execution_count": 142
        }
      ]
    },
    {
      "cell_type": "code",
      "source": [
        "sns.boxplot(x=df_copy['Outcome'], y=df_copy['Cholesterol']).set(title= \"Cholesterol vs Target\")"
      ],
      "metadata": {
        "colab": {
          "base_uri": "https://localhost:8080/",
          "height": 489
        },
        "id": "PXQb0qrEwzQm",
        "outputId": "67d50d97-9c42-44c4-da39-5a9781a839aa"
      },
      "execution_count": null,
      "outputs": [
        {
          "output_type": "execute_result",
          "data": {
            "text/plain": [
              "[Text(0.5, 1.0, 'Cholesterol vs Target')]"
            ]
          },
          "metadata": {},
          "execution_count": 143
        },
        {
          "output_type": "display_data",
          "data": {
            "text/plain": [
              "<Figure size 640x480 with 1 Axes>"
            ],
            "image/png": "[encoded data removed]"
          },
          "metadata": {}
        }
      ]
    },
    {
      "cell_type": "markdown",
      "source": [
        "Aquí podemos ver que para los hombres, la caja del boxplot (entre el 25% y 75% de los datos) se ubican entre aproximadamente los valores de 174 y 275. Podemos ver una cantidad notable de valores atípicos, excediendo los 400 y llegando hasta 600.\n",
        "\n",
        "En cambio en las mujeres tiene una distribución mas \"pareja\", entran mas valores dentro de la caja, y los bigotes del boxplot van hasta mas de 450. Detectando pocos outliers.\n",
        "\n",
        "Es decir, comunmente las mujeres alcanzan valores más altos de colesterol, pero se han registrado valores mas altos para hombres."
      ],
      "metadata": {
        "id": "WKlFjdslO09A"
      }
    },
    {
      "cell_type": "code",
      "source": [
        "# Veamos como es la distribución por sexo para los distintos dolores de pecho. Luego veremos la distribución por sexo en caso que tengan o no angina por ejercicio.\n",
        "\n",
        "sns.displot(df_copy, x=df['ChestPainType'], hue = df['Sex'])"
      ],
      "metadata": {
        "id": "nS26OfAWOtO-",
        "colab": {
          "base_uri": "https://localhost:8080/",
          "height": 523
        },
        "outputId": "e8df061b-9cef-46d0-eac8-4cbc6fcf4732"
      },
      "execution_count": null,
      "outputs": [
        {
          "output_type": "execute_result",
          "data": {
            "text/plain": [
              "<seaborn.axisgrid.FacetGrid at 0x7a7da93474f0>"
            ]
          },
          "metadata": {},
          "execution_count": 144
        },
        {
          "output_type": "display_data",
          "data": {
            "text/plain": [
              "<Figure size 562x500 with 1 Axes>"
            ],
            "image/png": "[encoded data removed]"
          },
          "metadata": {}
        }
      ]
    },
    {
      "cell_type": "markdown",
      "source": [
        "El patrón es similar para ambos sexos."
      ],
      "metadata": {
        "id": "4v0UtyA07z3J"
      }
    },
    {
      "cell_type": "markdown",
      "source": [
        "Se puede destacar que en el caso que no hay síntomas de dolor de pecho, se han registrado muchos más casos. En los 3 casos restantes de tipos de dolor, la distribución es pareja para cada uno de los casos."
      ],
      "metadata": {
        "id": "oA8cG_7f97hJ"
      }
    },
    {
      "cell_type": "code",
      "source": [
        "# veamos si hay algun tipo de relacion entre el dolor de pecho y la frecuencia maxima\n",
        "sns.boxplot(data=df_copy, x=df_copy['ChestPainType'], y=df_copy['MaxHR']).set(xlabel='Tipo de dolor de pecho', title='Distribución de MaxHR por tipo de dolor')"
      ],
      "metadata": {
        "colab": {
          "base_uri": "https://localhost:8080/",
          "height": 507
        },
        "id": "HQAXUdTX_12n",
        "outputId": "ee7e9669-fe4f-48ce-dc85-dfd771f02763"
      },
      "execution_count": null,
      "outputs": [
        {
          "output_type": "execute_result",
          "data": {
            "text/plain": [
              "[Text(0.5, 0, 'Tipo de dolor de pecho'),\n",
              " Text(0.5, 1.0, 'Distribución de MaxHR por tipo de dolor')]"
            ]
          },
          "metadata": {},
          "execution_count": 145
        },
        {
          "output_type": "display_data",
          "data": {
            "text/plain": [
              "<Figure size 640x480 with 1 Axes>"
            ],
            "image/png": "[encoded data removed]"
          },
          "metadata": {}
        }
      ]
    },
    {
      "cell_type": "markdown",
      "source": [
        "Los de menor frecuencia máxima son los de tipo asintomático.\n",
        "Para los otros tres tipos de dolor (típica, atípica y no anginoso), presetan una media similar, siendo el caso \"típico\" en que se encuentra la caja con valores mas altos (entre Q1 y Q3), y para el casó atípico se registran los valores más altos.\n"
      ],
      "metadata": {
        "id": "OoeKC6p-t7KG"
      }
    },
    {
      "cell_type": "code",
      "source": [
        "# Veamos si las personas que tienen dolor de pecho, registraban 0 o 1 en la variable target\n",
        "\n",
        "sns.countplot(data=df_copy, x =df_copy['ChestPainType'], hue = df_copy['Outcome']).set(title='Distribución de \"Dolor de pecho\" vs \"Target', xlabel = 'Dolor de pecho', ylabel='Cantidad')"
      ],
      "metadata": {
        "colab": {
          "base_uri": "https://localhost:8080/",
          "height": 524
        },
        "id": "WlrHuFZX8DdO",
        "outputId": "13036adc-3de7-48ba-f13c-752e1a917ad8"
      },
      "execution_count": null,
      "outputs": [
        {
          "output_type": "execute_result",
          "data": {
            "text/plain": [
              "[Text(0.5, 1.0, 'Distribución de \"Dolor de pecho\" vs \"Target'),\n",
              " Text(0.5, 0, 'Dolor de pecho'),\n",
              " Text(0, 0.5, 'Cantidad')]"
            ]
          },
          "metadata": {},
          "execution_count": 146
        },
        {
          "output_type": "display_data",
          "data": {
            "text/plain": [
              "<Figure size 640x480 with 1 Axes>"
            ],
            "image/png": "[encoded data removed]"
          },
          "metadata": {}
        }
      ]
    },
    {
      "cell_type": "code",
      "source": [
        "# Análisis para FastingsBS. Veamos como se distribuye por sexo, por edad y su relación con la variable target\n",
        "labels=['< 120 mg/dl', '> 120 mg/dl']\n",
        "sns.histplot(x=df_copy['FastingBS'], hue=df_copy['Sex'], multiple='stack', discrete = True, shrink = 0.5).set(title='Distribución de FastingsBS por sexo')\n",
        "plt.xticks([0,1],labels)\n"
      ],
      "metadata": {
        "colab": {
          "base_uri": "https://localhost:8080/",
          "height": 524
        },
        "id": "AtUUIeROyDje",
        "outputId": "33126c49-eba6-49c4-f7fa-9146328b88a8"
      },
      "execution_count": null,
      "outputs": [
        {
          "output_type": "execute_result",
          "data": {
            "text/plain": [
              "([<matplotlib.axis.XTick at 0x7a7da9344100>,\n",
              "  <matplotlib.axis.XTick at 0x7a7da9347d30>],\n",
              " [Text(0, 0, '< 120 mg/dl'), Text(1, 0, '> 120 mg/dl')])"
            ]
          },
          "metadata": {},
          "execution_count": 147
        },
        {
          "output_type": "display_data",
          "data": {
            "text/plain": [
              "<Figure size 640x480 with 1 Axes>"
            ],
            "image/png": "[encoded data removed]"
          },
          "metadata": {}
        }
      ]
    },
    {
      "cell_type": "code",
      "source": [
        "labels=['< 120 mg/dl', '> 120 mg/dl']\n",
        "sns.boxplot(x=df_copy['FastingBS'], y=df_copy['Age']).set(title='Distribución de FastingsBS por edad')\n",
        "plt.xticks([0,1],labels)"
      ],
      "metadata": {
        "colab": {
          "base_uri": "https://localhost:8080/",
          "height": 524
        },
        "id": "oQatmJFi2MSl",
        "outputId": "27e429ef-d00e-424b-87a3-06d05d75b958"
      },
      "execution_count": null,
      "outputs": [
        {
          "output_type": "execute_result",
          "data": {
            "text/plain": [
              "([<matplotlib.axis.XTick at 0x7a7da8f8d480>,\n",
              "  <matplotlib.axis.XTick at 0x7a7da8f8d450>],\n",
              " [Text(0, 0, '< 120 mg/dl'), Text(1, 0, '> 120 mg/dl')])"
            ]
          },
          "metadata": {},
          "execution_count": 148
        },
        {
          "output_type": "display_data",
          "data": {
            "text/plain": [
              "<Figure size 640x480 with 1 Axes>"
            ],
            "image/png": "[encoded data removed]"
          },
          "metadata": {}
        }
      ]
    },
    {
      "cell_type": "code",
      "source": [
        "sns.countplot(x =df_copy['FastingBS'], hue = df_copy['Outcome']).set(title='Distribución del FastingBS (mg/dl) vs Heart Disease (target)')\n",
        "plt.xticks([0, 1],labels)"
      ],
      "metadata": {
        "colab": {
          "base_uri": "https://localhost:8080/",
          "height": 524
        },
        "id": "vxfWeunG4DMD",
        "outputId": "c5b29383-45eb-4b10-c162-69fba8a37b73"
      },
      "execution_count": null,
      "outputs": [
        {
          "output_type": "execute_result",
          "data": {
            "text/plain": [
              "([<matplotlib.axis.XTick at 0x7a7da9009b70>,\n",
              "  <matplotlib.axis.XTick at 0x7a7da9009b40>],\n",
              " [Text(0, 0, '< 120 mg/dl'), Text(1, 0, '> 120 mg/dl')])"
            ]
          },
          "metadata": {},
          "execution_count": 149
        },
        {
          "output_type": "display_data",
          "data": {
            "text/plain": [
              "<Figure size 640x480 with 1 Axes>"
            ],
            "image/png": "[encoded data removed]"
          },
          "metadata": {}
        }
      ]
    },
    {
      "cell_type": "markdown",
      "source": [
        "La acumulación para casos donde FastingsBS < 120 mg/dl es prácticamente igual si había o no cardiopatía. En cambio, si FastingsBS > 120 mg/dl la cantidad de casos en los que si había cardiopatía supera en casi el doble a los casos negativos."
      ],
      "metadata": {
        "id": "GlPi-FmC4STz"
      }
    },
    {
      "cell_type": "code",
      "source": [
        "# Comportamiento del electrocardiograma segun el sexo\n",
        "sns.histplot(x =df_copy['RestingECG'], hue = df_copy['Sex']).set(title='\"RestingECG\" vs \"Sexo', xlabel = 'Electrocardiograma en reposo', ylabel='Cantidad')"
      ],
      "metadata": {
        "colab": {
          "base_uri": "https://localhost:8080/",
          "height": 524
        },
        "id": "S2ihlALheBEC",
        "outputId": "e275b2ad-b4ae-4850-c1ad-ac4a94a8cf0b"
      },
      "execution_count": null,
      "outputs": [
        {
          "output_type": "execute_result",
          "data": {
            "text/plain": [
              "[Text(0.5, 1.0, '\"RestingECG\" vs \"Sexo'),\n",
              " Text(0.5, 0, 'Electrocardiograma en reposo'),\n",
              " Text(0, 0.5, 'Cantidad')]"
            ]
          },
          "metadata": {},
          "execution_count": 150
        },
        {
          "output_type": "display_data",
          "data": {
            "text/plain": [
              "<Figure size 640x480 with 1 Axes>"
            ],
            "image/png": "[encoded data removed]"
          },
          "metadata": {}
        }
      ]
    },
    {
      "cell_type": "code",
      "source": [
        "sns.countplot(x=df_copy['RestingECG'], hue=df_copy['Outcome']).set(ylabel='Cantidad', title='RestingECG vs. Target')"
      ],
      "metadata": {
        "colab": {
          "base_uri": "https://localhost:8080/",
          "height": 489
        },
        "id": "Pv6roITy67LC",
        "outputId": "64ff700f-7aee-487d-857b-a74802f49206"
      },
      "execution_count": null,
      "outputs": [
        {
          "output_type": "execute_result",
          "data": {
            "text/plain": [
              "[Text(0, 0.5, 'Cantidad'), Text(0.5, 1.0, 'RestingECG vs. Target')]"
            ]
          },
          "metadata": {},
          "execution_count": 151
        },
        {
          "output_type": "display_data",
          "data": {
            "text/plain": [
              "<Figure size 640x480 with 1 Axes>"
            ],
            "image/png": "[encoded data removed]"
          },
          "metadata": {}
        }
      ]
    },
    {
      "cell_type": "code",
      "source": [
        "# MaxHR por sexo\n",
        "sns.boxplot(x=df_copy['Sex'], y=df_copy['MaxHR']).set(title= \"MaxHR según sexo\")"
      ],
      "metadata": {
        "colab": {
          "base_uri": "https://localhost:8080/",
          "height": 489
        },
        "id": "LG6qDjbre4Ub",
        "outputId": "3e866eeb-4059-42f7-ba48-4237adf63c55"
      },
      "execution_count": null,
      "outputs": [
        {
          "output_type": "execute_result",
          "data": {
            "text/plain": [
              "[Text(0.5, 1.0, 'MaxHR según sexo')]"
            ]
          },
          "metadata": {},
          "execution_count": 152
        },
        {
          "output_type": "display_data",
          "data": {
            "text/plain": [
              "<Figure size 640x480 with 1 Axes>"
            ],
            "image/png": "[encoded data removed]"
          },
          "metadata": {}
        }
      ]
    },
    {
      "cell_type": "markdown",
      "source": [
        "Tienen para ambos sexos una distribución similar, siendo el rango intercuartil de las mujeres apenas más elevado."
      ],
      "metadata": {
        "id": "8xtPmigof4tV"
      }
    },
    {
      "cell_type": "code",
      "source": [
        "#Angina inducida por ejercicio segun el sexo\n",
        "sns.displot(df, x=df_copy['ExerciseAngina'], hue = df_copy['Sex'], shrink= 0.5)"
      ],
      "metadata": {
        "colab": {
          "base_uri": "https://localhost:8080/",
          "height": 524
        },
        "id": "FvOsNcxH7L95",
        "outputId": "20e6cf0e-12ab-4f4b-d6e2-7ca8cdeb692c"
      },
      "execution_count": null,
      "outputs": [
        {
          "output_type": "execute_result",
          "data": {
            "text/plain": [
              "<seaborn.axisgrid.FacetGrid at 0x7a7da8dcac80>"
            ]
          },
          "metadata": {},
          "execution_count": 153
        },
        {
          "output_type": "display_data",
          "data": {
            "text/plain": [
              "<Figure size 562x500 with 1 Axes>"
            ],
            "image/png": "[encoded data removed]"
          },
          "metadata": {}
        }
      ]
    },
    {
      "cell_type": "code",
      "source": [
        "sns.countplot(x=df_copy['ExerciseAngina'], hue = df_copy['Outcome'])"
      ],
      "metadata": {
        "colab": {
          "base_uri": "https://localhost:8080/",
          "height": 466
        },
        "id": "tUHQTwHMhxyg",
        "outputId": "e50e7341-1e22-473c-f809-34e9cc76d4c8"
      },
      "execution_count": null,
      "outputs": [
        {
          "output_type": "execute_result",
          "data": {
            "text/plain": [
              "<Axes: xlabel='ExerciseAngina', ylabel='count'>"
            ]
          },
          "metadata": {},
          "execution_count": 154
        },
        {
          "output_type": "display_data",
          "data": {
            "text/plain": [
              "<Figure size 640x480 with 1 Axes>"
            ],
            "image/png": "[encoded data removed]"
          },
          "metadata": {}
        }
      ]
    },
    {
      "cell_type": "markdown",
      "source": [
        "Es evidente que en los casos que si hubo angina inducida por ejercicio, la cantidad de casos en la que se registra una cardiopatía es aproximadamente el doble a los casos que no."
      ],
      "metadata": {
        "id": "lhNgYGrWiF-U"
      }
    },
    {
      "cell_type": "code",
      "source": [
        "# Veamos la distribución de la variable Oldpeak\n",
        "sns.displot(data=df_copy, x='Oldpeak', kde=True).set(ylabel= 'Distribución',title='Distribución por Oldpeak')"
      ],
      "metadata": {
        "colab": {
          "base_uri": "https://localhost:8080/",
          "height": 546
        },
        "id": "er7DQLtTAGXv",
        "outputId": "ba2a566d-8ef6-4f9c-db10-66aba482baff"
      },
      "execution_count": null,
      "outputs": [
        {
          "output_type": "execute_result",
          "data": {
            "text/plain": [
              "<seaborn.axisgrid.FacetGrid at 0x7a7da8cce2c0>"
            ]
          },
          "metadata": {},
          "execution_count": 155
        },
        {
          "output_type": "display_data",
          "data": {
            "text/plain": [
              "<Figure size 500x500 with 1 Axes>"
            ],
            "image/png": "[encoded data removed]"
          },
          "metadata": {}
        }
      ]
    },
    {
      "cell_type": "code",
      "source": [
        "# Veamos la distribución de Slope por sexo\n",
        "sns.histplot(x=df_copy['ST_Slope'], hue=df_copy['Sex'], shrink = 0.5)"
      ],
      "metadata": {
        "colab": {
          "base_uri": "https://localhost:8080/",
          "height": 467
        },
        "id": "QdYam0mYvxpR",
        "outputId": "8f08aca4-50f3-4a3f-a7d0-090989f23944"
      },
      "execution_count": null,
      "outputs": [
        {
          "output_type": "execute_result",
          "data": {
            "text/plain": [
              "<Axes: xlabel='ST_Slope', ylabel='Count'>"
            ]
          },
          "metadata": {},
          "execution_count": 156
        },
        {
          "output_type": "display_data",
          "data": {
            "text/plain": [
              "<Figure size 640x480 with 1 Axes>"
            ],
            "image/png": "[encoded data removed]"
          },
          "metadata": {}
        }
      ]
    },
    {
      "cell_type": "code",
      "source": [
        "# Relación entre ST_Slope y cardiopatía\n",
        "sns.countplot(x=df_copy['ST_Slope'], hue=df_copy['Outcome']).set(ylabel='Cantidad', title='Distribución ST_Slope vs. Target')"
      ],
      "metadata": {
        "colab": {
          "base_uri": "https://localhost:8080/",
          "height": 489
        },
        "id": "JTqVXPjPkCmX",
        "outputId": "c6b7d792-8e86-4c72-a16a-1f7a4b5305d8"
      },
      "execution_count": null,
      "outputs": [
        {
          "output_type": "execute_result",
          "data": {
            "text/plain": [
              "[Text(0, 0.5, 'Cantidad'), Text(0.5, 1.0, 'Distribución ST_Slope vs. Target')]"
            ]
          },
          "metadata": {},
          "execution_count": 157
        },
        {
          "output_type": "display_data",
          "data": {
            "text/plain": [
              "<Figure size 640x480 with 1 Axes>"
            ],
            "image/png": "[encoded data removed]"
          },
          "metadata": {}
        }
      ]
    },
    {
      "cell_type": "markdown",
      "source": [
        "Se registraron muchos más diagnósticos de cardiopatía en los casos en que Slope es Flat."
      ],
      "metadata": {
        "id": "IHbG43w9mH9i"
      }
    },
    {
      "cell_type": "markdown",
      "source": [
        "## Respondiendo las preguntas planteadas"
      ],
      "metadata": {
        "id": "DMLW_qERynSn"
      }
    },
    {
      "cell_type": "markdown",
      "source": [
        "En base a los insights que obtuvimos con las visualizaciones, responderemos las preguntas planteadas:\n",
        "\n",
        "* ¿Qué relación hay entre la edad de los pacientes y una cardiopatía diagnosticada?\n",
        "\n",
        "A partir de los gráficos de caja, podemos ver que el promedio de edad de personas con cardiopatías es algo mayor que las que no tienen. Siendo para los casos negativos una media de casi 50 años, y para los positivos casi 60.\n",
        "Con esto podemos intuir que a mayor edad, más probable es que padezca una enfermedad del corazón.\n",
        "\n",
        "* ¿Es más habitual una cardiopatía en hombres o en mujeres?\n",
        "\n",
        "Según el countplot que hemos realizado, para los hombres es significativamente mayor la cantidad con cardiopatías. En la cambio para mujeres, la distribución es casi la misma, pero siendo la mayor la de casos positivos.\n",
        "\n",
        "* Tanto en hombres como mujeres, ¿predomina algún tipo de dolor de pecho sobre el resto? ¿si hay cardiopatía diagnosticada, algún tipo de dolor es mas común?\n",
        "\n",
        "El tipo \"asintomático\" destaca notablemente sobre el resto. Además, el tipo \"asintomático\" es el único que presenta más casos positivos de que negativos.\n",
        "Esto podría ser confuso, ya que particularmente el caso que más positivos presenta es el asintomático.\n",
        "\n",
        "* ¿Existe una relación entre una cardiopatía y los valores de glucemia?\n",
        "\n",
        "Para los pacientes que tuvieron como resultado 120 mg/dl la distribución fue casi la misma (y son la mayoría de los casos). Pero cuando el valor fue mayor a 120 mg/dl los casos positivos fueron casi el doble que los negativos.\n",
        "\n",
        "* ¿Que características del electrocardiograma están  mas asociadas a una cardiopatía?\n",
        "\n",
        "Para los tres casos de ECG la distribución es similar, pero en el caso de \"Normal\" se presentan más casos positivos."
      ],
      "metadata": {
        "id": "bqeJla5zysKJ"
      }
    },
    {
      "cell_type": "markdown",
      "source": [
        "# Algoritmos de clasificación."
      ],
      "metadata": {
        "id": "h_8apy2PWUUR"
      }
    },
    {
      "cell_type": "code",
      "source": [
        "df_copy.head()"
      ],
      "metadata": {
        "colab": {
          "base_uri": "https://localhost:8080/",
          "height": 206
        },
        "id": "ghI_xFgJV68k",
        "outputId": "3fbee861-90ad-4ec4-a1d9-ffa735cd2f62"
      },
      "execution_count": null,
      "outputs": [
        {
          "output_type": "execute_result",
          "data": {
            "text/plain": [
              "   Age Sex ChestPainType  RestingBP  Cholesterol  FastingBS RestingECG  MaxHR  \\\n",
              "0   40   M           ATA        140          289          0     Normal    172   \n",
              "1   49   F           NAP        160          180          0     Normal    156   \n",
              "2   37   M           ATA        130          283          0         ST     98   \n",
              "3   48   F           ASY        138          214          0     Normal    108   \n",
              "4   54   M           NAP        150          195          0     Normal    122   \n",
              "\n",
              "  ExerciseAngina  Oldpeak ST_Slope  Outcome  \n",
              "0              N      0.0       Up        0  \n",
              "1              N      1.0     Flat        1  \n",
              "2              N      0.0       Up        0  \n",
              "3              Y      1.5     Flat        1  \n",
              "4              N      0.0       Up        0  "
            ],
            "text/html": [
              "\n",
              "\n",
              "  <div id=\"df-e5e84cbe-0af4-41f3-a5a5-204c0eb20fbb\">\n",
              "    <div class=\"colab-df-container\">\n",
              "      <div>\n",
              "<style scoped>\n",
              "    .dataframe tbody tr th:only-of-type {\n",
              "        vertical-align: middle;\n",
              "    }\n",
              "\n",
              "    .dataframe tbody tr th {\n",
              "        vertical-align: top;\n",
              "    }\n",
              "\n",
              "    .dataframe thead th {\n",
              "        text-align: right;\n",
              "    }\n",
              "</style>\n",
              "<table border=\"1\" class=\"dataframe\">\n",
              "  <thead>\n",
              "    <tr style=\"text-align: right;\">\n",
              "      <th></th>\n",
              "      <th>Age</th>\n",
              "      <th>Sex</th>\n",
              "      <th>ChestPainType</th>\n",
              "      <th>RestingBP</th>\n",
              "      <th>Cholesterol</th>\n",
              "      <th>FastingBS</th>\n",
              "      <th>RestingECG</th>\n",
              "      <th>MaxHR</th>\n",
              "      <th>ExerciseAngina</th>\n",
              "      <th>Oldpeak</th>\n",
              "      <th>ST_Slope</th>\n",
              "      <th>Outcome</th>\n",
              "    </tr>\n",
              "  </thead>\n",
              "  <tbody>\n",
              "    <tr>\n",
              "      <th>0</th>\n",
              "      <td>40</td>\n",
              "      <td>M</td>\n",
              "      <td>ATA</td>\n",
              "      <td>140</td>\n",
              "      <td>289</td>\n",
              "      <td>0</td>\n",
              "      <td>Normal</td>\n",
              "      <td>172</td>\n",
              "      <td>N</td>\n",
              "      <td>0.0</td>\n",
              "      <td>Up</td>\n",
              "      <td>0</td>\n",
              "    </tr>\n",
              "    <tr>\n",
              "      <th>1</th>\n",
              "      <td>49</td>\n",
              "      <td>F</td>\n",
              "      <td>NAP</td>\n",
              "      <td>160</td>\n",
              "      <td>180</td>\n",
              "      <td>0</td>\n",
              "      <td>Normal</td>\n",
              "      <td>156</td>\n",
              "      <td>N</td>\n",
              "      <td>1.0</td>\n",
              "      <td>Flat</td>\n",
              "      <td>1</td>\n",
              "    </tr>\n",
              "    <tr>\n",
              "      <th>2</th>\n",
              "      <td>37</td>\n",
              "      <td>M</td>\n",
              "      <td>ATA</td>\n",
              "      <td>130</td>\n",
              "      <td>283</td>\n",
              "      <td>0</td>\n",
              "      <td>ST</td>\n",
              "      <td>98</td>\n",
              "      <td>N</td>\n",
              "      <td>0.0</td>\n",
              "      <td>Up</td>\n",
              "      <td>0</td>\n",
              "    </tr>\n",
              "    <tr>\n",
              "      <th>3</th>\n",
              "      <td>48</td>\n",
              "      <td>F</td>\n",
              "      <td>ASY</td>\n",
              "      <td>138</td>\n",
              "      <td>214</td>\n",
              "      <td>0</td>\n",
              "      <td>Normal</td>\n",
              "      <td>108</td>\n",
              "      <td>Y</td>\n",
              "      <td>1.5</td>\n",
              "      <td>Flat</td>\n",
              "      <td>1</td>\n",
              "    </tr>\n",
              "    <tr>\n",
              "      <th>4</th>\n",
              "      <td>54</td>\n",
              "      <td>M</td>\n",
              "      <td>NAP</td>\n",
              "      <td>150</td>\n",
              "      <td>195</td>\n",
              "      <td>0</td>\n",
              "      <td>Normal</td>\n",
              "      <td>122</td>\n",
              "      <td>N</td>\n",
              "      <td>0.0</td>\n",
              "      <td>Up</td>\n",
              "      <td>0</td>\n",
              "    </tr>\n",
              "  </tbody>\n",
              "</table>\n",
              "</div>\n",
              "      <button class=\"colab-df-convert\" onclick=\"convertToInteractive('df-e5e84cbe-0af4-41f3-a5a5-204c0eb20fbb')\"\n",
              "              title=\"Convert this dataframe to an interactive table.\"\n",
              "              style=\"display:none;\">\n",
              "\n",
              "  <svg xmlns=\"http://www.w3.org/2000/svg\" height=\"24px\"viewBox=\"0 0 24 24\"\n",
              "       width=\"24px\">\n",
              "    <path d=\"M0 0h24v24H0V0z\" fill=\"none\"/>\n",
              "    <path d=\"M18.56 5.44l.94 2.06.94-2.06 2.06-.94-2.06-.94-.94-2.06-.94 2.06-2.06.94zm-11 1L8.5 8.5l.94-2.06 2.06-.94-2.06-.94L8.5 2.5l-.94 2.06-2.06.94zm10 10l.94 2.06.94-2.06 2.06-.94-2.06-.94-.94-2.06-.94 2.06-2.06.94z\"/><path d=\"M17.41 7.96l-1.37-1.37c-.4-.4-.92-.59-1.43-.59-.52 0-1.04.2-1.43.59L10.3 9.45l-7.72 7.72c-.78.78-.78 2.05 0 2.83L4 21.41c.39.39.9.59 1.41.59.51 0 1.02-.2 1.41-.59l7.78-7.78 2.81-2.81c.8-.78.8-2.07 0-2.86zM5.41 20L4 18.59l7.72-7.72 1.47 1.35L5.41 20z\"/>\n",
              "  </svg>\n",
              "      </button>\n",
              "\n",
              "\n",
              "\n",
              "    <div id=\"df-78bb77e1-fef3-4bb3-bcc5-6c66cbce032b\">\n",
              "      <button class=\"colab-df-quickchart\" onclick=\"quickchart('df-78bb77e1-fef3-4bb3-bcc5-6c66cbce032b')\"\n",
              "              title=\"Suggest charts.\"\n",
              "              style=\"display:none;\">\n",
              "\n",
              "<svg xmlns=\"http://www.w3.org/2000/svg\" height=\"24px\"viewBox=\"0 0 24 24\"\n",
              "     width=\"24px\">\n",
              "    <g>\n",
              "        <path d=\"M19 3H5c-1.1 0-2 .9-2 2v14c0 1.1.9 2 2 2h14c1.1 0 2-.9 2-2V5c0-1.1-.9-2-2-2zM9 17H7v-7h2v7zm4 0h-2V7h2v10zm4 0h-2v-4h2v4z\"/>\n",
              "    </g>\n",
              "</svg>\n",
              "      </button>\n",
              "    </div>\n",
              "\n",
              "<style>\n",
              "  .colab-df-quickchart {\n",
              "    background-color: #E8F0FE;\n",
              "    border: none;\n",
              "    border-radius: 50%;\n",
              "    cursor: pointer;\n",
              "    display: none;\n",
              "    fill: #1967D2;\n",
              "    height: 32px;\n",
              "    padding: 0 0 0 0;\n",
              "    width: 32px;\n",
              "  }\n",
              "\n",
              "  .colab-df-quickchart:hover {\n",
              "    background-color: #E2EBFA;\n",
              "    box-shadow: 0px 1px 2px rgba(60, 64, 67, 0.3), 0px 1px 3px 1px rgba(60, 64, 67, 0.15);\n",
              "    fill: #174EA6;\n",
              "  }\n",
              "\n",
              "  [theme=dark] .colab-df-quickchart {\n",
              "    background-color: #3B4455;\n",
              "    fill: #D2E3FC;\n",
              "  }\n",
              "\n",
              "  [theme=dark] .colab-df-quickchart:hover {\n",
              "    background-color: #434B5C;\n",
              "    box-shadow: 0px 1px 3px 1px rgba(0, 0, 0, 0.15);\n",
              "    filter: drop-shadow(0px 1px 2px rgba(0, 0, 0, 0.3));\n",
              "    fill: #FFFFFF;\n",
              "  }\n",
              "</style>\n",
              "\n",
              "    <script>\n",
              "      async function quickchart(key) {\n",
              "        const containerElement = document.querySelector('#' + key);\n",
              "        const charts = await google.colab.kernel.invokeFunction(\n",
              "            'suggestCharts', [key], {});\n",
              "      }\n",
              "    </script>\n",
              "\n",
              "      <script>\n",
              "\n",
              "function displayQuickchartButton(domScope) {\n",
              "  let quickchartButtonEl =\n",
              "    domScope.querySelector('#df-78bb77e1-fef3-4bb3-bcc5-6c66cbce032b button.colab-df-quickchart');\n",
              "  quickchartButtonEl.style.display =\n",
              "    google.colab.kernel.accessAllowed ? 'block' : 'none';\n",
              "}\n",
              "\n",
              "        displayQuickchartButton(document);\n",
              "      </script>\n",
              "      <style>\n",
              "    .colab-df-container {\n",
              "      display:flex;\n",
              "      flex-wrap:wrap;\n",
              "      gap: 12px;\n",
              "    }\n",
              "\n",
              "    .colab-df-convert {\n",
              "      background-color: #E8F0FE;\n",
              "      border: none;\n",
              "      border-radius: 50%;\n",
              "      cursor: pointer;\n",
              "      display: none;\n",
              "      fill: #1967D2;\n",
              "      height: 32px;\n",
              "      padding: 0 0 0 0;\n",
              "      width: 32px;\n",
              "    }\n",
              "\n",
              "    .colab-df-convert:hover {\n",
              "      background-color: #E2EBFA;\n",
              "      box-shadow: 0px 1px 2px rgba(60, 64, 67, 0.3), 0px 1px 3px 1px rgba(60, 64, 67, 0.15);\n",
              "      fill: #174EA6;\n",
              "    }\n",
              "\n",
              "    [theme=dark] .colab-df-convert {\n",
              "      background-color: #3B4455;\n",
              "      fill: #D2E3FC;\n",
              "    }\n",
              "\n",
              "    [theme=dark] .colab-df-convert:hover {\n",
              "      background-color: #434B5C;\n",
              "      box-shadow: 0px 1px 3px 1px rgba(0, 0, 0, 0.15);\n",
              "      filter: drop-shadow(0px 1px 2px rgba(0, 0, 0, 0.3));\n",
              "      fill: #FFFFFF;\n",
              "    }\n",
              "  </style>\n",
              "\n",
              "      <script>\n",
              "        const buttonEl =\n",
              "          document.querySelector('#df-e5e84cbe-0af4-41f3-a5a5-204c0eb20fbb button.colab-df-convert');\n",
              "        buttonEl.style.display =\n",
              "          google.colab.kernel.accessAllowed ? 'block' : 'none';\n",
              "\n",
              "        async function convertToInteractive(key) {\n",
              "          const element = document.querySelector('#df-e5e84cbe-0af4-41f3-a5a5-204c0eb20fbb');\n",
              "          const dataTable =\n",
              "            await google.colab.kernel.invokeFunction('convertToInteractive',\n",
              "                                                     [key], {});\n",
              "          if (!dataTable) return;\n",
              "\n",
              "          const docLinkHtml = 'Like what you see? Visit the ' +\n",
              "            '<a target=\"_blank\" href=https://colab.research.google.com/notebooks/data_table.ipynb>data table notebook</a>'\n",
              "            + ' to learn more about interactive tables.';\n",
              "          element.innerHTML = '';\n",
              "          dataTable['output_type'] = 'display_data';\n",
              "          await google.colab.output.renderOutput(dataTable, element);\n",
              "          const docLink = document.createElement('div');\n",
              "          docLink.innerHTML = docLinkHtml;\n",
              "          element.appendChild(docLink);\n",
              "        }\n",
              "      </script>\n",
              "    </div>\n",
              "  </div>\n"
            ]
          },
          "metadata": {},
          "execution_count": 158
        }
      ]
    },
    {
      "cell_type": "markdown",
      "source": [
        "El dataset se encuentra en \"crudo\", por lo que antes de poder aplicar los algoritmos de clasificación tenemos que poner a punto los datos. Sino, obtendremos resultados que no son correctos.\n",
        "\n",
        "Para esto, tenemos que normalizar las variables. Como hicimos anteriormente, nos valdremos de dos métodos para esto: MinMaxScaler y StandardScaler.\n",
        "Recordemos que en caso de que la distribución no sea normal, tendremos que aplicar MinMaxScaler, sino lo mejor sería usar StandardScaler.\n",
        "\n",
        "Además, también tenemos que convertir las variables categóricas a numéricas haciando uso de algún encoder. (en este caso, será para: ``Sex``,  ``ChestPainType``, ``RestingECG``, ``ExerciseAngina`` y ``St_Slope``. Para ``Outcome`` lo hicimos previamente."
      ],
      "metadata": {
        "id": "sUoGw916jlsT"
      }
    },
    {
      "cell_type": "code",
      "source": [
        "le = LabelEncoder()\n",
        "df_le = df_copy.copy(deep = True)\n",
        "\n",
        "df_le['Sex'] = le.fit_transform(df_le['Sex'])\n",
        "df_le['ChestPainType'] = le.fit_transform(df_le['ChestPainType'])\n",
        "df_le['RestingECG'] = le.fit_transform(df_le['RestingECG'])\n",
        "df_le['ExerciseAngina'] = le.fit_transform(df_le['ExerciseAngina'])\n",
        "df_le['ST_Slope'] = le.fit_transform(df_le['ST_Slope'])"
      ],
      "metadata": {
        "id": "8H0leyX-vCbi"
      },
      "execution_count": null,
      "outputs": []
    },
    {
      "cell_type": "markdown",
      "source": [
        "## Normalización de los datos"
      ],
      "metadata": {
        "id": "ZnnoRbsSxQ5s"
      }
    },
    {
      "cell_type": "markdown",
      "source": [
        "Ya habpiamos visto anteriormente, utilizando la prueba de Shapiro-Wilk cuáles variables seguían una distribución normal.\n",
        "\n",
        "En base a los resultados que arrojó el test para las variables Age, Oldpeak, RestingBP, Cholesterol y MaxHR ningun seguía una distribución normal. Por lo que las normalizaremos utilizando MinMaxScaler."
      ],
      "metadata": {
        "id": "2YJZhroqxUIr"
      }
    },
    {
      "cell_type": "code",
      "source": [
        "mms = MinMaxScaler()\n",
        "\n",
        "df_le['Age'] = mms.fit_transform(df_le[['Age']])\n",
        "df_le['RestingBP'] = mms.fit_transform(df_le[['RestingBP']])\n",
        "df_le['Cholesterol'] = mms.fit_transform(df_le[['Cholesterol']])\n",
        "df_le['MaxHR'] = mms.fit_transform(df_le[['MaxHR']])\n",
        "df_le['Oldpeak'] = mms.fit_transform(df_le[['Oldpeak']])\n",
        "df_le.head()"
      ],
      "metadata": {
        "colab": {
          "base_uri": "https://localhost:8080/",
          "height": 206
        },
        "id": "wowZoxl_zIs9",
        "outputId": "cd3516df-107c-411f-81f5-73cdc690252f"
      },
      "execution_count": null,
      "outputs": [
        {
          "output_type": "execute_result",
          "data": {
            "text/plain": [
              "        Age  Sex  ChestPainType  RestingBP  Cholesterol  FastingBS  \\\n",
              "0  0.277778    1              1   0.657534     0.693046          0   \n",
              "1  0.444444    0              2   0.931507     0.431655          0   \n",
              "2  0.222222    1              1   0.520548     0.678657          0   \n",
              "3  0.425926    0              0   0.630137     0.513189          0   \n",
              "4  0.537037    1              2   0.794521     0.467626          0   \n",
              "\n",
              "   RestingECG     MaxHR  ExerciseAngina   Oldpeak  ST_Slope  Outcome  \n",
              "0           1  0.784173               0  0.295455         2        0  \n",
              "1           1  0.669065               0  0.409091         1        1  \n",
              "2           2  0.251799               0  0.295455         2        0  \n",
              "3           1  0.323741               1  0.465909         1        1  \n",
              "4           1  0.424460               0  0.295455         2        0  "
            ],
            "text/html": [
              "\n",
              "\n",
              "  <div id=\"df-5d210029-7bc7-4483-8bd1-1806f184c2b1\">\n",
              "    <div class=\"colab-df-container\">\n",
              "      <div>\n",
              "<style scoped>\n",
              "    .dataframe tbody tr th:only-of-type {\n",
              "        vertical-align: middle;\n",
              "    }\n",
              "\n",
              "    .dataframe tbody tr th {\n",
              "        vertical-align: top;\n",
              "    }\n",
              "\n",
              "    .dataframe thead th {\n",
              "        text-align: right;\n",
              "    }\n",
              "</style>\n",
              "<table border=\"1\" class=\"dataframe\">\n",
              "  <thead>\n",
              "    <tr style=\"text-align: right;\">\n",
              "      <th></th>\n",
              "      <th>Age</th>\n",
              "      <th>Sex</th>\n",
              "      <th>ChestPainType</th>\n",
              "      <th>RestingBP</th>\n",
              "      <th>Cholesterol</th>\n",
              "      <th>FastingBS</th>\n",
              "      <th>RestingECG</th>\n",
              "      <th>MaxHR</th>\n",
              "      <th>ExerciseAngina</th>\n",
              "      <th>Oldpeak</th>\n",
              "      <th>ST_Slope</th>\n",
              "      <th>Outcome</th>\n",
              "    </tr>\n",
              "  </thead>\n",
              "  <tbody>\n",
              "    <tr>\n",
              "      <th>0</th>\n",
              "      <td>0.277778</td>\n",
              "      <td>1</td>\n",
              "      <td>1</td>\n",
              "      <td>0.657534</td>\n",
              "      <td>0.693046</td>\n",
              "      <td>0</td>\n",
              "      <td>1</td>\n",
              "      <td>0.784173</td>\n",
              "      <td>0</td>\n",
              "      <td>0.295455</td>\n",
              "      <td>2</td>\n",
              "      <td>0</td>\n",
              "    </tr>\n",
              "    <tr>\n",
              "      <th>1</th>\n",
              "      <td>0.444444</td>\n",
              "      <td>0</td>\n",
              "      <td>2</td>\n",
              "      <td>0.931507</td>\n",
              "      <td>0.431655</td>\n",
              "      <td>0</td>\n",
              "      <td>1</td>\n",
              "      <td>0.669065</td>\n",
              "      <td>0</td>\n",
              "      <td>0.409091</td>\n",
              "      <td>1</td>\n",
              "      <td>1</td>\n",
              "    </tr>\n",
              "    <tr>\n",
              "      <th>2</th>\n",
              "      <td>0.222222</td>\n",
              "      <td>1</td>\n",
              "      <td>1</td>\n",
              "      <td>0.520548</td>\n",
              "      <td>0.678657</td>\n",
              "      <td>0</td>\n",
              "      <td>2</td>\n",
              "      <td>0.251799</td>\n",
              "      <td>0</td>\n",
              "      <td>0.295455</td>\n",
              "      <td>2</td>\n",
              "      <td>0</td>\n",
              "    </tr>\n",
              "    <tr>\n",
              "      <th>3</th>\n",
              "      <td>0.425926</td>\n",
              "      <td>0</td>\n",
              "      <td>0</td>\n",
              "      <td>0.630137</td>\n",
              "      <td>0.513189</td>\n",
              "      <td>0</td>\n",
              "      <td>1</td>\n",
              "      <td>0.323741</td>\n",
              "      <td>1</td>\n",
              "      <td>0.465909</td>\n",
              "      <td>1</td>\n",
              "      <td>1</td>\n",
              "    </tr>\n",
              "    <tr>\n",
              "      <th>4</th>\n",
              "      <td>0.537037</td>\n",
              "      <td>1</td>\n",
              "      <td>2</td>\n",
              "      <td>0.794521</td>\n",
              "      <td>0.467626</td>\n",
              "      <td>0</td>\n",
              "      <td>1</td>\n",
              "      <td>0.424460</td>\n",
              "      <td>0</td>\n",
              "      <td>0.295455</td>\n",
              "      <td>2</td>\n",
              "      <td>0</td>\n",
              "    </tr>\n",
              "  </tbody>\n",
              "</table>\n",
              "</div>\n",
              "      <button class=\"colab-df-convert\" onclick=\"convertToInteractive('df-5d210029-7bc7-4483-8bd1-1806f184c2b1')\"\n",
              "              title=\"Convert this dataframe to an interactive table.\"\n",
              "              style=\"display:none;\">\n",
              "\n",
              "  <svg xmlns=\"http://www.w3.org/2000/svg\" height=\"24px\"viewBox=\"0 0 24 24\"\n",
              "       width=\"24px\">\n",
              "    <path d=\"M0 0h24v24H0V0z\" fill=\"none\"/>\n",
              "    <path d=\"M18.56 5.44l.94 2.06.94-2.06 2.06-.94-2.06-.94-.94-2.06-.94 2.06-2.06.94zm-11 1L8.5 8.5l.94-2.06 2.06-.94-2.06-.94L8.5 2.5l-.94 2.06-2.06.94zm10 10l.94 2.06.94-2.06 2.06-.94-2.06-.94-.94-2.06-.94 2.06-2.06.94z\"/><path d=\"M17.41 7.96l-1.37-1.37c-.4-.4-.92-.59-1.43-.59-.52 0-1.04.2-1.43.59L10.3 9.45l-7.72 7.72c-.78.78-.78 2.05 0 2.83L4 21.41c.39.39.9.59 1.41.59.51 0 1.02-.2 1.41-.59l7.78-7.78 2.81-2.81c.8-.78.8-2.07 0-2.86zM5.41 20L4 18.59l7.72-7.72 1.47 1.35L5.41 20z\"/>\n",
              "  </svg>\n",
              "      </button>\n",
              "\n",
              "\n",
              "\n",
              "    <div id=\"df-a246ad9c-7bae-4dd3-a740-865590d72a60\">\n",
              "      <button class=\"colab-df-quickchart\" onclick=\"quickchart('df-a246ad9c-7bae-4dd3-a740-865590d72a60')\"\n",
              "              title=\"Suggest charts.\"\n",
              "              style=\"display:none;\">\n",
              "\n",
              "<svg xmlns=\"http://www.w3.org/2000/svg\" height=\"24px\"viewBox=\"0 0 24 24\"\n",
              "     width=\"24px\">\n",
              "    <g>\n",
              "        <path d=\"M19 3H5c-1.1 0-2 .9-2 2v14c0 1.1.9 2 2 2h14c1.1 0 2-.9 2-2V5c0-1.1-.9-2-2-2zM9 17H7v-7h2v7zm4 0h-2V7h2v10zm4 0h-2v-4h2v4z\"/>\n",
              "    </g>\n",
              "</svg>\n",
              "      </button>\n",
              "    </div>\n",
              "\n",
              "<style>\n",
              "  .colab-df-quickchart {\n",
              "    background-color: #E8F0FE;\n",
              "    border: none;\n",
              "    border-radius: 50%;\n",
              "    cursor: pointer;\n",
              "    display: none;\n",
              "    fill: #1967D2;\n",
              "    height: 32px;\n",
              "    padding: 0 0 0 0;\n",
              "    width: 32px;\n",
              "  }\n",
              "\n",
              "  .colab-df-quickchart:hover {\n",
              "    background-color: #E2EBFA;\n",
              "    box-shadow: 0px 1px 2px rgba(60, 64, 67, 0.3), 0px 1px 3px 1px rgba(60, 64, 67, 0.15);\n",
              "    fill: #174EA6;\n",
              "  }\n",
              "\n",
              "  [theme=dark] .colab-df-quickchart {\n",
              "    background-color: #3B4455;\n",
              "    fill: #D2E3FC;\n",
              "  }\n",
              "\n",
              "  [theme=dark] .colab-df-quickchart:hover {\n",
              "    background-color: #434B5C;\n",
              "    box-shadow: 0px 1px 3px 1px rgba(0, 0, 0, 0.15);\n",
              "    filter: drop-shadow(0px 1px 2px rgba(0, 0, 0, 0.3));\n",
              "    fill: #FFFFFF;\n",
              "  }\n",
              "</style>\n",
              "\n",
              "    <script>\n",
              "      async function quickchart(key) {\n",
              "        const containerElement = document.querySelector('#' + key);\n",
              "        const charts = await google.colab.kernel.invokeFunction(\n",
              "            'suggestCharts', [key], {});\n",
              "      }\n",
              "    </script>\n",
              "\n",
              "      <script>\n",
              "\n",
              "function displayQuickchartButton(domScope) {\n",
              "  let quickchartButtonEl =\n",
              "    domScope.querySelector('#df-a246ad9c-7bae-4dd3-a740-865590d72a60 button.colab-df-quickchart');\n",
              "  quickchartButtonEl.style.display =\n",
              "    google.colab.kernel.accessAllowed ? 'block' : 'none';\n",
              "}\n",
              "\n",
              "        displayQuickchartButton(document);\n",
              "      </script>\n",
              "      <style>\n",
              "    .colab-df-container {\n",
              "      display:flex;\n",
              "      flex-wrap:wrap;\n",
              "      gap: 12px;\n",
              "    }\n",
              "\n",
              "    .colab-df-convert {\n",
              "      background-color: #E8F0FE;\n",
              "      border: none;\n",
              "      border-radius: 50%;\n",
              "      cursor: pointer;\n",
              "      display: none;\n",
              "      fill: #1967D2;\n",
              "      height: 32px;\n",
              "      padding: 0 0 0 0;\n",
              "      width: 32px;\n",
              "    }\n",
              "\n",
              "    .colab-df-convert:hover {\n",
              "      background-color: #E2EBFA;\n",
              "      box-shadow: 0px 1px 2px rgba(60, 64, 67, 0.3), 0px 1px 3px 1px rgba(60, 64, 67, 0.15);\n",
              "      fill: #174EA6;\n",
              "    }\n",
              "\n",
              "    [theme=dark] .colab-df-convert {\n",
              "      background-color: #3B4455;\n",
              "      fill: #D2E3FC;\n",
              "    }\n",
              "\n",
              "    [theme=dark] .colab-df-convert:hover {\n",
              "      background-color: #434B5C;\n",
              "      box-shadow: 0px 1px 3px 1px rgba(0, 0, 0, 0.15);\n",
              "      filter: drop-shadow(0px 1px 2px rgba(0, 0, 0, 0.3));\n",
              "      fill: #FFFFFF;\n",
              "    }\n",
              "  </style>\n",
              "\n",
              "      <script>\n",
              "        const buttonEl =\n",
              "          document.querySelector('#df-5d210029-7bc7-4483-8bd1-1806f184c2b1 button.colab-df-convert');\n",
              "        buttonEl.style.display =\n",
              "          google.colab.kernel.accessAllowed ? 'block' : 'none';\n",
              "\n",
              "        async function convertToInteractive(key) {\n",
              "          const element = document.querySelector('#df-5d210029-7bc7-4483-8bd1-1806f184c2b1');\n",
              "          const dataTable =\n",
              "            await google.colab.kernel.invokeFunction('convertToInteractive',\n",
              "                                                     [key], {});\n",
              "          if (!dataTable) return;\n",
              "\n",
              "          const docLinkHtml = 'Like what you see? Visit the ' +\n",
              "            '<a target=\"_blank\" href=https://colab.research.google.com/notebooks/data_table.ipynb>data table notebook</a>'\n",
              "            + ' to learn more about interactive tables.';\n",
              "          element.innerHTML = '';\n",
              "          dataTable['output_type'] = 'display_data';\n",
              "          await google.colab.output.renderOutput(dataTable, element);\n",
              "          const docLink = document.createElement('div');\n",
              "          docLink.innerHTML = docLinkHtml;\n",
              "          element.appendChild(docLink);\n",
              "        }\n",
              "      </script>\n",
              "    </div>\n",
              "  </div>\n"
            ]
          },
          "metadata": {},
          "execution_count": 160
        }
      ]
    },
    {
      "cell_type": "markdown",
      "source": [
        "Veamos la correlación entre las variables, prestando particular atención en la correlación con Outcome."
      ],
      "metadata": {
        "id": "yKvKiRGgwE8s"
      }
    },
    {
      "cell_type": "code",
      "source": [
        "sns.heatmap(df_le.corr(),fmt = \".2f\",annot=True,lw=1,cmap = 'Blues')"
      ],
      "metadata": {
        "colab": {
          "base_uri": "https://localhost:8080/",
          "height": 544
        },
        "id": "_MP2qFTFfu6E",
        "outputId": "a4ab6838-2916-4baf-a1ff-495f27c96fe5"
      },
      "execution_count": null,
      "outputs": [
        {
          "output_type": "execute_result",
          "data": {
            "text/plain": [
              "<Axes: >"
            ]
          },
          "metadata": {},
          "execution_count": 161
        },
        {
          "output_type": "display_data",
          "data": {
            "text/plain": [
              "<Figure size 640x480 with 2 Axes>"
            ],
            "image/png": "[encoded data removed]"
          },
          "metadata": {}
        }
      ]
    },
    {
      "cell_type": "code",
      "source": [
        "#Divido los datos en Train y Test\n",
        "\n",
        "X = df_le.drop(columns = 'Outcome') # Train\n",
        "y = df_le['Outcome']"
      ],
      "metadata": {
        "id": "JFfOjKFNwuu0"
      },
      "execution_count": null,
      "outputs": []
    },
    {
      "cell_type": "code",
      "source": [
        "# Tomamos de anera aleatoria el 70% de los registros para Train y el 30% restante como Test.\n",
        "X_train, X_test, y_train, y_test = train_test_split(X,y.values.reshape(-1,1),train_size= 0.7,random_state = 42,shuffle=True)"
      ],
      "metadata": {
        "id": "wzra5JuT1GQs"
      },
      "execution_count": null,
      "outputs": []
    },
    {
      "cell_type": "markdown",
      "source": [
        "Observaciones: será útil recordar más tarde que el 30% de los registros son 363 registros.\n",
        "Además es conveniente saber si las categorías de Target aparecen en cantidades similares (esto será crucial para enteder el resultado del accuracy o recall más adelante).\n"
      ],
      "metadata": {
        "id": "CPYd73gRxHUQ"
      }
    },
    {
      "cell_type": "code",
      "source": [
        "df_le['Outcome'].value_counts()"
      ],
      "metadata": {
        "colab": {
          "base_uri": "https://localhost:8080/"
        },
        "id": "Kpx_XktTyFA8",
        "outputId": "ec498a48-4d04-46f2-fb17-d5dba153a555"
      },
      "execution_count": null,
      "outputs": [
        {
          "output_type": "execute_result",
          "data": {
            "text/plain": [
              "1    649\n",
              "0    559\n",
              "Name: Outcome, dtype: int64"
            ]
          },
          "metadata": {},
          "execution_count": 164
        }
      ]
    },
    {
      "cell_type": "markdown",
      "source": [
        "## Modelo: SVM (Support Vector Machine)"
      ],
      "metadata": {
        "id": "_9IH9wsCwk_M"
      }
    },
    {
      "cell_type": "code",
      "source": [
        "# Creamos el modelo SVM y entrenamos los datos\n",
        "\n",
        "svc = SVC(C = 100, kernel = 'linear', random_state=42)\n",
        "svc.fit(X_train, y_train)"
      ],
      "metadata": {
        "colab": {
          "base_uri": "https://localhost:8080/",
          "height": 129
        },
        "id": "PqRw8CNU1zEU",
        "outputId": "d4722886-4ab3-44da-8d8c-b79535df879f"
      },
      "execution_count": null,
      "outputs": [
        {
          "output_type": "stream",
          "name": "stderr",
          "text": [
            "/usr/local/lib/python3.10/dist-packages/sklearn/utils/validation.py:1143: DataConversionWarning: A column-vector y was passed when a 1d array was expected. Please change the shape of y to (n_samples, ), for example using ravel().\n",
            "  y = column_or_1d(y, warn=True)\n"
          ]
        },
        {
          "output_type": "execute_result",
          "data": {
            "text/plain": [
              "SVC(C=100, kernel='linear', random_state=42)"
            ],
            "text/html": [
              "<style>#sk-container-id-4 {color: black;background-color: white;}#sk-container-id-4 pre{padding: 0;}#sk-container-id-4 div.sk-toggleable {background-color: white;}#sk-container-id-4 label.sk-toggleable__label {cursor: pointer;display: block;width: 100%;margin-bottom: 0;padding: 0.3em;box-sizing: border-box;text-align: center;}#sk-container-id-4 label.sk-toggleable__label-arrow:before {content: \"▸\";float: left;margin-right: 0.25em;color: #696969;}#sk-container-id-4 label.sk-toggleable__label-arrow:hover:before {color: black;}#sk-container-id-4 div.sk-estimator:hover label.sk-toggleable__label-arrow:before {color: black;}#sk-container-id-4 div.sk-toggleable__content {max-height: 0;max-width: 0;overflow: hidden;text-align: left;background-color: #f0f8ff;}#sk-container-id-4 div.sk-toggleable__content pre {margin: 0.2em;color: black;border-radius: 0.25em;background-color: #f0f8ff;}#sk-container-id-4 input.sk-toggleable__control:checked~div.sk-toggleable__content {max-height: 200px;max-width: 100%;overflow: auto;}#sk-container-id-4 input.sk-toggleable__control:checked~label.sk-toggleable__label-arrow:before {content: \"▾\";}#sk-container-id-4 div.sk-estimator input.sk-toggleable__control:checked~label.sk-toggleable__label {background-color: #d4ebff;}#sk-container-id-4 div.sk-label input.sk-toggleable__control:checked~label.sk-toggleable__label {background-color: #d4ebff;}#sk-container-id-4 input.sk-hidden--visually {border: 0;clip: rect(1px 1px 1px 1px);clip: rect(1px, 1px, 1px, 1px);height: 1px;margin: -1px;overflow: hidden;padding: 0;position: absolute;width: 1px;}#sk-container-id-4 div.sk-estimator {font-family: monospace;background-color: #f0f8ff;border: 1px dotted black;border-radius: 0.25em;box-sizing: border-box;margin-bottom: 0.5em;}#sk-container-id-4 div.sk-estimator:hover {background-color: #d4ebff;}#sk-container-id-4 div.sk-parallel-item::after {content: \"\";width: 100%;border-bottom: 1px solid gray;flex-grow: 1;}#sk-container-id-4 div.sk-label:hover label.sk-toggleable__label {background-color: #d4ebff;}#sk-container-id-4 div.sk-serial::before {content: \"\";position: absolute;border-left: 1px solid gray;box-sizing: border-box;top: 0;bottom: 0;left: 50%;z-index: 0;}#sk-container-id-4 div.sk-serial {display: flex;flex-direction: column;align-items: center;background-color: white;padding-right: 0.2em;padding-left: 0.2em;position: relative;}#sk-container-id-4 div.sk-item {position: relative;z-index: 1;}#sk-container-id-4 div.sk-parallel {display: flex;align-items: stretch;justify-content: center;background-color: white;position: relative;}#sk-container-id-4 div.sk-item::before, #sk-container-id-4 div.sk-parallel-item::before {content: \"\";position: absolute;border-left: 1px solid gray;box-sizing: border-box;top: 0;bottom: 0;left: 50%;z-index: -1;}#sk-container-id-4 div.sk-parallel-item {display: flex;flex-direction: column;z-index: 1;position: relative;background-color: white;}#sk-container-id-4 div.sk-parallel-item:first-child::after {align-self: flex-end;width: 50%;}#sk-container-id-4 div.sk-parallel-item:last-child::after {align-self: flex-start;width: 50%;}#sk-container-id-4 div.sk-parallel-item:only-child::after {width: 0;}#sk-container-id-4 div.sk-dashed-wrapped {border: 1px dashed gray;margin: 0 0.4em 0.5em 0.4em;box-sizing: border-box;padding-bottom: 0.4em;background-color: white;}#sk-container-id-4 div.sk-label label {font-family: monospace;font-weight: bold;display: inline-block;line-height: 1.2em;}#sk-container-id-4 div.sk-label-container {text-align: center;}#sk-container-id-4 div.sk-container {/* jupyter's `normalize.less` sets `[hidden] { display: none; }` but bootstrap.min.css set `[hidden] { display: none !important; }` so we also need the `!important` here to be able to override the default hidden behavior on the sphinx rendered scikit-learn.org. See: https://github.com/scikit-learn/scikit-learn/issues/21755 */display: inline-block !important;position: relative;}#sk-container-id-4 div.sk-text-repr-fallback {display: none;}</style><div id=\"sk-container-id-4\" class=\"sk-top-container\"><div class=\"sk-text-repr-fallback\"><pre>SVC(C=100, kernel=&#x27;linear&#x27;, random_state=42)</pre><b>In a Jupyter environment, please rerun this cell to show the HTML representation or trust the notebook. <br />On GitHub, the HTML representation is unable to render, please try loading this page with nbviewer.org.</b></div><div class=\"sk-container\" hidden><div class=\"sk-item\"><div class=\"sk-estimator sk-toggleable\"><input class=\"sk-toggleable__control sk-hidden--visually\" id=\"sk-estimator-id-4\" type=\"checkbox\" checked><label for=\"sk-estimator-id-4\" class=\"sk-toggleable__label sk-toggleable__label-arrow\">SVC</label><div class=\"sk-toggleable__content\"><pre>SVC(C=100, kernel=&#x27;linear&#x27;, random_state=42)</pre></div></div></div></div></div>"
            ]
          },
          "metadata": {},
          "execution_count": 165
        }
      ]
    },
    {
      "cell_type": "code",
      "source": [
        "# Ahora hacemos las predicciones\n",
        "\n",
        "y_test_pred_svm = svc.predict(X_test)"
      ],
      "metadata": {
        "id": "Zu9q0xk418LM"
      },
      "execution_count": null,
      "outputs": []
    },
    {
      "cell_type": "code",
      "source": [
        "skplt.metrics.plot_confusion_matrix(y_test, y_test_pred_svm,figsize=(4,4))"
      ],
      "metadata": {
        "colab": {
          "base_uri": "https://localhost:8080/",
          "height": 375
        },
        "id": "4E0pD5XC67IC",
        "outputId": "c2074565-bdea-47ef-d9b4-e5f370d0d6a1"
      },
      "execution_count": null,
      "outputs": [
        {
          "output_type": "execute_result",
          "data": {
            "text/plain": [
              "<Axes: title={'center': 'Confusion Matrix'}, xlabel='Predicted label', ylabel='True label'>"
            ]
          },
          "metadata": {},
          "execution_count": 167
        },
        {
          "output_type": "display_data",
          "data": {
            "text/plain": [
              "<Figure size 400x400 with 2 Axes>"
            ],
            "image/png": "[encoded data removed]"
          },
          "metadata": {}
        }
      ]
    },
    {
      "cell_type": "code",
      "source": [
        "# Print classification report for SVM\n",
        "print(\"Classification report for SVM:\\n\", classification_report(y_test, y_test_pred_svm))"
      ],
      "metadata": {
        "colab": {
          "base_uri": "https://localhost:8080/"
        },
        "id": "G_m0wzfL63Bv",
        "outputId": "62647315-ddf8-438a-c159-c12e5184c7fd"
      },
      "execution_count": null,
      "outputs": [
        {
          "output_type": "stream",
          "name": "stdout",
          "text": [
            "Classification report for SVM:\n",
            "               precision    recall  f1-score   support\n",
            "\n",
            "           0       0.72      0.78      0.75       159\n",
            "           1       0.82      0.76      0.79       204\n",
            "\n",
            "    accuracy                           0.77       363\n",
            "   macro avg       0.77      0.77      0.77       363\n",
            "weighted avg       0.77      0.77      0.77       363\n",
            "\n"
          ]
        }
      ]
    },
    {
      "cell_type": "markdown",
      "source": [
        "En la matriz de confusión vemos que de los 363 registros a predecir, 124 fueron predichos correctamente como verdaderos (True Positive), y 155 correctamente como negativos (True Negative). El resto de los registros fueron mal predichos como Falso positivo (Error tipo 1) o Falso negativo (Error tipo 2)."
      ],
      "metadata": {
        "id": "UDpi3_UMxm6h"
      }
    },
    {
      "cell_type": "markdown",
      "source": [
        "A partir de los datos que arroja la matriz de confusión se pueden calcular distintas métricas que dan información acerca del desempeño del modelo.\n",
        "\n",
        "* Accuray (exactitud): indica la proporción de predicciones correctas. Como el resultado es 0.77, significa que el modelo predijo correctamente el 77% de los registros aproximadamente.\n",
        "\n",
        "* Para la etiqueta Outcome = 0:\n",
        "  * Precision_0 = 0.72. Esto dice que las veces que el algoritmo predijo que Outcome=0 fue correcto el 72% de las veces\n",
        "\n",
        "  * Recall_0 = 0.78. El algoritmo predijo correctamente que Outcome=0 el 66% de las veces.\n",
        "\n",
        "* Para la etiqueta Outcome = 1:\n",
        "  * Precision_0 = 0.82. Esto dice que las veces que el algoritmo predijo que Outcome=0 fue correcto el 82% de las veces\n",
        "\n",
        "  * Recall_0 = 0.76. El algoritmo predijo correctamente que Outcome=0 el 76% de las veces."
      ],
      "metadata": {
        "id": "-_GSHVqQ0ozC"
      }
    },
    {
      "cell_type": "markdown",
      "source": [
        "## Modelo: Árbol de decisión"
      ],
      "metadata": {
        "id": "ebzMIrWyAsjX"
      }
    },
    {
      "cell_type": "code",
      "source": [
        "# Creamos el modelo de Decision Tree\n",
        "dt = DecisionTreeClassifier(max_depth=5, random_state = 42)\n",
        "\n",
        "# Entrenamos los datos\n",
        "dt.fit(X_train, y_train)"
      ],
      "metadata": {
        "colab": {
          "base_uri": "https://localhost:8080/",
          "height": 75
        },
        "id": "NFS-cLujA7NF",
        "outputId": "f9fdccfd-58c1-4b82-e7e4-5d6970de4a15"
      },
      "execution_count": null,
      "outputs": [
        {
          "output_type": "execute_result",
          "data": {
            "text/plain": [
              "DecisionTreeClassifier(max_depth=5, random_state=42)"
            ],
            "text/html": [
              "<style>#sk-container-id-5 {color: black;background-color: white;}#sk-container-id-5 pre{padding: 0;}#sk-container-id-5 div.sk-toggleable {background-color: white;}#sk-container-id-5 label.sk-toggleable__label {cursor: pointer;display: block;width: 100%;margin-bottom: 0;padding: 0.3em;box-sizing: border-box;text-align: center;}#sk-container-id-5 label.sk-toggleable__label-arrow:before {content: \"▸\";float: left;margin-right: 0.25em;color: #696969;}#sk-container-id-5 label.sk-toggleable__label-arrow:hover:before {color: black;}#sk-container-id-5 div.sk-estimator:hover label.sk-toggleable__label-arrow:before {color: black;}#sk-container-id-5 div.sk-toggleable__content {max-height: 0;max-width: 0;overflow: hidden;text-align: left;background-color: #f0f8ff;}#sk-container-id-5 div.sk-toggleable__content pre {margin: 0.2em;color: black;border-radius: 0.25em;background-color: #f0f8ff;}#sk-container-id-5 input.sk-toggleable__control:checked~div.sk-toggleable__content {max-height: 200px;max-width: 100%;overflow: auto;}#sk-container-id-5 input.sk-toggleable__control:checked~label.sk-toggleable__label-arrow:before {content: \"▾\";}#sk-container-id-5 div.sk-estimator input.sk-toggleable__control:checked~label.sk-toggleable__label {background-color: #d4ebff;}#sk-container-id-5 div.sk-label input.sk-toggleable__control:checked~label.sk-toggleable__label {background-color: #d4ebff;}#sk-container-id-5 input.sk-hidden--visually {border: 0;clip: rect(1px 1px 1px 1px);clip: rect(1px, 1px, 1px, 1px);height: 1px;margin: -1px;overflow: hidden;padding: 0;position: absolute;width: 1px;}#sk-container-id-5 div.sk-estimator {font-family: monospace;background-color: #f0f8ff;border: 1px dotted black;border-radius: 0.25em;box-sizing: border-box;margin-bottom: 0.5em;}#sk-container-id-5 div.sk-estimator:hover {background-color: #d4ebff;}#sk-container-id-5 div.sk-parallel-item::after {content: \"\";width: 100%;border-bottom: 1px solid gray;flex-grow: 1;}#sk-container-id-5 div.sk-label:hover label.sk-toggleable__label {background-color: #d4ebff;}#sk-container-id-5 div.sk-serial::before {content: \"\";position: absolute;border-left: 1px solid gray;box-sizing: border-box;top: 0;bottom: 0;left: 50%;z-index: 0;}#sk-container-id-5 div.sk-serial {display: flex;flex-direction: column;align-items: center;background-color: white;padding-right: 0.2em;padding-left: 0.2em;position: relative;}#sk-container-id-5 div.sk-item {position: relative;z-index: 1;}#sk-container-id-5 div.sk-parallel {display: flex;align-items: stretch;justify-content: center;background-color: white;position: relative;}#sk-container-id-5 div.sk-item::before, #sk-container-id-5 div.sk-parallel-item::before {content: \"\";position: absolute;border-left: 1px solid gray;box-sizing: border-box;top: 0;bottom: 0;left: 50%;z-index: -1;}#sk-container-id-5 div.sk-parallel-item {display: flex;flex-direction: column;z-index: 1;position: relative;background-color: white;}#sk-container-id-5 div.sk-parallel-item:first-child::after {align-self: flex-end;width: 50%;}#sk-container-id-5 div.sk-parallel-item:last-child::after {align-self: flex-start;width: 50%;}#sk-container-id-5 div.sk-parallel-item:only-child::after {width: 0;}#sk-container-id-5 div.sk-dashed-wrapped {border: 1px dashed gray;margin: 0 0.4em 0.5em 0.4em;box-sizing: border-box;padding-bottom: 0.4em;background-color: white;}#sk-container-id-5 div.sk-label label {font-family: monospace;font-weight: bold;display: inline-block;line-height: 1.2em;}#sk-container-id-5 div.sk-label-container {text-align: center;}#sk-container-id-5 div.sk-container {/* jupyter's `normalize.less` sets `[hidden] { display: none; }` but bootstrap.min.css set `[hidden] { display: none !important; }` so we also need the `!important` here to be able to override the default hidden behavior on the sphinx rendered scikit-learn.org. See: https://github.com/scikit-learn/scikit-learn/issues/21755 */display: inline-block !important;position: relative;}#sk-container-id-5 div.sk-text-repr-fallback {display: none;}</style><div id=\"sk-container-id-5\" class=\"sk-top-container\"><div class=\"sk-text-repr-fallback\"><pre>DecisionTreeClassifier(max_depth=5, random_state=42)</pre><b>In a Jupyter environment, please rerun this cell to show the HTML representation or trust the notebook. <br />On GitHub, the HTML representation is unable to render, please try loading this page with nbviewer.org.</b></div><div class=\"sk-container\" hidden><div class=\"sk-item\"><div class=\"sk-estimator sk-toggleable\"><input class=\"sk-toggleable__control sk-hidden--visually\" id=\"sk-estimator-id-5\" type=\"checkbox\" checked><label for=\"sk-estimator-id-5\" class=\"sk-toggleable__label sk-toggleable__label-arrow\">DecisionTreeClassifier</label><div class=\"sk-toggleable__content\"><pre>DecisionTreeClassifier(max_depth=5, random_state=42)</pre></div></div></div></div></div>"
            ]
          },
          "metadata": {},
          "execution_count": 169
        }
      ]
    },
    {
      "cell_type": "code",
      "source": [
        "# Hacemos la predicción\n",
        "y_test_pred_dt = dt.predict(X_test)"
      ],
      "metadata": {
        "id": "Jn2eTQV1K3Oq"
      },
      "execution_count": null,
      "outputs": []
    },
    {
      "cell_type": "code",
      "source": [
        "skplt.metrics.plot_confusion_matrix(y_test, y_test_pred_dt,figsize=(4,4))"
      ],
      "metadata": {
        "colab": {
          "base_uri": "https://localhost:8080/",
          "height": 375
        },
        "id": "CAluiU8cLXQL",
        "outputId": "23bf2fd1-4706-4450-f1a8-74e6507675d0"
      },
      "execution_count": null,
      "outputs": [
        {
          "output_type": "execute_result",
          "data": {
            "text/plain": [
              "<Axes: title={'center': 'Confusion Matrix'}, xlabel='Predicted label', ylabel='True label'>"
            ]
          },
          "metadata": {},
          "execution_count": 171
        },
        {
          "output_type": "display_data",
          "data": {
            "text/plain": [
              "<Figure size 400x400 with 2 Axes>"
            ],
            "image/png": "[encoded data removed]"
          },
          "metadata": {}
        }
      ]
    },
    {
      "cell_type": "code",
      "source": [
        "# Classification report para árbol de decisión\n",
        "print(\"Classification report for Decision Tree:\\n\", classification_report(y_test, y_test_pred_dt))"
      ],
      "metadata": {
        "colab": {
          "base_uri": "https://localhost:8080/"
        },
        "id": "LIhFk6GLLI_F",
        "outputId": "903eec1d-6689-4ef3-c860-b08e544487c9"
      },
      "execution_count": null,
      "outputs": [
        {
          "output_type": "stream",
          "name": "stdout",
          "text": [
            "Classification report for Decision Tree:\n",
            "               precision    recall  f1-score   support\n",
            "\n",
            "           0       0.66      0.68      0.67       159\n",
            "           1       0.74      0.73      0.73       204\n",
            "\n",
            "    accuracy                           0.71       363\n",
            "   macro avg       0.70      0.70      0.70       363\n",
            "weighted avg       0.71      0.71      0.71       363\n",
            "\n"
          ]
        }
      ]
    },
    {
      "cell_type": "markdown",
      "source": [
        "En la matriz de confusión vemos que de los 363 registros a predecir, 108 fueron predicho correctamente como verdaderos (True Positive), y 148 correctamente como negativos (True Negative). El resto de los registros fueron mal predichos como Falso positivo (Error tipo 1) o Falso negativo (Error tipo 2)."
      ],
      "metadata": {
        "id": "bBZzz4bn-Vfq"
      }
    },
    {
      "cell_type": "markdown",
      "source": [
        "A partir de los datos que arroja la matriz de confusión se pueden calcular distintas métricas que dan información acerca del desempeño del modelo.\n",
        "\n",
        "* Accuray (exactitud): indica la proporción de predicciones correctas. Como el resultado es 0.71, significa que el modelo predijo correctamente el 71% de los registros aproximadamente.\n",
        "\n",
        "* Para la etiqueta Outcome = 0:\n",
        "  * Precision_0 = 0.66. Esto dice que las veces que el algoritmo predijo que Outcome=0 fue correcto el 66% de las veces\n",
        "\n",
        "  * Recall_0 = 0.68. El algoritmo predijo correctamente que Outcome=0 el 68% de las veces.\n",
        "\n",
        "* Para la etiqueta Outcome = 1:\n",
        "  * Precision_0 = 0.74. Esto dice que las veces que el algoritmo predijo que Outcome=0 fue correcto el 74% de las veces\n",
        "\n",
        "  * Recall_0 = 0.73. El algoritmo predijo correctamente que Outcome=0 el 73% de las veces."
      ],
      "metadata": {
        "id": "ydZ9Eile-hZy"
      }
    },
    {
      "cell_type": "markdown",
      "source": [
        "## Modelo: Logistic Regression"
      ],
      "metadata": {
        "id": "8hInSsDsMwyH"
      }
    },
    {
      "cell_type": "code",
      "source": [
        "# Creamos el modelo\n",
        "lr = LogisticRegression(max_iter=1000)\n",
        "\n",
        "#Entrenamos los datos\n",
        "lr.fit(X_train, y_train)"
      ],
      "metadata": {
        "colab": {
          "base_uri": "https://localhost:8080/",
          "height": 129
        },
        "id": "kGSqR5_qLYMZ",
        "outputId": "96536867-746b-42ba-9549-818170a960d5"
      },
      "execution_count": null,
      "outputs": [
        {
          "output_type": "stream",
          "name": "stderr",
          "text": [
            "/usr/local/lib/python3.10/dist-packages/sklearn/utils/validation.py:1143: DataConversionWarning: A column-vector y was passed when a 1d array was expected. Please change the shape of y to (n_samples, ), for example using ravel().\n",
            "  y = column_or_1d(y, warn=True)\n"
          ]
        },
        {
          "output_type": "execute_result",
          "data": {
            "text/plain": [
              "LogisticRegression(max_iter=1000)"
            ],
            "text/html": [
              "<style>#sk-container-id-6 {color: black;background-color: white;}#sk-container-id-6 pre{padding: 0;}#sk-container-id-6 div.sk-toggleable {background-color: white;}#sk-container-id-6 label.sk-toggleable__label {cursor: pointer;display: block;width: 100%;margin-bottom: 0;padding: 0.3em;box-sizing: border-box;text-align: center;}#sk-container-id-6 label.sk-toggleable__label-arrow:before {content: \"▸\";float: left;margin-right: 0.25em;color: #696969;}#sk-container-id-6 label.sk-toggleable__label-arrow:hover:before {color: black;}#sk-container-id-6 div.sk-estimator:hover label.sk-toggleable__label-arrow:before {color: black;}#sk-container-id-6 div.sk-toggleable__content {max-height: 0;max-width: 0;overflow: hidden;text-align: left;background-color: #f0f8ff;}#sk-container-id-6 div.sk-toggleable__content pre {margin: 0.2em;color: black;border-radius: 0.25em;background-color: #f0f8ff;}#sk-container-id-6 input.sk-toggleable__control:checked~div.sk-toggleable__content {max-height: 200px;max-width: 100%;overflow: auto;}#sk-container-id-6 input.sk-toggleable__control:checked~label.sk-toggleable__label-arrow:before {content: \"▾\";}#sk-container-id-6 div.sk-estimator input.sk-toggleable__control:checked~label.sk-toggleable__label {background-color: #d4ebff;}#sk-container-id-6 div.sk-label input.sk-toggleable__control:checked~label.sk-toggleable__label {background-color: #d4ebff;}#sk-container-id-6 input.sk-hidden--visually {border: 0;clip: rect(1px 1px 1px 1px);clip: rect(1px, 1px, 1px, 1px);height: 1px;margin: -1px;overflow: hidden;padding: 0;position: absolute;width: 1px;}#sk-container-id-6 div.sk-estimator {font-family: monospace;background-color: #f0f8ff;border: 1px dotted black;border-radius: 0.25em;box-sizing: border-box;margin-bottom: 0.5em;}#sk-container-id-6 div.sk-estimator:hover {background-color: #d4ebff;}#sk-container-id-6 div.sk-parallel-item::after {content: \"\";width: 100%;border-bottom: 1px solid gray;flex-grow: 1;}#sk-container-id-6 div.sk-label:hover label.sk-toggleable__label {background-color: #d4ebff;}#sk-container-id-6 div.sk-serial::before {content: \"\";position: absolute;border-left: 1px solid gray;box-sizing: border-box;top: 0;bottom: 0;left: 50%;z-index: 0;}#sk-container-id-6 div.sk-serial {display: flex;flex-direction: column;align-items: center;background-color: white;padding-right: 0.2em;padding-left: 0.2em;position: relative;}#sk-container-id-6 div.sk-item {position: relative;z-index: 1;}#sk-container-id-6 div.sk-parallel {display: flex;align-items: stretch;justify-content: center;background-color: white;position: relative;}#sk-container-id-6 div.sk-item::before, #sk-container-id-6 div.sk-parallel-item::before {content: \"\";position: absolute;border-left: 1px solid gray;box-sizing: border-box;top: 0;bottom: 0;left: 50%;z-index: -1;}#sk-container-id-6 div.sk-parallel-item {display: flex;flex-direction: column;z-index: 1;position: relative;background-color: white;}#sk-container-id-6 div.sk-parallel-item:first-child::after {align-self: flex-end;width: 50%;}#sk-container-id-6 div.sk-parallel-item:last-child::after {align-self: flex-start;width: 50%;}#sk-container-id-6 div.sk-parallel-item:only-child::after {width: 0;}#sk-container-id-6 div.sk-dashed-wrapped {border: 1px dashed gray;margin: 0 0.4em 0.5em 0.4em;box-sizing: border-box;padding-bottom: 0.4em;background-color: white;}#sk-container-id-6 div.sk-label label {font-family: monospace;font-weight: bold;display: inline-block;line-height: 1.2em;}#sk-container-id-6 div.sk-label-container {text-align: center;}#sk-container-id-6 div.sk-container {/* jupyter's `normalize.less` sets `[hidden] { display: none; }` but bootstrap.min.css set `[hidden] { display: none !important; }` so we also need the `!important` here to be able to override the default hidden behavior on the sphinx rendered scikit-learn.org. See: https://github.com/scikit-learn/scikit-learn/issues/21755 */display: inline-block !important;position: relative;}#sk-container-id-6 div.sk-text-repr-fallback {display: none;}</style><div id=\"sk-container-id-6\" class=\"sk-top-container\"><div class=\"sk-text-repr-fallback\"><pre>LogisticRegression(max_iter=1000)</pre><b>In a Jupyter environment, please rerun this cell to show the HTML representation or trust the notebook. <br />On GitHub, the HTML representation is unable to render, please try loading this page with nbviewer.org.</b></div><div class=\"sk-container\" hidden><div class=\"sk-item\"><div class=\"sk-estimator sk-toggleable\"><input class=\"sk-toggleable__control sk-hidden--visually\" id=\"sk-estimator-id-6\" type=\"checkbox\" checked><label for=\"sk-estimator-id-6\" class=\"sk-toggleable__label sk-toggleable__label-arrow\">LogisticRegression</label><div class=\"sk-toggleable__content\"><pre>LogisticRegression(max_iter=1000)</pre></div></div></div></div></div>"
            ]
          },
          "metadata": {},
          "execution_count": 173
        }
      ]
    },
    {
      "cell_type": "code",
      "source": [
        "# Hacemos las predicciones\n",
        "y_test_pred_lr = lr.predict(X_test)"
      ],
      "metadata": {
        "id": "yURMdIWnM647"
      },
      "execution_count": null,
      "outputs": []
    },
    {
      "cell_type": "code",
      "source": [
        "skplt.metrics.plot_confusion_matrix(y_test, y_test_pred_lr,figsize=(4,4))"
      ],
      "metadata": {
        "colab": {
          "base_uri": "https://localhost:8080/",
          "height": 375
        },
        "id": "DI1uUFS4NQdP",
        "outputId": "308dfbbe-f6dc-48a0-f359-d48ddf32f43a"
      },
      "execution_count": null,
      "outputs": [
        {
          "output_type": "execute_result",
          "data": {
            "text/plain": [
              "<Axes: title={'center': 'Confusion Matrix'}, xlabel='Predicted label', ylabel='True label'>"
            ]
          },
          "metadata": {},
          "execution_count": 175
        },
        {
          "output_type": "display_data",
          "data": {
            "text/plain": [
              "<Figure size 400x400 with 2 Axes>"
            ],
            "image/png": "[encoded data removed]"
          },
          "metadata": {}
        }
      ]
    },
    {
      "cell_type": "code",
      "source": [
        "# Classification report para Regresión Logística\n",
        "print(\"Classification report for Logistic Regression:\\n\", classification_report(y_test, y_test_pred_lr))"
      ],
      "metadata": {
        "colab": {
          "base_uri": "https://localhost:8080/"
        },
        "id": "x_RltZZLNECv",
        "outputId": "e603b045-7e1c-4a1b-e31d-70d373c4ade3"
      },
      "execution_count": null,
      "outputs": [
        {
          "output_type": "stream",
          "name": "stdout",
          "text": [
            "Classification report for Logistic Regression:\n",
            "               precision    recall  f1-score   support\n",
            "\n",
            "           0       0.72      0.77      0.75       159\n",
            "           1       0.81      0.77      0.79       204\n",
            "\n",
            "    accuracy                           0.77       363\n",
            "   macro avg       0.77      0.77      0.77       363\n",
            "weighted avg       0.77      0.77      0.77       363\n",
            "\n"
          ]
        }
      ]
    },
    {
      "cell_type": "markdown",
      "source": [
        "En la matriz de confusión vemos que de los 363 registros a predecir, 123 fueron predichos correctamente como verdaderos (True Positive), y 157 correctamente como negativos (True Negative). El resto de los registros fueron mal predichos como Falso positivo (Error tipo 1) o Falso negativo (Error tipo 2)."
      ],
      "metadata": {
        "id": "nTWHoi8KBB9i"
      }
    },
    {
      "cell_type": "markdown",
      "source": [],
      "metadata": {
        "id": "ru5HnzixxR_I"
      }
    },
    {
      "cell_type": "markdown",
      "source": [
        "A partir de los datos que arroja la matriz de confusión se pueden calcular distintas métricas que dan información acerca del desempeño del modelo.\n",
        "\n",
        "* Accuray (exactitud): indica la proporción de predicciones correctas. Como el resultado es 0.77, significa que el modelo predijo correctamente el 7% de los registros aproximadamente.\n",
        "\n",
        "* Para la etiqueta Outcome = 0:\n",
        "  * Precision_0 = 0.72. Esto dice que las veces que el algoritmo predijo que Outcome=0 fue correcto el 72% de las veces\n",
        "\n",
        "  * Recall_0 = 0.77. El algoritmo predijo correctamente que Outcome=0 el 77% de las veces.\n",
        "\n",
        "* Para la etiqueta Outcome = 1:\n",
        "  * Precision_0 = 0.81. Esto dice que las veces que el algoritmo predijo que Outcome=0 fue correcto el 81% de las veces\n",
        "\n",
        "  * Recall_0 = 0.77. El algoritmo predijo correctamente que Outcome=0 el 77% de las veces."
      ],
      "metadata": {
        "id": "xU2zvzwmBvbB"
      }
    },
    {
      "cell_type": "markdown",
      "source": [
        "## Conclusiones sobre los modelos aplicados"
      ],
      "metadata": {
        "id": "qhNVpjpwCAz2"
      }
    },
    {
      "cell_type": "markdown",
      "source": [
        "Como vimos previamente, la variable Outcome que queremos predecir tiene dos categorías: 0 y 1, que resprentan si hay o no cardiopatía.\n",
        "De los 575 registros que han sido seleccionados de manera aleatoria para la parte de Test de los datos, las categorías 0 y 1 están distribuídas equitativamente. Por lo que la métrica Accuracy (exactitud) puede ser tenida en cuenta.\n",
        "\n",
        "Los modelos SVM y Logistic Regression tuvieron una exactitud del 68%, mientras que Decision Tree tuvo una exactitud de 66%. Esto parece indicar que los dos primeros modelos fueron más eficientes para predecir correctamente los registros.\n",
        "\n",
        "De estos dos modelos con mayor exactitud, el SVM tuvo levemente una mayor Precision (proporción de la veces que predijo un cierto resultado, predijo correctamente el valor real) para la etiqueta 0 (68%) que para 1 (67%).\n",
        "Para el modelo Logistic Regression fue al revés. La Precisión para 0 fue de 67% y para el 1 fue de 68%.\n",
        "\n",
        "En tanto al Recall (proporción de veces que predijo correctamente un resultado), en el modelo SVM fue 66% para la etiqueta 0 y, fue el 69% de las veces para la etiqueta 1.\n",
        "En tanto Logistic Regression fue 62% para 0 y del 73% para 1.\n",
        "\n",
        "\n",
        "Dados estos resultados, personalmente considero que si tuviera que elegir un solo modelo me quedaría con SVM ya que (al igual que Logistic Regression) tuvo la mayor exactitud y un precision prácticamente igual a la del modelo LR, pero tuvo una sensibilidad (recall) más equilibrida entre las etiquetas.\n",
        "En cambio Logistic Regression, tuvo una sensibilidad mas desproporcionada, acertando menos en las predicciones de 0, pero mucho más en las de 1.\n",
        "Además, SVM fue el modelo que más Verdaderos Positivos (TP) tuvo entre estos dos modelos.\n",
        "Si consideramos los tres modelos propuestos, el que arrojó más TP fue Decision Tree.\n",
        "\n"
      ],
      "metadata": {
        "id": "IRKr27_86AWk"
      }
    },
    {
      "cell_type": "markdown",
      "source": [
        "# Cross Validation"
      ],
      "metadata": {
        "id": "krJoop--tnY_"
      }
    },
    {
      "cell_type": "markdown",
      "source": [
        "Previamente habíamos aplicado métodos de clasificación al dataset, en particular Logistic Regression.\n",
        "De manera aleatoria tomamos el 70% de los registros para entrenar los modelos  y el 30% para test.\n",
        "\n",
        "Retomemos lo hecho previamente con el objetivo de validar la eficiencia del modelo aplicado. Para lo que haremos será usar el modelo regresión logísitica y hacer las predicciones sobre el conjunto X_test (como habíamos hecho previamente), y tambien haremos predicciones sobre el mismo X_train, de modo de comparar las métricas (usaremos accuracy) en cada uno de los casos, para ver si el modelo es bueno, o si se ajusta muy poco o se sobreajusta a los datos.\n",
        "\n",
        "Una vez realizado esto, usaremos un método de Cross Validation para confirmar que lo visto con las predicciones anteriores es correcto. Dependiendo del resultado, que puede ser un buen modelo, underfitting u overfitting tomaremos distintas medidas.\n",
        "Principalmente si es over o underfitting, seguramente tendremos que modificar los hiperparámetros del modelo para obtener resultados más eficientes."
      ],
      "metadata": {
        "id": "6NR3aEMvz1nJ"
      }
    },
    {
      "cell_type": "markdown",
      "source": [
        "Comenzamos, entrenando el modelo con el conjunto de entrenamiento (X_train, y_train)"
      ],
      "metadata": {
        "id": "WzDQ9uNL5m6B"
      }
    },
    {
      "cell_type": "code",
      "source": [
        "# Creamos el modelo\n",
        "lr = LogisticRegression()\n",
        "\n",
        "#Entrenamos los datos\n",
        "lr.fit(X_train, y_train)\n",
        "\n",
        "# Hacemos las predicciones\n",
        "y_test_pred_lr = lr.predict(X_test)\n",
        "\n",
        "# Classification report para Regresión Logística, comparando el conjunto y_test con y_test_pred_lr\n",
        "print(\"Classification report for Logistic Regression:\\n\", classification_report(y_test, y_test_pred_lr))"
      ],
      "metadata": {
        "colab": {
          "base_uri": "https://localhost:8080/"
        },
        "id": "mGF-GWf6tqQl",
        "outputId": "132a65af-730e-420f-e008-228c16fb1269"
      },
      "execution_count": null,
      "outputs": [
        {
          "output_type": "stream",
          "name": "stdout",
          "text": [
            "Classification report for Logistic Regression:\n",
            "               precision    recall  f1-score   support\n",
            "\n",
            "           0       0.72      0.77      0.75       159\n",
            "           1       0.81      0.77      0.79       204\n",
            "\n",
            "    accuracy                           0.77       363\n",
            "   macro avg       0.77      0.77      0.77       363\n",
            "weighted avg       0.77      0.77      0.77       363\n",
            "\n"
          ]
        },
        {
          "output_type": "stream",
          "name": "stderr",
          "text": [
            "/usr/local/lib/python3.10/dist-packages/sklearn/utils/validation.py:1143: DataConversionWarning: A column-vector y was passed when a 1d array was expected. Please change the shape of y to (n_samples, ), for example using ravel().\n",
            "  y = column_or_1d(y, warn=True)\n"
          ]
        }
      ]
    },
    {
      "cell_type": "markdown",
      "source": [
        "Ahora hacemos el mismo procedimiento, pero haciendo las predicciones sobre el mismo conjunto donde se entrenó (X_train)"
      ],
      "metadata": {
        "id": "f-Psjsu06ZlC"
      }
    },
    {
      "cell_type": "code",
      "source": [
        "y_pred_train_lr = lr.predict(X_train)\n",
        "\n",
        "print(\"Classification report for Logistic Regression:\\n\", classification_report(y_train, y_pred_train_lr))"
      ],
      "metadata": {
        "colab": {
          "base_uri": "https://localhost:8080/"
        },
        "id": "Lt4X3hCK2xcU",
        "outputId": "986cb620-1a3a-4b3b-c61d-4195a687f0c0"
      },
      "execution_count": null,
      "outputs": [
        {
          "output_type": "stream",
          "name": "stdout",
          "text": [
            "Classification report for Logistic Regression:\n",
            "               precision    recall  f1-score   support\n",
            "\n",
            "           0       0.73      0.73      0.73       400\n",
            "           1       0.76      0.76      0.76       445\n",
            "\n",
            "    accuracy                           0.74       845\n",
            "   macro avg       0.74      0.74      0.74       845\n",
            "weighted avg       0.74      0.74      0.74       845\n",
            "\n"
          ]
        }
      ]
    },
    {
      "cell_type": "markdown",
      "source": [
        "Comparamos los resultados de accuracy para los dos conjuntos."
      ],
      "metadata": {
        "id": "mIG4btca82Tp"
      }
    },
    {
      "cell_type": "code",
      "source": [
        "print(\"Accuracy para conjunto de entrenamiento\", recall_score(y_train, y_pred_train_lr))\n",
        "print(\"Accuracy para el conjunto de test\", recall_score(y_test, y_test_pred_lr))"
      ],
      "metadata": {
        "colab": {
          "base_uri": "https://localhost:8080/"
        },
        "id": "3hNC4_Tw72no",
        "outputId": "83845d51-0430-4cc1-a107-8a806cc13aea"
      },
      "execution_count": null,
      "outputs": [
        {
          "output_type": "stream",
          "name": "stdout",
          "text": [
            "Accuracy para conjunto de entrenamiento 0.755056179775281\n",
            "Accuracy para el conjunto de test 0.7696078431372549\n"
          ]
        }
      ]
    },
    {
      "cell_type": "markdown",
      "source": [
        "Si bien, el resultado para el conjunto de test se ajustó mejor que el de entrenamiento, ninguno de las dos métricas es lo suficientemente buena como para afirmar que se ajusta bien al modelo.\n",
        "Por el contrario, el hecho de que para el conjunto de test el accuracy sea mayor que el de entrenamiento indica que el modelo no se está ajustando correctamente a los datos en el entrenamiento. Por lo que podríamos inferir que nos encontramos en un caso de undefitting.\n",
        "\n",
        "Más allá de estos resultados, tenemos que validarlos. Es decir, verificar que realmente estamos en presencia de underfitting. Para eso aplicaremos el método Stratified K-Folds, ya que divide los registros en K folds pero con la particularidad que intenta que la proporción de las categorías dentro de cada fold sea la mimsa que en el total del dataset para evitar sesgos."
      ],
      "metadata": {
        "id": "6cw0TYCq9DXi"
      }
    },
    {
      "cell_type": "code",
      "source": [
        "y_train = y_train.ravel() # para poder pasarlo como argumento a cross_validate"
      ],
      "metadata": {
        "id": "2EVXdZDnJMWX"
      },
      "execution_count": null,
      "outputs": []
    },
    {
      "cell_type": "code",
      "source": [
        "from sklearn.model_selection import StratifiedKFold, cross_validate\n",
        "\n",
        "# definimos el metodo de stratified k fold, para 5 folds\n",
        "stratified_kfold = StratifiedKFold(n_splits=5,  shuffle=True, random_state=42)\n",
        "\n",
        "# aplicamos cross validation y ponemos True en train score para obtener las métricas (recall) para ambos conjuntos\n",
        "cv_results = cross_validate(lr, X_train, y_train, cv=stratified_kfold, scoring='recall', return_train_score=True)\n",
        "\n",
        "# calculamos el promedio del accuray para los 5 folds\n",
        "mean_train_score = np.mean(cv_results['train_score'])\n",
        "mean_test_score = np.mean(cv_results['test_score'])\n",
        "\n",
        "print(f\"Mean Train Score: {mean_train_score}\")\n",
        "print(f\"Mean Test Score: {mean_test_score}\")"
      ],
      "metadata": {
        "colab": {
          "base_uri": "https://localhost:8080/"
        },
        "id": "hNftrfcNDnh1",
        "outputId": "94192892-835f-44b2-8918-0cc4382f0927"
      },
      "execution_count": null,
      "outputs": [
        {
          "output_type": "stream",
          "name": "stdout",
          "text": [
            "Mean Train Score: 0.7646067415730338\n",
            "Mean Test Score: 0.748314606741573\n"
          ]
        }
      ]
    },
    {
      "cell_type": "markdown",
      "source": [
        "Ahora podemos ver que hay una leve mejora en el modelo, ya que ambas métricas ahora son semejantes, y sobre todo el accuracy de entrenamiento es mayor al de testeo. No podemos afirmar que sea un caso de overfitting (pues no son valores muy altos), y si bien los valores podrían ser mejores, podemos confirmar con los resultados del Stratified K-Folds que es un caso de underfitting.\n",
        "\n",
        "Luego, podemos mejorar el modelo modificando los hiperparámetros."
      ],
      "metadata": {
        "id": "cZWQb9VqLE3L"
      }
    },
    {
      "cell_type": "markdown",
      "source": [
        "# Mejorando los modelos..."
      ],
      "metadata": {
        "id": "mM0r9zMUfU38"
      }
    },
    {
      "cell_type": "markdown",
      "source": [
        "## SVM"
      ],
      "metadata": {
        "id": "0_h758OQ4y7W"
      }
    },
    {
      "cell_type": "code",
      "source": [
        "# nuevamente usaremos SVM como modelo\n",
        "\n",
        "svc = SVC(gamma='auto')\n",
        "\n",
        "params_svc = {\n",
        "    'kernel': ['poly', 'rbf', 'sigmoid'],\n",
        "    'C': [50, 10, 1.0, 0.1, 0.01],\n",
        "    'gamma': ['scale']\n",
        "          }\n",
        "\n",
        "\n",
        "# StratifiedKFold object\n",
        "stratified_kfold = StratifiedKFold(n_splits=5,  shuffle=True, random_state=42)\n",
        "\n",
        "print(\"Mejores parametros utilizando GridSearch:\")\n",
        "gs_svc = GridSearchCV(svc, params_svc, cv=stratified_kfold, return_train_score= True)\n",
        "gs_svc.fit(X_train, y_train)\n",
        "\n",
        "\n",
        "print(\"Best Parameters:\", gs_svc.best_params_)\n",
        "print(\"Best Accuracy:\", gs_svc.best_score_)\n",
        "print(\"\")\n",
        "print(\"Mejores parámetros utlizando RandomizedSearch\")\n",
        "\n",
        "rs_svc = RandomizedSearchCV(svc, params_svc,cv=stratified_kfold)\n",
        "rs_svc.fit(X_train, y_train)\n",
        "\n",
        "print(\"Best Parameters:\", rs_svc.best_params_)\n",
        "print(\"Best Accuracy:\", rs_svc.best_score_)"
      ],
      "metadata": {
        "colab": {
          "base_uri": "https://localhost:8080/"
        },
        "id": "oQFRwoki6C-c",
        "outputId": "ec9c4363-7cd2-4902-997e-036d9ed2425e"
      },
      "execution_count": null,
      "outputs": [
        {
          "output_type": "stream",
          "name": "stdout",
          "text": [
            "Mejores parametros utilizando GridSearch:\n",
            "Best Parameters: {'C': 1.0, 'gamma': 'scale', 'kernel': 'poly'}\n",
            "Best Accuracy: 0.7609467455621302\n",
            "\n",
            "Mejores parámetros utlizando RandomizedSearch\n",
            "Best Parameters: {'kernel': 'poly', 'gamma': 'scale', 'C': 1.0}\n",
            "Best Accuracy: 0.7609467455621302\n"
          ]
        }
      ]
    },
    {
      "cell_type": "code",
      "source": [
        "best_classifier_gs = gs_svc.best_estimator_\n",
        "y_pred_gs = best_classifier_gs.predict(X_test)\n",
        "\n",
        "# Compute and print the accuracy score\n",
        "recall = recall_score(y_test, y_pred_gs)\n",
        "print(f\"Recall: {recall}\")"
      ],
      "metadata": {
        "colab": {
          "base_uri": "https://localhost:8080/"
        },
        "id": "Y2FPzemlBdKD",
        "outputId": "4568f818-f1a7-4e96-babf-68896549987d"
      },
      "execution_count": null,
      "outputs": [
        {
          "output_type": "stream",
          "name": "stdout",
          "text": [
            "Recall: 0.7990196078431373\n"
          ]
        }
      ]
    },
    {
      "cell_type": "code",
      "source": [
        "best_classifier_rs = rs_svc.best_estimator_\n",
        "y_pred_rs = best_classifier_rs.predict(X_test)\n",
        "\n",
        "# Compute and print the accuracy score\n",
        "recall = recall_score(y_test, y_pred_rs)\n",
        "print(f\"Recall: {recall}\")"
      ],
      "metadata": {
        "colab": {
          "base_uri": "https://localhost:8080/"
        },
        "id": "04aI79YCBsmZ",
        "outputId": "311a3f31-9e8c-44ee-c5d0-f00f92e3342a"
      },
      "execution_count": null,
      "outputs": [
        {
          "output_type": "stream",
          "name": "stdout",
          "text": [
            "Recall: 0.7990196078431373\n"
          ]
        }
      ]
    },
    {
      "cell_type": "markdown",
      "source": [
        "Fue mas efectivo GridSearch."
      ],
      "metadata": {
        "id": "OL0D5s3rCzA3"
      }
    },
    {
      "cell_type": "code",
      "source": [
        "#defino el modelo\n",
        "svc_hiper = SVC(C=1.0, gamma='scale', kernel='poly')\n",
        "\n",
        "#Entrenamos los datos. SVC con los mejores hiperparametros\n",
        "svc_hiper.fit(X_train, y_train)\n",
        "\n",
        "# Hacemos las predicciones\n",
        "y_test_pred_svc_hiper = svc_hiper.predict(X_test)\n",
        "\n",
        "# Classification report para SVC, comparando el conjunto y_test con y_test_pred_lr\n",
        "print(\"Classification report for Logistic Regression:\\n\", classification_report(y_test, y_test_pred_svc_hiper))"
      ],
      "metadata": {
        "colab": {
          "base_uri": "https://localhost:8080/"
        },
        "id": "48bkeEx0Cww2",
        "outputId": "97be95d8-a6de-401c-fe67-4f938f1046ce"
      },
      "execution_count": null,
      "outputs": [
        {
          "output_type": "stream",
          "name": "stdout",
          "text": [
            "Classification report for Logistic Regression:\n",
            "               precision    recall  f1-score   support\n",
            "\n",
            "           0       0.74      0.74      0.74       159\n",
            "           1       0.80      0.80      0.80       204\n",
            "\n",
            "    accuracy                           0.77       363\n",
            "   macro avg       0.77      0.77      0.77       363\n",
            "weighted avg       0.77      0.77      0.77       363\n",
            "\n"
          ]
        }
      ]
    },
    {
      "cell_type": "code",
      "source": [
        "y_pred_train_svc_hiper = svc_hiper.predict(X_train)\n",
        "\n",
        "print(\"Classification report for Logistic Regression:\\n\", classification_report(y_train, y_pred_train_svc_hiper))"
      ],
      "metadata": {
        "colab": {
          "base_uri": "https://localhost:8080/"
        },
        "id": "At_gbajgD_ST",
        "outputId": "c09ea69f-5f15-4ed4-b8c4-2b07b51722f8"
      },
      "execution_count": null,
      "outputs": [
        {
          "output_type": "stream",
          "name": "stdout",
          "text": [
            "Classification report for Logistic Regression:\n",
            "               precision    recall  f1-score   support\n",
            "\n",
            "           0       0.80      0.74      0.77       400\n",
            "           1       0.78      0.84      0.81       445\n",
            "\n",
            "    accuracy                           0.79       845\n",
            "   macro avg       0.79      0.79      0.79       845\n",
            "weighted avg       0.79      0.79      0.79       845\n",
            "\n"
          ]
        }
      ]
    },
    {
      "cell_type": "code",
      "source": [
        "print(\"Recall para conjunto de entrenamiento\", recall_score(y_train, y_pred_train_svc_hiper))\n",
        "print(\"Recall para el conjunto de test\", recall_score(y_test, y_test_pred_svc_hiper))"
      ],
      "metadata": {
        "colab": {
          "base_uri": "https://localhost:8080/"
        },
        "id": "kB5rhCbZEJ1Q",
        "outputId": "21e9e6b8-0fb7-454b-9d2c-0200cdb40aa4"
      },
      "execution_count": null,
      "outputs": [
        {
          "output_type": "stream",
          "name": "stdout",
          "text": [
            "Recall para conjunto de entrenamiento 0.8382022471910112\n",
            "Recall para el conjunto de test 0.7990196078431373\n"
          ]
        }
      ]
    },
    {
      "cell_type": "code",
      "source": [
        "from sklearn.model_selection import StratifiedKFold, cross_validate\n",
        "\n",
        "# definimos el metodo de stratified k fold, para 5 folds\n",
        "stratified_kfold = StratifiedKFold(n_splits=5,  shuffle=True, random_state=42)\n",
        "\n",
        "# aplicamos cross validation y ponemos True en train score para obtener las métricas (recall) para ambos conjuntos\n",
        "cv_results = cross_validate(svc_hiper, X_train, y_train, cv=stratified_kfold, scoring='recall', return_train_score=True)\n",
        "\n",
        "# calculamos el promedio del accuray para los 5 folds\n",
        "mean_train_score = np.mean(cv_results['train_score'])\n",
        "mean_test_score = np.mean(cv_results['test_score'])\n",
        "\n",
        "print(f\"Mean Train Score: {mean_train_score}\")\n",
        "print(f\"Mean Test Score: {mean_test_score}\")"
      ],
      "metadata": {
        "colab": {
          "base_uri": "https://localhost:8080/"
        },
        "id": "7fFG7qvUFSyE",
        "outputId": "8fb87728-6b4b-4a16-c9bb-1fa068badb75"
      },
      "execution_count": null,
      "outputs": [
        {
          "output_type": "stream",
          "name": "stdout",
          "text": [
            "Mean Train Score: 0.8365168539325843\n",
            "Mean Test Score: 0.8\n"
          ]
        }
      ]
    },
    {
      "cell_type": "markdown",
      "source": [
        "## KNN"
      ],
      "metadata": {
        "id": "OIrz0oA0Sww7"
      }
    },
    {
      "cell_type": "code",
      "source": [
        "from sklearn.neighbors import KNeighborsClassifier\n",
        "knn = KNeighborsClassifier()\n",
        "\n",
        "#Entrenamos los datos\n",
        "knn.fit(X_train, y_train)\n",
        "\n",
        "# Hacemos las predicciones\n",
        "y_test_pred_knn = knn.predict(X_test)\n",
        "\n",
        "# Classification report para Regresión Logística, comparando el conjunto y_test con y_test_pred_lr\n",
        "print(\"Classification report for Logistic Regression:\\n\", classification_report(y_test, y_test_pred_knn))"
      ],
      "metadata": {
        "colab": {
          "base_uri": "https://localhost:8080/"
        },
        "id": "jBwcTVROS-hT",
        "outputId": "989c9670-5c51-4b93-e477-38ef9b0ac4c7"
      },
      "execution_count": null,
      "outputs": [
        {
          "output_type": "stream",
          "name": "stdout",
          "text": [
            "Classification report for Logistic Regression:\n",
            "               precision    recall  f1-score   support\n",
            "\n",
            "           0       0.69      0.74      0.71       159\n",
            "           1       0.78      0.75      0.76       204\n",
            "\n",
            "    accuracy                           0.74       363\n",
            "   macro avg       0.74      0.74      0.74       363\n",
            "weighted avg       0.74      0.74      0.74       363\n",
            "\n"
          ]
        }
      ]
    },
    {
      "cell_type": "code",
      "source": [
        "y_pred_train_knn = knn.predict(X_train)\n",
        "\n",
        "print(\"Classification report for Logistic Regression:\\n\", classification_report(y_train, y_pred_train_knn))"
      ],
      "metadata": {
        "colab": {
          "base_uri": "https://localhost:8080/"
        },
        "id": "C8brCIb0Td7F",
        "outputId": "c978b819-45b8-42b2-86d9-a2a6079e389b"
      },
      "execution_count": null,
      "outputs": [
        {
          "output_type": "stream",
          "name": "stdout",
          "text": [
            "Classification report for Logistic Regression:\n",
            "               precision    recall  f1-score   support\n",
            "\n",
            "           0       0.79      0.80      0.80       400\n",
            "           1       0.82      0.81      0.82       445\n",
            "\n",
            "    accuracy                           0.81       845\n",
            "   macro avg       0.81      0.81      0.81       845\n",
            "weighted avg       0.81      0.81      0.81       845\n",
            "\n"
          ]
        }
      ]
    },
    {
      "cell_type": "code",
      "source": [
        "print(\"Accuracy para conjunto de entrenamiento\", recall_score(y_train, y_pred_train_knn))\n",
        "print(\"Accuracy para el conjunto de test\", recall_score(y_test, y_test_pred_knn))"
      ],
      "metadata": {
        "colab": {
          "base_uri": "https://localhost:8080/"
        },
        "id": "Y5hYVNoKTvIp",
        "outputId": "3d4f0cfc-6830-4049-987c-5fa6a4c805ca"
      },
      "execution_count": null,
      "outputs": [
        {
          "output_type": "stream",
          "name": "stdout",
          "text": [
            "Accuracy para conjunto de entrenamiento 0.8112359550561797\n",
            "Accuracy para el conjunto de test 0.7450980392156863\n"
          ]
        }
      ]
    },
    {
      "cell_type": "code",
      "source": [
        "from sklearn.model_selection import StratifiedKFold, cross_validate\n",
        "\n",
        "# definimos el metodo de stratified k fold, para 5 folds\n",
        "stratified_kfold = StratifiedKFold(n_splits=5,  shuffle=True, random_state=42)\n",
        "\n",
        "# aplicamos cross validation y ponemos True en train score para obtener las métricas (recall) para ambos conjuntos\n",
        "cv_results = cross_validate(knn, X_train, y_train, cv=stratified_kfold, scoring='recall', return_train_score=True)\n",
        "\n",
        "# calculamos el promedio del accuray para los 5 folds\n",
        "mean_train_score = np.mean(cv_results['train_score'])\n",
        "mean_test_score = np.mean(cv_results['test_score'])\n",
        "\n",
        "print(f\"Mean Train Score: {mean_train_score}\")\n",
        "print(f\"Mean Test Score: {mean_test_score}\")"
      ],
      "metadata": {
        "colab": {
          "base_uri": "https://localhost:8080/"
        },
        "id": "Tn-LwPNmURQR",
        "outputId": "0b0de254-bd00-4be9-a828-476d058fdc48"
      },
      "execution_count": null,
      "outputs": [
        {
          "output_type": "stream",
          "name": "stdout",
          "text": [
            "Mean Train Score: 0.8196629213483145\n",
            "Mean Test Score: 0.7842696629213484\n"
          ]
        }
      ]
    },
    {
      "cell_type": "code",
      "source": [
        "\n",
        "params_knn = {\n",
        "    'n_neighbors': [5, 10, 15],\n",
        "    'weights': ['uniform', 'distance'],\n",
        "    'leaf_size': [15, 30, 45, 60]\n",
        "          }\n",
        "\n",
        "\n",
        "# StratifiedKFold object\n",
        "stratified_kfold = StratifiedKFold(n_splits=5,  shuffle=True, random_state=42)\n",
        "\n",
        "print(\"Mejores parametros utilizando GridSearch:\")\n",
        "gs_knn = GridSearchCV(knn, params_knn, cv=stratified_kfold, return_train_score= True)\n",
        "gs_knn.fit(X_train, y_train)\n",
        "\n",
        "\n",
        "print(\"Best Parameters:\", gs_knn.best_params_)\n",
        "print(\"Best Accuracy:\", gs_knn.best_score_)"
      ],
      "metadata": {
        "colab": {
          "base_uri": "https://localhost:8080/"
        },
        "id": "--Kx8bp8U7J0",
        "outputId": "e8cae28c-3930-42b3-f86e-e3f70b0696dc"
      },
      "execution_count": null,
      "outputs": [
        {
          "output_type": "stream",
          "name": "stdout",
          "text": [
            "Mejores parametros utilizando GridSearch:\n",
            "Best Parameters: {'leaf_size': 15, 'n_neighbors': 15, 'weights': 'distance'}\n",
            "Best Accuracy: 0.7692307692307692\n"
          ]
        }
      ]
    },
    {
      "cell_type": "code",
      "source": [
        "best_classifier_gs = gs_knn.best_estimator_\n",
        "y_pred_gs = best_classifier_gs.predict(X_test)\n",
        "\n",
        "# Compute and print the accuracy score\n",
        "recall = recall_score(y_test, y_pred_gs)\n",
        "print(f\"Recall: {recall}\")"
      ],
      "metadata": {
        "colab": {
          "base_uri": "https://localhost:8080/"
        },
        "id": "GCGJi-4FWFGy",
        "outputId": "a124583d-cae7-4ec8-8105-091b8897a330"
      },
      "execution_count": null,
      "outputs": [
        {
          "output_type": "stream",
          "name": "stdout",
          "text": [
            "Recall: 0.75\n"
          ]
        }
      ]
    },
    {
      "cell_type": "code",
      "source": [
        "#defino el modelo\n",
        "knn_hiper = KNeighborsClassifier(leaf_size=15, n_neighbors=15, weights = 'distance')\n",
        "\n",
        "#Entrenamos los datos. Regresion logistica con los mejores hiperparametros\n",
        "knn_hiper.fit(X_train, y_train)\n",
        "\n",
        "# Hacemos las predicciones\n",
        "y_test_pred_knn_hiper = knn_hiper.predict(X_test)\n",
        "\n",
        "# Classification report para Regresión Logística, comparando el conjunto y_test con y_test_pred_lr\n",
        "print(\"Classification report for Logistic Regression:\\n\", classification_report(y_test, y_test_pred_knn_hiper))"
      ],
      "metadata": {
        "colab": {
          "base_uri": "https://localhost:8080/"
        },
        "id": "8J-TgEYgWPtH",
        "outputId": "d19ccd9c-e798-4754-f0b2-48f2d342f155"
      },
      "execution_count": null,
      "outputs": [
        {
          "output_type": "stream",
          "name": "stdout",
          "text": [
            "Classification report for Logistic Regression:\n",
            "               precision    recall  f1-score   support\n",
            "\n",
            "           0       0.70      0.76      0.73       159\n",
            "           1       0.80      0.75      0.77       204\n",
            "\n",
            "    accuracy                           0.75       363\n",
            "   macro avg       0.75      0.76      0.75       363\n",
            "weighted avg       0.76      0.75      0.76       363\n",
            "\n"
          ]
        }
      ]
    },
    {
      "cell_type": "code",
      "source": [
        "y_pred_train_knn_hiper = knn_hiper.predict(X_train)\n",
        "\n",
        "print(\"Classification report for Logistic Regression:\\n\", classification_report(y_train, y_pred_train_knn_hiper))"
      ],
      "metadata": {
        "colab": {
          "base_uri": "https://localhost:8080/"
        },
        "id": "UopteydxWt9y",
        "outputId": "bb066559-dc0d-4646-a7c5-86cb80c6c5fc"
      },
      "execution_count": null,
      "outputs": [
        {
          "output_type": "stream",
          "name": "stdout",
          "text": [
            "Classification report for Logistic Regression:\n",
            "               precision    recall  f1-score   support\n",
            "\n",
            "           0       1.00      1.00      1.00       400\n",
            "           1       1.00      1.00      1.00       445\n",
            "\n",
            "    accuracy                           1.00       845\n",
            "   macro avg       1.00      1.00      1.00       845\n",
            "weighted avg       1.00      1.00      1.00       845\n",
            "\n"
          ]
        }
      ]
    },
    {
      "cell_type": "code",
      "source": [
        "print(\"Recall para conjunto de entrenamiento\", recall_score(y_train, y_pred_train_knn_hiper))\n",
        "print(\"Recall para el conjunto de test\", recall_score(y_test, y_test_pred_knn_hiper))"
      ],
      "metadata": {
        "colab": {
          "base_uri": "https://localhost:8080/"
        },
        "id": "_N5SRPovW4MC",
        "outputId": "ac6ed154-a6d9-46eb-eb93-04028fce74b3"
      },
      "execution_count": null,
      "outputs": [
        {
          "output_type": "stream",
          "name": "stdout",
          "text": [
            "Recall para conjunto de entrenamiento 1.0\n",
            "Recall para el conjunto de test 0.75\n"
          ]
        }
      ]
    },
    {
      "cell_type": "code",
      "source": [
        "from sklearn.model_selection import StratifiedKFold, cross_validate\n",
        "\n",
        "# definimos el metodo de stratified k fold, para 5 folds\n",
        "stratified_kfold = StratifiedKFold(n_splits=5,  shuffle=True, random_state=42)\n",
        "\n",
        "# aplicamos cross validation y ponemos True en train score para obtener las métricas (accuracy) para ambos conjuntos\n",
        "cv_results = cross_validate(knn_hiper, X_train, y_train, cv=stratified_kfold, scoring='recall', return_train_score=True)\n",
        "\n",
        "# calculamos el promedio del accuray para los 5 folds\n",
        "mean_train_score = np.mean(cv_results['train_score'])\n",
        "mean_test_score = np.mean(cv_results['test_score'])\n",
        "\n",
        "print(f\"Mean Train Score: {mean_train_score}\")\n",
        "print(f\"Mean Test Score: {mean_test_score}\")"
      ],
      "metadata": {
        "colab": {
          "base_uri": "https://localhost:8080/"
        },
        "id": "7UYDAUaFXA5l",
        "outputId": "42602cdd-db8a-40a9-b6a4-548ffd7b2fd2"
      },
      "execution_count": null,
      "outputs": [
        {
          "output_type": "stream",
          "name": "stdout",
          "text": [
            "Mean Train Score: 1.0\n",
            "Mean Test Score: 0.7797752808988765\n"
          ]
        }
      ]
    },
    {
      "cell_type": "markdown",
      "source": [
        "El modelo KNN se sobreajusta demasiado a los dat"
      ],
      "metadata": {
        "id": "fDU-XOb0XZrd"
      }
    },
    {
      "cell_type": "markdown",
      "source": [
        "## Logistic Regression"
      ],
      "metadata": {
        "id": "LgCzzIAjcaSa"
      }
    },
    {
      "cell_type": "markdown",
      "source": [
        "Luego de haber aplicado CV al modelo de regresión logística, obtuvimos resultados similares para el accuracy score para los conjuntos de train y de test. Esto nos dice que el modelo se está ajustando bien al modelo, pero tal vez estemos en presencia de underfitting ya que los valores en si son relativamente bajos.\n",
        "\n",
        "Lo que haremos ahora será buscar los mejores hiperparámetros, utilizando Grid Search, a fin de mejorar el rendimiento del modelo, y aplicarlo a Stratified K-Folds nuevamente."
      ],
      "metadata": {
        "id": "3i3JeEabPKkZ"
      }
    },
    {
      "cell_type": "markdown",
      "source": [
        "Usaremos como hiperparámetros: 'solvers', 'penalty' y 'c'."
      ],
      "metadata": {
        "id": "NRLi7ZpQVP8i"
      }
    },
    {
      "cell_type": "code",
      "source": [
        "# nuevamente usaremos Logistic Regression como modelo\n",
        "\n",
        "lr = LogisticRegression()\n",
        "\n",
        "params_lr = {\n",
        "    'penalty': ['l2'],\n",
        "    'solver': ['newton-cg', 'lbfgs', 'liblinear'],\n",
        "    'C': [100, 10, 1.0, 0.1, 0.01]\n",
        "          }\n",
        "\n",
        "\n",
        "# StratifiedKFold object\n",
        "stratified_kfold = StratifiedKFold(n_splits=5,  shuffle=True, random_state=42)\n",
        "\n",
        "print(\"Mejores parametros utilizando GridSearch:\")\n",
        "gs_lr = GridSearchCV(lr, params_lr, cv=stratified_kfold, return_train_score= True)\n",
        "gs_lr.fit(X_train, y_train)\n",
        "\n",
        "\n",
        "print(\"Best Parameters:\", gs_lr.best_params_)\n",
        "print(\"Best Accuracy:\", gs_lr.best_score_)\n",
        "print(\"\")\n",
        "print(\"Mejores parámetros utlizando RandomizedSearch\")\n",
        "\n",
        "rs_lr = RandomizedSearchCV(lr, params_lr,cv=stratified_kfold)\n",
        "rs_lr.fit(X_train, y_train)\n",
        "\n",
        "print(\"Best Parameters:\", rs_lr.best_params_)\n",
        "print(\"Best Accuracy:\", rs_lr.best_score_)"
      ],
      "metadata": {
        "colab": {
          "base_uri": "https://localhost:8080/"
        },
        "id": "2FyxnTLpWwTd",
        "outputId": "bb5f3c33-c8c7-4bea-ad59-1635035ed671"
      },
      "execution_count": null,
      "outputs": [
        {
          "output_type": "stream",
          "name": "stdout",
          "text": [
            "Mejores parametros utilizando GridSearch:\n",
            "Best Parameters: {'C': 0.1, 'penalty': 'l2', 'solver': 'newton-cg'}\n",
            "Best Accuracy: 0.744378698224852\n",
            "\n",
            "Mejores parámetros utlizando RandomizedSearch\n",
            "Best Parameters: {'solver': 'lbfgs', 'penalty': 'l2', 'C': 0.1}\n",
            "Best Accuracy: 0.744378698224852\n"
          ]
        }
      ]
    },
    {
      "cell_type": "markdown",
      "source": [
        "Veamos cuáles fueron los parámetros para la mejor estimación."
      ],
      "metadata": {
        "id": "IqyF_IvEcxY-"
      }
    },
    {
      "cell_type": "code",
      "source": [
        "gs_lr.best_estimator_"
      ],
      "metadata": {
        "colab": {
          "base_uri": "https://localhost:8080/",
          "height": 75
        },
        "id": "GdK14OIaa6L5",
        "outputId": "2e51d97f-642e-445f-fb5e-cb7e5607932a"
      },
      "execution_count": null,
      "outputs": [
        {
          "output_type": "execute_result",
          "data": {
            "text/plain": [
              "LogisticRegression(C=0.1, solver='newton-cg')"
            ],
            "text/html": [
              "<style>#sk-container-id-4 {color: black;background-color: white;}#sk-container-id-4 pre{padding: 0;}#sk-container-id-4 div.sk-toggleable {background-color: white;}#sk-container-id-4 label.sk-toggleable__label {cursor: pointer;display: block;width: 100%;margin-bottom: 0;padding: 0.3em;box-sizing: border-box;text-align: center;}#sk-container-id-4 label.sk-toggleable__label-arrow:before {content: \"▸\";float: left;margin-right: 0.25em;color: #696969;}#sk-container-id-4 label.sk-toggleable__label-arrow:hover:before {color: black;}#sk-container-id-4 div.sk-estimator:hover label.sk-toggleable__label-arrow:before {color: black;}#sk-container-id-4 div.sk-toggleable__content {max-height: 0;max-width: 0;overflow: hidden;text-align: left;background-color: #f0f8ff;}#sk-container-id-4 div.sk-toggleable__content pre {margin: 0.2em;color: black;border-radius: 0.25em;background-color: #f0f8ff;}#sk-container-id-4 input.sk-toggleable__control:checked~div.sk-toggleable__content {max-height: 200px;max-width: 100%;overflow: auto;}#sk-container-id-4 input.sk-toggleable__control:checked~label.sk-toggleable__label-arrow:before {content: \"▾\";}#sk-container-id-4 div.sk-estimator input.sk-toggleable__control:checked~label.sk-toggleable__label {background-color: #d4ebff;}#sk-container-id-4 div.sk-label input.sk-toggleable__control:checked~label.sk-toggleable__label {background-color: #d4ebff;}#sk-container-id-4 input.sk-hidden--visually {border: 0;clip: rect(1px 1px 1px 1px);clip: rect(1px, 1px, 1px, 1px);height: 1px;margin: -1px;overflow: hidden;padding: 0;position: absolute;width: 1px;}#sk-container-id-4 div.sk-estimator {font-family: monospace;background-color: #f0f8ff;border: 1px dotted black;border-radius: 0.25em;box-sizing: border-box;margin-bottom: 0.5em;}#sk-container-id-4 div.sk-estimator:hover {background-color: #d4ebff;}#sk-container-id-4 div.sk-parallel-item::after {content: \"\";width: 100%;border-bottom: 1px solid gray;flex-grow: 1;}#sk-container-id-4 div.sk-label:hover label.sk-toggleable__label {background-color: #d4ebff;}#sk-container-id-4 div.sk-serial::before {content: \"\";position: absolute;border-left: 1px solid gray;box-sizing: border-box;top: 0;bottom: 0;left: 50%;z-index: 0;}#sk-container-id-4 div.sk-serial {display: flex;flex-direction: column;align-items: center;background-color: white;padding-right: 0.2em;padding-left: 0.2em;position: relative;}#sk-container-id-4 div.sk-item {position: relative;z-index: 1;}#sk-container-id-4 div.sk-parallel {display: flex;align-items: stretch;justify-content: center;background-color: white;position: relative;}#sk-container-id-4 div.sk-item::before, #sk-container-id-4 div.sk-parallel-item::before {content: \"\";position: absolute;border-left: 1px solid gray;box-sizing: border-box;top: 0;bottom: 0;left: 50%;z-index: -1;}#sk-container-id-4 div.sk-parallel-item {display: flex;flex-direction: column;z-index: 1;position: relative;background-color: white;}#sk-container-id-4 div.sk-parallel-item:first-child::after {align-self: flex-end;width: 50%;}#sk-container-id-4 div.sk-parallel-item:last-child::after {align-self: flex-start;width: 50%;}#sk-container-id-4 div.sk-parallel-item:only-child::after {width: 0;}#sk-container-id-4 div.sk-dashed-wrapped {border: 1px dashed gray;margin: 0 0.4em 0.5em 0.4em;box-sizing: border-box;padding-bottom: 0.4em;background-color: white;}#sk-container-id-4 div.sk-label label {font-family: monospace;font-weight: bold;display: inline-block;line-height: 1.2em;}#sk-container-id-4 div.sk-label-container {text-align: center;}#sk-container-id-4 div.sk-container {/* jupyter's `normalize.less` sets `[hidden] { display: none; }` but bootstrap.min.css set `[hidden] { display: none !important; }` so we also need the `!important` here to be able to override the default hidden behavior on the sphinx rendered scikit-learn.org. See: https://github.com/scikit-learn/scikit-learn/issues/21755 */display: inline-block !important;position: relative;}#sk-container-id-4 div.sk-text-repr-fallback {display: none;}</style><div id=\"sk-container-id-4\" class=\"sk-top-container\"><div class=\"sk-text-repr-fallback\"><pre>LogisticRegression(C=0.1, solver=&#x27;newton-cg&#x27;)</pre><b>In a Jupyter environment, please rerun this cell to show the HTML representation or trust the notebook. <br />On GitHub, the HTML representation is unable to render, please try loading this page with nbviewer.org.</b></div><div class=\"sk-container\" hidden><div class=\"sk-item\"><div class=\"sk-estimator sk-toggleable\"><input class=\"sk-toggleable__control sk-hidden--visually\" id=\"sk-estimator-id-4\" type=\"checkbox\" checked><label for=\"sk-estimator-id-4\" class=\"sk-toggleable__label sk-toggleable__label-arrow\">LogisticRegression</label><div class=\"sk-toggleable__content\"><pre>LogisticRegression(C=0.1, solver=&#x27;newton-cg&#x27;)</pre></div></div></div></div></div>"
            ]
          },
          "metadata": {},
          "execution_count": 81
        }
      ]
    },
    {
      "cell_type": "markdown",
      "source": [
        "Ahora hagamos la predicción sobre el conjunto de prueba con los mejores parámetros para luego ver el recall score."
      ],
      "metadata": {
        "id": "LAGkFHHic5By"
      }
    },
    {
      "cell_type": "code",
      "source": [
        "best_classifier_gs = gs_lr.best_estimator_\n",
        "y_pred_gs = best_classifier_gs.predict(X_test)\n",
        "\n",
        "# Compute and print the accuracy score\n",
        "recall = recall_score(y_test, y_pred_gs)\n",
        "print(f\"Recall: {recall}\")"
      ],
      "metadata": {
        "colab": {
          "base_uri": "https://localhost:8080/"
        },
        "id": "YzhSeT3fbYGo",
        "outputId": "4e54b4f0-e594-4ad4-a646-ef546a4ca28c"
      },
      "execution_count": null,
      "outputs": [
        {
          "output_type": "stream",
          "name": "stdout",
          "text": [
            "Recall: 0.7647058823529411\n"
          ]
        }
      ]
    },
    {
      "cell_type": "code",
      "source": [
        "best_classifier_rs = rs_lr.best_estimator_\n",
        "y_pred_rs = best_classifier_rs.predict(X_test)\n",
        "\n",
        "# Compute and print the accuracy score\n",
        "recall = recall_score(y_test, y_pred_rs)\n",
        "print(f\"Recall: {recall}\")"
      ],
      "metadata": {
        "colab": {
          "base_uri": "https://localhost:8080/"
        },
        "id": "9UfYxriJ00GV",
        "outputId": "0d39603e-5ab7-4867-dd48-36c676fac686"
      },
      "execution_count": null,
      "outputs": [
        {
          "output_type": "stream",
          "name": "stdout",
          "text": [
            "Recall: 0.7647058823529411\n"
          ]
        }
      ]
    },
    {
      "cell_type": "markdown",
      "source": [
        "Fue mejor GridSeach"
      ],
      "metadata": {
        "id": "Udyj0mcD1LGT"
      }
    },
    {
      "cell_type": "markdown",
      "source": [
        "Hacemos una grilla que muestre los scores obtenidos para las distintas combinaciones de hiperparámetros:"
      ],
      "metadata": {
        "id": "DzvY7nqRdQfz"
      }
    },
    {
      "cell_type": "code",
      "source": [
        "results = pd.DataFrame(gs_lr.cv_results_)\n",
        "\n",
        "results[['params', 'mean_test_score', 'mean_train_score']].head(20)"
      ],
      "metadata": {
        "colab": {
          "base_uri": "https://localhost:8080/",
          "height": 520
        },
        "id": "Bpe8a_nMbnLH",
        "outputId": "56cd5f96-92b7-4f41-93af-3d27fa05669a"
      },
      "execution_count": null,
      "outputs": [
        {
          "output_type": "execute_result",
          "data": {
            "text/plain": [
              "                                               params  mean_test_score  \\\n",
              "0   {'C': 100, 'penalty': 'l2', 'solver': 'newton-...         0.736095   \n",
              "1      {'C': 100, 'penalty': 'l2', 'solver': 'lbfgs'}         0.736095   \n",
              "2   {'C': 100, 'penalty': 'l2', 'solver': 'libline...         0.736095   \n",
              "3   {'C': 10, 'penalty': 'l2', 'solver': 'newton-cg'}         0.736095   \n",
              "4       {'C': 10, 'penalty': 'l2', 'solver': 'lbfgs'}         0.736095   \n",
              "5   {'C': 10, 'penalty': 'l2', 'solver': 'liblinear'}         0.736095   \n",
              "6   {'C': 1.0, 'penalty': 'l2', 'solver': 'newton-...         0.733728   \n",
              "7      {'C': 1.0, 'penalty': 'l2', 'solver': 'lbfgs'}         0.733728   \n",
              "8   {'C': 1.0, 'penalty': 'l2', 'solver': 'libline...         0.736095   \n",
              "9   {'C': 0.1, 'penalty': 'l2', 'solver': 'newton-...         0.744379   \n",
              "10     {'C': 0.1, 'penalty': 'l2', 'solver': 'lbfgs'}         0.744379   \n",
              "11  {'C': 0.1, 'penalty': 'l2', 'solver': 'libline...         0.736095   \n",
              "12  {'C': 0.01, 'penalty': 'l2', 'solver': 'newton...         0.739645   \n",
              "13    {'C': 0.01, 'penalty': 'l2', 'solver': 'lbfgs'}         0.739645   \n",
              "14  {'C': 0.01, 'penalty': 'l2', 'solver': 'liblin...         0.739645   \n",
              "\n",
              "    mean_train_score  \n",
              "0           0.745858  \n",
              "1           0.745858  \n",
              "2           0.745858  \n",
              "3           0.746450  \n",
              "4           0.746450  \n",
              "5           0.745562  \n",
              "6           0.747041  \n",
              "7           0.747041  \n",
              "8           0.744379  \n",
              "9           0.747633  \n",
              "10          0.747633  \n",
              "11          0.748521  \n",
              "12          0.736686  \n",
              "13          0.736686  \n",
              "14          0.744675  "
            ],
            "text/html": [
              "\n",
              "\n",
              "  <div id=\"df-26aba77d-04ae-4bb8-8ae4-ad94d475ab7b\">\n",
              "    <div class=\"colab-df-container\">\n",
              "      <div>\n",
              "<style scoped>\n",
              "    .dataframe tbody tr th:only-of-type {\n",
              "        vertical-align: middle;\n",
              "    }\n",
              "\n",
              "    .dataframe tbody tr th {\n",
              "        vertical-align: top;\n",
              "    }\n",
              "\n",
              "    .dataframe thead th {\n",
              "        text-align: right;\n",
              "    }\n",
              "</style>\n",
              "<table border=\"1\" class=\"dataframe\">\n",
              "  <thead>\n",
              "    <tr style=\"text-align: right;\">\n",
              "      <th></th>\n",
              "      <th>params</th>\n",
              "      <th>mean_test_score</th>\n",
              "      <th>mean_train_score</th>\n",
              "    </tr>\n",
              "  </thead>\n",
              "  <tbody>\n",
              "    <tr>\n",
              "      <th>0</th>\n",
              "      <td>{'C': 100, 'penalty': 'l2', 'solver': 'newton-...</td>\n",
              "      <td>0.736095</td>\n",
              "      <td>0.745858</td>\n",
              "    </tr>\n",
              "    <tr>\n",
              "      <th>1</th>\n",
              "      <td>{'C': 100, 'penalty': 'l2', 'solver': 'lbfgs'}</td>\n",
              "      <td>0.736095</td>\n",
              "      <td>0.745858</td>\n",
              "    </tr>\n",
              "    <tr>\n",
              "      <th>2</th>\n",
              "      <td>{'C': 100, 'penalty': 'l2', 'solver': 'libline...</td>\n",
              "      <td>0.736095</td>\n",
              "      <td>0.745858</td>\n",
              "    </tr>\n",
              "    <tr>\n",
              "      <th>3</th>\n",
              "      <td>{'C': 10, 'penalty': 'l2', 'solver': 'newton-cg'}</td>\n",
              "      <td>0.736095</td>\n",
              "      <td>0.746450</td>\n",
              "    </tr>\n",
              "    <tr>\n",
              "      <th>4</th>\n",
              "      <td>{'C': 10, 'penalty': 'l2', 'solver': 'lbfgs'}</td>\n",
              "      <td>0.736095</td>\n",
              "      <td>0.746450</td>\n",
              "    </tr>\n",
              "    <tr>\n",
              "      <th>5</th>\n",
              "      <td>{'C': 10, 'penalty': 'l2', 'solver': 'liblinear'}</td>\n",
              "      <td>0.736095</td>\n",
              "      <td>0.745562</td>\n",
              "    </tr>\n",
              "    <tr>\n",
              "      <th>6</th>\n",
              "      <td>{'C': 1.0, 'penalty': 'l2', 'solver': 'newton-...</td>\n",
              "      <td>0.733728</td>\n",
              "      <td>0.747041</td>\n",
              "    </tr>\n",
              "    <tr>\n",
              "      <th>7</th>\n",
              "      <td>{'C': 1.0, 'penalty': 'l2', 'solver': 'lbfgs'}</td>\n",
              "      <td>0.733728</td>\n",
              "      <td>0.747041</td>\n",
              "    </tr>\n",
              "    <tr>\n",
              "      <th>8</th>\n",
              "      <td>{'C': 1.0, 'penalty': 'l2', 'solver': 'libline...</td>\n",
              "      <td>0.736095</td>\n",
              "      <td>0.744379</td>\n",
              "    </tr>\n",
              "    <tr>\n",
              "      <th>9</th>\n",
              "      <td>{'C': 0.1, 'penalty': 'l2', 'solver': 'newton-...</td>\n",
              "      <td>0.744379</td>\n",
              "      <td>0.747633</td>\n",
              "    </tr>\n",
              "    <tr>\n",
              "      <th>10</th>\n",
              "      <td>{'C': 0.1, 'penalty': 'l2', 'solver': 'lbfgs'}</td>\n",
              "      <td>0.744379</td>\n",
              "      <td>0.747633</td>\n",
              "    </tr>\n",
              "    <tr>\n",
              "      <th>11</th>\n",
              "      <td>{'C': 0.1, 'penalty': 'l2', 'solver': 'libline...</td>\n",
              "      <td>0.736095</td>\n",
              "      <td>0.748521</td>\n",
              "    </tr>\n",
              "    <tr>\n",
              "      <th>12</th>\n",
              "      <td>{'C': 0.01, 'penalty': 'l2', 'solver': 'newton...</td>\n",
              "      <td>0.739645</td>\n",
              "      <td>0.736686</td>\n",
              "    </tr>\n",
              "    <tr>\n",
              "      <th>13</th>\n",
              "      <td>{'C': 0.01, 'penalty': 'l2', 'solver': 'lbfgs'}</td>\n",
              "      <td>0.739645</td>\n",
              "      <td>0.736686</td>\n",
              "    </tr>\n",
              "    <tr>\n",
              "      <th>14</th>\n",
              "      <td>{'C': 0.01, 'penalty': 'l2', 'solver': 'liblin...</td>\n",
              "      <td>0.739645</td>\n",
              "      <td>0.744675</td>\n",
              "    </tr>\n",
              "  </tbody>\n",
              "</table>\n",
              "</div>\n",
              "      <button class=\"colab-df-convert\" onclick=\"convertToInteractive('df-26aba77d-04ae-4bb8-8ae4-ad94d475ab7b')\"\n",
              "              title=\"Convert this dataframe to an interactive table.\"\n",
              "              style=\"display:none;\">\n",
              "\n",
              "  <svg xmlns=\"http://www.w3.org/2000/svg\" height=\"24px\"viewBox=\"0 0 24 24\"\n",
              "       width=\"24px\">\n",
              "    <path d=\"M0 0h24v24H0V0z\" fill=\"none\"/>\n",
              "    <path d=\"M18.56 5.44l.94 2.06.94-2.06 2.06-.94-2.06-.94-.94-2.06-.94 2.06-2.06.94zm-11 1L8.5 8.5l.94-2.06 2.06-.94-2.06-.94L8.5 2.5l-.94 2.06-2.06.94zm10 10l.94 2.06.94-2.06 2.06-.94-2.06-.94-.94-2.06-.94 2.06-2.06.94z\"/><path d=\"M17.41 7.96l-1.37-1.37c-.4-.4-.92-.59-1.43-.59-.52 0-1.04.2-1.43.59L10.3 9.45l-7.72 7.72c-.78.78-.78 2.05 0 2.83L4 21.41c.39.39.9.59 1.41.59.51 0 1.02-.2 1.41-.59l7.78-7.78 2.81-2.81c.8-.78.8-2.07 0-2.86zM5.41 20L4 18.59l7.72-7.72 1.47 1.35L5.41 20z\"/>\n",
              "  </svg>\n",
              "      </button>\n",
              "\n",
              "\n",
              "\n",
              "    <div id=\"df-689c9a7e-87b3-4703-a2da-1c76f448b7ff\">\n",
              "      <button class=\"colab-df-quickchart\" onclick=\"quickchart('df-689c9a7e-87b3-4703-a2da-1c76f448b7ff')\"\n",
              "              title=\"Suggest charts.\"\n",
              "              style=\"display:none;\">\n",
              "\n",
              "<svg xmlns=\"http://www.w3.org/2000/svg\" height=\"24px\"viewBox=\"0 0 24 24\"\n",
              "     width=\"24px\">\n",
              "    <g>\n",
              "        <path d=\"M19 3H5c-1.1 0-2 .9-2 2v14c0 1.1.9 2 2 2h14c1.1 0 2-.9 2-2V5c0-1.1-.9-2-2-2zM9 17H7v-7h2v7zm4 0h-2V7h2v10zm4 0h-2v-4h2v4z\"/>\n",
              "    </g>\n",
              "</svg>\n",
              "      </button>\n",
              "    </div>\n",
              "\n",
              "<style>\n",
              "  .colab-df-quickchart {\n",
              "    background-color: #E8F0FE;\n",
              "    border: none;\n",
              "    border-radius: 50%;\n",
              "    cursor: pointer;\n",
              "    display: none;\n",
              "    fill: #1967D2;\n",
              "    height: 32px;\n",
              "    padding: 0 0 0 0;\n",
              "    width: 32px;\n",
              "  }\n",
              "\n",
              "  .colab-df-quickchart:hover {\n",
              "    background-color: #E2EBFA;\n",
              "    box-shadow: 0px 1px 2px rgba(60, 64, 67, 0.3), 0px 1px 3px 1px rgba(60, 64, 67, 0.15);\n",
              "    fill: #174EA6;\n",
              "  }\n",
              "\n",
              "  [theme=dark] .colab-df-quickchart {\n",
              "    background-color: #3B4455;\n",
              "    fill: #D2E3FC;\n",
              "  }\n",
              "\n",
              "  [theme=dark] .colab-df-quickchart:hover {\n",
              "    background-color: #434B5C;\n",
              "    box-shadow: 0px 1px 3px 1px rgba(0, 0, 0, 0.15);\n",
              "    filter: drop-shadow(0px 1px 2px rgba(0, 0, 0, 0.3));\n",
              "    fill: #FFFFFF;\n",
              "  }\n",
              "</style>\n",
              "\n",
              "    <script>\n",
              "      async function quickchart(key) {\n",
              "        const containerElement = document.querySelector('#' + key);\n",
              "        const charts = await google.colab.kernel.invokeFunction(\n",
              "            'suggestCharts', [key], {});\n",
              "      }\n",
              "    </script>\n",
              "\n",
              "      <script>\n",
              "\n",
              "function displayQuickchartButton(domScope) {\n",
              "  let quickchartButtonEl =\n",
              "    domScope.querySelector('#df-689c9a7e-87b3-4703-a2da-1c76f448b7ff button.colab-df-quickchart');\n",
              "  quickchartButtonEl.style.display =\n",
              "    google.colab.kernel.accessAllowed ? 'block' : 'none';\n",
              "}\n",
              "\n",
              "        displayQuickchartButton(document);\n",
              "      </script>\n",
              "      <style>\n",
              "    .colab-df-container {\n",
              "      display:flex;\n",
              "      flex-wrap:wrap;\n",
              "      gap: 12px;\n",
              "    }\n",
              "\n",
              "    .colab-df-convert {\n",
              "      background-color: #E8F0FE;\n",
              "      border: none;\n",
              "      border-radius: 50%;\n",
              "      cursor: pointer;\n",
              "      display: none;\n",
              "      fill: #1967D2;\n",
              "      height: 32px;\n",
              "      padding: 0 0 0 0;\n",
              "      width: 32px;\n",
              "    }\n",
              "\n",
              "    .colab-df-convert:hover {\n",
              "      background-color: #E2EBFA;\n",
              "      box-shadow: 0px 1px 2px rgba(60, 64, 67, 0.3), 0px 1px 3px 1px rgba(60, 64, 67, 0.15);\n",
              "      fill: #174EA6;\n",
              "    }\n",
              "\n",
              "    [theme=dark] .colab-df-convert {\n",
              "      background-color: #3B4455;\n",
              "      fill: #D2E3FC;\n",
              "    }\n",
              "\n",
              "    [theme=dark] .colab-df-convert:hover {\n",
              "      background-color: #434B5C;\n",
              "      box-shadow: 0px 1px 3px 1px rgba(0, 0, 0, 0.15);\n",
              "      filter: drop-shadow(0px 1px 2px rgba(0, 0, 0, 0.3));\n",
              "      fill: #FFFFFF;\n",
              "    }\n",
              "  </style>\n",
              "\n",
              "      <script>\n",
              "        const buttonEl =\n",
              "          document.querySelector('#df-26aba77d-04ae-4bb8-8ae4-ad94d475ab7b button.colab-df-convert');\n",
              "        buttonEl.style.display =\n",
              "          google.colab.kernel.accessAllowed ? 'block' : 'none';\n",
              "\n",
              "        async function convertToInteractive(key) {\n",
              "          const element = document.querySelector('#df-26aba77d-04ae-4bb8-8ae4-ad94d475ab7b');\n",
              "          const dataTable =\n",
              "            await google.colab.kernel.invokeFunction('convertToInteractive',\n",
              "                                                     [key], {});\n",
              "          if (!dataTable) return;\n",
              "\n",
              "          const docLinkHtml = 'Like what you see? Visit the ' +\n",
              "            '<a target=\"_blank\" href=https://colab.research.google.com/notebooks/data_table.ipynb>data table notebook</a>'\n",
              "            + ' to learn more about interactive tables.';\n",
              "          element.innerHTML = '';\n",
              "          dataTable['output_type'] = 'display_data';\n",
              "          await google.colab.output.renderOutput(dataTable, element);\n",
              "          const docLink = document.createElement('div');\n",
              "          docLink.innerHTML = docLinkHtml;\n",
              "          element.appendChild(docLink);\n",
              "        }\n",
              "      </script>\n",
              "    </div>\n",
              "  </div>\n"
            ]
          },
          "metadata": {},
          "execution_count": 84
        }
      ]
    },
    {
      "cell_type": "markdown",
      "source": [
        "Si queremos aplicar nuevamente CV pero con los nuevos hiperparámetros:"
      ],
      "metadata": {
        "id": "-E5N6gIqH8M2"
      }
    },
    {
      "cell_type": "code",
      "source": [
        "#defino el modelo\n",
        "lr_hiper = LogisticRegression(penalty= 'l2', C=0.1, solver = 'newton-cg')\n",
        "\n",
        "#Entrenamos los datos. Regresion logistica con los mejores hiperparametros\n",
        "lr_hiper.fit(X_train, y_train)\n",
        "\n",
        "# Hacemos las predicciones\n",
        "y_test_pred_lr_hiper = lr_hiper.predict(X_test)\n",
        "\n",
        "# Classification report para Regresión Logística, comparando el conjunto y_test con y_test_pred_lr\n",
        "print(\"Classification report for Logistic Regression:\\n\", classification_report(y_test, y_test_pred_lr_hiper))"
      ],
      "metadata": {
        "colab": {
          "base_uri": "https://localhost:8080/"
        },
        "id": "NSqVE1tTIAQW",
        "outputId": "bf29750b-cc20-4392-f264-edb490e7bccc"
      },
      "execution_count": null,
      "outputs": [
        {
          "output_type": "stream",
          "name": "stdout",
          "text": [
            "Classification report for Logistic Regression:\n",
            "               precision    recall  f1-score   support\n",
            "\n",
            "           0       0.71      0.75      0.73       159\n",
            "           1       0.80      0.76      0.78       204\n",
            "\n",
            "    accuracy                           0.76       363\n",
            "   macro avg       0.75      0.76      0.76       363\n",
            "weighted avg       0.76      0.76      0.76       363\n",
            "\n"
          ]
        }
      ]
    },
    {
      "cell_type": "code",
      "source": [
        "y_pred_train_lr_hiper = lr_hiper.predict(X_train)\n",
        "\n",
        "print(\"Classification report for Logistic Regression:\\n\", classification_report(y_train, y_pred_train_lr_hiper))"
      ],
      "metadata": {
        "colab": {
          "base_uri": "https://localhost:8080/"
        },
        "id": "BP0j3af-I2R7",
        "outputId": "b1947599-d56a-407b-a83e-8476b3db3ae7"
      },
      "execution_count": null,
      "outputs": [
        {
          "output_type": "stream",
          "name": "stdout",
          "text": [
            "Classification report for Logistic Regression:\n",
            "               precision    recall  f1-score   support\n",
            "\n",
            "           0       0.73      0.73      0.73       400\n",
            "           1       0.76      0.76      0.76       445\n",
            "\n",
            "    accuracy                           0.75       845\n",
            "   macro avg       0.74      0.74      0.74       845\n",
            "weighted avg       0.75      0.75      0.75       845\n",
            "\n"
          ]
        }
      ]
    },
    {
      "cell_type": "code",
      "source": [
        "print(\"Recall para conjunto de entrenamiento\", recall_score(y_train, y_pred_train_lr_hiper))\n",
        "print(\"Recall para el conjunto de test\", recall_score(y_test, y_test_pred_lr_hiper))"
      ],
      "metadata": {
        "colab": {
          "base_uri": "https://localhost:8080/"
        },
        "id": "Z997g9GkJITK",
        "outputId": "09a9c5b8-8ec4-4190-f5fb-f14c8f876ed7"
      },
      "execution_count": null,
      "outputs": [
        {
          "output_type": "stream",
          "name": "stdout",
          "text": [
            "Recall para conjunto de entrenamiento 0.7617977528089888\n",
            "Recall para el conjunto de test 0.7647058823529411\n"
          ]
        }
      ]
    },
    {
      "cell_type": "markdown",
      "source": [
        "Hasta aquí el modelo de Regresion logística con los mejores hiperparámetros, ahora hacemos el mismo modelo con dichos hiperparámetros, pero combinandolo con stratified k-fold"
      ],
      "metadata": {
        "id": "xWHmvIMY2_UC"
      }
    },
    {
      "cell_type": "code",
      "source": [
        "from sklearn.model_selection import StratifiedKFold, cross_validate\n",
        "\n",
        "# definimos el metodo de stratified k fold, para 5 folds\n",
        "stratified_kfold = StratifiedKFold(n_splits=5,  shuffle=True, random_state=42)\n",
        "\n",
        "# aplicamos cross validation y ponemos True en train score para obtener las métricas (accuracy) para ambos conjuntos\n",
        "cv_results = cross_validate(lr_hiper, X_train, y_train, cv=stratified_kfold, scoring='recall', return_train_score=True)\n",
        "\n",
        "# calculamos el promedio del accuray para los 5 folds\n",
        "mean_train_score = np.mean(cv_results['train_score'])\n",
        "mean_test_score = np.mean(cv_results['test_score'])\n",
        "\n",
        "print(f\"Mean Train Score: {mean_train_score}\")\n",
        "print(f\"Mean Test Score: {mean_test_score}\")"
      ],
      "metadata": {
        "colab": {
          "base_uri": "https://localhost:8080/"
        },
        "id": "-r3a3O0mJRHz",
        "outputId": "7acb6ac6-eda5-414d-e45e-652c1f05b0f1"
      },
      "execution_count": null,
      "outputs": [
        {
          "output_type": "stream",
          "name": "stdout",
          "text": [
            "Mean Train Score: 0.7674157303370785\n",
            "Mean Test Score: 0.7595505617977528\n"
          ]
        }
      ]
    },
    {
      "cell_type": "markdown",
      "source": [
        "Los resultados (para la métrica 'recall') se ajustan prácticamente igual tanto para el conjunto de entrenamiento como para el de prueba."
      ],
      "metadata": {
        "id": "gat45Jh9JduV"
      }
    },
    {
      "cell_type": "markdown",
      "source": [
        "## Decision Tree Classifier"
      ],
      "metadata": {
        "id": "09olcsin2h0C"
      }
    },
    {
      "cell_type": "code",
      "source": [
        "dt = DecisionTreeClassifier(max_depth=5, random_state = 42)\n",
        "\n",
        "params_dt = {'max_depth': [5, 10, 15, 20, None],\n",
        "    'min_samples_leaf': [1, 2, 5, 10],\n",
        "    'min_samples_split': [2, 5, 10, 20]\n",
        "          }\n",
        "\n",
        "\n",
        "# StratifiedKFold object\n",
        "stratified_kfold = StratifiedKFold(n_splits=5,  shuffle=True, random_state=42)\n",
        "\n",
        "print(\"Mejores parametros utilizando GridSearch:\")\n",
        "gs_dt = GridSearchCV(dt, params_dt, cv=stratified_kfold, return_train_score= True)\n",
        "gs_dt.fit(X_train, y_train)\n",
        "\n",
        "\n",
        "print(\"Best Parameters:\", gs_dt.best_params_)\n",
        "print(\"Best Accuracy:\", gs_dt.best_score_)\n",
        "print(\"\")\n",
        "print(\"Mejores parámetros utlizando RandomizedSearch\")\n",
        "\n",
        "rs_dt = RandomizedSearchCV(dt, params_dt, cv=stratified_kfold)\n",
        "rs_dt.fit(X_train, y_train)\n",
        "\n",
        "print(\"Best Parameters:\", rs_dt.best_params_)\n",
        "print(\"Best Accuracy:\", rs_dt.best_score_)\n",
        "\n"
      ],
      "metadata": {
        "colab": {
          "base_uri": "https://localhost:8080/"
        },
        "id": "ull0nb8m2qyf",
        "outputId": "8561545d-9d63-4e71-91f8-80e05892e97f"
      },
      "execution_count": null,
      "outputs": [
        {
          "output_type": "stream",
          "name": "stdout",
          "text": [
            "Mejores parametros utilizando GridSearch:\n",
            "Best Parameters: {'max_depth': 10, 'min_samples_leaf': 2, 'min_samples_split': 20}\n",
            "Best Accuracy: 0.7325443786982249\n",
            "\n",
            "Mejores parámetros utlizando RandomizedSearch\n",
            "Best Parameters: {'min_samples_split': 20, 'min_samples_leaf': 5, 'max_depth': None}\n",
            "Best Accuracy: 0.7278106508875739\n"
          ]
        }
      ]
    },
    {
      "cell_type": "code",
      "source": [
        "best_classifier_gs = gs_dt.best_estimator_\n",
        "y_pred_gs = best_classifier_gs.predict(X_test)\n",
        "\n",
        "# Compute and print the accuracy score\n",
        "recall = recall_score(y_test, y_pred_gs)\n",
        "print(f\"Recall: {recall}\")"
      ],
      "metadata": {
        "colab": {
          "base_uri": "https://localhost:8080/"
        },
        "id": "LBrFPVcw35Hu",
        "outputId": "25b7d540-b0f3-4c3c-ae6e-b6cf58df2f66"
      },
      "execution_count": null,
      "outputs": [
        {
          "output_type": "stream",
          "name": "stdout",
          "text": [
            "Recall: 0.7205882352941176\n"
          ]
        }
      ]
    },
    {
      "cell_type": "code",
      "source": [
        "best_classifier_rs = rs_dt.best_estimator_\n",
        "y_pred_rs = best_classifier_rs.predict(X_test)\n",
        "\n",
        "# Compute and print the accuracy score\n",
        "recall = recall_score(y_test, y_pred_rs)\n",
        "print(f\"Recall: {recall}\")"
      ],
      "metadata": {
        "colab": {
          "base_uri": "https://localhost:8080/"
        },
        "id": "CPKnXiUAGwUZ",
        "outputId": "d2072635-1f73-44b7-88f3-31d37bd5c610"
      },
      "execution_count": null,
      "outputs": [
        {
          "output_type": "stream",
          "name": "stdout",
          "text": [
            "Recall: 0.7303921568627451\n"
          ]
        }
      ]
    },
    {
      "cell_type": "markdown",
      "source": [
        "Fue más efectivo Randomized Search."
      ],
      "metadata": {
        "id": "EM_VqSauHZFa"
      }
    },
    {
      "cell_type": "code",
      "source": [
        "#defino el modelo\n",
        "dt_hiper = DecisionTreeClassifier(max_depth=10, min_samples_leaf=2, min_samples_split=20)\n",
        "\n",
        "#Entrenamos los datos. Regresion logistica con los mejores hiperparametros\n",
        "dt_hiper.fit(X_train, y_train)\n",
        "\n",
        "# Hacemos las predicciones\n",
        "y_test_pred_dt_hiper = dt_hiper.predict(X_test)\n",
        "\n",
        "# Classification report para Regresión Logística, comparando el conjunto y_test con y_test_pred_lr\n",
        "print(\"Classification report for Logistic Regression:\\n\", classification_report(y_test, y_test_pred_dt_hiper))"
      ],
      "metadata": {
        "colab": {
          "base_uri": "https://localhost:8080/"
        },
        "id": "OmRaBCYDHbgP",
        "outputId": "92a5bc55-0789-483d-a5cf-ea020f42e426"
      },
      "execution_count": null,
      "outputs": [
        {
          "output_type": "stream",
          "name": "stdout",
          "text": [
            "Classification report for Logistic Regression:\n",
            "               precision    recall  f1-score   support\n",
            "\n",
            "           0       0.64      0.63      0.63       159\n",
            "           1       0.71      0.72      0.72       204\n",
            "\n",
            "    accuracy                           0.68       363\n",
            "   macro avg       0.68      0.67      0.67       363\n",
            "weighted avg       0.68      0.68      0.68       363\n",
            "\n"
          ]
        }
      ]
    },
    {
      "cell_type": "code",
      "source": [
        "y_pred_train_dt_hiper = dt_hiper.predict(X_train)\n",
        "\n",
        "print(\"Classification report for Logistic Regression:\\n\", classification_report(y_train, y_pred_train_dt_hiper))"
      ],
      "metadata": {
        "colab": {
          "base_uri": "https://localhost:8080/"
        },
        "id": "jZfjzH9XJGQ_",
        "outputId": "f5e44fe9-948a-4da9-a8fb-bf422852182a"
      },
      "execution_count": null,
      "outputs": [
        {
          "output_type": "stream",
          "name": "stdout",
          "text": [
            "Classification report for Logistic Regression:\n",
            "               precision    recall  f1-score   support\n",
            "\n",
            "           0       0.83      0.86      0.85       400\n",
            "           1       0.87      0.85      0.86       445\n",
            "\n",
            "    accuracy                           0.85       845\n",
            "   macro avg       0.85      0.85      0.85       845\n",
            "weighted avg       0.85      0.85      0.85       845\n",
            "\n"
          ]
        }
      ]
    },
    {
      "cell_type": "code",
      "source": [
        "print(\"Recall para conjunto de entrenamiento\", recall_score(y_train, y_pred_train_dt_hiper))\n",
        "print(\"Recall para el conjunto de test\", recall_score(y_test, y_test_pred_dt_hiper))"
      ],
      "metadata": {
        "colab": {
          "base_uri": "https://localhost:8080/"
        },
        "id": "4q1bS3wsJVcI",
        "outputId": "2316349d-6e85-49c2-fe90-eec680587085"
      },
      "execution_count": null,
      "outputs": [
        {
          "output_type": "stream",
          "name": "stdout",
          "text": [
            "Recall para conjunto de entrenamiento 0.8471910112359551\n",
            "Recall para el conjunto de test 0.7205882352941176\n"
          ]
        }
      ]
    },
    {
      "cell_type": "markdown",
      "source": [
        "Este modelo parace no ser el mejor de los tres que hemos probado, parece haber sobreajuste."
      ],
      "metadata": {
        "id": "vMKBbIRZJcJe"
      }
    },
    {
      "cell_type": "markdown",
      "source": [
        "## Bagging"
      ],
      "metadata": {
        "id": "p_XII1X3QwrM"
      }
    },
    {
      "cell_type": "code",
      "source": [
        "from sklearn.ensemble import BaggingClassifier, AdaBoostClassifier"
      ],
      "metadata": {
        "id": "cw8PWke9EC2-"
      },
      "execution_count": null,
      "outputs": []
    },
    {
      "cell_type": "code",
      "source": [
        "# Defino el modelo de DT\n",
        "dt = DecisionTreeClassifier(random_state=42)\n",
        "\n",
        "# entreno los datos sobre el conjunto de entrenamiento\n",
        "dt.fit(X_train, y_train)\n",
        "\n",
        "# Predicciones sobre el conjunto de prueba\n",
        "y_pred_tree = dt.predict(X_test)\n",
        "\n",
        "# imprimo accuracy del DT\n",
        "print(f\"Decision Tree recall: {recall_score(y_test, y_pred_tree)}\")\n",
        "\n",
        "# defino el modelo de bagging\n",
        "bagging = BaggingClassifier(estimator=dt, n_estimators=100, random_state=42)\n",
        "\n",
        "# entreno bagging sobre el conj de entrenamiento\n",
        "bagging.fit(X_train, y_train)\n",
        "\n",
        "# ahora predicciones sobre el conjunto de prueba\n",
        "y_pred_bagging = bagging.predict(X_test)\n",
        "\n",
        "# accuracy de bagging\n",
        "print(f\"Bagging recall: {recall_score(y_test, y_pred_bagging)}\")\n",
        "\n",
        "# aplico stratified k-fold con 5 folds\n",
        "scores = cross_validate(bagging, X_train, y_train, cv=stratified_kfold, scoring='recall',\n",
        "                        return_train_score=True)\n",
        "\n",
        "print('Cross-Validation in train set:', np.mean(scores['train_score']))\n",
        "print('Cross-Validation in Validation set:', np.mean(scores['test_score']))\n"
      ],
      "metadata": {
        "colab": {
          "base_uri": "https://localhost:8080/"
        },
        "id": "GmMp1_T3Alwa",
        "outputId": "4579278f-5562-4182-a981-b696ac7a68ee"
      },
      "execution_count": null,
      "outputs": [
        {
          "output_type": "stream",
          "name": "stdout",
          "text": [
            "Decision Tree recall: 0.6813725490196079\n",
            "Bagging recall: 0.7352941176470589\n",
            "Cross-Validation in train set: 1.0\n",
            "Cross-Validation in Validation set: 0.7415730337078652\n"
          ]
        }
      ]
    },
    {
      "cell_type": "markdown",
      "source": [
        "Ahora podemos ver que el modelo se ajustó perfectamente al conjunto de entrenamiento pero no obtuvo una buena métrica para el conjunto de validación. Por lo cual estamos ante un caso de overfitting al aplicar bagging con DT."
      ],
      "metadata": {
        "id": "MQJk6dhvE9e4"
      }
    },
    {
      "cell_type": "markdown",
      "source": [
        "Podemos hacer nuevamente un Grid Search para buscar los mejores hiperparámetros de bagging, para mejorar la metrica del validation set."
      ],
      "metadata": {
        "id": "ZCvdszRCVVTN"
      }
    },
    {
      "cell_type": "code",
      "source": [
        "bagging = BaggingClassifier(estimator=dt, random_state=42)\n",
        "\n",
        "params = {'n_estimators' : [100, 300, 500, 800],\n",
        "          'max_samples' : [0.2, 0.4, 0.6, 0.8],\n",
        "          'max_features' : [0.2, 0.6, 0.8, 0.8]\n",
        "          }\n",
        "\n",
        "\n",
        "# StratifiedKFold object\n",
        "stratified_kfold = StratifiedKFold(n_splits=5,  shuffle=True, random_state=42)\n",
        "\n",
        "\n",
        "gs = GridSearchCV(bagging, params, cv=stratified_kfold, return_train_score= True)\n",
        "gs.fit(X_train, y_train)\n",
        "\n",
        "\n",
        "print(\"Best Parameters:\", gs.best_params_)\n",
        "print(\"Best Accuracy:\", gs.best_score_)"
      ],
      "metadata": {
        "colab": {
          "base_uri": "https://localhost:8080/"
        },
        "id": "Xwnrn83KV58s",
        "outputId": "5f46d75b-259f-428d-b479-f94ed8110037"
      },
      "execution_count": null,
      "outputs": [
        {
          "output_type": "stream",
          "name": "stdout",
          "text": [
            "Best Parameters: {'max_features': 0.6, 'max_samples': 0.6, 'n_estimators': 100}\n",
            "Best Accuracy: 0.7597633136094675\n"
          ]
        }
      ]
    },
    {
      "cell_type": "code",
      "source": [
        "gs.best_estimator_"
      ],
      "metadata": {
        "colab": {
          "base_uri": "https://localhost:8080/",
          "height": 118
        },
        "id": "ueWXRRdlXD7a",
        "outputId": "2a1885f1-eefc-4d33-8df7-20c234a4b778"
      },
      "execution_count": null,
      "outputs": [
        {
          "output_type": "execute_result",
          "data": {
            "text/plain": [
              "BaggingClassifier(estimator=DecisionTreeClassifier(random_state=42),\n",
              "                  max_features=0.6, max_samples=0.6, n_estimators=100,\n",
              "                  random_state=42)"
            ],
            "text/html": [
              "<style>#sk-container-id-5 {color: black;background-color: white;}#sk-container-id-5 pre{padding: 0;}#sk-container-id-5 div.sk-toggleable {background-color: white;}#sk-container-id-5 label.sk-toggleable__label {cursor: pointer;display: block;width: 100%;margin-bottom: 0;padding: 0.3em;box-sizing: border-box;text-align: center;}#sk-container-id-5 label.sk-toggleable__label-arrow:before {content: \"▸\";float: left;margin-right: 0.25em;color: #696969;}#sk-container-id-5 label.sk-toggleable__label-arrow:hover:before {color: black;}#sk-container-id-5 div.sk-estimator:hover label.sk-toggleable__label-arrow:before {color: black;}#sk-container-id-5 div.sk-toggleable__content {max-height: 0;max-width: 0;overflow: hidden;text-align: left;background-color: #f0f8ff;}#sk-container-id-5 div.sk-toggleable__content pre {margin: 0.2em;color: black;border-radius: 0.25em;background-color: #f0f8ff;}#sk-container-id-5 input.sk-toggleable__control:checked~div.sk-toggleable__content {max-height: 200px;max-width: 100%;overflow: auto;}#sk-container-id-5 input.sk-toggleable__control:checked~label.sk-toggleable__label-arrow:before {content: \"▾\";}#sk-container-id-5 div.sk-estimator input.sk-toggleable__control:checked~label.sk-toggleable__label {background-color: #d4ebff;}#sk-container-id-5 div.sk-label input.sk-toggleable__control:checked~label.sk-toggleable__label {background-color: #d4ebff;}#sk-container-id-5 input.sk-hidden--visually {border: 0;clip: rect(1px 1px 1px 1px);clip: rect(1px, 1px, 1px, 1px);height: 1px;margin: -1px;overflow: hidden;padding: 0;position: absolute;width: 1px;}#sk-container-id-5 div.sk-estimator {font-family: monospace;background-color: #f0f8ff;border: 1px dotted black;border-radius: 0.25em;box-sizing: border-box;margin-bottom: 0.5em;}#sk-container-id-5 div.sk-estimator:hover {background-color: #d4ebff;}#sk-container-id-5 div.sk-parallel-item::after {content: \"\";width: 100%;border-bottom: 1px solid gray;flex-grow: 1;}#sk-container-id-5 div.sk-label:hover label.sk-toggleable__label {background-color: #d4ebff;}#sk-container-id-5 div.sk-serial::before {content: \"\";position: absolute;border-left: 1px solid gray;box-sizing: border-box;top: 0;bottom: 0;left: 50%;z-index: 0;}#sk-container-id-5 div.sk-serial {display: flex;flex-direction: column;align-items: center;background-color: white;padding-right: 0.2em;padding-left: 0.2em;position: relative;}#sk-container-id-5 div.sk-item {position: relative;z-index: 1;}#sk-container-id-5 div.sk-parallel {display: flex;align-items: stretch;justify-content: center;background-color: white;position: relative;}#sk-container-id-5 div.sk-item::before, #sk-container-id-5 div.sk-parallel-item::before {content: \"\";position: absolute;border-left: 1px solid gray;box-sizing: border-box;top: 0;bottom: 0;left: 50%;z-index: -1;}#sk-container-id-5 div.sk-parallel-item {display: flex;flex-direction: column;z-index: 1;position: relative;background-color: white;}#sk-container-id-5 div.sk-parallel-item:first-child::after {align-self: flex-end;width: 50%;}#sk-container-id-5 div.sk-parallel-item:last-child::after {align-self: flex-start;width: 50%;}#sk-container-id-5 div.sk-parallel-item:only-child::after {width: 0;}#sk-container-id-5 div.sk-dashed-wrapped {border: 1px dashed gray;margin: 0 0.4em 0.5em 0.4em;box-sizing: border-box;padding-bottom: 0.4em;background-color: white;}#sk-container-id-5 div.sk-label label {font-family: monospace;font-weight: bold;display: inline-block;line-height: 1.2em;}#sk-container-id-5 div.sk-label-container {text-align: center;}#sk-container-id-5 div.sk-container {/* jupyter's `normalize.less` sets `[hidden] { display: none; }` but bootstrap.min.css set `[hidden] { display: none !important; }` so we also need the `!important` here to be able to override the default hidden behavior on the sphinx rendered scikit-learn.org. See: https://github.com/scikit-learn/scikit-learn/issues/21755 */display: inline-block !important;position: relative;}#sk-container-id-5 div.sk-text-repr-fallback {display: none;}</style><div id=\"sk-container-id-5\" class=\"sk-top-container\"><div class=\"sk-text-repr-fallback\"><pre>BaggingClassifier(estimator=DecisionTreeClassifier(random_state=42),\n",
              "                  max_features=0.6, max_samples=0.6, n_estimators=100,\n",
              "                  random_state=42)</pre><b>In a Jupyter environment, please rerun this cell to show the HTML representation or trust the notebook. <br />On GitHub, the HTML representation is unable to render, please try loading this page with nbviewer.org.</b></div><div class=\"sk-container\" hidden><div class=\"sk-item sk-dashed-wrapped\"><div class=\"sk-label-container\"><div class=\"sk-label sk-toggleable\"><input class=\"sk-toggleable__control sk-hidden--visually\" id=\"sk-estimator-id-5\" type=\"checkbox\" ><label for=\"sk-estimator-id-5\" class=\"sk-toggleable__label sk-toggleable__label-arrow\">BaggingClassifier</label><div class=\"sk-toggleable__content\"><pre>BaggingClassifier(estimator=DecisionTreeClassifier(random_state=42),\n",
              "                  max_features=0.6, max_samples=0.6, n_estimators=100,\n",
              "                  random_state=42)</pre></div></div></div><div class=\"sk-parallel\"><div class=\"sk-parallel-item\"><div class=\"sk-item\"><div class=\"sk-label-container\"><div class=\"sk-label sk-toggleable\"><input class=\"sk-toggleable__control sk-hidden--visually\" id=\"sk-estimator-id-6\" type=\"checkbox\" ><label for=\"sk-estimator-id-6\" class=\"sk-toggleable__label sk-toggleable__label-arrow\">estimator: DecisionTreeClassifier</label><div class=\"sk-toggleable__content\"><pre>DecisionTreeClassifier(random_state=42)</pre></div></div></div><div class=\"sk-serial\"><div class=\"sk-item\"><div class=\"sk-estimator sk-toggleable\"><input class=\"sk-toggleable__control sk-hidden--visually\" id=\"sk-estimator-id-7\" type=\"checkbox\" ><label for=\"sk-estimator-id-7\" class=\"sk-toggleable__label sk-toggleable__label-arrow\">DecisionTreeClassifier</label><div class=\"sk-toggleable__content\"><pre>DecisionTreeClassifier(random_state=42)</pre></div></div></div></div></div></div></div></div></div></div>"
            ]
          },
          "metadata": {},
          "execution_count": 114
        }
      ]
    },
    {
      "cell_type": "code",
      "source": [
        "best_classifier = gs.best_estimator_\n",
        "y_pred = best_classifier.predict(X_test)\n",
        "\n",
        "# Compute and print the accuracy score\n",
        "recall = recall_score(y_test, y_pred)\n",
        "print(f\"Recall: {recall}\")"
      ],
      "metadata": {
        "colab": {
          "base_uri": "https://localhost:8080/"
        },
        "id": "DGtUdRCmXF3T",
        "outputId": "d7224219-6f4a-4085-8a32-e1dae05e44e1"
      },
      "execution_count": null,
      "outputs": [
        {
          "output_type": "stream",
          "name": "stdout",
          "text": [
            "Recall: 0.7696078431372549\n"
          ]
        }
      ]
    },
    {
      "cell_type": "markdown",
      "source": [
        "Aplico nuevamente bagging con los nuevos hiperparámetros."
      ],
      "metadata": {
        "id": "BReeL1WtXUxa"
      }
    },
    {
      "cell_type": "code",
      "source": [
        "#defino el modelo\n",
        "bagging_hiper = BaggingClassifier(estimator=dt, random_state=42, max_features=0.6, max_samples=0.6, n_estimators=100)\n",
        "\n",
        "#Entrenamos los datos\n",
        "bagging_hiper.fit(X_train, y_train)\n",
        "\n",
        "# Hacemos las predicciones\n",
        "y_test_pred_bagging_hiper = bagging_hiper.predict(X_test)\n",
        "\n",
        "# Classification report para Regresión Logística, comparando el conjunto y_test con y_test_pred_lr\n",
        "print(\"Classification report for Logistic Regression:\\n\", classification_report(y_test, y_test_pred_lr_hiper))"
      ],
      "metadata": {
        "colab": {
          "base_uri": "https://localhost:8080/"
        },
        "id": "dtgwNb6gYJFW",
        "outputId": "f0528e6a-8572-4948-bdd3-f0cb2fc24af1"
      },
      "execution_count": null,
      "outputs": [
        {
          "output_type": "stream",
          "name": "stdout",
          "text": [
            "Classification report for Logistic Regression:\n",
            "               precision    recall  f1-score   support\n",
            "\n",
            "           0       0.71      0.75      0.73       159\n",
            "           1       0.80      0.76      0.78       204\n",
            "\n",
            "    accuracy                           0.76       363\n",
            "   macro avg       0.75      0.76      0.76       363\n",
            "weighted avg       0.76      0.76      0.76       363\n",
            "\n"
          ]
        }
      ]
    },
    {
      "cell_type": "code",
      "source": [
        "y_pred_train_bagging_hiper = bagging_hiper.predict(X_train)\n",
        "\n",
        "print(\"Classification report for Logistic Regression:\\n\", classification_report(y_train, y_pred_train_bagging_hiper))"
      ],
      "metadata": {
        "colab": {
          "base_uri": "https://localhost:8080/"
        },
        "id": "FjhH3GXeYhIa",
        "outputId": "3f13462b-f0e0-4c61-808e-8265ca83c6ab"
      },
      "execution_count": null,
      "outputs": [
        {
          "output_type": "stream",
          "name": "stdout",
          "text": [
            "Classification report for Logistic Regression:\n",
            "               precision    recall  f1-score   support\n",
            "\n",
            "           0       0.98      0.98      0.98       400\n",
            "           1       0.99      0.99      0.99       445\n",
            "\n",
            "    accuracy                           0.99       845\n",
            "   macro avg       0.99      0.99      0.99       845\n",
            "weighted avg       0.99      0.99      0.99       845\n",
            "\n"
          ]
        }
      ]
    },
    {
      "cell_type": "code",
      "source": [
        "print(\"Recall para conjunto de entrenamiento\", recall_score(y_train, y_pred_train_bagging_hiper))\n",
        "print(\"Recall para el conjunto de test\", recall_score(y_test, y_test_pred_bagging_hiper))"
      ],
      "metadata": {
        "colab": {
          "base_uri": "https://localhost:8080/"
        },
        "id": "DE9d-D9pYw8k",
        "outputId": "ccc41ce4-162e-4efa-e929-219fb412a884"
      },
      "execution_count": null,
      "outputs": [
        {
          "output_type": "stream",
          "name": "stdout",
          "text": [
            "Recall para conjunto de entrenamiento 0.9865168539325843\n",
            "Recall para el conjunto de test 0.7696078431372549\n"
          ]
        }
      ]
    },
    {
      "cell_type": "code",
      "source": [
        "from sklearn.model_selection import StratifiedKFold, cross_validate\n",
        "\n",
        "# definimos el metodo de stratified k fold, para 5 folds\n",
        "stratified_kfold = StratifiedKFold(n_splits=5,  shuffle=True, random_state=42)\n",
        "\n",
        "# aplicamos cross validation y ponemos True en train score para obtener las métricas (accuracy) para ambos conjuntos\n",
        "cv_results = cross_validate(bagging_hiper, X_train, y_train, cv=stratified_kfold, scoring='recall', return_train_score=True)\n",
        "\n",
        "# calculamos el promedio del accuray para los 5 folds\n",
        "mean_train_score = np.mean(cv_results['train_score'])\n",
        "mean_test_score = np.mean(cv_results['test_score'])\n",
        "\n",
        "print(f\"Mean Train Score: {mean_train_score}\")\n",
        "print(f\"Mean Test Score: {mean_test_score}\")"
      ],
      "metadata": {
        "colab": {
          "base_uri": "https://localhost:8080/"
        },
        "id": "NPgc6BLUY7gl",
        "outputId": "9d6366b7-2e6d-4718-8978-7e225b177192"
      },
      "execution_count": null,
      "outputs": [
        {
          "output_type": "stream",
          "name": "stdout",
          "text": [
            "Mean Train Score: 0.9853932584269662\n",
            "Mean Test Score: 0.7797752808988765\n"
          ]
        }
      ]
    },
    {
      "cell_type": "markdown",
      "source": [
        "El modelo ha mejorado notablemente para el conjunto de entrenamiento, pero aun estamos en overfitting, ya que el modelo no se ajusta tan bien para el conjunto de prueba."
      ],
      "metadata": {
        "id": "lZt-fkCCZLWy"
      }
    },
    {
      "cell_type": "code",
      "source": [],
      "metadata": {
        "id": "Qx_CHvIYZF-A"
      },
      "execution_count": null,
      "outputs": []
    },
    {
      "cell_type": "markdown",
      "source": [
        "## AdaBoost"
      ],
      "metadata": {
        "id": "xfpRVETkoF9y"
      }
    },
    {
      "cell_type": "code",
      "source": [
        "from sklearn.ensemble import AdaBoostClassifier\n",
        "from sklearn import datasets\n",
        "from sklearn.model_selection import train_test_split\n",
        "from sklearn import metrics\n",
        "\n",
        "ada = AdaBoostClassifier(n_estimators=50,learning_rate=0.1)\n",
        "\n",
        "#Fiteamos el modelo\n",
        "model = ada.fit(X_train, y_train)\n",
        "\n",
        "#Predicción!\n",
        "y_pred_test = model.predict(X_test)\n",
        "y_pred_train = model.predict(X_train)\n",
        "\n",
        "from sklearn.metrics import classification_report\n",
        "print(classification_report(y_test,y_pred_test))\n",
        "print(classification_report(y_train,y_pred_train))\n",
        "\n",
        "print(\"Recall para conjunto de entrenamiento\", recall_score(y_train, y_pred_train))\n",
        "print(\"Recall para el conjunto de test\", recall_score(y_test, y_pred_test))"
      ],
      "metadata": {
        "colab": {
          "base_uri": "https://localhost:8080/"
        },
        "id": "xljoIrM0mo-b",
        "outputId": "8e8962fb-252b-47ae-b440-c6df352c345a"
      },
      "execution_count": null,
      "outputs": [
        {
          "output_type": "stream",
          "name": "stdout",
          "text": [
            "              precision    recall  f1-score   support\n",
            "\n",
            "           0       0.72      0.71      0.71       159\n",
            "           1       0.78      0.78      0.78       204\n",
            "\n",
            "    accuracy                           0.75       363\n",
            "   macro avg       0.75      0.75      0.75       363\n",
            "weighted avg       0.75      0.75      0.75       363\n",
            "\n",
            "              precision    recall  f1-score   support\n",
            "\n",
            "           0       0.77      0.74      0.76       400\n",
            "           1       0.78      0.80      0.79       445\n",
            "\n",
            "    accuracy                           0.77       845\n",
            "   macro avg       0.77      0.77      0.77       845\n",
            "weighted avg       0.77      0.77      0.77       845\n",
            "\n",
            "Recall para conjunto de entrenamiento 0.8\n",
            "Recall para el conjunto de test 0.7794117647058824\n"
          ]
        }
      ]
    }
  ]
}